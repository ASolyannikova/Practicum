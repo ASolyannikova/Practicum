{
 "cells": [
  {
   "cell_type": "markdown",
   "metadata": {},
   "source": [
    "<div class=\"alert alert-info\">\n",
    "Привет, Александра! Меня зовут Светлана Чих и я буду проверять твой проект. Моя основная цель — не указать на совершенные тобою ошибки, а поделиться своим опытом и помочь тебе.\n",
    "\n",
    "<div class=\"alert alert-success\">\n",
    "<b>👍 Успех:</b> Зелёным цветом отмечены удачные и элегантные решения, на которые можно опираться в будущих проектах.\n",
    "</div>\n",
    "<div class=\"alert alert-warning\">\n",
    "<b>🤔 Рекомендация:</b> Жёлтым цветом выделено то, что в следующий раз можно сделать по-другому. Ты можешь учесть эти комментарии при выполнении будущих заданий или доработать проект сейчас (однако это не обязательно).\n",
    "</div>\n",
    "<div class=\"alert alert-danger\">\n",
    "<b>😔 Необходимо исправить:</b> Красным цветом выделены комментарии, без исправления которых, я не смогу принять проект :(\n",
    "</div>\n",
    "<div class=\"alert alert-info\">\n",
    "<b>👂 Совет:</b> Какие-то дополнительные материалы\n",
    "</div>\n",
    "Давай работать над проектом в диалоге: если ты что-то меняешь в проекте по моим рекомендациям — пиши об этом.\n",
    "Мне будет легче отследить изменения, если ты выделишь свои комментарии:\n",
    "<div class=\"alert alert-info\"> <b>🎓 Комментарий студента:</b> Например, вот так.</div>\n",
    "Пожалуйста, не перемещай, не изменяй и не удаляй мои комментарии. Всё это поможет выполнить повторную проверку твоего проекта быстрее.\n",
    " </div>"
   ]
  },
  {
   "cell_type": "markdown",
   "metadata": {
    "toc": true
   },
   "source": [
    "<h1>Содержание<span class=\"tocSkip\"></span></h1>\n",
    "<div class=\"toc\"><ul class=\"toc-item\"><li><span><a href=\"#Материалы:\" data-toc-modified-id=\"Материалы:-1\">Материалы:</a></span></li><li><span><a href=\"#Описание-и-задачи-проекта\" data-toc-modified-id=\"Описание-и-задачи-проекта-2\">Описание и задачи проекта</a></span></li><li><span><a href=\"#Подготовка-данных\" data-toc-modified-id=\"Подготовка-данных-3\">Подготовка данных</a></span></li><li><span><a href=\"#Исследовательский-анализ-данных\" data-toc-modified-id=\"Исследовательский-анализ-данных-4\">Исследовательский анализ данных</a></span><ul class=\"toc-item\"><li><span><a href=\"#Средний-чек,-выручка-и-количество-товаров-в-каждой-категории\" data-toc-modified-id=\"Средний-чек,-выручка-и-количество-товаров-в-каждой-категории-4.1\">Средний чек, выручка и количество товаров в каждой категории</a></span></li><li><span><a href=\"#Сезонность-в-заказах\" data-toc-modified-id=\"Сезонность-в-заказах-4.2\">Сезонность в заказах</a></span></li><li><span><a href=\"#Розничные-и-оптовые-покупатели\" data-toc-modified-id=\"Розничные-и-оптовые-покупатели-4.3\">Розничные и оптовые покупатели</a></span></li><li><span><a href=\"#Средний-чек,-количество-заказов-и-выручка-у-розничных-покупателей\" data-toc-modified-id=\"Средний-чек,-количество-заказов-и-выручка-у-розничных-покупателей-4.4\">Средний чек, количество заказов и выручка у розничных покупателей</a></span></li><li><span><a href=\"#Топовые-позиции-в-самых-прибыльных-категориях-(основной-ассортимент)\" data-toc-modified-id=\"Топовые-позиции-в-самых-прибыльных-категориях-(основной-ассортимент)-4.5\">Топовые позиции в самых прибыльных категориях (основной ассортимент)</a></span></li></ul></li><li><span><a href=\"#Работа-с-выбросами\" data-toc-modified-id=\"Работа-с-выбросами-5\">Работа с выбросами</a></span></li><li><span><a href=\"#Проверка-гипотез\" data-toc-modified-id=\"Проверка-гипотез-6\">Проверка гипотез</a></span><ul class=\"toc-item\"><li><span><a href=\"#Средняя-выручка-по-розничным-и-оптовым-покупателям-различается\" data-toc-modified-id=\"Средняя-выручка-по-розничным-и-оптовым-покупателям-различается-6.1\">Средняя выручка по розничным и оптовым покупателям различается</a></span></li></ul></li><li><span><a href=\"#Вывод\" data-toc-modified-id=\"Вывод-7\">Вывод</a></span></li></ul></div>"
   ]
  },
  {
   "cell_type": "markdown",
   "metadata": {},
   "source": [
    "# Анализ товарного ассортмента интернет-магазина товаров для дома и быта «Пока все ещё тут»"
   ]
  },
  {
   "cell_type": "markdown",
   "metadata": {},
   "source": [
    "## Материалы:\n",
    "* [Презентация](https://drive.google.com/file/d/1ZF_W8cF489a07lLsLu7njr9kmSz2pX78/view?usp=sharing)\n",
    "* [Дашборд](https://public.tableau.com/app/profile/.21317407/viz/_16627155634340/Dashboard1?publish=yes)\n"
   ]
  },
  {
   "cell_type": "markdown",
   "metadata": {},
   "source": [
    "## Описание и задачи проекта"
   ]
  },
  {
   "cell_type": "markdown",
   "metadata": {},
   "source": [
    "**Описание**:\n",
    "\n",
    "Интернет-магазин товаров для дома «Пока все ещё тут» в срочном порядке ищет аналитиков. Вы поможете нашему магазину стать лучше, а клиентам — обустроить дом своей мечты. Наша ближайшая задача — полноценный анализ товарного ассортимента.\n",
    "\n",
    "**Задача**:\n",
    "определить, какие товары являются основными (что покупают чаще), а какие - дополнительными (покупают редко или вкупе с каким-то основным товаром);\n",
    " \n",
    "\n",
    " "
   ]
  },
  {
   "cell_type": "markdown",
   "metadata": {},
   "source": [
    "## Подготовка данных"
   ]
  },
  {
   "cell_type": "code",
   "execution_count": 1,
   "metadata": {},
   "outputs": [
    {
     "data": {
      "text/html": [
       "<div>\n",
       "<style scoped>\n",
       "    .dataframe tbody tr th:only-of-type {\n",
       "        vertical-align: middle;\n",
       "    }\n",
       "\n",
       "    .dataframe tbody tr th {\n",
       "        vertical-align: top;\n",
       "    }\n",
       "\n",
       "    .dataframe thead th {\n",
       "        text-align: right;\n",
       "    }\n",
       "</style>\n",
       "<table border=\"1\" class=\"dataframe\">\n",
       "  <thead>\n",
       "    <tr style=\"text-align: right;\">\n",
       "      <th></th>\n",
       "      <th>date</th>\n",
       "      <th>customer_id</th>\n",
       "      <th>order_id</th>\n",
       "      <th>product</th>\n",
       "      <th>quantity</th>\n",
       "      <th>price</th>\n",
       "    </tr>\n",
       "  </thead>\n",
       "  <tbody>\n",
       "    <tr>\n",
       "      <th>0</th>\n",
       "      <td>2018100100</td>\n",
       "      <td>ee47d746-6d2f-4d3c-9622-c31412542920</td>\n",
       "      <td>68477</td>\n",
       "      <td>Комнатное растение в горшке Алое Вера, d12, h30</td>\n",
       "      <td>1</td>\n",
       "      <td>142.0</td>\n",
       "    </tr>\n",
       "    <tr>\n",
       "      <th>1</th>\n",
       "      <td>2018100100</td>\n",
       "      <td>ee47d746-6d2f-4d3c-9622-c31412542920</td>\n",
       "      <td>68477</td>\n",
       "      <td>Комнатное растение в горшке Кофе Арабика, d12,...</td>\n",
       "      <td>1</td>\n",
       "      <td>194.0</td>\n",
       "    </tr>\n",
       "    <tr>\n",
       "      <th>2</th>\n",
       "      <td>2018100100</td>\n",
       "      <td>ee47d746-6d2f-4d3c-9622-c31412542920</td>\n",
       "      <td>68477</td>\n",
       "      <td>Радермахера d-12 см h-20 см</td>\n",
       "      <td>1</td>\n",
       "      <td>112.0</td>\n",
       "    </tr>\n",
       "    <tr>\n",
       "      <th>3</th>\n",
       "      <td>2018100100</td>\n",
       "      <td>ee47d746-6d2f-4d3c-9622-c31412542920</td>\n",
       "      <td>68477</td>\n",
       "      <td>Хризолидокарпус Лутесценс d-9 см</td>\n",
       "      <td>1</td>\n",
       "      <td>179.0</td>\n",
       "    </tr>\n",
       "    <tr>\n",
       "      <th>4</th>\n",
       "      <td>2018100100</td>\n",
       "      <td>ee47d746-6d2f-4d3c-9622-c31412542920</td>\n",
       "      <td>68477</td>\n",
       "      <td>Циперус Зумула d-12 см h-25 см</td>\n",
       "      <td>1</td>\n",
       "      <td>112.0</td>\n",
       "    </tr>\n",
       "    <tr>\n",
       "      <th>...</th>\n",
       "      <td>...</td>\n",
       "      <td>...</td>\n",
       "      <td>...</td>\n",
       "      <td>...</td>\n",
       "      <td>...</td>\n",
       "      <td>...</td>\n",
       "    </tr>\n",
       "    <tr>\n",
       "      <th>6732</th>\n",
       "      <td>2019103111</td>\n",
       "      <td>73d1cd35-5e5f-4629-8cf2-3fda829d4e58</td>\n",
       "      <td>73156</td>\n",
       "      <td>Таз пластмассовый 40,0 л пищевой овальный (Иж)...</td>\n",
       "      <td>1</td>\n",
       "      <td>404.0</td>\n",
       "    </tr>\n",
       "    <tr>\n",
       "      <th>6733</th>\n",
       "      <td>2019103112</td>\n",
       "      <td>1f0a7f35-7459-4f23-b468-5e45bf481dd1</td>\n",
       "      <td>73158</td>\n",
       "      <td>Сумка-тележка 2-х колесная Gimi Argo синяя</td>\n",
       "      <td>1</td>\n",
       "      <td>1087.0</td>\n",
       "    </tr>\n",
       "    <tr>\n",
       "      <th>6734</th>\n",
       "      <td>2019103113</td>\n",
       "      <td>25df96a7-c453-4708-9cea-a3dfc7c342ea</td>\n",
       "      <td>73162</td>\n",
       "      <td>Герань домашняя (пеларгония зональная) цветуща...</td>\n",
       "      <td>1</td>\n",
       "      <td>157.0</td>\n",
       "    </tr>\n",
       "    <tr>\n",
       "      <th>6735</th>\n",
       "      <td>2019103114</td>\n",
       "      <td>73d1cd35-5e5f-4629-8cf2-3fda829d4e58</td>\n",
       "      <td>73164</td>\n",
       "      <td>Таз пластмассовый со стиральной доской (Иж), 1...</td>\n",
       "      <td>1</td>\n",
       "      <td>397.0</td>\n",
       "    </tr>\n",
       "    <tr>\n",
       "      <th>6736</th>\n",
       "      <td>2019103116</td>\n",
       "      <td>344aa778-e436-419e-a9c6-9b8f37b7c1df</td>\n",
       "      <td>73137</td>\n",
       "      <td>Сумка-тележка 2-х колесная Gimi Argo синяя</td>\n",
       "      <td>1</td>\n",
       "      <td>1087.0</td>\n",
       "    </tr>\n",
       "  </tbody>\n",
       "</table>\n",
       "<p>6737 rows × 6 columns</p>\n",
       "</div>"
      ],
      "text/plain": [
       "            date                           customer_id  order_id  \\\n",
       "0     2018100100  ee47d746-6d2f-4d3c-9622-c31412542920     68477   \n",
       "1     2018100100  ee47d746-6d2f-4d3c-9622-c31412542920     68477   \n",
       "2     2018100100  ee47d746-6d2f-4d3c-9622-c31412542920     68477   \n",
       "3     2018100100  ee47d746-6d2f-4d3c-9622-c31412542920     68477   \n",
       "4     2018100100  ee47d746-6d2f-4d3c-9622-c31412542920     68477   \n",
       "...          ...                                   ...       ...   \n",
       "6732  2019103111  73d1cd35-5e5f-4629-8cf2-3fda829d4e58     73156   \n",
       "6733  2019103112  1f0a7f35-7459-4f23-b468-5e45bf481dd1     73158   \n",
       "6734  2019103113  25df96a7-c453-4708-9cea-a3dfc7c342ea     73162   \n",
       "6735  2019103114  73d1cd35-5e5f-4629-8cf2-3fda829d4e58     73164   \n",
       "6736  2019103116  344aa778-e436-419e-a9c6-9b8f37b7c1df     73137   \n",
       "\n",
       "                                                product  quantity   price  \n",
       "0       Комнатное растение в горшке Алое Вера, d12, h30         1   142.0  \n",
       "1     Комнатное растение в горшке Кофе Арабика, d12,...         1   194.0  \n",
       "2                           Радермахера d-12 см h-20 см         1   112.0  \n",
       "3                      Хризолидокарпус Лутесценс d-9 см         1   179.0  \n",
       "4                        Циперус Зумула d-12 см h-25 см         1   112.0  \n",
       "...                                                 ...       ...     ...  \n",
       "6732  Таз пластмассовый 40,0 л пищевой овальный (Иж)...         1   404.0  \n",
       "6733         Сумка-тележка 2-х колесная Gimi Argo синяя         1  1087.0  \n",
       "6734  Герань домашняя (пеларгония зональная) цветуща...         1   157.0  \n",
       "6735  Таз пластмассовый со стиральной доской (Иж), 1...         1   397.0  \n",
       "6736         Сумка-тележка 2-х колесная Gimi Argo синяя         1  1087.0  \n",
       "\n",
       "[6737 rows x 6 columns]"
      ]
     },
     "execution_count": 1,
     "metadata": {},
     "output_type": "execute_result"
    }
   ],
   "source": [
    "#импорт библиотек и чтение файла\n",
    "import pandas as pd\n",
    "import datetime\n",
    "import matplotlib.pyplot as plt\n",
    "import seaborn as sns\n",
    "import plotly.express as px\n",
    "import numpy as np\n",
    "from scipy import stats as st\n",
    "from io import BytesIO\n",
    "import requests\n",
    "spreadsheet_id = '11yhh15P5Rt4lLULJl8AAMtTrAIiYjEE4JNAxczF3KWk'\n",
    "file_name = 'https://docs.google.com/spreadsheets/d/{}/export?format=csv'.format(spreadsheet_id)\n",
    "r = requests.get(file_name)\n",
    "df = pd.read_csv(BytesIO(r.content))\n",
    "df"
   ]
  },
  {
   "cell_type": "code",
   "execution_count": 2,
   "metadata": {},
   "outputs": [
    {
     "name": "stdout",
     "output_type": "stream",
     "text": [
      "<class 'pandas.core.frame.DataFrame'>\n",
      "RangeIndex: 6737 entries, 0 to 6736\n",
      "Data columns (total 6 columns):\n",
      " #   Column       Non-Null Count  Dtype  \n",
      "---  ------       --------------  -----  \n",
      " 0   date         6737 non-null   int64  \n",
      " 1   customer_id  6737 non-null   object \n",
      " 2   order_id     6737 non-null   int64  \n",
      " 3   product      6737 non-null   object \n",
      " 4   quantity     6737 non-null   int64  \n",
      " 5   price        6737 non-null   float64\n",
      "dtypes: float64(1), int64(3), object(2)\n",
      "memory usage: 315.9+ KB\n"
     ]
    }
   ],
   "source": [
    "#смотрим общую информация\n",
    "df.info()"
   ]
  },
  {
   "cell_type": "markdown",
   "metadata": {},
   "source": [
    "Датасет состоит из 6 столбцов и 6737 строк. Пропущенных значений нет. Типы данных в целом корректны, но нужно поработать с датой"
   ]
  },
  {
   "cell_type": "code",
   "execution_count": 3,
   "metadata": {},
   "outputs": [
    {
     "name": "stdout",
     "output_type": "stream",
     "text": [
      "Количество дубликатов в таблице df: 0\n"
     ]
    }
   ],
   "source": [
    "#проверяем наличие явных дубликатов\n",
    "\n",
    "print('Количество дубликатов в таблице df:', df.duplicated().sum())"
   ]
  },
  {
   "cell_type": "code",
   "execution_count": 4,
   "metadata": {},
   "outputs": [
    {
     "data": {
      "text/html": [
       "<div>\n",
       "<style scoped>\n",
       "    .dataframe tbody tr th:only-of-type {\n",
       "        vertical-align: middle;\n",
       "    }\n",
       "\n",
       "    .dataframe tbody tr th {\n",
       "        vertical-align: top;\n",
       "    }\n",
       "\n",
       "    .dataframe thead th {\n",
       "        text-align: right;\n",
       "    }\n",
       "</style>\n",
       "<table border=\"1\" class=\"dataframe\">\n",
       "  <thead>\n",
       "    <tr style=\"text-align: right;\">\n",
       "      <th></th>\n",
       "      <th>customer_id</th>\n",
       "      <th>order_id</th>\n",
       "      <th>product</th>\n",
       "      <th>quantity</th>\n",
       "      <th>price</th>\n",
       "    </tr>\n",
       "  </thead>\n",
       "  <tbody>\n",
       "    <tr>\n",
       "      <th>0</th>\n",
       "      <td>ee47d746-6d2f-4d3c-9622-c31412542920</td>\n",
       "      <td>68477</td>\n",
       "      <td>Комнатное растение в горшке Алое Вера, d12, h30</td>\n",
       "      <td>1</td>\n",
       "      <td>142.0</td>\n",
       "    </tr>\n",
       "    <tr>\n",
       "      <th>1</th>\n",
       "      <td>ee47d746-6d2f-4d3c-9622-c31412542920</td>\n",
       "      <td>68477</td>\n",
       "      <td>Комнатное растение в горшке Кофе Арабика, d12,...</td>\n",
       "      <td>1</td>\n",
       "      <td>194.0</td>\n",
       "    </tr>\n",
       "    <tr>\n",
       "      <th>2</th>\n",
       "      <td>ee47d746-6d2f-4d3c-9622-c31412542920</td>\n",
       "      <td>68477</td>\n",
       "      <td>Радермахера d-12 см h-20 см</td>\n",
       "      <td>1</td>\n",
       "      <td>112.0</td>\n",
       "    </tr>\n",
       "    <tr>\n",
       "      <th>3</th>\n",
       "      <td>ee47d746-6d2f-4d3c-9622-c31412542920</td>\n",
       "      <td>68477</td>\n",
       "      <td>Хризолидокарпус Лутесценс d-9 см</td>\n",
       "      <td>1</td>\n",
       "      <td>179.0</td>\n",
       "    </tr>\n",
       "    <tr>\n",
       "      <th>4</th>\n",
       "      <td>ee47d746-6d2f-4d3c-9622-c31412542920</td>\n",
       "      <td>68477</td>\n",
       "      <td>Циперус Зумула d-12 см h-25 см</td>\n",
       "      <td>1</td>\n",
       "      <td>112.0</td>\n",
       "    </tr>\n",
       "    <tr>\n",
       "      <th>...</th>\n",
       "      <td>...</td>\n",
       "      <td>...</td>\n",
       "      <td>...</td>\n",
       "      <td>...</td>\n",
       "      <td>...</td>\n",
       "    </tr>\n",
       "    <tr>\n",
       "      <th>6732</th>\n",
       "      <td>73d1cd35-5e5f-4629-8cf2-3fda829d4e58</td>\n",
       "      <td>73156</td>\n",
       "      <td>Таз пластмассовый 40,0 л пищевой овальный (Иж)...</td>\n",
       "      <td>1</td>\n",
       "      <td>404.0</td>\n",
       "    </tr>\n",
       "    <tr>\n",
       "      <th>6733</th>\n",
       "      <td>1f0a7f35-7459-4f23-b468-5e45bf481dd1</td>\n",
       "      <td>73158</td>\n",
       "      <td>Сумка-тележка 2-х колесная Gimi Argo синяя</td>\n",
       "      <td>1</td>\n",
       "      <td>1087.0</td>\n",
       "    </tr>\n",
       "    <tr>\n",
       "      <th>6734</th>\n",
       "      <td>25df96a7-c453-4708-9cea-a3dfc7c342ea</td>\n",
       "      <td>73162</td>\n",
       "      <td>Герань домашняя (пеларгония зональная) цветуща...</td>\n",
       "      <td>1</td>\n",
       "      <td>157.0</td>\n",
       "    </tr>\n",
       "    <tr>\n",
       "      <th>6735</th>\n",
       "      <td>73d1cd35-5e5f-4629-8cf2-3fda829d4e58</td>\n",
       "      <td>73164</td>\n",
       "      <td>Таз пластмассовый со стиральной доской (Иж), 1...</td>\n",
       "      <td>1</td>\n",
       "      <td>397.0</td>\n",
       "    </tr>\n",
       "    <tr>\n",
       "      <th>6736</th>\n",
       "      <td>344aa778-e436-419e-a9c6-9b8f37b7c1df</td>\n",
       "      <td>73137</td>\n",
       "      <td>Сумка-тележка 2-х колесная Gimi Argo синяя</td>\n",
       "      <td>1</td>\n",
       "      <td>1087.0</td>\n",
       "    </tr>\n",
       "  </tbody>\n",
       "</table>\n",
       "<p>6737 rows × 5 columns</p>\n",
       "</div>"
      ],
      "text/plain": [
       "                               customer_id  order_id  \\\n",
       "0     ee47d746-6d2f-4d3c-9622-c31412542920     68477   \n",
       "1     ee47d746-6d2f-4d3c-9622-c31412542920     68477   \n",
       "2     ee47d746-6d2f-4d3c-9622-c31412542920     68477   \n",
       "3     ee47d746-6d2f-4d3c-9622-c31412542920     68477   \n",
       "4     ee47d746-6d2f-4d3c-9622-c31412542920     68477   \n",
       "...                                    ...       ...   \n",
       "6732  73d1cd35-5e5f-4629-8cf2-3fda829d4e58     73156   \n",
       "6733  1f0a7f35-7459-4f23-b468-5e45bf481dd1     73158   \n",
       "6734  25df96a7-c453-4708-9cea-a3dfc7c342ea     73162   \n",
       "6735  73d1cd35-5e5f-4629-8cf2-3fda829d4e58     73164   \n",
       "6736  344aa778-e436-419e-a9c6-9b8f37b7c1df     73137   \n",
       "\n",
       "                                                product  quantity   price  \n",
       "0       Комнатное растение в горшке Алое Вера, d12, h30         1   142.0  \n",
       "1     Комнатное растение в горшке Кофе Арабика, d12,...         1   194.0  \n",
       "2                           Радермахера d-12 см h-20 см         1   112.0  \n",
       "3                      Хризолидокарпус Лутесценс d-9 см         1   179.0  \n",
       "4                        Циперус Зумула d-12 см h-25 см         1   112.0  \n",
       "...                                                 ...       ...     ...  \n",
       "6732  Таз пластмассовый 40,0 л пищевой овальный (Иж)...         1   404.0  \n",
       "6733         Сумка-тележка 2-х колесная Gimi Argo синяя         1  1087.0  \n",
       "6734  Герань домашняя (пеларгония зональная) цветуща...         1   157.0  \n",
       "6735  Таз пластмассовый со стиральной доской (Иж), 1...         1   397.0  \n",
       "6736         Сумка-тележка 2-х колесная Gimi Argo синяя         1  1087.0  \n",
       "\n",
       "[6737 rows x 5 columns]"
      ]
     },
     "execution_count": 4,
     "metadata": {},
     "output_type": "execute_result"
    }
   ],
   "source": [
    "#убирем столбец с датой и проверим дубликаты еще раз\n",
    "df_without_date = df.drop(['date'], axis = 1)\n",
    "df_without_date"
   ]
  },
  {
   "cell_type": "code",
   "execution_count": 5,
   "metadata": {},
   "outputs": [
    {
     "name": "stdout",
     "output_type": "stream",
     "text": [
      "Количество дубликатов в таблице df_without_date: 1864\n"
     ]
    }
   ],
   "source": [
    "print('Количество дубликатов в таблице df_without_date:', df_without_date.duplicated().sum())"
   ]
  },
  {
   "cell_type": "code",
   "execution_count": 6,
   "metadata": {},
   "outputs": [],
   "source": [
    "#удаляем дубликаты\n",
    "df_without_date = df_without_date.drop_duplicates()"
   ]
  },
  {
   "cell_type": "code",
   "execution_count": 7,
   "metadata": {},
   "outputs": [
    {
     "name": "stdout",
     "output_type": "stream",
     "text": [
      "<class 'pandas.core.frame.DataFrame'>\n",
      "Int64Index: 4873 entries, 0 to 6735\n",
      "Data columns (total 5 columns):\n",
      " #   Column       Non-Null Count  Dtype  \n",
      "---  ------       --------------  -----  \n",
      " 0   customer_id  4873 non-null   object \n",
      " 1   order_id     4873 non-null   int64  \n",
      " 2   product      4873 non-null   object \n",
      " 3   quantity     4873 non-null   int64  \n",
      " 4   price        4873 non-null   float64\n",
      "dtypes: float64(1), int64(2), object(2)\n",
      "memory usage: 228.4+ KB\n"
     ]
    }
   ],
   "source": [
    "df_without_date.info()"
   ]
  },
  {
   "cell_type": "code",
   "execution_count": 8,
   "metadata": {},
   "outputs": [
    {
     "data": {
      "text/html": [
       "<div>\n",
       "<style scoped>\n",
       "    .dataframe tbody tr th:only-of-type {\n",
       "        vertical-align: middle;\n",
       "    }\n",
       "\n",
       "    .dataframe tbody tr th {\n",
       "        vertical-align: top;\n",
       "    }\n",
       "\n",
       "    .dataframe thead th {\n",
       "        text-align: right;\n",
       "    }\n",
       "</style>\n",
       "<table border=\"1\" class=\"dataframe\">\n",
       "  <thead>\n",
       "    <tr style=\"text-align: right;\">\n",
       "      <th></th>\n",
       "      <th>customer_id_x</th>\n",
       "      <th>order_id_x</th>\n",
       "      <th>product_x</th>\n",
       "      <th>quantity_x</th>\n",
       "      <th>price_x</th>\n",
       "      <th>date</th>\n",
       "      <th>customer_id_y</th>\n",
       "      <th>order_id_y</th>\n",
       "      <th>product_y</th>\n",
       "      <th>quantity_y</th>\n",
       "      <th>price_y</th>\n",
       "    </tr>\n",
       "  </thead>\n",
       "  <tbody>\n",
       "    <tr>\n",
       "      <th>0</th>\n",
       "      <td>ee47d746-6d2f-4d3c-9622-c31412542920</td>\n",
       "      <td>68477</td>\n",
       "      <td>Комнатное растение в горшке Алое Вера, d12, h30</td>\n",
       "      <td>1</td>\n",
       "      <td>142.0</td>\n",
       "      <td>2018100100</td>\n",
       "      <td>ee47d746-6d2f-4d3c-9622-c31412542920</td>\n",
       "      <td>68477</td>\n",
       "      <td>Комнатное растение в горшке Алое Вера, d12, h30</td>\n",
       "      <td>1</td>\n",
       "      <td>142.0</td>\n",
       "    </tr>\n",
       "    <tr>\n",
       "      <th>1</th>\n",
       "      <td>ee47d746-6d2f-4d3c-9622-c31412542920</td>\n",
       "      <td>68477</td>\n",
       "      <td>Комнатное растение в горшке Кофе Арабика, d12,...</td>\n",
       "      <td>1</td>\n",
       "      <td>194.0</td>\n",
       "      <td>2018100100</td>\n",
       "      <td>ee47d746-6d2f-4d3c-9622-c31412542920</td>\n",
       "      <td>68477</td>\n",
       "      <td>Комнатное растение в горшке Кофе Арабика, d12,...</td>\n",
       "      <td>1</td>\n",
       "      <td>194.0</td>\n",
       "    </tr>\n",
       "    <tr>\n",
       "      <th>2</th>\n",
       "      <td>ee47d746-6d2f-4d3c-9622-c31412542920</td>\n",
       "      <td>68477</td>\n",
       "      <td>Радермахера d-12 см h-20 см</td>\n",
       "      <td>1</td>\n",
       "      <td>112.0</td>\n",
       "      <td>2018100100</td>\n",
       "      <td>ee47d746-6d2f-4d3c-9622-c31412542920</td>\n",
       "      <td>68477</td>\n",
       "      <td>Радермахера d-12 см h-20 см</td>\n",
       "      <td>1</td>\n",
       "      <td>112.0</td>\n",
       "    </tr>\n",
       "    <tr>\n",
       "      <th>3</th>\n",
       "      <td>ee47d746-6d2f-4d3c-9622-c31412542920</td>\n",
       "      <td>68477</td>\n",
       "      <td>Хризолидокарпус Лутесценс d-9 см</td>\n",
       "      <td>1</td>\n",
       "      <td>179.0</td>\n",
       "      <td>2018100100</td>\n",
       "      <td>ee47d746-6d2f-4d3c-9622-c31412542920</td>\n",
       "      <td>68477</td>\n",
       "      <td>Хризолидокарпус Лутесценс d-9 см</td>\n",
       "      <td>1</td>\n",
       "      <td>179.0</td>\n",
       "    </tr>\n",
       "    <tr>\n",
       "      <th>4</th>\n",
       "      <td>ee47d746-6d2f-4d3c-9622-c31412542920</td>\n",
       "      <td>68477</td>\n",
       "      <td>Циперус Зумула d-12 см h-25 см</td>\n",
       "      <td>1</td>\n",
       "      <td>112.0</td>\n",
       "      <td>2018100100</td>\n",
       "      <td>ee47d746-6d2f-4d3c-9622-c31412542920</td>\n",
       "      <td>68477</td>\n",
       "      <td>Циперус Зумула d-12 см h-25 см</td>\n",
       "      <td>1</td>\n",
       "      <td>112.0</td>\n",
       "    </tr>\n",
       "    <tr>\n",
       "      <th>...</th>\n",
       "      <td>...</td>\n",
       "      <td>...</td>\n",
       "      <td>...</td>\n",
       "      <td>...</td>\n",
       "      <td>...</td>\n",
       "      <td>...</td>\n",
       "      <td>...</td>\n",
       "      <td>...</td>\n",
       "      <td>...</td>\n",
       "      <td>...</td>\n",
       "      <td>...</td>\n",
       "    </tr>\n",
       "    <tr>\n",
       "      <th>6731</th>\n",
       "      <td>f17ed857-178e-45e1-a662-0a9dd3b58c5f</td>\n",
       "      <td>73155</td>\n",
       "      <td>Мимоза стыдливая d-9 см</td>\n",
       "      <td>1</td>\n",
       "      <td>329.0</td>\n",
       "      <td>2019103111</td>\n",
       "      <td>f17ed857-178e-45e1-a662-0a9dd3b58c5f</td>\n",
       "      <td>73155</td>\n",
       "      <td>Мимоза стыдливая d-9 см</td>\n",
       "      <td>1</td>\n",
       "      <td>329.0</td>\n",
       "    </tr>\n",
       "    <tr>\n",
       "      <th>6732</th>\n",
       "      <td>73d1cd35-5e5f-4629-8cf2-3fda829d4e58</td>\n",
       "      <td>73156</td>\n",
       "      <td>Таз пластмассовый 40,0 л пищевой овальный (Иж)...</td>\n",
       "      <td>1</td>\n",
       "      <td>404.0</td>\n",
       "      <td>2019103111</td>\n",
       "      <td>73d1cd35-5e5f-4629-8cf2-3fda829d4e58</td>\n",
       "      <td>73156</td>\n",
       "      <td>Таз пластмассовый 40,0 л пищевой овальный (Иж)...</td>\n",
       "      <td>1</td>\n",
       "      <td>404.0</td>\n",
       "    </tr>\n",
       "    <tr>\n",
       "      <th>6733</th>\n",
       "      <td>1f0a7f35-7459-4f23-b468-5e45bf481dd1</td>\n",
       "      <td>73158</td>\n",
       "      <td>Сумка-тележка 2-х колесная Gimi Argo синяя</td>\n",
       "      <td>1</td>\n",
       "      <td>1087.0</td>\n",
       "      <td>2019103112</td>\n",
       "      <td>1f0a7f35-7459-4f23-b468-5e45bf481dd1</td>\n",
       "      <td>73158</td>\n",
       "      <td>Сумка-тележка 2-х колесная Gimi Argo синяя</td>\n",
       "      <td>1</td>\n",
       "      <td>1087.0</td>\n",
       "    </tr>\n",
       "    <tr>\n",
       "      <th>6734</th>\n",
       "      <td>25df96a7-c453-4708-9cea-a3dfc7c342ea</td>\n",
       "      <td>73162</td>\n",
       "      <td>Герань домашняя (пеларгония зональная) цветуща...</td>\n",
       "      <td>1</td>\n",
       "      <td>157.0</td>\n",
       "      <td>2019103113</td>\n",
       "      <td>25df96a7-c453-4708-9cea-a3dfc7c342ea</td>\n",
       "      <td>73162</td>\n",
       "      <td>Герань домашняя (пеларгония зональная) цветуща...</td>\n",
       "      <td>1</td>\n",
       "      <td>157.0</td>\n",
       "    </tr>\n",
       "    <tr>\n",
       "      <th>6735</th>\n",
       "      <td>73d1cd35-5e5f-4629-8cf2-3fda829d4e58</td>\n",
       "      <td>73164</td>\n",
       "      <td>Таз пластмассовый со стиральной доской (Иж), 1...</td>\n",
       "      <td>1</td>\n",
       "      <td>397.0</td>\n",
       "      <td>2019103114</td>\n",
       "      <td>73d1cd35-5e5f-4629-8cf2-3fda829d4e58</td>\n",
       "      <td>73164</td>\n",
       "      <td>Таз пластмассовый со стиральной доской (Иж), 1...</td>\n",
       "      <td>1</td>\n",
       "      <td>397.0</td>\n",
       "    </tr>\n",
       "  </tbody>\n",
       "</table>\n",
       "<p>4873 rows × 11 columns</p>\n",
       "</div>"
      ],
      "text/plain": [
       "                             customer_id_x  order_id_x  \\\n",
       "0     ee47d746-6d2f-4d3c-9622-c31412542920       68477   \n",
       "1     ee47d746-6d2f-4d3c-9622-c31412542920       68477   \n",
       "2     ee47d746-6d2f-4d3c-9622-c31412542920       68477   \n",
       "3     ee47d746-6d2f-4d3c-9622-c31412542920       68477   \n",
       "4     ee47d746-6d2f-4d3c-9622-c31412542920       68477   \n",
       "...                                    ...         ...   \n",
       "6731  f17ed857-178e-45e1-a662-0a9dd3b58c5f       73155   \n",
       "6732  73d1cd35-5e5f-4629-8cf2-3fda829d4e58       73156   \n",
       "6733  1f0a7f35-7459-4f23-b468-5e45bf481dd1       73158   \n",
       "6734  25df96a7-c453-4708-9cea-a3dfc7c342ea       73162   \n",
       "6735  73d1cd35-5e5f-4629-8cf2-3fda829d4e58       73164   \n",
       "\n",
       "                                              product_x  quantity_x  price_x  \\\n",
       "0       Комнатное растение в горшке Алое Вера, d12, h30           1    142.0   \n",
       "1     Комнатное растение в горшке Кофе Арабика, d12,...           1    194.0   \n",
       "2                           Радермахера d-12 см h-20 см           1    112.0   \n",
       "3                      Хризолидокарпус Лутесценс d-9 см           1    179.0   \n",
       "4                        Циперус Зумула d-12 см h-25 см           1    112.0   \n",
       "...                                                 ...         ...      ...   \n",
       "6731                            Мимоза стыдливая d-9 см           1    329.0   \n",
       "6732  Таз пластмассовый 40,0 л пищевой овальный (Иж)...           1    404.0   \n",
       "6733         Сумка-тележка 2-х колесная Gimi Argo синяя           1   1087.0   \n",
       "6734  Герань домашняя (пеларгония зональная) цветуща...           1    157.0   \n",
       "6735  Таз пластмассовый со стиральной доской (Иж), 1...           1    397.0   \n",
       "\n",
       "            date                         customer_id_y  order_id_y  \\\n",
       "0     2018100100  ee47d746-6d2f-4d3c-9622-c31412542920       68477   \n",
       "1     2018100100  ee47d746-6d2f-4d3c-9622-c31412542920       68477   \n",
       "2     2018100100  ee47d746-6d2f-4d3c-9622-c31412542920       68477   \n",
       "3     2018100100  ee47d746-6d2f-4d3c-9622-c31412542920       68477   \n",
       "4     2018100100  ee47d746-6d2f-4d3c-9622-c31412542920       68477   \n",
       "...          ...                                   ...         ...   \n",
       "6731  2019103111  f17ed857-178e-45e1-a662-0a9dd3b58c5f       73155   \n",
       "6732  2019103111  73d1cd35-5e5f-4629-8cf2-3fda829d4e58       73156   \n",
       "6733  2019103112  1f0a7f35-7459-4f23-b468-5e45bf481dd1       73158   \n",
       "6734  2019103113  25df96a7-c453-4708-9cea-a3dfc7c342ea       73162   \n",
       "6735  2019103114  73d1cd35-5e5f-4629-8cf2-3fda829d4e58       73164   \n",
       "\n",
       "                                              product_y  quantity_y  price_y  \n",
       "0       Комнатное растение в горшке Алое Вера, d12, h30           1    142.0  \n",
       "1     Комнатное растение в горшке Кофе Арабика, d12,...           1    194.0  \n",
       "2                           Радермахера d-12 см h-20 см           1    112.0  \n",
       "3                      Хризолидокарпус Лутесценс d-9 см           1    179.0  \n",
       "4                        Циперус Зумула d-12 см h-25 см           1    112.0  \n",
       "...                                                 ...         ...      ...  \n",
       "6731                            Мимоза стыдливая d-9 см           1    329.0  \n",
       "6732  Таз пластмассовый 40,0 л пищевой овальный (Иж)...           1    404.0  \n",
       "6733         Сумка-тележка 2-х колесная Gimi Argo синяя           1   1087.0  \n",
       "6734  Герань домашняя (пеларгония зональная) цветуща...           1    157.0  \n",
       "6735  Таз пластмассовый со стиральной доской (Иж), 1...           1    397.0  \n",
       "\n",
       "[4873 rows x 11 columns]"
      ]
     },
     "execution_count": 8,
     "metadata": {},
     "output_type": "execute_result"
    }
   ],
   "source": [
    "#присоединим обратно дату\n",
    "dt = df_without_date.merge(df, right_index=True, left_index=True)\n",
    "dt"
   ]
  },
  {
   "cell_type": "code",
   "execution_count": 9,
   "metadata": {},
   "outputs": [
    {
     "data": {
      "text/html": [
       "<div>\n",
       "<style scoped>\n",
       "    .dataframe tbody tr th:only-of-type {\n",
       "        vertical-align: middle;\n",
       "    }\n",
       "\n",
       "    .dataframe tbody tr th {\n",
       "        vertical-align: top;\n",
       "    }\n",
       "\n",
       "    .dataframe thead th {\n",
       "        text-align: right;\n",
       "    }\n",
       "</style>\n",
       "<table border=\"1\" class=\"dataframe\">\n",
       "  <thead>\n",
       "    <tr style=\"text-align: right;\">\n",
       "      <th></th>\n",
       "      <th>customer_id</th>\n",
       "      <th>order_id</th>\n",
       "      <th>product</th>\n",
       "      <th>quantity</th>\n",
       "      <th>price</th>\n",
       "      <th>date</th>\n",
       "    </tr>\n",
       "  </thead>\n",
       "  <tbody>\n",
       "    <tr>\n",
       "      <th>0</th>\n",
       "      <td>ee47d746-6d2f-4d3c-9622-c31412542920</td>\n",
       "      <td>68477</td>\n",
       "      <td>Комнатное растение в горшке Алое Вера, d12, h30</td>\n",
       "      <td>1</td>\n",
       "      <td>142.0</td>\n",
       "      <td>2018100100</td>\n",
       "    </tr>\n",
       "    <tr>\n",
       "      <th>1</th>\n",
       "      <td>ee47d746-6d2f-4d3c-9622-c31412542920</td>\n",
       "      <td>68477</td>\n",
       "      <td>Комнатное растение в горшке Кофе Арабика, d12,...</td>\n",
       "      <td>1</td>\n",
       "      <td>194.0</td>\n",
       "      <td>2018100100</td>\n",
       "    </tr>\n",
       "    <tr>\n",
       "      <th>2</th>\n",
       "      <td>ee47d746-6d2f-4d3c-9622-c31412542920</td>\n",
       "      <td>68477</td>\n",
       "      <td>Радермахера d-12 см h-20 см</td>\n",
       "      <td>1</td>\n",
       "      <td>112.0</td>\n",
       "      <td>2018100100</td>\n",
       "    </tr>\n",
       "    <tr>\n",
       "      <th>3</th>\n",
       "      <td>ee47d746-6d2f-4d3c-9622-c31412542920</td>\n",
       "      <td>68477</td>\n",
       "      <td>Хризолидокарпус Лутесценс d-9 см</td>\n",
       "      <td>1</td>\n",
       "      <td>179.0</td>\n",
       "      <td>2018100100</td>\n",
       "    </tr>\n",
       "    <tr>\n",
       "      <th>4</th>\n",
       "      <td>ee47d746-6d2f-4d3c-9622-c31412542920</td>\n",
       "      <td>68477</td>\n",
       "      <td>Циперус Зумула d-12 см h-25 см</td>\n",
       "      <td>1</td>\n",
       "      <td>112.0</td>\n",
       "      <td>2018100100</td>\n",
       "    </tr>\n",
       "    <tr>\n",
       "      <th>...</th>\n",
       "      <td>...</td>\n",
       "      <td>...</td>\n",
       "      <td>...</td>\n",
       "      <td>...</td>\n",
       "      <td>...</td>\n",
       "      <td>...</td>\n",
       "    </tr>\n",
       "    <tr>\n",
       "      <th>6731</th>\n",
       "      <td>f17ed857-178e-45e1-a662-0a9dd3b58c5f</td>\n",
       "      <td>73155</td>\n",
       "      <td>Мимоза стыдливая d-9 см</td>\n",
       "      <td>1</td>\n",
       "      <td>329.0</td>\n",
       "      <td>2019103111</td>\n",
       "    </tr>\n",
       "    <tr>\n",
       "      <th>6732</th>\n",
       "      <td>73d1cd35-5e5f-4629-8cf2-3fda829d4e58</td>\n",
       "      <td>73156</td>\n",
       "      <td>Таз пластмассовый 40,0 л пищевой овальный (Иж)...</td>\n",
       "      <td>1</td>\n",
       "      <td>404.0</td>\n",
       "      <td>2019103111</td>\n",
       "    </tr>\n",
       "    <tr>\n",
       "      <th>6733</th>\n",
       "      <td>1f0a7f35-7459-4f23-b468-5e45bf481dd1</td>\n",
       "      <td>73158</td>\n",
       "      <td>Сумка-тележка 2-х колесная Gimi Argo синяя</td>\n",
       "      <td>1</td>\n",
       "      <td>1087.0</td>\n",
       "      <td>2019103112</td>\n",
       "    </tr>\n",
       "    <tr>\n",
       "      <th>6734</th>\n",
       "      <td>25df96a7-c453-4708-9cea-a3dfc7c342ea</td>\n",
       "      <td>73162</td>\n",
       "      <td>Герань домашняя (пеларгония зональная) цветуща...</td>\n",
       "      <td>1</td>\n",
       "      <td>157.0</td>\n",
       "      <td>2019103113</td>\n",
       "    </tr>\n",
       "    <tr>\n",
       "      <th>6735</th>\n",
       "      <td>73d1cd35-5e5f-4629-8cf2-3fda829d4e58</td>\n",
       "      <td>73164</td>\n",
       "      <td>Таз пластмассовый со стиральной доской (Иж), 1...</td>\n",
       "      <td>1</td>\n",
       "      <td>397.0</td>\n",
       "      <td>2019103114</td>\n",
       "    </tr>\n",
       "  </tbody>\n",
       "</table>\n",
       "<p>4873 rows × 6 columns</p>\n",
       "</div>"
      ],
      "text/plain": [
       "                               customer_id  order_id  \\\n",
       "0     ee47d746-6d2f-4d3c-9622-c31412542920     68477   \n",
       "1     ee47d746-6d2f-4d3c-9622-c31412542920     68477   \n",
       "2     ee47d746-6d2f-4d3c-9622-c31412542920     68477   \n",
       "3     ee47d746-6d2f-4d3c-9622-c31412542920     68477   \n",
       "4     ee47d746-6d2f-4d3c-9622-c31412542920     68477   \n",
       "...                                    ...       ...   \n",
       "6731  f17ed857-178e-45e1-a662-0a9dd3b58c5f     73155   \n",
       "6732  73d1cd35-5e5f-4629-8cf2-3fda829d4e58     73156   \n",
       "6733  1f0a7f35-7459-4f23-b468-5e45bf481dd1     73158   \n",
       "6734  25df96a7-c453-4708-9cea-a3dfc7c342ea     73162   \n",
       "6735  73d1cd35-5e5f-4629-8cf2-3fda829d4e58     73164   \n",
       "\n",
       "                                                product  quantity   price  \\\n",
       "0       Комнатное растение в горшке Алое Вера, d12, h30         1   142.0   \n",
       "1     Комнатное растение в горшке Кофе Арабика, d12,...         1   194.0   \n",
       "2                           Радермахера d-12 см h-20 см         1   112.0   \n",
       "3                      Хризолидокарпус Лутесценс d-9 см         1   179.0   \n",
       "4                        Циперус Зумула d-12 см h-25 см         1   112.0   \n",
       "...                                                 ...       ...     ...   \n",
       "6731                            Мимоза стыдливая d-9 см         1   329.0   \n",
       "6732  Таз пластмассовый 40,0 л пищевой овальный (Иж)...         1   404.0   \n",
       "6733         Сумка-тележка 2-х колесная Gimi Argo синяя         1  1087.0   \n",
       "6734  Герань домашняя (пеларгония зональная) цветуща...         1   157.0   \n",
       "6735  Таз пластмассовый со стиральной доской (Иж), 1...         1   397.0   \n",
       "\n",
       "            date  \n",
       "0     2018100100  \n",
       "1     2018100100  \n",
       "2     2018100100  \n",
       "3     2018100100  \n",
       "4     2018100100  \n",
       "...          ...  \n",
       "6731  2019103111  \n",
       "6732  2019103111  \n",
       "6733  2019103112  \n",
       "6734  2019103113  \n",
       "6735  2019103114  \n",
       "\n",
       "[4873 rows x 6 columns]"
      ]
     },
     "execution_count": 9,
     "metadata": {},
     "output_type": "execute_result"
    }
   ],
   "source": [
    "#уберем лишние столбцы и вернем привычные названия\n",
    "dt_new = dt.drop(['customer_id_y', 'order_id_y', 'product_y', 'quantity_y', 'price_y'], axis=1)\n",
    "dt_new.rename(columns={'customer_id_x': 'customer_id', 'order_id_x': 'order_id', 'product_x': 'product', 'quantity_x': 'quantity', 'price_x': 'price'}, inplace = True)\n",
    "dt_new"
   ]
  },
  {
   "cell_type": "code",
   "execution_count": 10,
   "metadata": {},
   "outputs": [],
   "source": [
    "#в столбце product оставим первые два слова, чтобы убрать неявные дубликаты\n",
    "\n",
    "dt_new['product'] = dt_new['product'].str.split().str[0:2]\n"
   ]
  },
  {
   "cell_type": "code",
   "execution_count": 11,
   "metadata": {},
   "outputs": [
    {
     "data": {
      "text/html": [
       "<div>\n",
       "<style scoped>\n",
       "    .dataframe tbody tr th:only-of-type {\n",
       "        vertical-align: middle;\n",
       "    }\n",
       "\n",
       "    .dataframe tbody tr th {\n",
       "        vertical-align: top;\n",
       "    }\n",
       "\n",
       "    .dataframe thead th {\n",
       "        text-align: right;\n",
       "    }\n",
       "</style>\n",
       "<table border=\"1\" class=\"dataframe\">\n",
       "  <thead>\n",
       "    <tr style=\"text-align: right;\">\n",
       "      <th></th>\n",
       "      <th>customer_id</th>\n",
       "      <th>order_id</th>\n",
       "      <th>product</th>\n",
       "      <th>quantity</th>\n",
       "      <th>price</th>\n",
       "      <th>date</th>\n",
       "    </tr>\n",
       "  </thead>\n",
       "  <tbody>\n",
       "    <tr>\n",
       "      <th>0</th>\n",
       "      <td>ee47d746-6d2f-4d3c-9622-c31412542920</td>\n",
       "      <td>68477</td>\n",
       "      <td>[Комнатное, растение]</td>\n",
       "      <td>1</td>\n",
       "      <td>142.0</td>\n",
       "      <td>2018100100</td>\n",
       "    </tr>\n",
       "    <tr>\n",
       "      <th>1</th>\n",
       "      <td>ee47d746-6d2f-4d3c-9622-c31412542920</td>\n",
       "      <td>68477</td>\n",
       "      <td>[Комнатное, растение]</td>\n",
       "      <td>1</td>\n",
       "      <td>194.0</td>\n",
       "      <td>2018100100</td>\n",
       "    </tr>\n",
       "    <tr>\n",
       "      <th>2</th>\n",
       "      <td>ee47d746-6d2f-4d3c-9622-c31412542920</td>\n",
       "      <td>68477</td>\n",
       "      <td>[Радермахера, d-12]</td>\n",
       "      <td>1</td>\n",
       "      <td>112.0</td>\n",
       "      <td>2018100100</td>\n",
       "    </tr>\n",
       "    <tr>\n",
       "      <th>3</th>\n",
       "      <td>ee47d746-6d2f-4d3c-9622-c31412542920</td>\n",
       "      <td>68477</td>\n",
       "      <td>[Хризолидокарпус, Лутесценс]</td>\n",
       "      <td>1</td>\n",
       "      <td>179.0</td>\n",
       "      <td>2018100100</td>\n",
       "    </tr>\n",
       "    <tr>\n",
       "      <th>4</th>\n",
       "      <td>ee47d746-6d2f-4d3c-9622-c31412542920</td>\n",
       "      <td>68477</td>\n",
       "      <td>[Циперус, Зумула]</td>\n",
       "      <td>1</td>\n",
       "      <td>112.0</td>\n",
       "      <td>2018100100</td>\n",
       "    </tr>\n",
       "    <tr>\n",
       "      <th>...</th>\n",
       "      <td>...</td>\n",
       "      <td>...</td>\n",
       "      <td>...</td>\n",
       "      <td>...</td>\n",
       "      <td>...</td>\n",
       "      <td>...</td>\n",
       "    </tr>\n",
       "    <tr>\n",
       "      <th>6731</th>\n",
       "      <td>f17ed857-178e-45e1-a662-0a9dd3b58c5f</td>\n",
       "      <td>73155</td>\n",
       "      <td>[Мимоза, стыдливая]</td>\n",
       "      <td>1</td>\n",
       "      <td>329.0</td>\n",
       "      <td>2019103111</td>\n",
       "    </tr>\n",
       "    <tr>\n",
       "      <th>6732</th>\n",
       "      <td>73d1cd35-5e5f-4629-8cf2-3fda829d4e58</td>\n",
       "      <td>73156</td>\n",
       "      <td>[Таз, пластмассовый]</td>\n",
       "      <td>1</td>\n",
       "      <td>404.0</td>\n",
       "      <td>2019103111</td>\n",
       "    </tr>\n",
       "    <tr>\n",
       "      <th>6733</th>\n",
       "      <td>1f0a7f35-7459-4f23-b468-5e45bf481dd1</td>\n",
       "      <td>73158</td>\n",
       "      <td>[Сумка-тележка, 2-х]</td>\n",
       "      <td>1</td>\n",
       "      <td>1087.0</td>\n",
       "      <td>2019103112</td>\n",
       "    </tr>\n",
       "    <tr>\n",
       "      <th>6734</th>\n",
       "      <td>25df96a7-c453-4708-9cea-a3dfc7c342ea</td>\n",
       "      <td>73162</td>\n",
       "      <td>[Герань, домашняя]</td>\n",
       "      <td>1</td>\n",
       "      <td>157.0</td>\n",
       "      <td>2019103113</td>\n",
       "    </tr>\n",
       "    <tr>\n",
       "      <th>6735</th>\n",
       "      <td>73d1cd35-5e5f-4629-8cf2-3fda829d4e58</td>\n",
       "      <td>73164</td>\n",
       "      <td>[Таз, пластмассовый]</td>\n",
       "      <td>1</td>\n",
       "      <td>397.0</td>\n",
       "      <td>2019103114</td>\n",
       "    </tr>\n",
       "  </tbody>\n",
       "</table>\n",
       "<p>4873 rows × 6 columns</p>\n",
       "</div>"
      ],
      "text/plain": [
       "                               customer_id  order_id  \\\n",
       "0     ee47d746-6d2f-4d3c-9622-c31412542920     68477   \n",
       "1     ee47d746-6d2f-4d3c-9622-c31412542920     68477   \n",
       "2     ee47d746-6d2f-4d3c-9622-c31412542920     68477   \n",
       "3     ee47d746-6d2f-4d3c-9622-c31412542920     68477   \n",
       "4     ee47d746-6d2f-4d3c-9622-c31412542920     68477   \n",
       "...                                    ...       ...   \n",
       "6731  f17ed857-178e-45e1-a662-0a9dd3b58c5f     73155   \n",
       "6732  73d1cd35-5e5f-4629-8cf2-3fda829d4e58     73156   \n",
       "6733  1f0a7f35-7459-4f23-b468-5e45bf481dd1     73158   \n",
       "6734  25df96a7-c453-4708-9cea-a3dfc7c342ea     73162   \n",
       "6735  73d1cd35-5e5f-4629-8cf2-3fda829d4e58     73164   \n",
       "\n",
       "                           product  quantity   price        date  \n",
       "0            [Комнатное, растение]         1   142.0  2018100100  \n",
       "1            [Комнатное, растение]         1   194.0  2018100100  \n",
       "2              [Радермахера, d-12]         1   112.0  2018100100  \n",
       "3     [Хризолидокарпус, Лутесценс]         1   179.0  2018100100  \n",
       "4                [Циперус, Зумула]         1   112.0  2018100100  \n",
       "...                            ...       ...     ...         ...  \n",
       "6731           [Мимоза, стыдливая]         1   329.0  2019103111  \n",
       "6732          [Таз, пластмассовый]         1   404.0  2019103111  \n",
       "6733          [Сумка-тележка, 2-х]         1  1087.0  2019103112  \n",
       "6734            [Герань, домашняя]         1   157.0  2019103113  \n",
       "6735          [Таз, пластмассовый]         1   397.0  2019103114  \n",
       "\n",
       "[4873 rows x 6 columns]"
      ]
     },
     "execution_count": 11,
     "metadata": {},
     "output_type": "execute_result"
    }
   ],
   "source": [
    "dt_new"
   ]
  },
  {
   "cell_type": "markdown",
   "metadata": {},
   "source": [
    "Также дополнительно выведем столбец с категорией товара"
   ]
  },
  {
   "cell_type": "markdown",
   "metadata": {},
   "source": [
    "При объединении таблиц произошла ошибка и увеличилось количество строк.\n",
    "\n",
    "\n",
    "Так быть не должно, причину я не нашла.\n",
    "\n",
    "Загружаем новую таблицу с проставленными категориями"
   ]
  },
  {
   "cell_type": "markdown",
   "metadata": {},
   "source": [
    "<div class=\"alert alert-warning\">\n",
    "<b>🤔 Рекомендация:</b> 'product' не является уникальным стоблцом ни в одном датасете, поэтому на каждую строчку в левом датасете были присоединены все строки с таким же значением в правом\n",
    "</div>"
   ]
  },
  {
   "cell_type": "code",
   "execution_count": 12,
   "metadata": {},
   "outputs": [
    {
     "data": {
      "text/html": [
       "<div>\n",
       "<style scoped>\n",
       "    .dataframe tbody tr th:only-of-type {\n",
       "        vertical-align: middle;\n",
       "    }\n",
       "\n",
       "    .dataframe tbody tr th {\n",
       "        vertical-align: top;\n",
       "    }\n",
       "\n",
       "    .dataframe thead th {\n",
       "        text-align: right;\n",
       "    }\n",
       "</style>\n",
       "<table border=\"1\" class=\"dataframe\">\n",
       "  <thead>\n",
       "    <tr style=\"text-align: right;\">\n",
       "      <th></th>\n",
       "      <th>date</th>\n",
       "      <th>year</th>\n",
       "      <th>month</th>\n",
       "      <th>day</th>\n",
       "      <th>date_new</th>\n",
       "      <th>hours</th>\n",
       "      <th>customer_id</th>\n",
       "      <th>order_id</th>\n",
       "      <th>product</th>\n",
       "      <th>quantity</th>\n",
       "      <th>price</th>\n",
       "      <th>category</th>\n",
       "    </tr>\n",
       "  </thead>\n",
       "  <tbody>\n",
       "    <tr>\n",
       "      <th>0</th>\n",
       "      <td>2018100100</td>\n",
       "      <td>2018</td>\n",
       "      <td>10</td>\n",
       "      <td>1</td>\n",
       "      <td>2018-10-01</td>\n",
       "      <td>0</td>\n",
       "      <td>ee47d746-6d2f-4d3c-9622-c31412542920</td>\n",
       "      <td>68477</td>\n",
       "      <td>Комнатное растение</td>\n",
       "      <td>1</td>\n",
       "      <td>142.0</td>\n",
       "      <td>Цветы и растения</td>\n",
       "    </tr>\n",
       "    <tr>\n",
       "      <th>1</th>\n",
       "      <td>2018100100</td>\n",
       "      <td>2018</td>\n",
       "      <td>10</td>\n",
       "      <td>1</td>\n",
       "      <td>2018-10-01</td>\n",
       "      <td>0</td>\n",
       "      <td>ee47d746-6d2f-4d3c-9622-c31412542920</td>\n",
       "      <td>68477</td>\n",
       "      <td>Комнатное растение</td>\n",
       "      <td>1</td>\n",
       "      <td>194.0</td>\n",
       "      <td>Цветы и растения</td>\n",
       "    </tr>\n",
       "    <tr>\n",
       "      <th>2</th>\n",
       "      <td>2018100100</td>\n",
       "      <td>2018</td>\n",
       "      <td>10</td>\n",
       "      <td>1</td>\n",
       "      <td>2018-10-01</td>\n",
       "      <td>0</td>\n",
       "      <td>ee47d746-6d2f-4d3c-9622-c31412542920</td>\n",
       "      <td>68477</td>\n",
       "      <td>Радермахера d-12</td>\n",
       "      <td>1</td>\n",
       "      <td>112.0</td>\n",
       "      <td>Цветы и растения</td>\n",
       "    </tr>\n",
       "    <tr>\n",
       "      <th>3</th>\n",
       "      <td>2018100100</td>\n",
       "      <td>2018</td>\n",
       "      <td>10</td>\n",
       "      <td>1</td>\n",
       "      <td>2018-10-01</td>\n",
       "      <td>0</td>\n",
       "      <td>ee47d746-6d2f-4d3c-9622-c31412542920</td>\n",
       "      <td>68477</td>\n",
       "      <td>Хризолидокарпус Лутесценс</td>\n",
       "      <td>1</td>\n",
       "      <td>179.0</td>\n",
       "      <td>Цветы и растения</td>\n",
       "    </tr>\n",
       "    <tr>\n",
       "      <th>4</th>\n",
       "      <td>2018100100</td>\n",
       "      <td>2018</td>\n",
       "      <td>10</td>\n",
       "      <td>1</td>\n",
       "      <td>2018-10-01</td>\n",
       "      <td>0</td>\n",
       "      <td>ee47d746-6d2f-4d3c-9622-c31412542920</td>\n",
       "      <td>68477</td>\n",
       "      <td>Циперус Зумула</td>\n",
       "      <td>1</td>\n",
       "      <td>112.0</td>\n",
       "      <td>Цветы и растения</td>\n",
       "    </tr>\n",
       "    <tr>\n",
       "      <th>...</th>\n",
       "      <td>...</td>\n",
       "      <td>...</td>\n",
       "      <td>...</td>\n",
       "      <td>...</td>\n",
       "      <td>...</td>\n",
       "      <td>...</td>\n",
       "      <td>...</td>\n",
       "      <td>...</td>\n",
       "      <td>...</td>\n",
       "      <td>...</td>\n",
       "      <td>...</td>\n",
       "      <td>...</td>\n",
       "    </tr>\n",
       "    <tr>\n",
       "      <th>4868</th>\n",
       "      <td>2019103111</td>\n",
       "      <td>2019</td>\n",
       "      <td>10</td>\n",
       "      <td>31</td>\n",
       "      <td>2019-10-31</td>\n",
       "      <td>11</td>\n",
       "      <td>f17ed857-178e-45e1-a662-0a9dd3b58c5f</td>\n",
       "      <td>73155</td>\n",
       "      <td>Мимоза стыдливая</td>\n",
       "      <td>1</td>\n",
       "      <td>329.0</td>\n",
       "      <td>Цветы и растения</td>\n",
       "    </tr>\n",
       "    <tr>\n",
       "      <th>4869</th>\n",
       "      <td>2019103111</td>\n",
       "      <td>2019</td>\n",
       "      <td>10</td>\n",
       "      <td>31</td>\n",
       "      <td>2019-10-31</td>\n",
       "      <td>11</td>\n",
       "      <td>73d1cd35-5e5f-4629-8cf2-3fda829d4e58</td>\n",
       "      <td>73156</td>\n",
       "      <td>Таз пластмассовый</td>\n",
       "      <td>1</td>\n",
       "      <td>404.0</td>\n",
       "      <td>Хозяйственные товары</td>\n",
       "    </tr>\n",
       "    <tr>\n",
       "      <th>4870</th>\n",
       "      <td>2019103112</td>\n",
       "      <td>2019</td>\n",
       "      <td>10</td>\n",
       "      <td>31</td>\n",
       "      <td>2019-10-31</td>\n",
       "      <td>12</td>\n",
       "      <td>1f0a7f35-7459-4f23-b468-5e45bf481dd1</td>\n",
       "      <td>73158</td>\n",
       "      <td>Сумка-тележка 2-х</td>\n",
       "      <td>1</td>\n",
       "      <td>1087.0</td>\n",
       "      <td>Хозяйственные товары</td>\n",
       "    </tr>\n",
       "    <tr>\n",
       "      <th>4871</th>\n",
       "      <td>2019103113</td>\n",
       "      <td>2019</td>\n",
       "      <td>10</td>\n",
       "      <td>31</td>\n",
       "      <td>2019-10-31</td>\n",
       "      <td>13</td>\n",
       "      <td>25df96a7-c453-4708-9cea-a3dfc7c342ea</td>\n",
       "      <td>73162</td>\n",
       "      <td>Герань домашняя</td>\n",
       "      <td>1</td>\n",
       "      <td>157.0</td>\n",
       "      <td>Цветы и растения</td>\n",
       "    </tr>\n",
       "    <tr>\n",
       "      <th>4872</th>\n",
       "      <td>2019103114</td>\n",
       "      <td>2019</td>\n",
       "      <td>10</td>\n",
       "      <td>31</td>\n",
       "      <td>2019-10-31</td>\n",
       "      <td>14</td>\n",
       "      <td>73d1cd35-5e5f-4629-8cf2-3fda829d4e58</td>\n",
       "      <td>73164</td>\n",
       "      <td>Таз пластмассовый</td>\n",
       "      <td>1</td>\n",
       "      <td>397.0</td>\n",
       "      <td>Хозяйственные товары</td>\n",
       "    </tr>\n",
       "  </tbody>\n",
       "</table>\n",
       "<p>4873 rows × 12 columns</p>\n",
       "</div>"
      ],
      "text/plain": [
       "            date  year  month  day    date_new  hours  \\\n",
       "0     2018100100  2018     10    1  2018-10-01      0   \n",
       "1     2018100100  2018     10    1  2018-10-01      0   \n",
       "2     2018100100  2018     10    1  2018-10-01      0   \n",
       "3     2018100100  2018     10    1  2018-10-01      0   \n",
       "4     2018100100  2018     10    1  2018-10-01      0   \n",
       "...          ...   ...    ...  ...         ...    ...   \n",
       "4868  2019103111  2019     10   31  2019-10-31     11   \n",
       "4869  2019103111  2019     10   31  2019-10-31     11   \n",
       "4870  2019103112  2019     10   31  2019-10-31     12   \n",
       "4871  2019103113  2019     10   31  2019-10-31     13   \n",
       "4872  2019103114  2019     10   31  2019-10-31     14   \n",
       "\n",
       "                               customer_id  order_id  \\\n",
       "0     ee47d746-6d2f-4d3c-9622-c31412542920     68477   \n",
       "1     ee47d746-6d2f-4d3c-9622-c31412542920     68477   \n",
       "2     ee47d746-6d2f-4d3c-9622-c31412542920     68477   \n",
       "3     ee47d746-6d2f-4d3c-9622-c31412542920     68477   \n",
       "4     ee47d746-6d2f-4d3c-9622-c31412542920     68477   \n",
       "...                                    ...       ...   \n",
       "4868  f17ed857-178e-45e1-a662-0a9dd3b58c5f     73155   \n",
       "4869  73d1cd35-5e5f-4629-8cf2-3fda829d4e58     73156   \n",
       "4870  1f0a7f35-7459-4f23-b468-5e45bf481dd1     73158   \n",
       "4871  25df96a7-c453-4708-9cea-a3dfc7c342ea     73162   \n",
       "4872  73d1cd35-5e5f-4629-8cf2-3fda829d4e58     73164   \n",
       "\n",
       "                        product  quantity   price              category  \n",
       "0            Комнатное растение         1   142.0      Цветы и растения  \n",
       "1            Комнатное растение         1   194.0      Цветы и растения  \n",
       "2              Радермахера d-12         1   112.0      Цветы и растения  \n",
       "3     Хризолидокарпус Лутесценс         1   179.0      Цветы и растения  \n",
       "4                Циперус Зумула         1   112.0      Цветы и растения  \n",
       "...                         ...       ...     ...                   ...  \n",
       "4868           Мимоза стыдливая         1   329.0      Цветы и растения  \n",
       "4869          Таз пластмассовый         1   404.0  Хозяйственные товары  \n",
       "4870          Сумка-тележка 2-х         1  1087.0  Хозяйственные товары  \n",
       "4871            Герань домашняя         1   157.0      Цветы и растения  \n",
       "4872          Таз пластмассовый         1   397.0  Хозяйственные товары  \n",
       "\n",
       "[4873 rows x 12 columns]"
      ]
     },
     "execution_count": 12,
     "metadata": {},
     "output_type": "execute_result"
    }
   ],
   "source": [
    "sht_id = '18R5tk1IQtDAFX2-X2zDIQfkCmz7dngrFGwwvg1wcyy4'\n",
    "file1 = 'https://docs.google.com/spreadsheets/d/{}/export?format=csv'.format(sht_id)\n",
    "r = requests.get(file1)\n",
    "df_new = pd.read_csv(BytesIO(r.content))\n",
    "df_new"
   ]
  },
  {
   "cell_type": "code",
   "execution_count": 13,
   "metadata": {},
   "outputs": [
    {
     "data": {
      "text/plain": [
       "Пеларгония зональная           375\n",
       "Сушилка для                    272\n",
       "Пеларгония розебудная          249\n",
       "Рассада зелени                 220\n",
       "томата (помидор)               142\n",
       "Гладильная доска               117\n",
       "Сумка-тележка хозяйственная    114\n",
       "Герань домашняя                110\n",
       "Сумка-тележка 2-х               93\n",
       "Тележка багажная                85\n",
       "Чехол для                       80\n",
       "Таз пластмассовый               67\n",
       "Однолетнее растение             67\n",
       "Штора для                       64\n",
       "Рассада Капусты                 57\n",
       "Искусственный цветок            52\n",
       "Коврик придверный               44\n",
       "Рассада Арбуза                  40\n",
       "Роза садовая                    39\n",
       "Пеларгония Toscana              37\n",
       "Бакопа ампельная                36\n",
       "Цветок искусственный            35\n",
       "Петуния махровая                35\n",
       "Рассада Кабачка                 30\n",
       "Рассада Огурца                  27\n",
       "Корзина для                     26\n",
       "Рассада Дыни                    22\n",
       "Полки QWERTY                    21\n",
       "Подвесное кашпо                 21\n",
       "Петуния Surfinia                21\n",
       "Name: product, dtype: int64"
      ]
     },
     "execution_count": 13,
     "metadata": {},
     "output_type": "execute_result"
    }
   ],
   "source": [
    "#посмотрим, сколько раз встречается каждый продукт\n",
    "\n",
    "df_new['product'].value_counts().head(30)"
   ]
  },
  {
   "cell_type": "markdown",
   "metadata": {},
   "source": [
    "Видно, что есть товары, которые все равно относятся к одному виду, но записаны по разному : рассада, пеларгония и т.д.\n",
    "\n",
    "Заменим такие значения на единые"
   ]
  },
  {
   "cell_type": "code",
   "execution_count": 14,
   "metadata": {},
   "outputs": [],
   "source": [
    "df_new['product'] = df_new['product'].replace(['Рассада Кабачка', 'Рассада зелени', 'Рассада Огурец', 'Рассада Патиссона', 'Рассада Огурца', 'Рассада Капусты', 'Рассада Арбуза', 'Рассада Дыни', 'Рассада томата', 'Рассада пряной'], 'Рассада')\n",
    "df_new['product'] = df_new['product'].replace(['Пеларгония зональная', 'Пеларгония розебудная', 'Пеларгония Toscana'], 'Пеларгония')\n",
    "df_new['product'] = df_new['product'].replace('Сушилка для', 'Сушилка')\n",
    "df_new['product'] = df_new['product'].replace(['Сумка-тележка 2-х', 'Сумка-тележка хозяйственная'], 'Сумка-тележка')\n",
    "df_new['product'] = df_new['product'].replace('томата (помидор)', 'Томат')"
   ]
  },
  {
   "cell_type": "code",
   "execution_count": 15,
   "metadata": {},
   "outputs": [
    {
     "data": {
      "text/plain": [
       "Пеларгония              661\n",
       "Рассада                 445\n",
       "Сушилка                 272\n",
       "Сумка-тележка           207\n",
       "Томат                   142\n",
       "Гладильная доска        117\n",
       "Герань домашняя         110\n",
       "Тележка багажная         85\n",
       "Чехол для                80\n",
       "Таз пластмассовый        67\n",
       "Однолетнее растение      67\n",
       "Штора для                64\n",
       "Искусственный цветок     52\n",
       "Коврик придверный        44\n",
       "Роза садовая             39\n",
       "Бакопа ампельная         36\n",
       "Петуния махровая         35\n",
       "Цветок искусственный     35\n",
       "Корзина для              26\n",
       "Петуния Surfinia         21\n",
       "Подвесное кашпо          21\n",
       "Полки QWERTY             21\n",
       "Рассада Тыквы            16\n",
       "Калибрахоа Aloha         16\n",
       "Декабрист в              16\n",
       "Салатник Luminarc        16\n",
       "Тарелка обеденная        15\n",
       "Петуния простая          15\n",
       "Тарелка десертная        14\n",
       "Мята перечная            14\n",
       "Name: product, dtype: int64"
      ]
     },
     "execution_count": 15,
     "metadata": {},
     "output_type": "execute_result"
    }
   ],
   "source": [
    "df_new['product'].value_counts().head(30)"
   ]
  },
  {
   "cell_type": "markdown",
   "metadata": {},
   "source": [
    "Создадим дополнительный столбец с суммой затрат. Чтобы по тем товарам, где кол-во больше 1, была видна общая стоимость за весь объем."
   ]
  },
  {
   "cell_type": "code",
   "execution_count": 16,
   "metadata": {},
   "outputs": [],
   "source": [
    "df_new['total'] = df_new['quantity'] * df_new['price']"
   ]
  },
  {
   "cell_type": "code",
   "execution_count": 17,
   "metadata": {},
   "outputs": [
    {
     "data": {
      "text/html": [
       "<div>\n",
       "<style scoped>\n",
       "    .dataframe tbody tr th:only-of-type {\n",
       "        vertical-align: middle;\n",
       "    }\n",
       "\n",
       "    .dataframe tbody tr th {\n",
       "        vertical-align: top;\n",
       "    }\n",
       "\n",
       "    .dataframe thead th {\n",
       "        text-align: right;\n",
       "    }\n",
       "</style>\n",
       "<table border=\"1\" class=\"dataframe\">\n",
       "  <thead>\n",
       "    <tr style=\"text-align: right;\">\n",
       "      <th></th>\n",
       "      <th>date</th>\n",
       "      <th>year</th>\n",
       "      <th>month</th>\n",
       "      <th>day</th>\n",
       "      <th>date_new</th>\n",
       "      <th>hours</th>\n",
       "      <th>customer_id</th>\n",
       "      <th>order_id</th>\n",
       "      <th>product</th>\n",
       "      <th>quantity</th>\n",
       "      <th>price</th>\n",
       "      <th>category</th>\n",
       "      <th>total</th>\n",
       "    </tr>\n",
       "  </thead>\n",
       "  <tbody>\n",
       "    <tr>\n",
       "      <th>0</th>\n",
       "      <td>2018100100</td>\n",
       "      <td>2018</td>\n",
       "      <td>10</td>\n",
       "      <td>1</td>\n",
       "      <td>2018-10-01</td>\n",
       "      <td>0</td>\n",
       "      <td>ee47d746-6d2f-4d3c-9622-c31412542920</td>\n",
       "      <td>68477</td>\n",
       "      <td>Комнатное растение</td>\n",
       "      <td>1</td>\n",
       "      <td>142.0</td>\n",
       "      <td>Цветы и растения</td>\n",
       "      <td>142.0</td>\n",
       "    </tr>\n",
       "    <tr>\n",
       "      <th>1</th>\n",
       "      <td>2018100100</td>\n",
       "      <td>2018</td>\n",
       "      <td>10</td>\n",
       "      <td>1</td>\n",
       "      <td>2018-10-01</td>\n",
       "      <td>0</td>\n",
       "      <td>ee47d746-6d2f-4d3c-9622-c31412542920</td>\n",
       "      <td>68477</td>\n",
       "      <td>Комнатное растение</td>\n",
       "      <td>1</td>\n",
       "      <td>194.0</td>\n",
       "      <td>Цветы и растения</td>\n",
       "      <td>194.0</td>\n",
       "    </tr>\n",
       "    <tr>\n",
       "      <th>2</th>\n",
       "      <td>2018100100</td>\n",
       "      <td>2018</td>\n",
       "      <td>10</td>\n",
       "      <td>1</td>\n",
       "      <td>2018-10-01</td>\n",
       "      <td>0</td>\n",
       "      <td>ee47d746-6d2f-4d3c-9622-c31412542920</td>\n",
       "      <td>68477</td>\n",
       "      <td>Радермахера d-12</td>\n",
       "      <td>1</td>\n",
       "      <td>112.0</td>\n",
       "      <td>Цветы и растения</td>\n",
       "      <td>112.0</td>\n",
       "    </tr>\n",
       "    <tr>\n",
       "      <th>3</th>\n",
       "      <td>2018100100</td>\n",
       "      <td>2018</td>\n",
       "      <td>10</td>\n",
       "      <td>1</td>\n",
       "      <td>2018-10-01</td>\n",
       "      <td>0</td>\n",
       "      <td>ee47d746-6d2f-4d3c-9622-c31412542920</td>\n",
       "      <td>68477</td>\n",
       "      <td>Хризолидокарпус Лутесценс</td>\n",
       "      <td>1</td>\n",
       "      <td>179.0</td>\n",
       "      <td>Цветы и растения</td>\n",
       "      <td>179.0</td>\n",
       "    </tr>\n",
       "    <tr>\n",
       "      <th>4</th>\n",
       "      <td>2018100100</td>\n",
       "      <td>2018</td>\n",
       "      <td>10</td>\n",
       "      <td>1</td>\n",
       "      <td>2018-10-01</td>\n",
       "      <td>0</td>\n",
       "      <td>ee47d746-6d2f-4d3c-9622-c31412542920</td>\n",
       "      <td>68477</td>\n",
       "      <td>Циперус Зумула</td>\n",
       "      <td>1</td>\n",
       "      <td>112.0</td>\n",
       "      <td>Цветы и растения</td>\n",
       "      <td>112.0</td>\n",
       "    </tr>\n",
       "    <tr>\n",
       "      <th>...</th>\n",
       "      <td>...</td>\n",
       "      <td>...</td>\n",
       "      <td>...</td>\n",
       "      <td>...</td>\n",
       "      <td>...</td>\n",
       "      <td>...</td>\n",
       "      <td>...</td>\n",
       "      <td>...</td>\n",
       "      <td>...</td>\n",
       "      <td>...</td>\n",
       "      <td>...</td>\n",
       "      <td>...</td>\n",
       "      <td>...</td>\n",
       "    </tr>\n",
       "    <tr>\n",
       "      <th>4868</th>\n",
       "      <td>2019103111</td>\n",
       "      <td>2019</td>\n",
       "      <td>10</td>\n",
       "      <td>31</td>\n",
       "      <td>2019-10-31</td>\n",
       "      <td>11</td>\n",
       "      <td>f17ed857-178e-45e1-a662-0a9dd3b58c5f</td>\n",
       "      <td>73155</td>\n",
       "      <td>Мимоза стыдливая</td>\n",
       "      <td>1</td>\n",
       "      <td>329.0</td>\n",
       "      <td>Цветы и растения</td>\n",
       "      <td>329.0</td>\n",
       "    </tr>\n",
       "    <tr>\n",
       "      <th>4869</th>\n",
       "      <td>2019103111</td>\n",
       "      <td>2019</td>\n",
       "      <td>10</td>\n",
       "      <td>31</td>\n",
       "      <td>2019-10-31</td>\n",
       "      <td>11</td>\n",
       "      <td>73d1cd35-5e5f-4629-8cf2-3fda829d4e58</td>\n",
       "      <td>73156</td>\n",
       "      <td>Таз пластмассовый</td>\n",
       "      <td>1</td>\n",
       "      <td>404.0</td>\n",
       "      <td>Хозяйственные товары</td>\n",
       "      <td>404.0</td>\n",
       "    </tr>\n",
       "    <tr>\n",
       "      <th>4870</th>\n",
       "      <td>2019103112</td>\n",
       "      <td>2019</td>\n",
       "      <td>10</td>\n",
       "      <td>31</td>\n",
       "      <td>2019-10-31</td>\n",
       "      <td>12</td>\n",
       "      <td>1f0a7f35-7459-4f23-b468-5e45bf481dd1</td>\n",
       "      <td>73158</td>\n",
       "      <td>Сумка-тележка</td>\n",
       "      <td>1</td>\n",
       "      <td>1087.0</td>\n",
       "      <td>Хозяйственные товары</td>\n",
       "      <td>1087.0</td>\n",
       "    </tr>\n",
       "    <tr>\n",
       "      <th>4871</th>\n",
       "      <td>2019103113</td>\n",
       "      <td>2019</td>\n",
       "      <td>10</td>\n",
       "      <td>31</td>\n",
       "      <td>2019-10-31</td>\n",
       "      <td>13</td>\n",
       "      <td>25df96a7-c453-4708-9cea-a3dfc7c342ea</td>\n",
       "      <td>73162</td>\n",
       "      <td>Герань домашняя</td>\n",
       "      <td>1</td>\n",
       "      <td>157.0</td>\n",
       "      <td>Цветы и растения</td>\n",
       "      <td>157.0</td>\n",
       "    </tr>\n",
       "    <tr>\n",
       "      <th>4872</th>\n",
       "      <td>2019103114</td>\n",
       "      <td>2019</td>\n",
       "      <td>10</td>\n",
       "      <td>31</td>\n",
       "      <td>2019-10-31</td>\n",
       "      <td>14</td>\n",
       "      <td>73d1cd35-5e5f-4629-8cf2-3fda829d4e58</td>\n",
       "      <td>73164</td>\n",
       "      <td>Таз пластмассовый</td>\n",
       "      <td>1</td>\n",
       "      <td>397.0</td>\n",
       "      <td>Хозяйственные товары</td>\n",
       "      <td>397.0</td>\n",
       "    </tr>\n",
       "  </tbody>\n",
       "</table>\n",
       "<p>4873 rows × 13 columns</p>\n",
       "</div>"
      ],
      "text/plain": [
       "            date  year  month  day    date_new  hours  \\\n",
       "0     2018100100  2018     10    1  2018-10-01      0   \n",
       "1     2018100100  2018     10    1  2018-10-01      0   \n",
       "2     2018100100  2018     10    1  2018-10-01      0   \n",
       "3     2018100100  2018     10    1  2018-10-01      0   \n",
       "4     2018100100  2018     10    1  2018-10-01      0   \n",
       "...          ...   ...    ...  ...         ...    ...   \n",
       "4868  2019103111  2019     10   31  2019-10-31     11   \n",
       "4869  2019103111  2019     10   31  2019-10-31     11   \n",
       "4870  2019103112  2019     10   31  2019-10-31     12   \n",
       "4871  2019103113  2019     10   31  2019-10-31     13   \n",
       "4872  2019103114  2019     10   31  2019-10-31     14   \n",
       "\n",
       "                               customer_id  order_id  \\\n",
       "0     ee47d746-6d2f-4d3c-9622-c31412542920     68477   \n",
       "1     ee47d746-6d2f-4d3c-9622-c31412542920     68477   \n",
       "2     ee47d746-6d2f-4d3c-9622-c31412542920     68477   \n",
       "3     ee47d746-6d2f-4d3c-9622-c31412542920     68477   \n",
       "4     ee47d746-6d2f-4d3c-9622-c31412542920     68477   \n",
       "...                                    ...       ...   \n",
       "4868  f17ed857-178e-45e1-a662-0a9dd3b58c5f     73155   \n",
       "4869  73d1cd35-5e5f-4629-8cf2-3fda829d4e58     73156   \n",
       "4870  1f0a7f35-7459-4f23-b468-5e45bf481dd1     73158   \n",
       "4871  25df96a7-c453-4708-9cea-a3dfc7c342ea     73162   \n",
       "4872  73d1cd35-5e5f-4629-8cf2-3fda829d4e58     73164   \n",
       "\n",
       "                        product  quantity   price              category  \\\n",
       "0            Комнатное растение         1   142.0      Цветы и растения   \n",
       "1            Комнатное растение         1   194.0      Цветы и растения   \n",
       "2              Радермахера d-12         1   112.0      Цветы и растения   \n",
       "3     Хризолидокарпус Лутесценс         1   179.0      Цветы и растения   \n",
       "4                Циперус Зумула         1   112.0      Цветы и растения   \n",
       "...                         ...       ...     ...                   ...   \n",
       "4868           Мимоза стыдливая         1   329.0      Цветы и растения   \n",
       "4869          Таз пластмассовый         1   404.0  Хозяйственные товары   \n",
       "4870              Сумка-тележка         1  1087.0  Хозяйственные товары   \n",
       "4871            Герань домашняя         1   157.0      Цветы и растения   \n",
       "4872          Таз пластмассовый         1   397.0  Хозяйственные товары   \n",
       "\n",
       "       total  \n",
       "0      142.0  \n",
       "1      194.0  \n",
       "2      112.0  \n",
       "3      179.0  \n",
       "4      112.0  \n",
       "...      ...  \n",
       "4868   329.0  \n",
       "4869   404.0  \n",
       "4870  1087.0  \n",
       "4871   157.0  \n",
       "4872   397.0  \n",
       "\n",
       "[4873 rows x 13 columns]"
      ]
     },
     "execution_count": 17,
     "metadata": {},
     "output_type": "execute_result"
    }
   ],
   "source": [
    "df_new"
   ]
  },
  {
   "cell_type": "markdown",
   "metadata": {},
   "source": [
    "Было веделено 8 категорий товаров"
   ]
  },
  {
   "cell_type": "code",
   "execution_count": 18,
   "metadata": {},
   "outputs": [
    {
     "data": {
      "text/plain": [
       "array(['Цветы и растения', 'Хозяйственные товары', 'Хранение вещей',\n",
       "       'Посуда', 'Декор и интерьер', 'Текстиль', 'Строительство и ремонт',\n",
       "       'Техника'], dtype=object)"
      ]
     },
     "execution_count": 18,
     "metadata": {},
     "output_type": "execute_result"
    }
   ],
   "source": [
    "df_new['category'].unique()"
   ]
  },
  {
   "cell_type": "code",
   "execution_count": 19,
   "metadata": {},
   "outputs": [],
   "source": [
    "#перевели столбtw с датой и временем в корректный формат\n",
    "df_new['date_new'] = pd.to_datetime(df_new['date_new'])\n"
   ]
  },
  {
   "cell_type": "code",
   "execution_count": 20,
   "metadata": {},
   "outputs": [
    {
     "name": "stdout",
     "output_type": "stream",
     "text": [
      "<class 'pandas.core.frame.DataFrame'>\n",
      "RangeIndex: 4873 entries, 0 to 4872\n",
      "Data columns (total 13 columns):\n",
      " #   Column       Non-Null Count  Dtype         \n",
      "---  ------       --------------  -----         \n",
      " 0   date         4873 non-null   int64         \n",
      " 1   year         4873 non-null   int64         \n",
      " 2   month        4873 non-null   int64         \n",
      " 3   day          4873 non-null   int64         \n",
      " 4   date_new     4873 non-null   datetime64[ns]\n",
      " 5   hours        4873 non-null   int64         \n",
      " 6   customer_id  4873 non-null   object        \n",
      " 7   order_id     4873 non-null   int64         \n",
      " 8   product      4873 non-null   object        \n",
      " 9   quantity     4873 non-null   int64         \n",
      " 10  price        4873 non-null   float64       \n",
      " 11  category     4873 non-null   object        \n",
      " 12  total        4873 non-null   float64       \n",
      "dtypes: datetime64[ns](1), float64(2), int64(7), object(3)\n",
      "memory usage: 495.0+ KB\n"
     ]
    }
   ],
   "source": [
    "df_new.info()"
   ]
  },
  {
   "cell_type": "markdown",
   "metadata": {},
   "source": [
    "**Итог по разделу:**\n",
    "  - проверили явные дубликаты без учета столбца с датой: нашли 1864 дубликата (~28% от исходных данных) и удалили их \n",
    "  - заменили часто встречающиеся невяные дубликаты на единые значения, удалив лишние слова\n",
    "  - проставили категории товаров\n",
    "  - выделили в отдельнные столбцы год, месяц, день и час покупки\n",
    "  - посчитали сумму затрат по товарам\n",
    "  "
   ]
  },
  {
   "cell_type": "markdown",
   "metadata": {},
   "source": [
    "## Исследовательский анализ данных"
   ]
  },
  {
   "cell_type": "markdown",
   "metadata": {},
   "source": [
    "### Средний чек, выручка и количество товаров в каждой категории"
   ]
  },
  {
   "cell_type": "code",
   "execution_count": 21,
   "metadata": {},
   "outputs": [
    {
     "data": {
      "text/plain": [
       "category\n",
       "Техника                     27\n",
       "Текстиль                   270\n",
       "Строительство и ремонт     909\n",
       "Посуда                    1039\n",
       "Хранение вещей            1241\n",
       "Декор и интерьер          2659\n",
       "Хозяйственные товары      3721\n",
       "Цветы и растения          3961\n",
       "Name: quantity, dtype: int64"
      ]
     },
     "execution_count": 21,
     "metadata": {},
     "output_type": "execute_result"
    }
   ],
   "source": [
    "#группируем данные по категориям и считаем количество проданных товаров в каждой\n",
    "\n",
    "groups = df_new.groupby('category')['quantity'].sum().sort_values()\n",
    "groups"
   ]
  },
  {
   "cell_type": "code",
   "execution_count": 22,
   "metadata": {},
   "outputs": [
    {
     "data": {
      "image/png": "[encoded data removed]",
      "text/plain": [
       "<Figure size 720x504 with 1 Axes>"
      ]
     },
     "metadata": {
      "needs_background": "light"
     },
     "output_type": "display_data"
    }
   ],
   "source": [
    "#строим график\n",
    "plt.figure(figsize=(10,7))\n",
    "groups.plot(kind = 'barh')\n",
    "plt.title('Количество проданных товаров в каждой категории')\n",
    "plt.xlabel('Количество товаров')\n",
    "plt.ylabel('Категория')\n",
    "plt.show();"
   ]
  },
  {
   "cell_type": "markdown",
   "metadata": {},
   "source": [
    "Явный лидер среди всех категорий - это цветы и растения.\n",
    "\n",
    "Посмотрим на средний чек."
   ]
  },
  {
   "cell_type": "code",
   "execution_count": 23,
   "metadata": {},
   "outputs": [
    {
     "data": {
      "text/plain": [
       "category\n",
       "Цветы и растения           210.391218\n",
       "Декор и интерьер           739.763441\n",
       "Посуда                     812.042857\n",
       "Техника                   1018.518519\n",
       "Хранение вещей            1302.597285\n",
       "Строительство и ремонт    1648.488889\n",
       "Хозяйственные товары      1941.145469\n",
       "Текстиль                  2082.701031\n",
       "Name: total, dtype: float64"
      ]
     },
     "execution_count": 23,
     "metadata": {},
     "output_type": "execute_result"
    }
   ],
   "source": [
    "#группируем данные по категориям и считаем средний чек\n",
    "\n",
    "chek = df_new.groupby('category')['total'].mean().sort_values()\n",
    "chek"
   ]
  },
  {
   "cell_type": "code",
   "execution_count": 24,
   "metadata": {},
   "outputs": [
    {
     "data": {
      "image/png": "[encoded data removed]",
      "text/plain": [
       "<Figure size 720x504 with 1 Axes>"
      ]
     },
     "metadata": {
      "needs_background": "light"
     },
     "output_type": "display_data"
    }
   ],
   "source": [
    "#строим график\n",
    "plt.figure(figsize=(10,7))\n",
    "chek.plot(kind = 'barh')\n",
    "plt.title('Средний чек в каждой категории')\n",
    "plt.xlabel('Средний чек')\n",
    "plt.ylabel('Категория')\n",
    "plt.show();"
   ]
  },
  {
   "cell_type": "markdown",
   "metadata": {},
   "source": [
    "Средний чек оказался большим в дргуих категориях:\n",
    "  - текстиль 2000 руб\n",
    "  - хоз товары 1800 руб\n",
    "  - строительство и ремонт 1770 руб"
   ]
  },
  {
   "cell_type": "markdown",
   "metadata": {},
   "source": [
    "Посмотрим дополнительно выручку по каждой категории\n"
   ]
  },
  {
   "cell_type": "code",
   "execution_count": 25,
   "metadata": {},
   "outputs": [
    {
     "data": {
      "text/plain": [
       "category\n",
       "Техника                     27500.0\n",
       "Строительство и ремонт     148364.0\n",
       "Текстиль                   202022.0\n",
       "Посуда                     227372.0\n",
       "Декор и интерьер           275192.0\n",
       "Хранение вещей             287874.0\n",
       "Цветы и растения           531869.0\n",
       "Хозяйственные товары      2441961.0\n",
       "Name: total, dtype: float64"
      ]
     },
     "execution_count": 25,
     "metadata": {},
     "output_type": "execute_result"
    }
   ],
   "source": [
    "revenue = df_new.groupby('category')['total'].sum().sort_values()\n",
    "revenue"
   ]
  },
  {
   "cell_type": "code",
   "execution_count": 26,
   "metadata": {
    "scrolled": false
   },
   "outputs": [
    {
     "data": {
      "image/png": "[encoded data removed]",
      "text/plain": [
       "<Figure size 720x504 with 1 Axes>"
      ]
     },
     "metadata": {
      "needs_background": "light"
     },
     "output_type": "display_data"
    }
   ],
   "source": [
    "#строим график\n",
    "plt.figure(figsize=(10,7))\n",
    "revenue.plot(kind = 'barh')\n",
    "plt.title('Выручка в каждой категории')\n",
    "plt.xlabel('Выручка')\n",
    "plt.ylabel('Категория')\n",
    "plt.show();"
   ]
  },
  {
   "cell_type": "markdown",
   "metadata": {},
   "source": [
    "Дополнительно выведем круговую диаграмму с долей выручки по каждой категории"
   ]
  },
  {
   "cell_type": "code",
   "execution_count": 27,
   "metadata": {},
   "outputs": [
    {
     "data": {
      "image/png": "[encoded data removed]",
      "text/plain": [
       "<Figure size 720x720 with 1 Axes>"
      ]
     },
     "metadata": {},
     "output_type": "display_data"
    }
   ],
   "source": [
    "revenue1 = revenue.reset_index().sort_values(by = 'total', ascending =  False)\n",
    "\n",
    "fig, ax = plt.subplots(figsize=(10,10))\n",
    "ax.pie(revenue1['total'], labels=revenue1['category'], autopct='%1.1f%%');\n",
    "ax.set_title('Доля выручки в каждой категории');"
   ]
  },
  {
   "cell_type": "markdown",
   "metadata": {},
   "source": [
    "**Итог по разделу:**\n",
    "  - Больше половины всей выручки в магазине приходит с категории \"Хоз товары\" (59%). В этой же категории второй по величине средний чек (1800 руб). Количество проданных хоз товаров занимает второе место среди всех категорий (~3700 шт).\n",
    "  \n",
    "  \n",
    "  - Самой популярной категорией является раздел с цветами и растениями: было продано ~4 тыс товаров. На данную категорию приходится 12,8% от всей выручки. Ср чек самый маленький: 210 руб. Покупают много дешевой рассады, семян и домашних растений\n",
    "  \n",
    "  \n",
    "  - Самый большой средний чек у категории \"Текстиль\" - 2082 руб. Однако товаров продано мало: 270 шт. Можно сделать вывод, что в этой категории находятся одни из самых дорогостоящих товаров, представленных в магазине.\n",
    "  \n"
   ]
  },
  {
   "cell_type": "markdown",
   "metadata": {},
   "source": [
    "<div class=\"alert alert-success\">\n",
    "<b>👍 Успех:</b> Категории исследованы, очень удачно выбрана круговая диаграмма, сразу видно вклад каждой категории \n",
    "</div>"
   ]
  },
  {
   "cell_type": "markdown",
   "metadata": {},
   "source": [
    "### Сезонность в заказах"
   ]
  },
  {
   "cell_type": "markdown",
   "metadata": {},
   "source": [
    "Посмотрим, как меняется количество проданных товаров в зависимости от времени года."
   ]
  },
  {
   "cell_type": "code",
   "execution_count": 28,
   "metadata": {},
   "outputs": [
    {
     "data": {
      "image/png": "[encoded data removed]",
      "text/plain": [
       "<Figure size 720x432 with 1 Axes>"
      ]
     },
     "metadata": {
      "needs_background": "light"
     },
     "output_type": "display_data"
    }
   ],
   "source": [
    "fig, ax = plt.subplots(figsize=(10, 6))\n",
    "ax.scatter(x = df_new['month'], y = df_new['quantity'])\n",
    "plt.title('Распределение количества проданных товаров по месяцам')\n",
    "plt.xlabel(\"Месяц\")\n",
    "plt.ylabel(\"Количество\")\n",
    "\n",
    "plt.show()"
   ]
  },
  {
   "cell_type": "markdown",
   "metadata": {},
   "source": [
    "На графике сразу видны выбросы: были заказы, в которых за раз клиенты брали больше 200 единиц товара. \n",
    "Даже есть заказ на 1000 штук.\n",
    "Из-за аномальных значений не понятно, есть ли сезонность\n",
    "\n",
    "В следующем разделе проанализируем это детальнее"
   ]
  },
  {
   "cell_type": "markdown",
   "metadata": {},
   "source": [
    "### Розничные и оптовые покупатели"
   ]
  },
  {
   "cell_type": "markdown",
   "metadata": {},
   "source": [
    "Отличительной чертой оптовых покупателей является объем заказов: они берут сразу много товара.\n",
    "\n",
    "Чтобы выделить среди наших покупателей оптовиков посмотрим на кол-во товаров в одном заказе"
   ]
  },
  {
   "cell_type": "code",
   "execution_count": 29,
   "metadata": {},
   "outputs": [
    {
     "data": {
      "text/html": [
       "<div>\n",
       "<style scoped>\n",
       "    .dataframe tbody tr th:only-of-type {\n",
       "        vertical-align: middle;\n",
       "    }\n",
       "\n",
       "    .dataframe tbody tr th {\n",
       "        vertical-align: top;\n",
       "    }\n",
       "\n",
       "    .dataframe thead th {\n",
       "        text-align: right;\n",
       "    }\n",
       "</style>\n",
       "<table border=\"1\" class=\"dataframe\">\n",
       "  <thead>\n",
       "    <tr style=\"text-align: right;\">\n",
       "      <th></th>\n",
       "      <th>order_id</th>\n",
       "      <th>quantity</th>\n",
       "    </tr>\n",
       "  </thead>\n",
       "  <tbody>\n",
       "    <tr>\n",
       "      <th>2045</th>\n",
       "      <td>71743</td>\n",
       "      <td>1000</td>\n",
       "    </tr>\n",
       "    <tr>\n",
       "      <th>2008</th>\n",
       "      <td>71668</td>\n",
       "      <td>334</td>\n",
       "    </tr>\n",
       "    <tr>\n",
       "      <th>405</th>\n",
       "      <td>68611</td>\n",
       "      <td>300</td>\n",
       "    </tr>\n",
       "    <tr>\n",
       "      <th>1912</th>\n",
       "      <td>71478</td>\n",
       "      <td>300</td>\n",
       "    </tr>\n",
       "    <tr>\n",
       "      <th>800</th>\n",
       "      <td>69289</td>\n",
       "      <td>200</td>\n",
       "    </tr>\n",
       "    <tr>\n",
       "      <th>534</th>\n",
       "      <td>68815</td>\n",
       "      <td>170</td>\n",
       "    </tr>\n",
       "    <tr>\n",
       "      <th>2610</th>\n",
       "      <td>72845</td>\n",
       "      <td>160</td>\n",
       "    </tr>\n",
       "    <tr>\n",
       "      <th>1597</th>\n",
       "      <td>70841</td>\n",
       "      <td>150</td>\n",
       "    </tr>\n",
       "    <tr>\n",
       "      <th>542</th>\n",
       "      <td>68831</td>\n",
       "      <td>140</td>\n",
       "    </tr>\n",
       "    <tr>\n",
       "      <th>722</th>\n",
       "      <td>69156</td>\n",
       "      <td>101</td>\n",
       "    </tr>\n",
       "    <tr>\n",
       "      <th>1093</th>\n",
       "      <td>69893</td>\n",
       "      <td>100</td>\n",
       "    </tr>\n",
       "    <tr>\n",
       "      <th>2635</th>\n",
       "      <td>72885</td>\n",
       "      <td>100</td>\n",
       "    </tr>\n",
       "    <tr>\n",
       "      <th>441</th>\n",
       "      <td>68668</td>\n",
       "      <td>100</td>\n",
       "    </tr>\n",
       "    <tr>\n",
       "      <th>2758</th>\n",
       "      <td>73110</td>\n",
       "      <td>100</td>\n",
       "    </tr>\n",
       "    <tr>\n",
       "      <th>755</th>\n",
       "      <td>69206</td>\n",
       "      <td>100</td>\n",
       "    </tr>\n",
       "    <tr>\n",
       "      <th>320</th>\n",
       "      <td>68486</td>\n",
       "      <td>96</td>\n",
       "    </tr>\n",
       "    <tr>\n",
       "      <th>2533</th>\n",
       "      <td>72698</td>\n",
       "      <td>80</td>\n",
       "    </tr>\n",
       "    <tr>\n",
       "      <th>1937</th>\n",
       "      <td>71539</td>\n",
       "      <td>70</td>\n",
       "    </tr>\n",
       "    <tr>\n",
       "      <th>2656</th>\n",
       "      <td>72920</td>\n",
       "      <td>65</td>\n",
       "    </tr>\n",
       "    <tr>\n",
       "      <th>381</th>\n",
       "      <td>68580</td>\n",
       "      <td>64</td>\n",
       "    </tr>\n",
       "  </tbody>\n",
       "</table>\n",
       "</div>"
      ],
      "text/plain": [
       "      order_id  quantity\n",
       "2045     71743      1000\n",
       "2008     71668       334\n",
       "405      68611       300\n",
       "1912     71478       300\n",
       "800      69289       200\n",
       "534      68815       170\n",
       "2610     72845       160\n",
       "1597     70841       150\n",
       "542      68831       140\n",
       "722      69156       101\n",
       "1093     69893       100\n",
       "2635     72885       100\n",
       "441      68668       100\n",
       "2758     73110       100\n",
       "755      69206       100\n",
       "320      68486        96\n",
       "2533     72698        80\n",
       "1937     71539        70\n",
       "2656     72920        65\n",
       "381      68580        64"
      ]
     },
     "execution_count": 29,
     "metadata": {},
     "output_type": "execute_result"
    }
   ],
   "source": [
    "order = df_new.groupby('order_id')['quantity'].sum().reset_index().sort_values(by = 'quantity',  ascending = False)\n",
    "order.head(20)"
   ]
  },
  {
   "cell_type": "code",
   "execution_count": 30,
   "metadata": {},
   "outputs": [
    {
     "name": "stdout",
     "output_type": "stream",
     "text": [
      "Среднее значение по столбцу quantity: 4.966594827586207\n",
      "\n",
      "Медиана по столбцу quantity: 1.0\n",
      "\n",
      "Минимум по столбцу quantity: 1\n",
      "\n",
      "Макстимум по столбцу quantity: 1000\n"
     ]
    }
   ],
   "source": [
    "print('Среднее значение по столбцу quantity:',order['quantity'].mean())\n",
    "print()\n",
    "print('Медиана по столбцу quantity:',order['quantity'].median())\n",
    "print()\n",
    "print('Минимум по столбцу quantity:',order['quantity'].min())\n",
    "print()\n",
    "print('Макстимум по столбцу quantity:',order['quantity'].max())"
   ]
  },
  {
   "cell_type": "code",
   "execution_count": 31,
   "metadata": {},
   "outputs": [
    {
     "data": {
      "image/png": "[encoded data removed]",
      "text/plain": [
       "<Figure size 720x504 with 1 Axes>"
      ]
     },
     "metadata": {
      "needs_background": "light"
     },
     "output_type": "display_data"
    }
   ],
   "source": [
    "plt.figure(figsize=(10,7))\n",
    "order['quantity'].hist(bins = 100, range = (1, 100))\n",
    "plt.title('Распределение количества товаров в одном заказе')\n",
    "plt.xlabel('Количество товаров в одном заказе')\n",
    "plt.ylabel('Количество заказов');"
   ]
  },
  {
   "cell_type": "markdown",
   "metadata": {},
   "source": [
    "Большинство заказов состоит из 1 товара. \n",
    "\n",
    "Были и такие заказы, где кол-во товаров составляет 1000 шт.\n",
    "\n",
    "По графику видно, что основная масса заказов состоит из 1-10 товаров.\n",
    "\n",
    "Предположим. что все заказы, которые состоят больше, чем из 10 товаров - это заказы оптовых покупателей.\n",
    "\n",
    "Посмотрим, какую выручку приносят магазину розничные и оптовые покупатели"
   ]
  },
  {
   "cell_type": "code",
   "execution_count": 32,
   "metadata": {},
   "outputs": [],
   "source": [
    "#сделаем срезы\n",
    "\n",
    "retail = df_new.query('quantity <= 10 ')\n",
    "commerce = df_new.query('quantity > 10 ')"
   ]
  },
  {
   "cell_type": "code",
   "execution_count": 33,
   "metadata": {},
   "outputs": [
    {
     "name": "stdout",
     "output_type": "stream",
     "text": [
      "Выручка с розничных покупателей 2945641.0\n",
      "Выручка с оптовиков 1196513.0\n"
     ]
    }
   ],
   "source": [
    "print('Выручка с розничных покупателей', retail['total'].sum())\n",
    "print('Выручка с оптовиков', commerce['total'].sum())"
   ]
  },
  {
   "cell_type": "markdown",
   "metadata": {},
   "source": [
    "Оптовые покупатели приносят магазину 29%"
   ]
  },
  {
   "cell_type": "code",
   "execution_count": 34,
   "metadata": {},
   "outputs": [
    {
     "data": {
      "image/png": "[encoded data removed]",
      "text/plain": [
       "<Figure size 720x504 with 1 Axes>"
      ]
     },
     "metadata": {
      "needs_background": "light"
     },
     "output_type": "display_data"
    }
   ],
   "source": [
    "#посмотрим популярные категории у розницы и оптовых покупателей\n",
    "retail_cat = retail.groupby('category')['quantity'].sum()\n",
    "commerce_cat = commerce.groupby('category')['quantity'].sum()\n",
    "\n",
    "#строим график\n",
    "plt.figure(figsize=(10,7))\n",
    "retail_cat.plot(kind = 'barh')\n",
    "plt.title('Количество проданных товаров по категориям у розницы')\n",
    "plt.xlabel('Количество')\n",
    "plt.ylabel('Категория')\n",
    "plt.show()"
   ]
  },
  {
   "cell_type": "code",
   "execution_count": 35,
   "metadata": {},
   "outputs": [
    {
     "data": {
      "image/png": "[encoded data removed]",
      "text/plain": [
       "<Figure size 720x504 with 1 Axes>"
      ]
     },
     "metadata": {
      "needs_background": "light"
     },
     "output_type": "display_data"
    }
   ],
   "source": [
    "#строим график\n",
    "plt.figure(figsize=(10,7))\n",
    "commerce_cat.plot(kind = 'barh')\n",
    "plt.title('Количество проданных товаров по категориям у оптовиков')\n",
    "plt.xlabel('Количество')\n",
    "plt.ylabel('Категория')\n",
    "plt.show()"
   ]
  },
  {
   "cell_type": "markdown",
   "metadata": {},
   "source": [
    "Розничные покупатели активнее прочего скупают товары из категории \"Цветы и растения\" (3500 шт против 500 у оптовиков)\n",
    "\n",
    "У оптовых покупателей люимые товары находятся в разделах \"Хоз товары\" и \"Декор и интерьер\""
   ]
  },
  {
   "cell_type": "markdown",
   "metadata": {},
   "source": [
    "Посмотрим на сезонность в заказах оптовых и розничных покупателей"
   ]
  },
  {
   "cell_type": "code",
   "execution_count": 36,
   "metadata": {},
   "outputs": [
    {
     "data": {
      "image/png": "[encoded data removed]",
      "text/plain": [
       "<Figure size 720x504 with 1 Axes>"
      ]
     },
     "metadata": {
      "needs_background": "light"
     },
     "output_type": "display_data"
    }
   ],
   "source": [
    "retail_group = retail.groupby('month')['quantity'].sum()\n",
    "#retail_group\n",
    "plt.figure(figsize=(10,7))\n",
    "retail_group.plot()\n",
    "plt.title('Количество проданных товаров по месяцам у розницы')\n",
    "plt.xlabel('Месяц')\n",
    "plt.ylabel('Количество')\n",
    "plt.show()"
   ]
  },
  {
   "cell_type": "code",
   "execution_count": 37,
   "metadata": {},
   "outputs": [
    {
     "data": {
      "image/png": "[encoded data removed]",
      "text/plain": [
       "<Figure size 720x504 with 1 Axes>"
      ]
     },
     "metadata": {
      "needs_background": "light"
     },
     "output_type": "display_data"
    }
   ],
   "source": [
    "commerce_group = commerce.groupby('month')['quantity'].sum()\n",
    "#commerce_group\n",
    "plt.figure(figsize=(10,7))\n",
    "commerce_group.plot()\n",
    "plt.title('Количество проданных товаров по месяцам у оптовиков')\n",
    "plt.xlabel('Месяц')\n",
    "plt.ylabel('Количество')\n",
    "plt.show()"
   ]
  },
  {
   "cell_type": "markdown",
   "metadata": {},
   "source": [
    "В заказах розничных и оптовых покупателей ярко выражена сезонность: до июня количество проданных товаров стремительно растет (люди готовятся к дачному сезону, к ремонтам и пр), затем спрос резко падает и остается низким до сентября. Затем рост в течение сентября-октября и опять спад.\n",
    "\n",
    "Важно отметить, что у розницы рост спроса начинается раньше (с марта), но и падение тоже происходит раньше (в апреле).\n",
    "У оптовых клиентов: бурный рост - с мая, падение в июне.\n"
   ]
  },
  {
   "cell_type": "markdown",
   "metadata": {},
   "source": [
    "Далее в исследовании будем работать только с данными по розничным покупателям (т.к. доля их выручки превышает доля оптовиков), чтобы понять основной и доп ассортимент"
   ]
  },
  {
   "cell_type": "markdown",
   "metadata": {},
   "source": [
    "### Средний чек, количество заказов и выручка у розничных покупателей"
   ]
  },
  {
   "cell_type": "code",
   "execution_count": 38,
   "metadata": {},
   "outputs": [
    {
     "data": {
      "image/png": "[encoded data removed]",
      "text/plain": [
       "<Figure size 720x504 with 1 Axes>"
      ]
     },
     "metadata": {
      "needs_background": "light"
     },
     "output_type": "display_data"
    }
   ],
   "source": [
    "#группируем данные по категориям и считаем средний чек\n",
    "\n",
    "chek_retail = retail.groupby('category')['total'].mean().sort_values()\n",
    "\n",
    "\n",
    "plt.figure(figsize=(10,7))\n",
    "chek_retail.plot(kind = 'barh')\n",
    "plt.title('Средний чек по категориям у розничных покупателей')\n",
    "plt.xlabel('Средний чек')\n",
    "plt.ylabel('Категория')\n",
    "plt.show();"
   ]
  },
  {
   "cell_type": "code",
   "execution_count": 39,
   "metadata": {},
   "outputs": [
    {
     "data": {
      "image/png": "[encoded data removed]",
      "text/plain": [
       "<Figure size 720x504 with 1 Axes>"
      ]
     },
     "metadata": {
      "needs_background": "light"
     },
     "output_type": "display_data"
    }
   ],
   "source": [
    "#группируем данные по категориям и считаем количество заказов\n",
    "\n",
    "count_order_retail = retail.groupby('category')['order_id'].nunique().sort_values()\n",
    "\n",
    "\n",
    "plt.figure(figsize=(10,7))\n",
    "count_order_retail.plot(kind = 'barh')\n",
    "plt.title('Количество заказов по категориям у розничных покупателей')\n",
    "plt.xlabel('Количество заказов')\n",
    "plt.ylabel('Категория')\n",
    "plt.show();"
   ]
  },
  {
   "cell_type": "code",
   "execution_count": 40,
   "metadata": {},
   "outputs": [
    {
     "data": {
      "image/png": "[encoded data removed]",
      "text/plain": [
       "<Figure size 720x720 with 1 Axes>"
      ]
     },
     "metadata": {},
     "output_type": "display_data"
    }
   ],
   "source": [
    "revenue_retail = retail.groupby('category')['total'].sum().reset_index().sort_values(by = 'total', ascending = False)\n",
    "\n",
    "fig, ax = plt.subplots(figsize=(10,10))\n",
    "ax.pie(revenue_retail['total'], labels=revenue1['category'], autopct='%1.1f%%');\n",
    "ax.set_title('Доля выручки по категориями у розницы');"
   ]
  },
  {
   "cell_type": "markdown",
   "metadata": {},
   "source": [
    "Ситуация почти не отличается от той, что мы анализировали до деления покупателей на розницу и оптовиков.\n",
    "\n",
    "Больше половины выручки у розничных клиентов приходит с хоз товаров (56%). Количество заказов в данной категории самое высокое ~ 1200 шт. Средний чек 1300 руб.\n",
    "\n",
    "Еще одна категория, которая дает почти 17% выручки - это \"Цветы и растения\". Заказов с товарами данного сегмента около 800 штук. Однако средний чек самый низкий (около 200 руб) за счет низкой стоимости самих товаров. "
   ]
  },
  {
   "cell_type": "markdown",
   "metadata": {},
   "source": [
    "### Топовые позиции в самых прибыльных категориях (основной ассортимент)"
   ]
  },
  {
   "cell_type": "code",
   "execution_count": 41,
   "metadata": {},
   "outputs": [],
   "source": [
    "#сделаем срез по двум категориям у розницы и найдем товары, которые заказывают чаще остальных\n",
    "\n",
    "flowers = retail.query('category == \"Цветы и растения\"')\n",
    "household = retail.query('category == \"Хозяйственные товары\"')"
   ]
  },
  {
   "cell_type": "code",
   "execution_count": 42,
   "metadata": {},
   "outputs": [
    {
     "data": {
      "text/plain": [
       "Пеларгония                   659\n",
       "Рассада                      445\n",
       "Томат                        142\n",
       "Герань домашняя              109\n",
       "Однолетнее растение           65\n",
       "Роза садовая                  39\n",
       "Бакопа ампельная              36\n",
       "Петуния махровая              35\n",
       "Петуния Surfinia              21\n",
       "Подвесное кашпо               21\n",
       "Декабрист в                   16\n",
       "Калибрахоа Aloha              16\n",
       "Рассада Тыквы                 16\n",
       "Петуния простая               15\n",
       "Флокс метельчатый             14\n",
       "Пеларгония тюльпановидная     14\n",
       "Мята перечная                 14\n",
       "Пеларгония розоцветная        13\n",
       "Калибрахоа Mini               13\n",
       "Новогоднее дерево             12\n",
       "Комнатное растение            12\n",
       "Петуния гибридная             11\n",
       "Петуния Sweetunia             11\n",
       "Циперус Зумула                10\n",
       "Бальзамин новогвинейский      10\n",
       "Эвкалипт Гунни                10\n",
       "Газания рассада               10\n",
       "Примула комнатная             10\n",
       "Виола рассада                  8\n",
       "Калибрахоа Sweet               8\n",
       "Пеларгония плющелистная        8\n",
       "Пеларгония Angeleyes           7\n",
       "Фиалка d-9                     7\n",
       "Калибрахоа ампельная,          7\n",
       "Цикламен комнатный             6\n",
       "Хлорофитум d-13                6\n",
       "Искусственный цветок           6\n",
       "Рассада Остеоспермум           6\n",
       "Антуриум андрианум             6\n",
       "Львиный зев                    6\n",
       "Name: product, dtype: int64"
      ]
     },
     "execution_count": 42,
     "metadata": {},
     "output_type": "execute_result"
    }
   ],
   "source": [
    "flowers['product'].value_counts().head(40)"
   ]
  },
  {
   "cell_type": "markdown",
   "metadata": {},
   "source": [
    "**Самые популярные товары категории \"Цветы и растения\":**\n",
    " - рассада\n",
    " - пеларгония\n",
    " - томат\n",
    " - герань домашняя\n",
    " "
   ]
  },
  {
   "cell_type": "code",
   "execution_count": 43,
   "metadata": {},
   "outputs": [
    {
     "data": {
      "text/plain": [
       "Сушилка                     272\n",
       "Сумка-тележка               207\n",
       "Гладильная доска            117\n",
       "Тележка багажная             84\n",
       "Штора для                    64\n",
       "Таз пластмассовый            56\n",
       "Корзина для                  26\n",
       "Сумка-тележка 3-х            13\n",
       "Контейнер для                13\n",
       "Тележка хозяйственная        13\n",
       "Карниз для                   13\n",
       "Сумка для                    11\n",
       "Штора со                     10\n",
       "Штанга для                    8\n",
       "Окномойка с                   8\n",
       "Ёрш унитазный                 8\n",
       "Корыто оцинкованное           7\n",
       "Сумка-тележка TWIN            7\n",
       "Сиденье в                     7\n",
       "Средство для                  6\n",
       "Подрукавник складной          6\n",
       "Сумка-тележка GIMI            6\n",
       "Коврик противоскользящий      6\n",
       "Щетка для                     6\n",
       "Подставка для                 5\n",
       "Ведро для                     5\n",
       "Рукав для                     5\n",
       "Настенная сушилка             5\n",
       "Перчатки латексные            4\n",
       "Швабра для                    4\n",
       "Корзина пластиковая           4\n",
       "Покрытие для                  4\n",
       "Щетка хозяйственная           4\n",
       "Подрукавник Gimi              4\n",
       "Шнур резиновый                4\n",
       "Зубная паста                  4\n",
       "Насадка для                   3\n",
       "Дозатор для                   3\n",
       "Сиденье для                   3\n",
       "Сушилка Meliconi              3\n",
       "Name: product, dtype: int64"
      ]
     },
     "execution_count": 43,
     "metadata": {},
     "output_type": "execute_result"
    }
   ],
   "source": [
    "household['product'].value_counts().head(40)"
   ]
  },
  {
   "cell_type": "markdown",
   "metadata": {},
   "source": [
    "**Самые популярные товары категории \"Хоз товары\":**\n",
    " - сушилка\n",
    " - сумка-тележка \n",
    " - гладильная доска"
   ]
  },
  {
   "cell_type": "markdown",
   "metadata": {},
   "source": [
    "## Работа с выбросами"
   ]
  },
  {
   "cell_type": "markdown",
   "metadata": {},
   "source": [
    "Посмотрим на среднее и стандартное отклонение  столбцах общей таблицы"
   ]
  },
  {
   "cell_type": "code",
   "execution_count": 44,
   "metadata": {},
   "outputs": [
    {
     "data": {
      "text/html": [
       "<div>\n",
       "<style scoped>\n",
       "    .dataframe tbody tr th:only-of-type {\n",
       "        vertical-align: middle;\n",
       "    }\n",
       "\n",
       "    .dataframe tbody tr th {\n",
       "        vertical-align: top;\n",
       "    }\n",
       "\n",
       "    .dataframe thead th {\n",
       "        text-align: right;\n",
       "    }\n",
       "</style>\n",
       "<table border=\"1\" class=\"dataframe\">\n",
       "  <thead>\n",
       "    <tr style=\"text-align: right;\">\n",
       "      <th></th>\n",
       "      <th>date</th>\n",
       "      <th>year</th>\n",
       "      <th>month</th>\n",
       "      <th>day</th>\n",
       "      <th>hours</th>\n",
       "      <th>order_id</th>\n",
       "      <th>quantity</th>\n",
       "      <th>price</th>\n",
       "      <th>total</th>\n",
       "    </tr>\n",
       "  </thead>\n",
       "  <tbody>\n",
       "    <tr>\n",
       "      <th>count</th>\n",
       "      <td>4.873000e+03</td>\n",
       "      <td>4873.000000</td>\n",
       "      <td>4873.000000</td>\n",
       "      <td>4873.000000</td>\n",
       "      <td>4873.000000</td>\n",
       "      <td>4873.000000</td>\n",
       "      <td>4873.000000</td>\n",
       "      <td>4873.000000</td>\n",
       "      <td>4873.000000</td>\n",
       "    </tr>\n",
       "    <tr>\n",
       "      <th>mean</th>\n",
       "      <td>2.018814e+09</td>\n",
       "      <td>2018.747589</td>\n",
       "      <td>6.515699</td>\n",
       "      <td>15.414939</td>\n",
       "      <td>13.932485</td>\n",
       "      <td>48231.287503</td>\n",
       "      <td>2.837472</td>\n",
       "      <td>514.749846</td>\n",
       "      <td>850.021342</td>\n",
       "    </tr>\n",
       "    <tr>\n",
       "      <th>std</th>\n",
       "      <td>4.097364e+05</td>\n",
       "      <td>0.434440</td>\n",
       "      <td>3.294365</td>\n",
       "      <td>8.880582</td>\n",
       "      <td>4.792252</td>\n",
       "      <td>27341.349829</td>\n",
       "      <td>17.606813</td>\n",
       "      <td>944.455480</td>\n",
       "      <td>9807.308006</td>\n",
       "    </tr>\n",
       "    <tr>\n",
       "      <th>min</th>\n",
       "      <td>2.018100e+09</td>\n",
       "      <td>2018.000000</td>\n",
       "      <td>1.000000</td>\n",
       "      <td>1.000000</td>\n",
       "      <td>0.000000</td>\n",
       "      <td>12624.000000</td>\n",
       "      <td>1.000000</td>\n",
       "      <td>9.000000</td>\n",
       "      <td>9.000000</td>\n",
       "    </tr>\n",
       "    <tr>\n",
       "      <th>25%</th>\n",
       "      <td>2.018123e+09</td>\n",
       "      <td>2018.000000</td>\n",
       "      <td>4.000000</td>\n",
       "      <td>8.000000</td>\n",
       "      <td>11.000000</td>\n",
       "      <td>14776.000000</td>\n",
       "      <td>1.000000</td>\n",
       "      <td>90.000000</td>\n",
       "      <td>120.000000</td>\n",
       "    </tr>\n",
       "    <tr>\n",
       "      <th>50%</th>\n",
       "      <td>2.019041e+09</td>\n",
       "      <td>2019.000000</td>\n",
       "      <td>6.000000</td>\n",
       "      <td>15.000000</td>\n",
       "      <td>14.000000</td>\n",
       "      <td>68860.000000</td>\n",
       "      <td>1.000000</td>\n",
       "      <td>150.000000</td>\n",
       "      <td>194.000000</td>\n",
       "    </tr>\n",
       "    <tr>\n",
       "      <th>75%</th>\n",
       "      <td>2.019060e+09</td>\n",
       "      <td>2019.000000</td>\n",
       "      <td>10.000000</td>\n",
       "      <td>23.000000</td>\n",
       "      <td>17.000000</td>\n",
       "      <td>70833.000000</td>\n",
       "      <td>1.000000</td>\n",
       "      <td>488.000000</td>\n",
       "      <td>734.000000</td>\n",
       "    </tr>\n",
       "    <tr>\n",
       "      <th>max</th>\n",
       "      <td>2.019103e+09</td>\n",
       "      <td>2019.000000</td>\n",
       "      <td>12.000000</td>\n",
       "      <td>31.000000</td>\n",
       "      <td>23.000000</td>\n",
       "      <td>73164.000000</td>\n",
       "      <td>1000.000000</td>\n",
       "      <td>14917.000000</td>\n",
       "      <td>675000.000000</td>\n",
       "    </tr>\n",
       "  </tbody>\n",
       "</table>\n",
       "</div>"
      ],
      "text/plain": [
       "               date         year        month          day        hours  \\\n",
       "count  4.873000e+03  4873.000000  4873.000000  4873.000000  4873.000000   \n",
       "mean   2.018814e+09  2018.747589     6.515699    15.414939    13.932485   \n",
       "std    4.097364e+05     0.434440     3.294365     8.880582     4.792252   \n",
       "min    2.018100e+09  2018.000000     1.000000     1.000000     0.000000   \n",
       "25%    2.018123e+09  2018.000000     4.000000     8.000000    11.000000   \n",
       "50%    2.019041e+09  2019.000000     6.000000    15.000000    14.000000   \n",
       "75%    2.019060e+09  2019.000000    10.000000    23.000000    17.000000   \n",
       "max    2.019103e+09  2019.000000    12.000000    31.000000    23.000000   \n",
       "\n",
       "           order_id     quantity         price          total  \n",
       "count   4873.000000  4873.000000   4873.000000    4873.000000  \n",
       "mean   48231.287503     2.837472    514.749846     850.021342  \n",
       "std    27341.349829    17.606813    944.455480    9807.308006  \n",
       "min    12624.000000     1.000000      9.000000       9.000000  \n",
       "25%    14776.000000     1.000000     90.000000     120.000000  \n",
       "50%    68860.000000     1.000000    150.000000     194.000000  \n",
       "75%    70833.000000     1.000000    488.000000     734.000000  \n",
       "max    73164.000000  1000.000000  14917.000000  675000.000000  "
      ]
     },
     "execution_count": 44,
     "metadata": {},
     "output_type": "execute_result"
    }
   ],
   "source": [
    "df_new.describe()"
   ]
  },
  {
   "cell_type": "markdown",
   "metadata": {},
   "source": [
    "Видно, что в столбце total стандартное отклонение сильно отличается от среднего: значит  в суммарной выручке есть сильные выбросы. \n",
    "\n",
    "От них нужно избавиться."
   ]
  },
  {
   "cell_type": "code",
   "execution_count": 45,
   "metadata": {},
   "outputs": [
    {
     "data": {
      "image/png": "[encoded data removed]",
      "text/plain": [
       "<Figure size 432x288 with 1 Axes>"
      ]
     },
     "metadata": {
      "needs_background": "light"
     },
     "output_type": "display_data"
    }
   ],
   "source": [
    "data = df_new['total'].reset_index()\n",
    "\n",
    "data.boxplot()\n",
    "plt.ylim(0,1700);"
   ]
  },
  {
   "cell_type": "markdown",
   "metadata": {},
   "source": [
    "В столбце с суммарной выручкой выбросами считаем все значения выше 1650 руб"
   ]
  },
  {
   "cell_type": "code",
   "execution_count": 46,
   "metadata": {},
   "outputs": [
    {
     "data": {
      "text/html": [
       "<div>\n",
       "<style scoped>\n",
       "    .dataframe tbody tr th:only-of-type {\n",
       "        vertical-align: middle;\n",
       "    }\n",
       "\n",
       "    .dataframe tbody tr th {\n",
       "        vertical-align: top;\n",
       "    }\n",
       "\n",
       "    .dataframe thead th {\n",
       "        text-align: right;\n",
       "    }\n",
       "</style>\n",
       "<table border=\"1\" class=\"dataframe\">\n",
       "  <thead>\n",
       "    <tr style=\"text-align: right;\">\n",
       "      <th></th>\n",
       "      <th>date</th>\n",
       "      <th>year</th>\n",
       "      <th>month</th>\n",
       "      <th>day</th>\n",
       "      <th>date_new</th>\n",
       "      <th>hours</th>\n",
       "      <th>customer_id</th>\n",
       "      <th>order_id</th>\n",
       "      <th>product</th>\n",
       "      <th>quantity</th>\n",
       "      <th>price</th>\n",
       "      <th>category</th>\n",
       "      <th>total</th>\n",
       "    </tr>\n",
       "  </thead>\n",
       "  <tbody>\n",
       "    <tr>\n",
       "      <th>0</th>\n",
       "      <td>2018100100</td>\n",
       "      <td>2018</td>\n",
       "      <td>10</td>\n",
       "      <td>1</td>\n",
       "      <td>2018-10-01</td>\n",
       "      <td>0</td>\n",
       "      <td>ee47d746-6d2f-4d3c-9622-c31412542920</td>\n",
       "      <td>68477</td>\n",
       "      <td>Комнатное растение</td>\n",
       "      <td>1</td>\n",
       "      <td>142.0</td>\n",
       "      <td>Цветы и растения</td>\n",
       "      <td>142.0</td>\n",
       "    </tr>\n",
       "    <tr>\n",
       "      <th>1</th>\n",
       "      <td>2018100100</td>\n",
       "      <td>2018</td>\n",
       "      <td>10</td>\n",
       "      <td>1</td>\n",
       "      <td>2018-10-01</td>\n",
       "      <td>0</td>\n",
       "      <td>ee47d746-6d2f-4d3c-9622-c31412542920</td>\n",
       "      <td>68477</td>\n",
       "      <td>Комнатное растение</td>\n",
       "      <td>1</td>\n",
       "      <td>194.0</td>\n",
       "      <td>Цветы и растения</td>\n",
       "      <td>194.0</td>\n",
       "    </tr>\n",
       "    <tr>\n",
       "      <th>2</th>\n",
       "      <td>2018100100</td>\n",
       "      <td>2018</td>\n",
       "      <td>10</td>\n",
       "      <td>1</td>\n",
       "      <td>2018-10-01</td>\n",
       "      <td>0</td>\n",
       "      <td>ee47d746-6d2f-4d3c-9622-c31412542920</td>\n",
       "      <td>68477</td>\n",
       "      <td>Радермахера d-12</td>\n",
       "      <td>1</td>\n",
       "      <td>112.0</td>\n",
       "      <td>Цветы и растения</td>\n",
       "      <td>112.0</td>\n",
       "    </tr>\n",
       "    <tr>\n",
       "      <th>3</th>\n",
       "      <td>2018100100</td>\n",
       "      <td>2018</td>\n",
       "      <td>10</td>\n",
       "      <td>1</td>\n",
       "      <td>2018-10-01</td>\n",
       "      <td>0</td>\n",
       "      <td>ee47d746-6d2f-4d3c-9622-c31412542920</td>\n",
       "      <td>68477</td>\n",
       "      <td>Хризолидокарпус Лутесценс</td>\n",
       "      <td>1</td>\n",
       "      <td>179.0</td>\n",
       "      <td>Цветы и растения</td>\n",
       "      <td>179.0</td>\n",
       "    </tr>\n",
       "    <tr>\n",
       "      <th>4</th>\n",
       "      <td>2018100100</td>\n",
       "      <td>2018</td>\n",
       "      <td>10</td>\n",
       "      <td>1</td>\n",
       "      <td>2018-10-01</td>\n",
       "      <td>0</td>\n",
       "      <td>ee47d746-6d2f-4d3c-9622-c31412542920</td>\n",
       "      <td>68477</td>\n",
       "      <td>Циперус Зумула</td>\n",
       "      <td>1</td>\n",
       "      <td>112.0</td>\n",
       "      <td>Цветы и растения</td>\n",
       "      <td>112.0</td>\n",
       "    </tr>\n",
       "    <tr>\n",
       "      <th>...</th>\n",
       "      <td>...</td>\n",
       "      <td>...</td>\n",
       "      <td>...</td>\n",
       "      <td>...</td>\n",
       "      <td>...</td>\n",
       "      <td>...</td>\n",
       "      <td>...</td>\n",
       "      <td>...</td>\n",
       "      <td>...</td>\n",
       "      <td>...</td>\n",
       "      <td>...</td>\n",
       "      <td>...</td>\n",
       "      <td>...</td>\n",
       "    </tr>\n",
       "    <tr>\n",
       "      <th>4868</th>\n",
       "      <td>2019103111</td>\n",
       "      <td>2019</td>\n",
       "      <td>10</td>\n",
       "      <td>31</td>\n",
       "      <td>2019-10-31</td>\n",
       "      <td>11</td>\n",
       "      <td>f17ed857-178e-45e1-a662-0a9dd3b58c5f</td>\n",
       "      <td>73155</td>\n",
       "      <td>Мимоза стыдливая</td>\n",
       "      <td>1</td>\n",
       "      <td>329.0</td>\n",
       "      <td>Цветы и растения</td>\n",
       "      <td>329.0</td>\n",
       "    </tr>\n",
       "    <tr>\n",
       "      <th>4869</th>\n",
       "      <td>2019103111</td>\n",
       "      <td>2019</td>\n",
       "      <td>10</td>\n",
       "      <td>31</td>\n",
       "      <td>2019-10-31</td>\n",
       "      <td>11</td>\n",
       "      <td>73d1cd35-5e5f-4629-8cf2-3fda829d4e58</td>\n",
       "      <td>73156</td>\n",
       "      <td>Таз пластмассовый</td>\n",
       "      <td>1</td>\n",
       "      <td>404.0</td>\n",
       "      <td>Хозяйственные товары</td>\n",
       "      <td>404.0</td>\n",
       "    </tr>\n",
       "    <tr>\n",
       "      <th>4870</th>\n",
       "      <td>2019103112</td>\n",
       "      <td>2019</td>\n",
       "      <td>10</td>\n",
       "      <td>31</td>\n",
       "      <td>2019-10-31</td>\n",
       "      <td>12</td>\n",
       "      <td>1f0a7f35-7459-4f23-b468-5e45bf481dd1</td>\n",
       "      <td>73158</td>\n",
       "      <td>Сумка-тележка</td>\n",
       "      <td>1</td>\n",
       "      <td>1087.0</td>\n",
       "      <td>Хозяйственные товары</td>\n",
       "      <td>1087.0</td>\n",
       "    </tr>\n",
       "    <tr>\n",
       "      <th>4871</th>\n",
       "      <td>2019103113</td>\n",
       "      <td>2019</td>\n",
       "      <td>10</td>\n",
       "      <td>31</td>\n",
       "      <td>2019-10-31</td>\n",
       "      <td>13</td>\n",
       "      <td>25df96a7-c453-4708-9cea-a3dfc7c342ea</td>\n",
       "      <td>73162</td>\n",
       "      <td>Герань домашняя</td>\n",
       "      <td>1</td>\n",
       "      <td>157.0</td>\n",
       "      <td>Цветы и растения</td>\n",
       "      <td>157.0</td>\n",
       "    </tr>\n",
       "    <tr>\n",
       "      <th>4872</th>\n",
       "      <td>2019103114</td>\n",
       "      <td>2019</td>\n",
       "      <td>10</td>\n",
       "      <td>31</td>\n",
       "      <td>2019-10-31</td>\n",
       "      <td>14</td>\n",
       "      <td>73d1cd35-5e5f-4629-8cf2-3fda829d4e58</td>\n",
       "      <td>73164</td>\n",
       "      <td>Таз пластмассовый</td>\n",
       "      <td>1</td>\n",
       "      <td>397.0</td>\n",
       "      <td>Хозяйственные товары</td>\n",
       "      <td>397.0</td>\n",
       "    </tr>\n",
       "  </tbody>\n",
       "</table>\n",
       "<p>4374 rows × 13 columns</p>\n",
       "</div>"
      ],
      "text/plain": [
       "            date  year  month  day   date_new  hours  \\\n",
       "0     2018100100  2018     10    1 2018-10-01      0   \n",
       "1     2018100100  2018     10    1 2018-10-01      0   \n",
       "2     2018100100  2018     10    1 2018-10-01      0   \n",
       "3     2018100100  2018     10    1 2018-10-01      0   \n",
       "4     2018100100  2018     10    1 2018-10-01      0   \n",
       "...          ...   ...    ...  ...        ...    ...   \n",
       "4868  2019103111  2019     10   31 2019-10-31     11   \n",
       "4869  2019103111  2019     10   31 2019-10-31     11   \n",
       "4870  2019103112  2019     10   31 2019-10-31     12   \n",
       "4871  2019103113  2019     10   31 2019-10-31     13   \n",
       "4872  2019103114  2019     10   31 2019-10-31     14   \n",
       "\n",
       "                               customer_id  order_id  \\\n",
       "0     ee47d746-6d2f-4d3c-9622-c31412542920     68477   \n",
       "1     ee47d746-6d2f-4d3c-9622-c31412542920     68477   \n",
       "2     ee47d746-6d2f-4d3c-9622-c31412542920     68477   \n",
       "3     ee47d746-6d2f-4d3c-9622-c31412542920     68477   \n",
       "4     ee47d746-6d2f-4d3c-9622-c31412542920     68477   \n",
       "...                                    ...       ...   \n",
       "4868  f17ed857-178e-45e1-a662-0a9dd3b58c5f     73155   \n",
       "4869  73d1cd35-5e5f-4629-8cf2-3fda829d4e58     73156   \n",
       "4870  1f0a7f35-7459-4f23-b468-5e45bf481dd1     73158   \n",
       "4871  25df96a7-c453-4708-9cea-a3dfc7c342ea     73162   \n",
       "4872  73d1cd35-5e5f-4629-8cf2-3fda829d4e58     73164   \n",
       "\n",
       "                        product  quantity   price              category  \\\n",
       "0            Комнатное растение         1   142.0      Цветы и растения   \n",
       "1            Комнатное растение         1   194.0      Цветы и растения   \n",
       "2              Радермахера d-12         1   112.0      Цветы и растения   \n",
       "3     Хризолидокарпус Лутесценс         1   179.0      Цветы и растения   \n",
       "4                Циперус Зумула         1   112.0      Цветы и растения   \n",
       "...                         ...       ...     ...                   ...   \n",
       "4868           Мимоза стыдливая         1   329.0      Цветы и растения   \n",
       "4869          Таз пластмассовый         1   404.0  Хозяйственные товары   \n",
       "4870              Сумка-тележка         1  1087.0  Хозяйственные товары   \n",
       "4871            Герань домашняя         1   157.0      Цветы и растения   \n",
       "4872          Таз пластмассовый         1   397.0  Хозяйственные товары   \n",
       "\n",
       "       total  \n",
       "0      142.0  \n",
       "1      194.0  \n",
       "2      112.0  \n",
       "3      179.0  \n",
       "4      112.0  \n",
       "...      ...  \n",
       "4868   329.0  \n",
       "4869   404.0  \n",
       "4870  1087.0  \n",
       "4871   157.0  \n",
       "4872   397.0  \n",
       "\n",
       "[4374 rows x 13 columns]"
      ]
     },
     "execution_count": 46,
     "metadata": {},
     "output_type": "execute_result"
    }
   ],
   "source": [
    "#делаем новый датафрейм БЕЗ выбросов\n",
    "\n",
    "data_new =df_new[df_new['total'] <= 1650]\n",
    "data_new"
   ]
  },
  {
   "cell_type": "code",
   "execution_count": 47,
   "metadata": {},
   "outputs": [
    {
     "data": {
      "text/html": [
       "<div>\n",
       "<style scoped>\n",
       "    .dataframe tbody tr th:only-of-type {\n",
       "        vertical-align: middle;\n",
       "    }\n",
       "\n",
       "    .dataframe tbody tr th {\n",
       "        vertical-align: top;\n",
       "    }\n",
       "\n",
       "    .dataframe thead th {\n",
       "        text-align: right;\n",
       "    }\n",
       "</style>\n",
       "<table border=\"1\" class=\"dataframe\">\n",
       "  <thead>\n",
       "    <tr style=\"text-align: right;\">\n",
       "      <th></th>\n",
       "      <th>date</th>\n",
       "      <th>year</th>\n",
       "      <th>month</th>\n",
       "      <th>day</th>\n",
       "      <th>hours</th>\n",
       "      <th>order_id</th>\n",
       "      <th>quantity</th>\n",
       "      <th>price</th>\n",
       "      <th>total</th>\n",
       "    </tr>\n",
       "  </thead>\n",
       "  <tbody>\n",
       "    <tr>\n",
       "      <th>count</th>\n",
       "      <td>4.374000e+03</td>\n",
       "      <td>4374.000000</td>\n",
       "      <td>4374.000000</td>\n",
       "      <td>4374.000000</td>\n",
       "      <td>4374.000000</td>\n",
       "      <td>4374.000000</td>\n",
       "      <td>4374.000000</td>\n",
       "      <td>4374.000000</td>\n",
       "      <td>4374.000000</td>\n",
       "    </tr>\n",
       "    <tr>\n",
       "      <th>mean</th>\n",
       "      <td>2.018822e+09</td>\n",
       "      <td>2018.756287</td>\n",
       "      <td>6.452675</td>\n",
       "      <td>15.452904</td>\n",
       "      <td>14.000686</td>\n",
       "      <td>45758.475309</td>\n",
       "      <td>1.834019</td>\n",
       "      <td>295.532236</td>\n",
       "      <td>360.852080</td>\n",
       "    </tr>\n",
       "    <tr>\n",
       "      <th>std</th>\n",
       "      <td>4.050032e+05</td>\n",
       "      <td>0.429371</td>\n",
       "      <td>3.238789</td>\n",
       "      <td>8.903012</td>\n",
       "      <td>4.793065</td>\n",
       "      <td>27724.790582</td>\n",
       "      <td>3.234896</td>\n",
       "      <td>360.973823</td>\n",
       "      <td>387.213362</td>\n",
       "    </tr>\n",
       "    <tr>\n",
       "      <th>min</th>\n",
       "      <td>2.018100e+09</td>\n",
       "      <td>2018.000000</td>\n",
       "      <td>1.000000</td>\n",
       "      <td>1.000000</td>\n",
       "      <td>0.000000</td>\n",
       "      <td>12624.000000</td>\n",
       "      <td>1.000000</td>\n",
       "      <td>9.000000</td>\n",
       "      <td>9.000000</td>\n",
       "    </tr>\n",
       "    <tr>\n",
       "      <th>25%</th>\n",
       "      <td>2.019011e+09</td>\n",
       "      <td>2019.000000</td>\n",
       "      <td>4.000000</td>\n",
       "      <td>8.000000</td>\n",
       "      <td>11.000000</td>\n",
       "      <td>14755.000000</td>\n",
       "      <td>1.000000</td>\n",
       "      <td>90.000000</td>\n",
       "      <td>119.000000</td>\n",
       "    </tr>\n",
       "    <tr>\n",
       "      <th>50%</th>\n",
       "      <td>2.019042e+09</td>\n",
       "      <td>2019.000000</td>\n",
       "      <td>5.000000</td>\n",
       "      <td>15.000000</td>\n",
       "      <td>14.000000</td>\n",
       "      <td>68699.000000</td>\n",
       "      <td>1.000000</td>\n",
       "      <td>142.000000</td>\n",
       "      <td>180.000000</td>\n",
       "    </tr>\n",
       "    <tr>\n",
       "      <th>75%</th>\n",
       "      <td>2.019060e+09</td>\n",
       "      <td>2019.000000</td>\n",
       "      <td>10.000000</td>\n",
       "      <td>24.000000</td>\n",
       "      <td>17.000000</td>\n",
       "      <td>70622.250000</td>\n",
       "      <td>1.000000</td>\n",
       "      <td>329.000000</td>\n",
       "      <td>488.000000</td>\n",
       "    </tr>\n",
       "    <tr>\n",
       "      <th>max</th>\n",
       "      <td>2.019103e+09</td>\n",
       "      <td>2019.000000</td>\n",
       "      <td>12.000000</td>\n",
       "      <td>31.000000</td>\n",
       "      <td>23.000000</td>\n",
       "      <td>73164.000000</td>\n",
       "      <td>70.000000</td>\n",
       "      <td>1649.000000</td>\n",
       "      <td>1649.000000</td>\n",
       "    </tr>\n",
       "  </tbody>\n",
       "</table>\n",
       "</div>"
      ],
      "text/plain": [
       "               date         year        month          day        hours  \\\n",
       "count  4.374000e+03  4374.000000  4374.000000  4374.000000  4374.000000   \n",
       "mean   2.018822e+09  2018.756287     6.452675    15.452904    14.000686   \n",
       "std    4.050032e+05     0.429371     3.238789     8.903012     4.793065   \n",
       "min    2.018100e+09  2018.000000     1.000000     1.000000     0.000000   \n",
       "25%    2.019011e+09  2019.000000     4.000000     8.000000    11.000000   \n",
       "50%    2.019042e+09  2019.000000     5.000000    15.000000    14.000000   \n",
       "75%    2.019060e+09  2019.000000    10.000000    24.000000    17.000000   \n",
       "max    2.019103e+09  2019.000000    12.000000    31.000000    23.000000   \n",
       "\n",
       "           order_id     quantity        price        total  \n",
       "count   4374.000000  4374.000000  4374.000000  4374.000000  \n",
       "mean   45758.475309     1.834019   295.532236   360.852080  \n",
       "std    27724.790582     3.234896   360.973823   387.213362  \n",
       "min    12624.000000     1.000000     9.000000     9.000000  \n",
       "25%    14755.000000     1.000000    90.000000   119.000000  \n",
       "50%    68699.000000     1.000000   142.000000   180.000000  \n",
       "75%    70622.250000     1.000000   329.000000   488.000000  \n",
       "max    73164.000000    70.000000  1649.000000  1649.000000  "
      ]
     },
     "execution_count": 47,
     "metadata": {},
     "output_type": "execute_result"
    }
   ],
   "source": [
    "data_new.describe()"
   ]
  },
  {
   "cell_type": "markdown",
   "metadata": {},
   "source": [
    "Теперь стандратное отклонение несильно отличается от среднего."
   ]
  },
  {
   "cell_type": "markdown",
   "metadata": {},
   "source": [
    "## Проверка гипотез"
   ]
  },
  {
   "cell_type": "markdown",
   "metadata": {},
   "source": [
    "### Средняя выручка по розничным и оптовым покупателям различается"
   ]
  },
  {
   "cell_type": "markdown",
   "metadata": {},
   "source": [
    "Формулируем H0: \"Средняя выручка с заказов из розницы и опта равны\"\n",
    "\n",
    "Альтернативная H1: \"Средняя выручка с заказов из розницы и опта различается\""
   ]
  },
  {
   "cell_type": "code",
   "execution_count": 48,
   "metadata": {},
   "outputs": [],
   "source": [
    "#делаем новые срезы по оптовым и розничным покупателям\n",
    "\n",
    "retail2 = data_new.query('quantity <= 10 ')\n",
    "commerce2 = data_new.query('quantity > 10 ')"
   ]
  },
  {
   "cell_type": "code",
   "execution_count": 49,
   "metadata": {},
   "outputs": [],
   "source": [
    "#выведем суммарную вырчку по каждому клиенту в рознице и в опте\n",
    "profit_retail = retail2.groupby('order_id')['total'].sum().reset_index()\n",
    "profit_commerce = commerce2.groupby('order_id')['total'].sum().reset_index()\n"
   ]
  },
  {
   "cell_type": "code",
   "execution_count": 50,
   "metadata": {},
   "outputs": [],
   "source": [
    "alpha = .05"
   ]
  },
  {
   "cell_type": "code",
   "execution_count": 51,
   "metadata": {},
   "outputs": [],
   "source": [
    "results = st.ttest_ind(profit_retail['total'], profit_commerce['total'], equal_var = False)"
   ]
  },
  {
   "cell_type": "code",
   "execution_count": 52,
   "metadata": {},
   "outputs": [
    {
     "name": "stdout",
     "output_type": "stream",
     "text": [
      "p-значение: 0.0006315260765829226\n",
      "Отвергаем нулевую гипотезу\n"
     ]
    }
   ],
   "source": [
    "print('p-значение:', results.pvalue)\n",
    "\n",
    "if results.pvalue < alpha:\n",
    "    print('Отвергаем нулевую гипотезу')\n",
    "else:\n",
    "    print('Не получилось отвергнуть нулевую гипотезу')"
   ]
  },
  {
   "cell_type": "code",
   "execution_count": 53,
   "metadata": {},
   "outputs": [
    {
     "name": "stdout",
     "output_type": "stream",
     "text": [
      "670.6744906997343\n",
      "927.304347826087\n"
     ]
    }
   ],
   "source": [
    "#для того, чтобы убедиться в том, что тест сработал верно, просто посчитаем среднюю выручку по клиентам из розницы и опта\n",
    "print(profit_retail['total'].mean())\n",
    "print(profit_commerce['total'].mean())"
   ]
  },
  {
   "cell_type": "markdown",
   "metadata": {},
   "source": [
    "Вывод: действительно, средние выручки с заказов оптовых и розничных клиентов различны (ср чек по оптовикам больше на 38%)"
   ]
  },
  {
   "cell_type": "markdown",
   "metadata": {},
   "source": [
    "<div class=\"alert alert-success\">\n",
    "<b>👍 Успех:</b> Гипотезы сфорулированы и проверены\n",
    "</div>"
   ]
  },
  {
   "cell_type": "markdown",
   "metadata": {},
   "source": [
    "## Вывод"
   ]
  },
  {
   "cell_type": "markdown",
   "metadata": {},
   "source": [
    "Больше половины всей выручки магазин получает с розничных клиентов (71%). \n",
    "\n",
    "Самыми популярными категориями у таких покупателей стали \"Хоз товары\": на них приходится около 1200 оформленных заказов и 56 % всей выручки от продажи в рознице; и \"Цветы и растения\": почти 17% выручки и ~800 заказов.\n",
    "\n",
    "Именно в этих категориях находятся товары основного ассортимента: их заказывают чаще остальных.\n",
    "\n",
    "Лидерами по продаже в выделенных категориях стали:\n",
    " - сушилка\n",
    " - сумка-тележка\n",
    " - гладильная доска\n",
    " - рассада\n",
    " - пеларгония\n",
    " - томат\n",
    " - герань домашняя\n",
    " \n",
    "В заказаз розничных и оптовых покупателей ярко выражена сезонность: до июня количество проданных товаров стремительно растет (люди готовятся к дачному сезонну, к ремонтам и пр), затем спрос резко падает и остается низким до сентября. Затем рост в течение сентября-октября и опять спад.\n",
    "\n",
    "\n",
    "Средние выручки по заказам клиентов розницы и опта разнятся (670 и 927 руб)."
   ]
  },
  {
   "cell_type": "markdown",
   "metadata": {},
   "source": [
    "<div class=\"alert alert-success\">\n",
    "<b>👍 Успех:</b> Получился хороший проект, молодец! Предобработка данных очень важный этап работы, от этого очень сильно зависит результат анализа. В работе были последовательно выполнены все важные пункты, использовано достаточное количество хорошо подобранной визуализации, есть коментарии, рассуждения, развернутый итоговый вывод\n",
    "</div>"
   ]
  },
  {
   "cell_type": "code",
   "execution_count": null,
   "metadata": {},
   "outputs": [],
   "source": []
  }
 ],
 "metadata": {
  "ExecuteTimeLog": [
   {
    "duration": 4,
    "start_time": "2022-08-30T12:18:10.935Z"
   },
   {
    "duration": 3560,
    "start_time": "2022-08-30T12:55:41.824Z"
   },
   {
    "duration": 1106,
    "start_time": "2022-08-30T13:10:02.228Z"
   },
   {
    "duration": 981,
    "start_time": "2022-08-30T13:37:33.351Z"
   },
   {
    "duration": 15,
    "start_time": "2022-08-30T13:39:02.663Z"
   },
   {
    "duration": 70,
    "start_time": "2022-08-30T13:40:55.170Z"
   },
   {
    "duration": 9,
    "start_time": "2022-08-30T13:41:07.869Z"
   },
   {
    "duration": 11,
    "start_time": "2022-08-30T13:43:19.554Z"
   },
   {
    "duration": 6,
    "start_time": "2022-08-30T13:45:02.775Z"
   },
   {
    "duration": 5,
    "start_time": "2022-08-30T13:45:59.590Z"
   },
   {
    "duration": 5,
    "start_time": "2022-08-30T13:46:50.030Z"
   },
   {
    "duration": 6,
    "start_time": "2022-08-30T13:46:53.125Z"
   },
   {
    "duration": 6,
    "start_time": "2022-08-30T13:47:58.597Z"
   },
   {
    "duration": 6,
    "start_time": "2022-08-30T13:48:04.772Z"
   },
   {
    "duration": 7,
    "start_time": "2022-08-30T13:51:42.025Z"
   },
   {
    "duration": 9,
    "start_time": "2022-08-30T13:51:50.746Z"
   },
   {
    "duration": 8,
    "start_time": "2022-08-30T13:58:03.218Z"
   },
   {
    "duration": 10,
    "start_time": "2022-08-30T13:58:23.936Z"
   },
   {
    "duration": 2185,
    "start_time": "2022-09-03T10:49:43.197Z"
   },
   {
    "duration": 12,
    "start_time": "2022-09-03T10:49:46.399Z"
   },
   {
    "duration": 8,
    "start_time": "2022-09-03T10:49:50.487Z"
   },
   {
    "duration": 8,
    "start_time": "2022-09-03T10:49:51.583Z"
   },
   {
    "duration": 7,
    "start_time": "2022-09-03T10:49:55.391Z"
   },
   {
    "duration": 8,
    "start_time": "2022-09-03T10:50:40.333Z"
   },
   {
    "duration": 6,
    "start_time": "2022-09-03T10:51:00.486Z"
   },
   {
    "duration": 6,
    "start_time": "2022-09-03T10:51:09.567Z"
   },
   {
    "duration": 9,
    "start_time": "2022-09-03T10:51:19.685Z"
   },
   {
    "duration": 9,
    "start_time": "2022-09-03T10:51:30.997Z"
   },
   {
    "duration": 74,
    "start_time": "2022-09-03T10:51:48.229Z"
   },
   {
    "duration": 7,
    "start_time": "2022-09-03T10:52:16.476Z"
   },
   {
    "duration": 7,
    "start_time": "2022-09-03T10:52:23.220Z"
   },
   {
    "duration": 7,
    "start_time": "2022-09-03T10:52:28.519Z"
   },
   {
    "duration": 7,
    "start_time": "2022-09-03T10:52:35.891Z"
   },
   {
    "duration": 7,
    "start_time": "2022-09-03T10:54:06.338Z"
   },
   {
    "duration": 8,
    "start_time": "2022-09-03T10:54:15.689Z"
   },
   {
    "duration": 6,
    "start_time": "2022-09-03T10:54:20.834Z"
   },
   {
    "duration": 8,
    "start_time": "2022-09-03T10:54:26.609Z"
   },
   {
    "duration": 8,
    "start_time": "2022-09-03T11:01:17.179Z"
   },
   {
    "duration": 10,
    "start_time": "2022-09-03T11:01:25.403Z"
   },
   {
    "duration": 7,
    "start_time": "2022-09-03T11:05:29.838Z"
   },
   {
    "duration": 7,
    "start_time": "2022-09-03T11:06:00.638Z"
   },
   {
    "duration": 2257,
    "start_time": "2022-09-03T11:09:11.502Z"
   },
   {
    "duration": 10,
    "start_time": "2022-09-03T11:09:13.761Z"
   },
   {
    "duration": 11,
    "start_time": "2022-09-03T11:09:13.772Z"
   },
   {
    "duration": 6,
    "start_time": "2022-09-03T11:09:13.785Z"
   },
   {
    "duration": 5,
    "start_time": "2022-09-03T11:09:36.949Z"
   },
   {
    "duration": 5,
    "start_time": "2022-09-03T11:10:24.892Z"
   },
   {
    "duration": 5,
    "start_time": "2022-09-03T11:13:36.633Z"
   },
   {
    "duration": 15,
    "start_time": "2022-09-03T11:16:53.214Z"
   },
   {
    "duration": 15,
    "start_time": "2022-09-03T11:16:56.045Z"
   },
   {
    "duration": 1493,
    "start_time": "2022-09-03T14:07:48.663Z"
   },
   {
    "duration": 1045,
    "start_time": "2022-09-03T14:07:59.238Z"
   },
   {
    "duration": 1037,
    "start_time": "2022-09-03T14:09:18.488Z"
   },
   {
    "duration": 5,
    "start_time": "2022-09-03T14:10:20.845Z"
   },
   {
    "duration": 29,
    "start_time": "2022-09-03T14:12:57.002Z"
   },
   {
    "duration": 16,
    "start_time": "2022-09-03T14:13:02.242Z"
   },
   {
    "duration": 27,
    "start_time": "2022-09-03T14:13:30.687Z"
   },
   {
    "duration": 16,
    "start_time": "2022-09-03T14:13:32.076Z"
   },
   {
    "duration": 2325,
    "start_time": "2022-09-03T14:13:50.255Z"
   },
   {
    "duration": 11,
    "start_time": "2022-09-03T14:13:52.582Z"
   },
   {
    "duration": 8,
    "start_time": "2022-09-03T14:13:52.595Z"
   },
   {
    "duration": 7,
    "start_time": "2022-09-03T14:13:52.605Z"
   },
   {
    "duration": 25,
    "start_time": "2022-09-03T14:13:52.614Z"
   },
   {
    "duration": 8,
    "start_time": "2022-09-03T14:13:52.641Z"
   },
   {
    "duration": 16,
    "start_time": "2022-09-03T14:13:52.650Z"
   },
   {
    "duration": 919,
    "start_time": "2022-09-03T14:13:52.667Z"
   },
   {
    "duration": 31,
    "start_time": "2022-09-03T14:13:53.588Z"
   },
   {
    "duration": 19,
    "start_time": "2022-09-03T14:13:53.621Z"
   },
   {
    "duration": 25,
    "start_time": "2022-09-03T14:14:10.751Z"
   },
   {
    "duration": 16,
    "start_time": "2022-09-03T14:14:11.743Z"
   },
   {
    "duration": 998,
    "start_time": "2022-09-03T14:16:38.444Z"
   },
   {
    "duration": 34,
    "start_time": "2022-09-03T14:16:41.291Z"
   },
   {
    "duration": 25,
    "start_time": "2022-09-03T14:16:42.436Z"
   },
   {
    "duration": 30,
    "start_time": "2022-09-03T14:17:04.243Z"
   },
   {
    "duration": 18,
    "start_time": "2022-09-03T14:17:05.124Z"
   },
   {
    "duration": 25,
    "start_time": "2022-09-03T14:17:41.418Z"
   },
   {
    "duration": 16,
    "start_time": "2022-09-03T14:17:43.034Z"
   },
   {
    "duration": 76,
    "start_time": "2022-09-03T14:19:11.897Z"
   },
   {
    "duration": 28,
    "start_time": "2022-09-03T14:19:37.904Z"
   },
   {
    "duration": 27,
    "start_time": "2022-09-03T14:19:38.721Z"
   },
   {
    "duration": 11,
    "start_time": "2022-09-03T14:20:30.007Z"
   },
   {
    "duration": 28,
    "start_time": "2022-09-03T14:21:44.319Z"
   },
   {
    "duration": 23,
    "start_time": "2022-09-03T14:21:49.851Z"
   },
   {
    "duration": 27,
    "start_time": "2022-09-03T14:22:57.740Z"
   },
   {
    "duration": 18,
    "start_time": "2022-09-03T14:22:58.397Z"
   },
   {
    "duration": 28,
    "start_time": "2022-09-03T14:23:04.669Z"
   },
   {
    "duration": 16,
    "start_time": "2022-09-03T14:23:05.365Z"
   },
   {
    "duration": 25,
    "start_time": "2022-09-03T14:24:05.988Z"
   },
   {
    "duration": 20,
    "start_time": "2022-09-03T14:24:06.643Z"
   },
   {
    "duration": 2041,
    "start_time": "2022-09-03T14:28:12.140Z"
   },
   {
    "duration": 10,
    "start_time": "2022-09-03T14:28:14.184Z"
   },
   {
    "duration": 9,
    "start_time": "2022-09-03T14:28:14.196Z"
   },
   {
    "duration": 7,
    "start_time": "2022-09-03T14:28:14.207Z"
   },
   {
    "duration": 23,
    "start_time": "2022-09-03T14:28:14.216Z"
   },
   {
    "duration": 6,
    "start_time": "2022-09-03T14:28:14.241Z"
   },
   {
    "duration": 16,
    "start_time": "2022-09-03T14:28:14.248Z"
   },
   {
    "duration": 1076,
    "start_time": "2022-09-03T14:28:14.266Z"
   },
   {
    "duration": 9,
    "start_time": "2022-09-03T14:28:15.345Z"
   },
   {
    "duration": 29,
    "start_time": "2022-09-03T14:30:20.193Z"
   },
   {
    "duration": 20,
    "start_time": "2022-09-03T14:30:24.901Z"
   },
   {
    "duration": 1121,
    "start_time": "2022-09-03T14:43:36.740Z"
   },
   {
    "duration": 3,
    "start_time": "2022-09-03T14:44:13.795Z"
   },
   {
    "duration": 2089,
    "start_time": "2022-09-03T14:44:20.678Z"
   },
   {
    "duration": 12,
    "start_time": "2022-09-03T14:44:22.769Z"
   },
   {
    "duration": 16,
    "start_time": "2022-09-03T14:44:22.783Z"
   },
   {
    "duration": 10,
    "start_time": "2022-09-03T14:44:22.801Z"
   },
   {
    "duration": 30,
    "start_time": "2022-09-03T14:44:22.812Z"
   },
   {
    "duration": 17,
    "start_time": "2022-09-03T14:44:22.844Z"
   },
   {
    "duration": 917,
    "start_time": "2022-09-03T14:44:22.862Z"
   },
   {
    "duration": 10,
    "start_time": "2022-09-03T14:44:23.781Z"
   },
   {
    "duration": 36,
    "start_time": "2022-09-03T14:44:23.792Z"
   },
   {
    "duration": 17,
    "start_time": "2022-09-03T14:44:23.830Z"
   },
   {
    "duration": 1115,
    "start_time": "2022-09-03T14:44:23.848Z"
   },
   {
    "duration": 5,
    "start_time": "2022-09-03T14:44:24.965Z"
   },
   {
    "duration": 18,
    "start_time": "2022-09-03T14:44:31.601Z"
   },
   {
    "duration": 5,
    "start_time": "2022-09-03T14:45:12.065Z"
   },
   {
    "duration": 1672,
    "start_time": "2022-09-03T14:46:19.221Z"
   },
   {
    "duration": 11,
    "start_time": "2022-09-03T14:46:20.895Z"
   },
   {
    "duration": 17,
    "start_time": "2022-09-03T14:46:20.908Z"
   },
   {
    "duration": 11,
    "start_time": "2022-09-03T14:46:20.926Z"
   },
   {
    "duration": 14,
    "start_time": "2022-09-03T14:46:20.939Z"
   },
   {
    "duration": 17,
    "start_time": "2022-09-03T14:46:20.954Z"
   },
   {
    "duration": 927,
    "start_time": "2022-09-03T14:46:20.973Z"
   },
   {
    "duration": 9,
    "start_time": "2022-09-03T14:46:21.902Z"
   },
   {
    "duration": 33,
    "start_time": "2022-09-03T14:46:21.912Z"
   },
   {
    "duration": 17,
    "start_time": "2022-09-03T14:46:21.946Z"
   },
   {
    "duration": 1108,
    "start_time": "2022-09-03T14:46:21.964Z"
   },
   {
    "duration": 4,
    "start_time": "2022-09-03T14:46:23.074Z"
   },
   {
    "duration": 22,
    "start_time": "2022-09-03T14:46:23.080Z"
   },
   {
    "duration": 4,
    "start_time": "2022-09-03T14:46:23.105Z"
   },
   {
    "duration": 2171,
    "start_time": "2022-09-04T07:59:05.696Z"
   },
   {
    "duration": 11,
    "start_time": "2022-09-04T07:59:07.869Z"
   },
   {
    "duration": 13,
    "start_time": "2022-09-04T07:59:07.882Z"
   },
   {
    "duration": 8,
    "start_time": "2022-09-04T07:59:07.897Z"
   },
   {
    "duration": 7,
    "start_time": "2022-09-04T07:59:07.907Z"
   },
   {
    "duration": 17,
    "start_time": "2022-09-04T07:59:07.915Z"
   },
   {
    "duration": 1122,
    "start_time": "2022-09-04T07:59:07.933Z"
   },
   {
    "duration": 10,
    "start_time": "2022-09-04T07:59:09.057Z"
   },
   {
    "duration": 32,
    "start_time": "2022-09-04T07:59:09.069Z"
   },
   {
    "duration": 18,
    "start_time": "2022-09-04T07:59:09.103Z"
   },
   {
    "duration": 1767,
    "start_time": "2022-09-04T07:59:09.122Z"
   },
   {
    "duration": 5,
    "start_time": "2022-09-04T07:59:10.891Z"
   },
   {
    "duration": 24,
    "start_time": "2022-09-04T07:59:10.898Z"
   },
   {
    "duration": 7,
    "start_time": "2022-09-04T07:59:10.924Z"
   },
   {
    "duration": 7,
    "start_time": "2022-09-04T08:39:34.415Z"
   },
   {
    "duration": 21,
    "start_time": "2022-09-04T08:39:40.056Z"
   },
   {
    "duration": 8761,
    "start_time": "2022-09-04T08:40:23.429Z"
   },
   {
    "duration": 6,
    "start_time": "2022-09-04T08:40:52.022Z"
   },
   {
    "duration": 21,
    "start_time": "2022-09-04T08:40:53.409Z"
   },
   {
    "duration": 5,
    "start_time": "2022-09-04T08:44:11.112Z"
   },
   {
    "duration": 25,
    "start_time": "2022-09-04T08:44:11.857Z"
   },
   {
    "duration": 1082,
    "start_time": "2022-09-04T08:44:30.303Z"
   },
   {
    "duration": 13,
    "start_time": "2022-09-04T08:45:57.310Z"
   },
   {
    "duration": 1708,
    "start_time": "2022-09-04T08:47:37.105Z"
   },
   {
    "duration": 2027,
    "start_time": "2022-09-04T08:47:50.232Z"
   },
   {
    "duration": 11,
    "start_time": "2022-09-04T08:47:52.261Z"
   },
   {
    "duration": 18,
    "start_time": "2022-09-04T08:47:52.274Z"
   },
   {
    "duration": 19,
    "start_time": "2022-09-04T08:47:52.297Z"
   },
   {
    "duration": 93,
    "start_time": "2022-09-04T08:47:52.318Z"
   },
   {
    "duration": 56,
    "start_time": "2022-09-04T08:47:52.413Z"
   },
   {
    "duration": 1468,
    "start_time": "2022-09-04T08:47:52.471Z"
   },
   {
    "duration": 11,
    "start_time": "2022-09-04T08:47:53.941Z"
   },
   {
    "duration": 49,
    "start_time": "2022-09-04T08:47:53.954Z"
   },
   {
    "duration": 18,
    "start_time": "2022-09-04T08:47:54.005Z"
   },
   {
    "duration": 1324,
    "start_time": "2022-09-04T08:47:54.025Z"
   },
   {
    "duration": 5,
    "start_time": "2022-09-04T08:47:55.350Z"
   },
   {
    "duration": 20,
    "start_time": "2022-09-04T08:47:55.357Z"
   },
   {
    "duration": 7,
    "start_time": "2022-09-04T08:47:55.379Z"
   },
   {
    "duration": 99,
    "start_time": "2022-09-04T08:47:55.388Z"
   },
   {
    "duration": 0,
    "start_time": "2022-09-04T08:47:55.489Z"
   },
   {
    "duration": 8,
    "start_time": "2022-09-04T08:50:47.307Z"
   },
   {
    "duration": 8,
    "start_time": "2022-09-04T08:51:16.586Z"
   },
   {
    "duration": 9,
    "start_time": "2022-09-04T08:52:08.718Z"
   },
   {
    "duration": 6,
    "start_time": "2022-09-04T08:57:03.412Z"
   },
   {
    "duration": 2622,
    "start_time": "2022-09-04T08:57:33.317Z"
   },
   {
    "duration": 912,
    "start_time": "2022-09-04T08:58:34.960Z"
   },
   {
    "duration": 1102,
    "start_time": "2022-09-04T08:58:54.352Z"
   },
   {
    "duration": 1288,
    "start_time": "2022-09-04T08:59:11.539Z"
   },
   {
    "duration": 1072,
    "start_time": "2022-09-04T09:01:24.169Z"
   },
   {
    "duration": 932,
    "start_time": "2022-09-04T09:02:12.283Z"
   },
   {
    "duration": 850,
    "start_time": "2022-09-04T09:03:50.437Z"
   },
   {
    "duration": 599,
    "start_time": "2022-09-04T09:04:10.474Z"
   },
   {
    "duration": 735,
    "start_time": "2022-09-04T09:04:31.522Z"
   },
   {
    "duration": 984,
    "start_time": "2022-09-04T09:04:40.200Z"
   },
   {
    "duration": 287,
    "start_time": "2022-09-04T09:10:07.397Z"
   },
   {
    "duration": 10,
    "start_time": "2022-09-04T09:10:12.501Z"
   },
   {
    "duration": 8,
    "start_time": "2022-09-04T09:11:39.517Z"
   },
   {
    "duration": 70,
    "start_time": "2022-09-04T09:11:49.879Z"
   },
   {
    "duration": 10,
    "start_time": "2022-09-04T09:11:56.765Z"
   },
   {
    "duration": 2771,
    "start_time": "2022-09-04T09:12:14.070Z"
   },
   {
    "duration": 2976,
    "start_time": "2022-09-04T09:14:22.877Z"
   },
   {
    "duration": 13,
    "start_time": "2022-09-04T09:14:48.742Z"
   },
   {
    "duration": 889,
    "start_time": "2022-09-04T09:29:34.557Z"
   },
   {
    "duration": 8,
    "start_time": "2022-09-04T09:32:40.292Z"
   },
   {
    "duration": 23,
    "start_time": "2022-09-04T09:32:49.783Z"
   },
   {
    "duration": 10,
    "start_time": "2022-09-04T09:46:49.436Z"
   },
   {
    "duration": 2182,
    "start_time": "2022-09-04T09:47:16.131Z"
   },
   {
    "duration": 19,
    "start_time": "2022-09-04T09:47:18.316Z"
   },
   {
    "duration": 8,
    "start_time": "2022-09-04T09:47:18.337Z"
   },
   {
    "duration": 7,
    "start_time": "2022-09-04T09:47:18.348Z"
   },
   {
    "duration": 35,
    "start_time": "2022-09-04T09:47:18.357Z"
   },
   {
    "duration": 16,
    "start_time": "2022-09-04T09:47:18.394Z"
   },
   {
    "duration": 1182,
    "start_time": "2022-09-04T09:47:18.412Z"
   },
   {
    "duration": 10,
    "start_time": "2022-09-04T09:47:19.596Z"
   },
   {
    "duration": 33,
    "start_time": "2022-09-04T09:47:19.608Z"
   },
   {
    "duration": 18,
    "start_time": "2022-09-04T09:47:19.643Z"
   },
   {
    "duration": 1495,
    "start_time": "2022-09-04T09:47:19.662Z"
   },
   {
    "duration": 5,
    "start_time": "2022-09-04T09:47:21.159Z"
   },
   {
    "duration": 34,
    "start_time": "2022-09-04T09:47:21.166Z"
   },
   {
    "duration": 6,
    "start_time": "2022-09-04T09:47:21.202Z"
   },
   {
    "duration": 89,
    "start_time": "2022-09-04T09:47:21.209Z"
   },
   {
    "duration": 2169,
    "start_time": "2022-09-04T10:09:35.789Z"
   },
   {
    "duration": 21,
    "start_time": "2022-09-04T10:09:37.960Z"
   },
   {
    "duration": 14,
    "start_time": "2022-09-04T10:09:37.983Z"
   },
   {
    "duration": 11,
    "start_time": "2022-09-04T10:09:38.000Z"
   },
   {
    "duration": 12,
    "start_time": "2022-09-04T10:09:38.012Z"
   },
   {
    "duration": 16,
    "start_time": "2022-09-04T10:09:38.025Z"
   },
   {
    "duration": 1032,
    "start_time": "2022-09-04T10:09:38.043Z"
   },
   {
    "duration": 11,
    "start_time": "2022-09-04T10:09:39.077Z"
   },
   {
    "duration": 40,
    "start_time": "2022-09-04T10:09:39.090Z"
   },
   {
    "duration": 17,
    "start_time": "2022-09-04T10:09:39.132Z"
   },
   {
    "duration": 1327,
    "start_time": "2022-09-04T10:09:39.151Z"
   },
   {
    "duration": 6,
    "start_time": "2022-09-04T10:09:40.480Z"
   },
   {
    "duration": 44,
    "start_time": "2022-09-04T10:09:40.488Z"
   },
   {
    "duration": 12,
    "start_time": "2022-09-04T10:09:40.533Z"
   },
   {
    "duration": 14,
    "start_time": "2022-09-04T10:10:07.438Z"
   },
   {
    "duration": 6,
    "start_time": "2022-09-04T10:10:55.399Z"
   },
   {
    "duration": 14,
    "start_time": "2022-09-04T10:11:01.552Z"
   },
   {
    "duration": 10,
    "start_time": "2022-09-04T10:11:56.137Z"
   },
   {
    "duration": 12,
    "start_time": "2022-09-04T10:11:56.646Z"
   },
   {
    "duration": 23,
    "start_time": "2022-09-04T10:13:24.632Z"
   },
   {
    "duration": 13,
    "start_time": "2022-09-04T10:13:25.545Z"
   },
   {
    "duration": 1980,
    "start_time": "2022-09-04T10:16:19.635Z"
   },
   {
    "duration": 13,
    "start_time": "2022-09-04T10:16:21.616Z"
   },
   {
    "duration": 24,
    "start_time": "2022-09-04T10:16:21.630Z"
   },
   {
    "duration": 7,
    "start_time": "2022-09-04T10:16:21.656Z"
   },
   {
    "duration": 17,
    "start_time": "2022-09-04T10:16:21.665Z"
   },
   {
    "duration": 23,
    "start_time": "2022-09-04T10:16:21.684Z"
   },
   {
    "duration": 1152,
    "start_time": "2022-09-04T10:16:21.709Z"
   },
   {
    "duration": 10,
    "start_time": "2022-09-04T10:16:22.863Z"
   },
   {
    "duration": 33,
    "start_time": "2022-09-04T10:16:22.875Z"
   },
   {
    "duration": 16,
    "start_time": "2022-09-04T10:16:22.911Z"
   },
   {
    "duration": 1203,
    "start_time": "2022-09-04T10:16:22.929Z"
   },
   {
    "duration": 6,
    "start_time": "2022-09-04T10:16:24.134Z"
   },
   {
    "duration": 34,
    "start_time": "2022-09-04T10:16:24.142Z"
   },
   {
    "duration": 12,
    "start_time": "2022-09-04T10:16:24.178Z"
   },
   {
    "duration": 14,
    "start_time": "2022-09-04T10:16:24.192Z"
   },
   {
    "duration": 19,
    "start_time": "2022-09-04T10:16:24.207Z"
   },
   {
    "duration": 1944,
    "start_time": "2022-09-04T10:17:24.996Z"
   },
   {
    "duration": 13,
    "start_time": "2022-09-04T10:17:26.941Z"
   },
   {
    "duration": 12,
    "start_time": "2022-09-04T10:17:26.955Z"
   },
   {
    "duration": 7,
    "start_time": "2022-09-04T10:17:26.969Z"
   },
   {
    "duration": 5,
    "start_time": "2022-09-04T10:17:26.991Z"
   },
   {
    "duration": 20,
    "start_time": "2022-09-04T10:17:26.998Z"
   },
   {
    "duration": 987,
    "start_time": "2022-09-04T10:17:27.019Z"
   },
   {
    "duration": 10,
    "start_time": "2022-09-04T10:17:28.008Z"
   },
   {
    "duration": 33,
    "start_time": "2022-09-04T10:17:28.020Z"
   },
   {
    "duration": 18,
    "start_time": "2022-09-04T10:17:28.055Z"
   },
   {
    "duration": 1139,
    "start_time": "2022-09-04T10:17:28.092Z"
   },
   {
    "duration": 5,
    "start_time": "2022-09-04T10:17:29.233Z"
   },
   {
    "duration": 28,
    "start_time": "2022-09-04T10:17:29.240Z"
   },
   {
    "duration": 14,
    "start_time": "2022-09-04T10:17:29.270Z"
   },
   {
    "duration": 12,
    "start_time": "2022-09-04T10:17:29.292Z"
   },
   {
    "duration": 16,
    "start_time": "2022-09-04T10:17:29.306Z"
   },
   {
    "duration": 13,
    "start_time": "2022-09-04T10:25:31.046Z"
   },
   {
    "duration": 82,
    "start_time": "2022-09-04T10:29:24.275Z"
   },
   {
    "duration": 10,
    "start_time": "2022-09-04T10:30:06.647Z"
   },
   {
    "duration": 138,
    "start_time": "2022-09-04T10:31:22.763Z"
   },
   {
    "duration": 162,
    "start_time": "2022-09-04T10:32:24.921Z"
   },
   {
    "duration": 2445,
    "start_time": "2022-09-04T10:33:16.432Z"
   },
   {
    "duration": 12,
    "start_time": "2022-09-04T10:33:18.879Z"
   },
   {
    "duration": 12,
    "start_time": "2022-09-04T10:33:18.893Z"
   },
   {
    "duration": 12,
    "start_time": "2022-09-04T10:33:18.907Z"
   },
   {
    "duration": 11,
    "start_time": "2022-09-04T10:33:18.922Z"
   },
   {
    "duration": 25,
    "start_time": "2022-09-04T10:33:18.935Z"
   },
   {
    "duration": 1169,
    "start_time": "2022-09-04T10:33:18.963Z"
   },
   {
    "duration": 12,
    "start_time": "2022-09-04T10:33:20.134Z"
   },
   {
    "duration": 37,
    "start_time": "2022-09-04T10:33:20.148Z"
   },
   {
    "duration": 20,
    "start_time": "2022-09-04T10:33:20.188Z"
   },
   {
    "duration": 1566,
    "start_time": "2022-09-04T10:33:20.210Z"
   },
   {
    "duration": 5,
    "start_time": "2022-09-04T10:33:21.778Z"
   },
   {
    "duration": 29,
    "start_time": "2022-09-04T10:33:21.785Z"
   },
   {
    "duration": 12,
    "start_time": "2022-09-04T10:33:21.816Z"
   },
   {
    "duration": 24,
    "start_time": "2022-09-04T10:33:21.830Z"
   },
   {
    "duration": 17,
    "start_time": "2022-09-04T10:33:21.856Z"
   },
   {
    "duration": 29,
    "start_time": "2022-09-04T10:33:21.876Z"
   },
   {
    "duration": 286,
    "start_time": "2022-09-04T10:33:21.907Z"
   },
   {
    "duration": 227,
    "start_time": "2022-09-04T10:38:05.310Z"
   },
   {
    "duration": 11,
    "start_time": "2022-09-04T10:38:36.881Z"
   },
   {
    "duration": 182,
    "start_time": "2022-09-04T10:38:37.779Z"
   },
   {
    "duration": 13,
    "start_time": "2022-09-04T10:39:56.741Z"
   },
   {
    "duration": 7,
    "start_time": "2022-09-04T10:40:11.327Z"
   },
   {
    "duration": 83,
    "start_time": "2022-09-04T10:40:12.835Z"
   },
   {
    "duration": 298,
    "start_time": "2022-09-04T10:41:01.845Z"
   },
   {
    "duration": 8,
    "start_time": "2022-09-04T10:53:44.936Z"
   },
   {
    "duration": 164,
    "start_time": "2022-09-04T10:54:38.733Z"
   },
   {
    "duration": 9,
    "start_time": "2022-09-04T11:08:08.891Z"
   },
   {
    "duration": 175,
    "start_time": "2022-09-04T11:09:00.480Z"
   },
   {
    "duration": 179,
    "start_time": "2022-09-04T11:09:39.636Z"
   },
   {
    "duration": 2394,
    "start_time": "2022-09-04T11:09:46.798Z"
   },
   {
    "duration": 13,
    "start_time": "2022-09-04T11:09:49.195Z"
   },
   {
    "duration": 17,
    "start_time": "2022-09-04T11:09:49.210Z"
   },
   {
    "duration": 11,
    "start_time": "2022-09-04T11:09:49.229Z"
   },
   {
    "duration": 22,
    "start_time": "2022-09-04T11:09:49.242Z"
   },
   {
    "duration": 20,
    "start_time": "2022-09-04T11:09:49.266Z"
   },
   {
    "duration": 1156,
    "start_time": "2022-09-04T11:09:49.292Z"
   },
   {
    "duration": 11,
    "start_time": "2022-09-04T11:09:50.451Z"
   },
   {
    "duration": 42,
    "start_time": "2022-09-04T11:09:50.463Z"
   },
   {
    "duration": 19,
    "start_time": "2022-09-04T11:09:50.508Z"
   },
   {
    "duration": 1948,
    "start_time": "2022-09-04T11:09:50.529Z"
   },
   {
    "duration": 7,
    "start_time": "2022-09-04T11:09:52.479Z"
   },
   {
    "duration": 30,
    "start_time": "2022-09-04T11:09:52.488Z"
   },
   {
    "duration": 13,
    "start_time": "2022-09-04T11:09:52.520Z"
   },
   {
    "duration": 28,
    "start_time": "2022-09-04T11:09:52.535Z"
   },
   {
    "duration": 13,
    "start_time": "2022-09-04T11:09:52.566Z"
   },
   {
    "duration": 13,
    "start_time": "2022-09-04T11:09:52.581Z"
   },
   {
    "duration": 201,
    "start_time": "2022-09-04T11:09:52.595Z"
   },
   {
    "duration": 7,
    "start_time": "2022-09-04T11:09:52.798Z"
   },
   {
    "duration": 189,
    "start_time": "2022-09-04T11:09:52.807Z"
   },
   {
    "duration": 9,
    "start_time": "2022-09-04T11:09:52.997Z"
   },
   {
    "duration": 188,
    "start_time": "2022-09-04T11:09:53.007Z"
   },
   {
    "duration": 269,
    "start_time": "2022-09-04T11:15:54.759Z"
   },
   {
    "duration": 198,
    "start_time": "2022-09-04T11:16:05.309Z"
   },
   {
    "duration": 185,
    "start_time": "2022-09-04T11:16:18.045Z"
   },
   {
    "duration": 214,
    "start_time": "2022-09-04T11:16:26.390Z"
   },
   {
    "duration": 174,
    "start_time": "2022-09-04T11:16:42.276Z"
   },
   {
    "duration": 194,
    "start_time": "2022-09-04T11:16:50.142Z"
   },
   {
    "duration": 197,
    "start_time": "2022-09-04T11:16:58.161Z"
   },
   {
    "duration": 219,
    "start_time": "2022-09-04T11:17:03.196Z"
   },
   {
    "duration": 2091,
    "start_time": "2022-09-04T11:18:23.768Z"
   },
   {
    "duration": 195,
    "start_time": "2022-09-04T11:20:41.048Z"
   },
   {
    "duration": 158,
    "start_time": "2022-09-04T11:22:02.380Z"
   },
   {
    "duration": 17,
    "start_time": "2022-09-04T11:22:20.985Z"
   },
   {
    "duration": 12,
    "start_time": "2022-09-04T11:22:30.692Z"
   },
   {
    "duration": 1597,
    "start_time": "2022-09-04T11:23:00.794Z"
   },
   {
    "duration": 15,
    "start_time": "2022-09-04T11:23:26.587Z"
   },
   {
    "duration": 12,
    "start_time": "2022-09-04T11:23:32.350Z"
   },
   {
    "duration": 98,
    "start_time": "2022-09-04T11:24:23.172Z"
   },
   {
    "duration": 15,
    "start_time": "2022-09-04T11:24:33.165Z"
   },
   {
    "duration": 12,
    "start_time": "2022-09-04T11:24:52.677Z"
   },
   {
    "duration": 12,
    "start_time": "2022-09-04T11:25:10.054Z"
   },
   {
    "duration": 137,
    "start_time": "2022-09-04T11:25:48.765Z"
   },
   {
    "duration": 117,
    "start_time": "2022-09-04T11:26:28.938Z"
   },
   {
    "duration": 145,
    "start_time": "2022-09-04T11:28:35.960Z"
   },
   {
    "duration": 92,
    "start_time": "2022-09-04T11:28:40.443Z"
   },
   {
    "duration": 130,
    "start_time": "2022-09-04T11:28:47.417Z"
   },
   {
    "duration": 133,
    "start_time": "2022-09-04T11:29:03.442Z"
   },
   {
    "duration": 207,
    "start_time": "2022-09-04T11:29:16.149Z"
   },
   {
    "duration": 128,
    "start_time": "2022-09-04T11:29:59.909Z"
   },
   {
    "duration": 126,
    "start_time": "2022-09-04T11:30:07.946Z"
   },
   {
    "duration": 166,
    "start_time": "2022-09-04T11:30:24.616Z"
   },
   {
    "duration": 172,
    "start_time": "2022-09-04T11:30:56.517Z"
   },
   {
    "duration": 200,
    "start_time": "2022-09-04T11:32:29.464Z"
   },
   {
    "duration": 217,
    "start_time": "2022-09-04T11:33:22.562Z"
   },
   {
    "duration": 90,
    "start_time": "2022-09-04T11:33:44.453Z"
   },
   {
    "duration": 187,
    "start_time": "2022-09-04T11:33:58.857Z"
   },
   {
    "duration": 20,
    "start_time": "2022-09-04T11:34:22.758Z"
   },
   {
    "duration": 192,
    "start_time": "2022-09-04T11:34:34.809Z"
   },
   {
    "duration": 298,
    "start_time": "2022-09-04T11:35:43.155Z"
   },
   {
    "duration": 13,
    "start_time": "2022-09-04T11:35:50.020Z"
   },
   {
    "duration": 211,
    "start_time": "2022-09-04T11:35:56.517Z"
   },
   {
    "duration": 199,
    "start_time": "2022-09-04T11:36:42.461Z"
   },
   {
    "duration": 203,
    "start_time": "2022-09-04T11:37:03.118Z"
   },
   {
    "duration": 309,
    "start_time": "2022-09-04T11:37:20.716Z"
   },
   {
    "duration": 204,
    "start_time": "2022-09-04T11:37:26.148Z"
   },
   {
    "duration": 17,
    "start_time": "2022-09-04T12:15:44.916Z"
   },
   {
    "duration": 21,
    "start_time": "2022-09-04T12:16:04.486Z"
   },
   {
    "duration": 12,
    "start_time": "2022-09-04T12:16:36.060Z"
   },
   {
    "duration": 18,
    "start_time": "2022-09-04T12:16:55.546Z"
   },
   {
    "duration": 26,
    "start_time": "2022-09-04T12:17:21.070Z"
   },
   {
    "duration": 14,
    "start_time": "2022-09-04T12:17:31.746Z"
   },
   {
    "duration": 22,
    "start_time": "2022-09-04T12:17:46.412Z"
   },
   {
    "duration": 8,
    "start_time": "2022-09-04T12:38:48.623Z"
   },
   {
    "duration": 8,
    "start_time": "2022-09-04T12:39:13.420Z"
   },
   {
    "duration": 8,
    "start_time": "2022-09-04T12:39:19.734Z"
   },
   {
    "duration": 6,
    "start_time": "2022-09-04T12:41:10.176Z"
   },
   {
    "duration": 21,
    "start_time": "2022-09-04T12:41:51.190Z"
   },
   {
    "duration": 12,
    "start_time": "2022-09-04T12:42:07.421Z"
   },
   {
    "duration": 20,
    "start_time": "2022-09-04T12:42:28.393Z"
   },
   {
    "duration": 11,
    "start_time": "2022-09-04T12:42:48.543Z"
   },
   {
    "duration": 10,
    "start_time": "2022-09-04T12:43:15.709Z"
   },
   {
    "duration": 16,
    "start_time": "2022-09-04T12:43:38.558Z"
   },
   {
    "duration": 14,
    "start_time": "2022-09-04T12:43:51.732Z"
   },
   {
    "duration": 5,
    "start_time": "2022-09-04T12:44:39.914Z"
   },
   {
    "duration": 12,
    "start_time": "2022-09-04T12:45:39.117Z"
   },
   {
    "duration": 6,
    "start_time": "2022-09-04T12:46:43.513Z"
   },
   {
    "duration": 5,
    "start_time": "2022-09-04T12:47:00.515Z"
   },
   {
    "duration": 12,
    "start_time": "2022-09-04T12:49:09.016Z"
   },
   {
    "duration": 5,
    "start_time": "2022-09-04T12:53:12.973Z"
   },
   {
    "duration": 9,
    "start_time": "2022-09-04T12:53:54.669Z"
   },
   {
    "duration": 11,
    "start_time": "2022-09-04T12:54:27.319Z"
   },
   {
    "duration": 7,
    "start_time": "2022-09-04T12:54:39.316Z"
   },
   {
    "duration": 160,
    "start_time": "2022-09-04T12:55:41.722Z"
   },
   {
    "duration": 151,
    "start_time": "2022-09-04T12:55:54.327Z"
   },
   {
    "duration": 264,
    "start_time": "2022-09-04T12:56:00.820Z"
   },
   {
    "duration": 333,
    "start_time": "2022-09-04T12:57:59.219Z"
   },
   {
    "duration": 1722,
    "start_time": "2022-09-04T12:58:06.618Z"
   },
   {
    "duration": 284,
    "start_time": "2022-09-04T12:58:12.317Z"
   },
   {
    "duration": 110,
    "start_time": "2022-09-04T12:58:18.474Z"
   },
   {
    "duration": 98,
    "start_time": "2022-09-04T12:58:23.268Z"
   },
   {
    "duration": 440,
    "start_time": "2022-09-04T12:58:26.849Z"
   },
   {
    "duration": 356,
    "start_time": "2022-09-04T12:58:51.150Z"
   },
   {
    "duration": 409,
    "start_time": "2022-09-04T12:59:10.261Z"
   },
   {
    "duration": 370,
    "start_time": "2022-09-04T13:00:19.493Z"
   },
   {
    "duration": 2857,
    "start_time": "2022-09-05T08:50:08.496Z"
   },
   {
    "duration": 11,
    "start_time": "2022-09-05T08:50:11.356Z"
   },
   {
    "duration": 13,
    "start_time": "2022-09-05T08:50:11.368Z"
   },
   {
    "duration": 8,
    "start_time": "2022-09-05T08:50:11.382Z"
   },
   {
    "duration": 9,
    "start_time": "2022-09-05T08:50:11.392Z"
   },
   {
    "duration": 17,
    "start_time": "2022-09-05T08:50:11.403Z"
   },
   {
    "duration": 981,
    "start_time": "2022-09-05T08:50:11.422Z"
   },
   {
    "duration": 9,
    "start_time": "2022-09-05T08:50:12.405Z"
   },
   {
    "duration": 30,
    "start_time": "2022-09-05T08:50:12.416Z"
   },
   {
    "duration": 22,
    "start_time": "2022-09-05T08:50:12.447Z"
   },
   {
    "duration": 1840,
    "start_time": "2022-09-05T08:50:12.471Z"
   },
   {
    "duration": 6,
    "start_time": "2022-09-05T08:50:14.313Z"
   },
   {
    "duration": 24,
    "start_time": "2022-09-05T08:50:14.321Z"
   },
   {
    "duration": 21,
    "start_time": "2022-09-05T08:50:14.349Z"
   },
   {
    "duration": 17,
    "start_time": "2022-09-05T08:50:14.373Z"
   },
   {
    "duration": 14,
    "start_time": "2022-09-05T08:50:14.393Z"
   },
   {
    "duration": 8,
    "start_time": "2022-09-05T08:50:14.409Z"
   },
   {
    "duration": 233,
    "start_time": "2022-09-05T08:50:14.419Z"
   },
   {
    "duration": 17,
    "start_time": "2022-09-05T08:50:14.654Z"
   },
   {
    "duration": 195,
    "start_time": "2022-09-05T08:50:14.673Z"
   },
   {
    "duration": 9,
    "start_time": "2022-09-05T08:50:14.870Z"
   },
   {
    "duration": 208,
    "start_time": "2022-09-05T08:50:14.882Z"
   },
   {
    "duration": 186,
    "start_time": "2022-09-05T08:50:15.092Z"
   },
   {
    "duration": 11,
    "start_time": "2022-09-05T08:50:15.280Z"
   },
   {
    "duration": 7,
    "start_time": "2022-09-05T08:50:15.292Z"
   },
   {
    "duration": 345,
    "start_time": "2022-09-05T08:50:15.301Z"
   },
   {
    "duration": 51,
    "start_time": "2022-09-05T11:26:29.176Z"
   },
   {
    "duration": 41,
    "start_time": "2022-09-05T11:27:31.281Z"
   },
   {
    "duration": 41,
    "start_time": "2022-09-05T11:27:38.879Z"
   },
   {
    "duration": 221,
    "start_time": "2022-09-05T11:27:43.976Z"
   },
   {
    "duration": 6,
    "start_time": "2022-09-05T11:28:14.785Z"
   },
   {
    "duration": 22,
    "start_time": "2022-09-05T11:28:19.382Z"
   },
   {
    "duration": 59,
    "start_time": "2022-09-05T11:31:54.002Z"
   },
   {
    "duration": 6,
    "start_time": "2022-09-05T11:32:14.394Z"
   },
   {
    "duration": 22,
    "start_time": "2022-09-05T11:32:15.743Z"
   },
   {
    "duration": 4,
    "start_time": "2022-09-05T11:32:38.153Z"
   },
   {
    "duration": 9,
    "start_time": "2022-09-05T11:33:15.993Z"
   },
   {
    "duration": 26,
    "start_time": "2022-09-05T11:33:19.640Z"
   },
   {
    "duration": 2732,
    "start_time": "2022-09-05T11:33:46.782Z"
   },
   {
    "duration": 11,
    "start_time": "2022-09-05T11:33:49.516Z"
   },
   {
    "duration": 28,
    "start_time": "2022-09-05T11:33:49.528Z"
   },
   {
    "duration": 30,
    "start_time": "2022-09-05T11:33:49.559Z"
   },
   {
    "duration": 20,
    "start_time": "2022-09-05T11:33:49.591Z"
   },
   {
    "duration": 53,
    "start_time": "2022-09-05T11:33:49.613Z"
   },
   {
    "duration": 1129,
    "start_time": "2022-09-05T11:33:49.668Z"
   },
   {
    "duration": 10,
    "start_time": "2022-09-05T11:33:50.798Z"
   },
   {
    "duration": 61,
    "start_time": "2022-09-05T11:33:50.809Z"
   },
   {
    "duration": 17,
    "start_time": "2022-09-05T11:33:50.873Z"
   },
   {
    "duration": 1639,
    "start_time": "2022-09-05T11:33:50.892Z"
   },
   {
    "duration": 6,
    "start_time": "2022-09-05T11:33:52.532Z"
   },
   {
    "duration": 25,
    "start_time": "2022-09-05T11:33:52.539Z"
   },
   {
    "duration": 4,
    "start_time": "2022-09-05T11:33:52.566Z"
   },
   {
    "duration": 14,
    "start_time": "2022-09-05T11:33:52.572Z"
   },
   {
    "duration": 14,
    "start_time": "2022-09-05T11:33:52.588Z"
   },
   {
    "duration": 6,
    "start_time": "2022-09-05T11:33:52.604Z"
   },
   {
    "duration": 204,
    "start_time": "2022-09-05T11:33:52.612Z"
   },
   {
    "duration": 7,
    "start_time": "2022-09-05T11:33:52.817Z"
   },
   {
    "duration": 182,
    "start_time": "2022-09-05T11:33:52.826Z"
   },
   {
    "duration": 9,
    "start_time": "2022-09-05T11:33:53.009Z"
   },
   {
    "duration": 175,
    "start_time": "2022-09-05T11:33:53.020Z"
   },
   {
    "duration": 176,
    "start_time": "2022-09-05T11:33:53.197Z"
   },
   {
    "duration": 12,
    "start_time": "2022-09-05T11:33:53.374Z"
   },
   {
    "duration": 8,
    "start_time": "2022-09-05T11:33:53.388Z"
   },
   {
    "duration": 294,
    "start_time": "2022-09-05T11:33:53.397Z"
   },
   {
    "duration": 9,
    "start_time": "2022-09-05T11:33:53.692Z"
   },
   {
    "duration": 23,
    "start_time": "2022-09-05T11:33:53.704Z"
   },
   {
    "duration": 87,
    "start_time": "2022-09-05T11:34:39.172Z"
   },
   {
    "duration": 3011,
    "start_time": "2022-09-05T11:34:43.889Z"
   },
   {
    "duration": 15,
    "start_time": "2022-09-05T11:34:46.902Z"
   },
   {
    "duration": 11,
    "start_time": "2022-09-05T11:34:46.919Z"
   },
   {
    "duration": 7,
    "start_time": "2022-09-05T11:34:46.932Z"
   },
   {
    "duration": 30,
    "start_time": "2022-09-05T11:34:46.941Z"
   },
   {
    "duration": 16,
    "start_time": "2022-09-05T11:34:46.973Z"
   },
   {
    "duration": 863,
    "start_time": "2022-09-05T11:34:46.990Z"
   },
   {
    "duration": 9,
    "start_time": "2022-09-05T11:34:47.855Z"
   },
   {
    "duration": 31,
    "start_time": "2022-09-05T11:34:47.866Z"
   },
   {
    "duration": 18,
    "start_time": "2022-09-05T11:34:47.899Z"
   },
   {
    "duration": 1247,
    "start_time": "2022-09-05T11:34:47.918Z"
   },
   {
    "duration": 5,
    "start_time": "2022-09-05T11:34:49.167Z"
   },
   {
    "duration": 22,
    "start_time": "2022-09-05T11:34:49.173Z"
   },
   {
    "duration": 6,
    "start_time": "2022-09-05T11:34:49.197Z"
   },
   {
    "duration": 6,
    "start_time": "2022-09-05T11:34:49.204Z"
   },
   {
    "duration": 13,
    "start_time": "2022-09-05T11:34:49.212Z"
   },
   {
    "duration": 6,
    "start_time": "2022-09-05T11:34:49.227Z"
   },
   {
    "duration": 236,
    "start_time": "2022-09-05T11:34:49.234Z"
   },
   {
    "duration": 7,
    "start_time": "2022-09-05T11:34:49.471Z"
   },
   {
    "duration": 208,
    "start_time": "2022-09-05T11:34:49.480Z"
   },
   {
    "duration": 8,
    "start_time": "2022-09-05T11:34:49.691Z"
   },
   {
    "duration": 189,
    "start_time": "2022-09-05T11:34:49.701Z"
   },
   {
    "duration": 180,
    "start_time": "2022-09-05T11:34:49.892Z"
   },
   {
    "duration": 11,
    "start_time": "2022-09-05T11:34:50.074Z"
   },
   {
    "duration": 6,
    "start_time": "2022-09-05T11:34:50.087Z"
   },
   {
    "duration": 299,
    "start_time": "2022-09-05T11:34:50.095Z"
   },
   {
    "duration": 10,
    "start_time": "2022-09-05T11:34:50.395Z"
   },
   {
    "duration": 107,
    "start_time": "2022-09-05T11:34:50.407Z"
   },
   {
    "duration": 6,
    "start_time": "2022-09-05T11:36:26.705Z"
   },
   {
    "duration": 3,
    "start_time": "2022-09-05T11:38:16.143Z"
   },
   {
    "duration": 8,
    "start_time": "2022-09-05T11:39:58.245Z"
   },
   {
    "duration": 6,
    "start_time": "2022-09-05T11:41:53.571Z"
   },
   {
    "duration": 310,
    "start_time": "2022-09-05T11:43:49.393Z"
   },
   {
    "duration": 173,
    "start_time": "2022-09-05T11:44:25.537Z"
   },
   {
    "duration": 168,
    "start_time": "2022-09-05T11:50:13.034Z"
   },
   {
    "duration": 149,
    "start_time": "2022-09-05T11:50:34.913Z"
   },
   {
    "duration": 151,
    "start_time": "2022-09-05T11:50:39.473Z"
   },
   {
    "duration": 5,
    "start_time": "2022-09-05T11:50:45.882Z"
   },
   {
    "duration": 154,
    "start_time": "2022-09-05T11:50:47.161Z"
   },
   {
    "duration": 130,
    "start_time": "2022-09-05T11:50:47.897Z"
   },
   {
    "duration": 7,
    "start_time": "2022-09-05T11:54:09.478Z"
   },
   {
    "duration": 140,
    "start_time": "2022-09-05T11:54:11.101Z"
   },
   {
    "duration": 142,
    "start_time": "2022-09-05T11:54:13.309Z"
   },
   {
    "duration": 7,
    "start_time": "2022-09-05T11:55:42.939Z"
   },
   {
    "duration": 9,
    "start_time": "2022-09-05T11:55:51.587Z"
   },
   {
    "duration": 176,
    "start_time": "2022-09-05T11:55:52.558Z"
   },
   {
    "duration": 7,
    "start_time": "2022-09-05T11:56:22.347Z"
   },
   {
    "duration": 171,
    "start_time": "2022-09-05T11:56:25.931Z"
   },
   {
    "duration": 7,
    "start_time": "2022-09-05T11:56:41.859Z"
   },
   {
    "duration": 254,
    "start_time": "2022-09-05T11:56:47.011Z"
   },
   {
    "duration": 178,
    "start_time": "2022-09-05T11:56:51.547Z"
   },
   {
    "duration": 2732,
    "start_time": "2022-09-05T11:58:53.853Z"
   },
   {
    "duration": 14,
    "start_time": "2022-09-05T11:58:56.587Z"
   },
   {
    "duration": 16,
    "start_time": "2022-09-05T11:58:56.603Z"
   },
   {
    "duration": 13,
    "start_time": "2022-09-05T11:58:56.621Z"
   },
   {
    "duration": 13,
    "start_time": "2022-09-05T11:58:56.637Z"
   },
   {
    "duration": 20,
    "start_time": "2022-09-05T11:58:56.667Z"
   },
   {
    "duration": 1072,
    "start_time": "2022-09-05T11:58:56.690Z"
   },
   {
    "duration": 10,
    "start_time": "2022-09-05T11:58:57.764Z"
   },
   {
    "duration": 33,
    "start_time": "2022-09-05T11:58:57.776Z"
   },
   {
    "duration": 19,
    "start_time": "2022-09-05T11:58:57.810Z"
   },
   {
    "duration": 1343,
    "start_time": "2022-09-05T11:58:57.831Z"
   },
   {
    "duration": 6,
    "start_time": "2022-09-05T11:58:59.176Z"
   },
   {
    "duration": 39,
    "start_time": "2022-09-05T11:58:59.183Z"
   },
   {
    "duration": 13,
    "start_time": "2022-09-05T11:58:59.225Z"
   },
   {
    "duration": 21,
    "start_time": "2022-09-05T11:58:59.240Z"
   },
   {
    "duration": 18,
    "start_time": "2022-09-05T11:58:59.263Z"
   },
   {
    "duration": 16,
    "start_time": "2022-09-05T11:58:59.283Z"
   },
   {
    "duration": 201,
    "start_time": "2022-09-05T11:58:59.301Z"
   },
   {
    "duration": 8,
    "start_time": "2022-09-05T11:58:59.504Z"
   },
   {
    "duration": 229,
    "start_time": "2022-09-05T11:58:59.514Z"
   },
   {
    "duration": 10,
    "start_time": "2022-09-05T11:58:59.745Z"
   },
   {
    "duration": 182,
    "start_time": "2022-09-05T11:58:59.768Z"
   },
   {
    "duration": 192,
    "start_time": "2022-09-05T11:58:59.952Z"
   },
   {
    "duration": 12,
    "start_time": "2022-09-05T11:59:00.145Z"
   },
   {
    "duration": 10,
    "start_time": "2022-09-05T11:59:00.167Z"
   },
   {
    "duration": 314,
    "start_time": "2022-09-05T11:59:00.179Z"
   },
   {
    "duration": 9,
    "start_time": "2022-09-05T11:59:00.495Z"
   },
   {
    "duration": 4,
    "start_time": "2022-09-05T11:59:00.506Z"
   },
   {
    "duration": 11,
    "start_time": "2022-09-05T11:59:00.511Z"
   },
   {
    "duration": 261,
    "start_time": "2022-09-05T11:59:00.523Z"
   },
   {
    "duration": 161,
    "start_time": "2022-09-05T11:59:00.787Z"
   },
   {
    "duration": 349,
    "start_time": "2022-09-05T12:03:29.302Z"
   },
   {
    "duration": 8,
    "start_time": "2022-09-05T12:03:51.711Z"
   },
   {
    "duration": 15,
    "start_time": "2022-09-05T12:04:04.565Z"
   },
   {
    "duration": 6,
    "start_time": "2022-09-05T12:04:08.518Z"
   },
   {
    "duration": 7,
    "start_time": "2022-09-05T12:04:21.317Z"
   },
   {
    "duration": 156,
    "start_time": "2022-09-05T12:04:22.549Z"
   },
   {
    "duration": 11,
    "start_time": "2022-09-05T12:04:34.117Z"
   },
   {
    "duration": 151,
    "start_time": "2022-09-05T12:04:54.068Z"
   },
   {
    "duration": 12,
    "start_time": "2022-09-05T12:08:01.729Z"
   },
   {
    "duration": 132,
    "start_time": "2022-09-05T12:08:11.633Z"
   },
   {
    "duration": 134,
    "start_time": "2022-09-05T12:08:51.129Z"
   },
   {
    "duration": 116,
    "start_time": "2022-09-05T12:09:07.937Z"
   },
   {
    "duration": 10,
    "start_time": "2022-09-05T12:09:19.489Z"
   },
   {
    "duration": 135,
    "start_time": "2022-09-05T12:11:02.854Z"
   },
   {
    "duration": 143,
    "start_time": "2022-09-05T12:11:16.886Z"
   },
   {
    "duration": 17,
    "start_time": "2022-09-05T12:11:43.741Z"
   },
   {
    "duration": 14,
    "start_time": "2022-09-05T12:11:57.149Z"
   },
   {
    "duration": 138,
    "start_time": "2022-09-05T12:11:58.373Z"
   },
   {
    "duration": 15,
    "start_time": "2022-09-05T12:12:10.916Z"
   },
   {
    "duration": 20,
    "start_time": "2022-09-05T12:12:14.685Z"
   },
   {
    "duration": 142,
    "start_time": "2022-09-05T12:12:15.772Z"
   },
   {
    "duration": 7,
    "start_time": "2022-09-05T12:12:34.443Z"
   },
   {
    "duration": 236,
    "start_time": "2022-09-05T12:12:51.174Z"
   },
   {
    "duration": 163,
    "start_time": "2022-09-05T12:12:57.900Z"
   },
   {
    "duration": 172,
    "start_time": "2022-09-05T12:14:57.483Z"
   },
   {
    "duration": 164,
    "start_time": "2022-09-05T12:15:05.193Z"
   },
   {
    "duration": 155,
    "start_time": "2022-09-05T12:15:39.009Z"
   },
   {
    "duration": 166,
    "start_time": "2022-09-05T12:15:46.578Z"
   },
   {
    "duration": 160,
    "start_time": "2022-09-05T12:15:51.201Z"
   },
   {
    "duration": 161,
    "start_time": "2022-09-05T12:16:07.440Z"
   },
   {
    "duration": 152,
    "start_time": "2022-09-05T12:16:25.632Z"
   },
   {
    "duration": 171,
    "start_time": "2022-09-05T12:17:17.279Z"
   },
   {
    "duration": 151,
    "start_time": "2022-09-05T12:17:32.086Z"
   },
   {
    "duration": 268,
    "start_time": "2022-09-05T12:18:36.709Z"
   },
   {
    "duration": 208,
    "start_time": "2022-09-05T12:19:13.173Z"
   },
   {
    "duration": 201,
    "start_time": "2022-09-05T12:19:23.981Z"
   },
   {
    "duration": 164,
    "start_time": "2022-09-05T12:19:35.757Z"
   },
   {
    "duration": 284,
    "start_time": "2022-09-05T12:42:56.091Z"
   },
   {
    "duration": 11,
    "start_time": "2022-09-05T12:43:47.193Z"
   },
   {
    "duration": 4,
    "start_time": "2022-09-05T12:43:49.418Z"
   },
   {
    "duration": 6,
    "start_time": "2022-09-05T12:43:59.553Z"
   },
   {
    "duration": 170,
    "start_time": "2022-09-05T12:44:50.481Z"
   },
   {
    "duration": 178,
    "start_time": "2022-09-05T12:45:02.313Z"
   },
   {
    "duration": 176,
    "start_time": "2022-09-05T12:45:18.318Z"
   },
   {
    "duration": 28,
    "start_time": "2022-09-05T13:39:01.679Z"
   },
   {
    "duration": 7,
    "start_time": "2022-09-05T13:41:08.915Z"
   },
   {
    "duration": 218,
    "start_time": "2022-09-05T13:41:56.251Z"
   },
   {
    "duration": 192,
    "start_time": "2022-09-05T13:42:02.491Z"
   },
   {
    "duration": 221,
    "start_time": "2022-09-05T13:45:01.400Z"
   },
   {
    "duration": 9,
    "start_time": "2022-09-05T13:49:16.067Z"
   },
   {
    "duration": 1463,
    "start_time": "2022-09-05T13:50:13.305Z"
   },
   {
    "duration": 1619,
    "start_time": "2022-09-05T13:50:38.553Z"
   },
   {
    "duration": 8,
    "start_time": "2022-09-05T13:50:47.353Z"
   },
   {
    "duration": 26,
    "start_time": "2022-09-05T13:51:26.769Z"
   },
   {
    "duration": 12,
    "start_time": "2022-09-05T13:51:34.264Z"
   },
   {
    "duration": 198,
    "start_time": "2022-09-05T13:52:39.455Z"
   },
   {
    "duration": 5,
    "start_time": "2022-09-05T13:55:24.300Z"
   },
   {
    "duration": 177,
    "start_time": "2022-09-05T13:56:45.595Z"
   },
   {
    "duration": 2,
    "start_time": "2022-09-05T14:04:52.354Z"
   },
   {
    "duration": 8,
    "start_time": "2022-09-05T14:05:56.577Z"
   },
   {
    "duration": 23,
    "start_time": "2022-09-05T14:05:59.840Z"
   },
   {
    "duration": 9,
    "start_time": "2022-09-05T14:07:17.070Z"
   },
   {
    "duration": 9,
    "start_time": "2022-09-05T14:07:20.479Z"
   },
   {
    "duration": 11,
    "start_time": "2022-09-05T14:07:24.430Z"
   },
   {
    "duration": 23,
    "start_time": "2022-09-05T14:07:25.799Z"
   },
   {
    "duration": 8,
    "start_time": "2022-09-05T14:12:47.842Z"
   },
   {
    "duration": 21,
    "start_time": "2022-09-05T14:15:12.605Z"
   },
   {
    "duration": 10,
    "start_time": "2022-09-05T14:16:29.613Z"
   },
   {
    "duration": 13,
    "start_time": "2022-09-05T14:17:50.275Z"
   },
   {
    "duration": 5,
    "start_time": "2022-09-05T14:21:29.671Z"
   },
   {
    "duration": 23,
    "start_time": "2022-09-05T14:21:51.839Z"
   },
   {
    "duration": 394,
    "start_time": "2022-09-05T14:30:08.869Z"
   },
   {
    "duration": 6,
    "start_time": "2022-09-05T14:31:16.283Z"
   },
   {
    "duration": 23,
    "start_time": "2022-09-05T14:31:22.628Z"
   },
   {
    "duration": 16,
    "start_time": "2022-09-05T14:33:51.713Z"
   },
   {
    "duration": 11,
    "start_time": "2022-09-05T14:34:08.105Z"
   },
   {
    "duration": 7,
    "start_time": "2022-09-05T14:34:20.616Z"
   },
   {
    "duration": 21,
    "start_time": "2022-09-05T14:34:22.552Z"
   },
   {
    "duration": 12,
    "start_time": "2022-09-05T14:34:38.079Z"
   },
   {
    "duration": 11,
    "start_time": "2022-09-05T14:34:44.968Z"
   },
   {
    "duration": 11,
    "start_time": "2022-09-05T14:35:44.718Z"
   },
   {
    "duration": 12,
    "start_time": "2022-09-05T14:36:03.190Z"
   },
   {
    "duration": 13,
    "start_time": "2022-09-05T14:36:07.517Z"
   },
   {
    "duration": 6,
    "start_time": "2022-09-05T14:36:11.141Z"
   },
   {
    "duration": 23,
    "start_time": "2022-09-05T14:36:13.358Z"
   },
   {
    "duration": 11,
    "start_time": "2022-09-05T14:36:43.214Z"
   },
   {
    "duration": 14,
    "start_time": "2022-09-05T14:37:36.660Z"
   },
   {
    "duration": 10,
    "start_time": "2022-09-05T14:37:49.604Z"
   },
   {
    "duration": 9,
    "start_time": "2022-09-05T14:37:53.620Z"
   },
   {
    "duration": 23,
    "start_time": "2022-09-05T14:37:54.388Z"
   },
   {
    "duration": 14,
    "start_time": "2022-09-05T14:38:56.427Z"
   },
   {
    "duration": 1242,
    "start_time": "2022-09-05T14:50:39.111Z"
   },
   {
    "duration": 21,
    "start_time": "2022-09-05T14:50:40.526Z"
   },
   {
    "duration": 81,
    "start_time": "2022-09-05T14:52:30.436Z"
   },
   {
    "duration": 1280,
    "start_time": "2022-09-05T14:52:33.963Z"
   },
   {
    "duration": 14,
    "start_time": "2022-09-05T14:53:01.899Z"
   },
   {
    "duration": 10,
    "start_time": "2022-09-05T14:53:16.050Z"
   },
   {
    "duration": 13,
    "start_time": "2022-09-05T14:53:16.826Z"
   },
   {
    "duration": 9,
    "start_time": "2022-09-05T14:54:03.138Z"
   },
   {
    "duration": 8,
    "start_time": "2022-09-05T14:54:18.321Z"
   },
   {
    "duration": 8,
    "start_time": "2022-09-05T14:55:48.984Z"
   },
   {
    "duration": 2623,
    "start_time": "2022-09-05T15:05:39.080Z"
   },
   {
    "duration": 12,
    "start_time": "2022-09-05T15:05:41.705Z"
   },
   {
    "duration": 8,
    "start_time": "2022-09-05T15:05:41.719Z"
   },
   {
    "duration": 12,
    "start_time": "2022-09-05T15:05:41.729Z"
   },
   {
    "duration": 25,
    "start_time": "2022-09-05T15:05:41.743Z"
   },
   {
    "duration": 15,
    "start_time": "2022-09-05T15:05:41.770Z"
   },
   {
    "duration": 1241,
    "start_time": "2022-09-05T15:05:41.786Z"
   },
   {
    "duration": 11,
    "start_time": "2022-09-05T15:05:43.028Z"
   },
   {
    "duration": 34,
    "start_time": "2022-09-05T15:05:43.041Z"
   },
   {
    "duration": 17,
    "start_time": "2022-09-05T15:05:43.078Z"
   },
   {
    "duration": 1817,
    "start_time": "2022-09-05T15:05:43.097Z"
   },
   {
    "duration": 5,
    "start_time": "2022-09-05T15:05:44.915Z"
   },
   {
    "duration": 23,
    "start_time": "2022-09-05T15:05:44.921Z"
   },
   {
    "duration": 8,
    "start_time": "2022-09-05T15:05:44.945Z"
   },
   {
    "duration": 14,
    "start_time": "2022-09-05T15:05:44.954Z"
   },
   {
    "duration": 14,
    "start_time": "2022-09-05T15:05:44.970Z"
   },
   {
    "duration": 7,
    "start_time": "2022-09-05T15:05:44.985Z"
   },
   {
    "duration": 215,
    "start_time": "2022-09-05T15:05:44.993Z"
   },
   {
    "duration": 8,
    "start_time": "2022-09-05T15:05:45.209Z"
   },
   {
    "duration": 201,
    "start_time": "2022-09-05T15:05:45.218Z"
   },
   {
    "duration": 8,
    "start_time": "2022-09-05T15:05:45.420Z"
   },
   {
    "duration": 189,
    "start_time": "2022-09-05T15:05:45.429Z"
   },
   {
    "duration": 188,
    "start_time": "2022-09-05T15:05:45.620Z"
   },
   {
    "duration": 13,
    "start_time": "2022-09-05T15:05:45.810Z"
   },
   {
    "duration": 6,
    "start_time": "2022-09-05T15:05:45.825Z"
   },
   {
    "duration": 304,
    "start_time": "2022-09-05T15:05:45.833Z"
   },
   {
    "duration": 9,
    "start_time": "2022-09-05T15:05:46.139Z"
   },
   {
    "duration": 4,
    "start_time": "2022-09-05T15:05:46.151Z"
   },
   {
    "duration": 258,
    "start_time": "2022-09-05T15:05:46.168Z"
   },
   {
    "duration": 188,
    "start_time": "2022-09-05T15:05:46.428Z"
   },
   {
    "duration": 239,
    "start_time": "2022-09-05T15:05:46.618Z"
   },
   {
    "duration": 203,
    "start_time": "2022-09-05T15:05:46.859Z"
   },
   {
    "duration": 190,
    "start_time": "2022-09-05T15:05:47.067Z"
   },
   {
    "duration": 9,
    "start_time": "2022-09-05T15:05:47.267Z"
   },
   {
    "duration": 14,
    "start_time": "2022-09-05T15:05:47.278Z"
   },
   {
    "duration": 8,
    "start_time": "2022-09-05T15:05:47.294Z"
   },
   {
    "duration": 2669,
    "start_time": "2022-09-05T15:21:14.326Z"
   },
   {
    "duration": 11,
    "start_time": "2022-09-05T15:21:16.997Z"
   },
   {
    "duration": 10,
    "start_time": "2022-09-05T15:21:17.010Z"
   },
   {
    "duration": 8,
    "start_time": "2022-09-05T15:21:17.021Z"
   },
   {
    "duration": 10,
    "start_time": "2022-09-05T15:21:17.031Z"
   },
   {
    "duration": 36,
    "start_time": "2022-09-05T15:21:17.043Z"
   },
   {
    "duration": 1317,
    "start_time": "2022-09-05T15:21:17.080Z"
   },
   {
    "duration": 11,
    "start_time": "2022-09-05T15:21:18.398Z"
   },
   {
    "duration": 30,
    "start_time": "2022-09-05T15:21:18.410Z"
   },
   {
    "duration": 28,
    "start_time": "2022-09-05T15:21:18.443Z"
   },
   {
    "duration": 1419,
    "start_time": "2022-09-05T15:21:18.472Z"
   },
   {
    "duration": 5,
    "start_time": "2022-09-05T15:21:19.893Z"
   },
   {
    "duration": 22,
    "start_time": "2022-09-05T15:21:19.899Z"
   },
   {
    "duration": 10,
    "start_time": "2022-09-05T15:21:19.923Z"
   },
   {
    "duration": 10,
    "start_time": "2022-09-05T15:21:19.934Z"
   },
   {
    "duration": 31,
    "start_time": "2022-09-05T15:21:19.946Z"
   },
   {
    "duration": 6,
    "start_time": "2022-09-05T15:21:19.979Z"
   },
   {
    "duration": 213,
    "start_time": "2022-09-05T15:21:19.987Z"
   },
   {
    "duration": 8,
    "start_time": "2022-09-05T15:21:20.201Z"
   },
   {
    "duration": 200,
    "start_time": "2022-09-05T15:21:20.211Z"
   },
   {
    "duration": 9,
    "start_time": "2022-09-05T15:21:20.413Z"
   },
   {
    "duration": 190,
    "start_time": "2022-09-05T15:21:20.424Z"
   },
   {
    "duration": 181,
    "start_time": "2022-09-05T15:21:20.616Z"
   },
   {
    "duration": 11,
    "start_time": "2022-09-05T15:21:20.798Z"
   },
   {
    "duration": 6,
    "start_time": "2022-09-05T15:21:20.811Z"
   },
   {
    "duration": 330,
    "start_time": "2022-09-05T15:21:20.820Z"
   },
   {
    "duration": 19,
    "start_time": "2022-09-05T15:21:21.151Z"
   },
   {
    "duration": 5,
    "start_time": "2022-09-05T15:21:21.174Z"
   },
   {
    "duration": 267,
    "start_time": "2022-09-05T15:21:21.180Z"
   },
   {
    "duration": 198,
    "start_time": "2022-09-05T15:21:21.448Z"
   },
   {
    "duration": 183,
    "start_time": "2022-09-05T15:21:21.648Z"
   },
   {
    "duration": 181,
    "start_time": "2022-09-05T15:21:21.833Z"
   },
   {
    "duration": 183,
    "start_time": "2022-09-05T15:21:22.015Z"
   },
   {
    "duration": 10,
    "start_time": "2022-09-05T15:21:22.199Z"
   },
   {
    "duration": 12,
    "start_time": "2022-09-05T15:21:22.210Z"
   },
   {
    "duration": 7,
    "start_time": "2022-09-05T15:21:22.224Z"
   },
   {
    "duration": 54,
    "start_time": "2022-09-07T04:45:51.648Z"
   },
   {
    "duration": 2754,
    "start_time": "2022-09-07T04:48:04.151Z"
   },
   {
    "duration": 13,
    "start_time": "2022-09-07T04:48:06.907Z"
   },
   {
    "duration": 10,
    "start_time": "2022-09-07T04:48:06.922Z"
   },
   {
    "duration": 26,
    "start_time": "2022-09-07T04:48:06.934Z"
   },
   {
    "duration": 7,
    "start_time": "2022-09-07T04:48:06.963Z"
   },
   {
    "duration": 16,
    "start_time": "2022-09-07T04:48:06.972Z"
   },
   {
    "duration": 1242,
    "start_time": "2022-09-07T04:48:06.989Z"
   },
   {
    "duration": 9,
    "start_time": "2022-09-07T04:48:08.233Z"
   },
   {
    "duration": 37,
    "start_time": "2022-09-07T04:48:08.243Z"
   },
   {
    "duration": 17,
    "start_time": "2022-09-07T04:48:08.281Z"
   },
   {
    "duration": 1546,
    "start_time": "2022-09-07T04:48:08.299Z"
   },
   {
    "duration": 5,
    "start_time": "2022-09-07T04:48:09.847Z"
   },
   {
    "duration": 34,
    "start_time": "2022-09-07T04:48:09.853Z"
   },
   {
    "duration": 13,
    "start_time": "2022-09-07T04:48:09.890Z"
   },
   {
    "duration": 16,
    "start_time": "2022-09-07T04:48:09.904Z"
   },
   {
    "duration": 31,
    "start_time": "2022-09-07T04:48:09.922Z"
   },
   {
    "duration": 8,
    "start_time": "2022-09-07T04:48:09.954Z"
   },
   {
    "duration": 187,
    "start_time": "2022-09-07T04:48:09.963Z"
   },
   {
    "duration": 7,
    "start_time": "2022-09-07T04:48:10.152Z"
   },
   {
    "duration": 201,
    "start_time": "2022-09-07T04:48:10.161Z"
   },
   {
    "duration": 6,
    "start_time": "2022-09-07T04:48:10.364Z"
   },
   {
    "duration": 174,
    "start_time": "2022-09-07T04:48:10.372Z"
   },
   {
    "duration": 168,
    "start_time": "2022-09-07T04:48:10.547Z"
   },
   {
    "duration": 11,
    "start_time": "2022-09-07T04:48:10.717Z"
   },
   {
    "duration": 13,
    "start_time": "2022-09-07T04:48:10.729Z"
   },
   {
    "duration": 274,
    "start_time": "2022-09-07T04:48:10.743Z"
   },
   {
    "duration": 9,
    "start_time": "2022-09-07T04:48:11.018Z"
   },
   {
    "duration": 7,
    "start_time": "2022-09-07T04:48:11.029Z"
   },
   {
    "duration": 248,
    "start_time": "2022-09-07T04:48:11.037Z"
   },
   {
    "duration": 166,
    "start_time": "2022-09-07T04:48:11.287Z"
   },
   {
    "duration": 174,
    "start_time": "2022-09-07T04:48:11.454Z"
   },
   {
    "duration": 164,
    "start_time": "2022-09-07T04:48:11.630Z"
   },
   {
    "duration": 171,
    "start_time": "2022-09-07T04:48:11.795Z"
   },
   {
    "duration": 7,
    "start_time": "2022-09-07T04:48:11.968Z"
   },
   {
    "duration": 6,
    "start_time": "2022-09-07T04:48:11.977Z"
   },
   {
    "duration": 9,
    "start_time": "2022-09-07T04:48:11.985Z"
   },
   {
    "duration": 1223,
    "start_time": "2022-09-07T04:49:29.884Z"
   },
   {
    "duration": 0,
    "start_time": "2022-09-07T04:49:31.109Z"
   },
   {
    "duration": 0,
    "start_time": "2022-09-07T04:49:31.110Z"
   },
   {
    "duration": 0,
    "start_time": "2022-09-07T04:49:31.111Z"
   },
   {
    "duration": 0,
    "start_time": "2022-09-07T04:49:31.112Z"
   },
   {
    "duration": 0,
    "start_time": "2022-09-07T04:49:31.113Z"
   },
   {
    "duration": 0,
    "start_time": "2022-09-07T04:49:31.114Z"
   },
   {
    "duration": 0,
    "start_time": "2022-09-07T04:49:31.114Z"
   },
   {
    "duration": 0,
    "start_time": "2022-09-07T04:49:31.115Z"
   },
   {
    "duration": 0,
    "start_time": "2022-09-07T04:49:31.116Z"
   },
   {
    "duration": 0,
    "start_time": "2022-09-07T04:49:31.117Z"
   },
   {
    "duration": 0,
    "start_time": "2022-09-07T04:49:31.118Z"
   },
   {
    "duration": 0,
    "start_time": "2022-09-07T04:49:31.119Z"
   },
   {
    "duration": 0,
    "start_time": "2022-09-07T04:49:31.120Z"
   },
   {
    "duration": 0,
    "start_time": "2022-09-07T04:49:31.121Z"
   },
   {
    "duration": 0,
    "start_time": "2022-09-07T04:49:31.122Z"
   },
   {
    "duration": 0,
    "start_time": "2022-09-07T04:49:31.123Z"
   },
   {
    "duration": 0,
    "start_time": "2022-09-07T04:49:31.124Z"
   },
   {
    "duration": 0,
    "start_time": "2022-09-07T04:49:31.125Z"
   },
   {
    "duration": 0,
    "start_time": "2022-09-07T04:49:31.126Z"
   },
   {
    "duration": 0,
    "start_time": "2022-09-07T04:49:31.127Z"
   },
   {
    "duration": 0,
    "start_time": "2022-09-07T04:49:31.128Z"
   },
   {
    "duration": 0,
    "start_time": "2022-09-07T04:49:31.157Z"
   },
   {
    "duration": 0,
    "start_time": "2022-09-07T04:49:31.158Z"
   },
   {
    "duration": 0,
    "start_time": "2022-09-07T04:49:31.159Z"
   },
   {
    "duration": 0,
    "start_time": "2022-09-07T04:49:31.160Z"
   },
   {
    "duration": 0,
    "start_time": "2022-09-07T04:49:31.161Z"
   },
   {
    "duration": 0,
    "start_time": "2022-09-07T04:49:31.162Z"
   },
   {
    "duration": 0,
    "start_time": "2022-09-07T04:49:31.163Z"
   },
   {
    "duration": 0,
    "start_time": "2022-09-07T04:49:31.164Z"
   },
   {
    "duration": 0,
    "start_time": "2022-09-07T04:49:31.165Z"
   },
   {
    "duration": 0,
    "start_time": "2022-09-07T04:49:31.166Z"
   },
   {
    "duration": 0,
    "start_time": "2022-09-07T04:49:31.168Z"
   },
   {
    "duration": 0,
    "start_time": "2022-09-07T04:49:31.168Z"
   },
   {
    "duration": 0,
    "start_time": "2022-09-07T04:49:31.169Z"
   },
   {
    "duration": 0,
    "start_time": "2022-09-07T04:49:31.171Z"
   },
   {
    "duration": 2362,
    "start_time": "2022-09-07T04:50:03.656Z"
   },
   {
    "duration": 0,
    "start_time": "2022-09-07T04:50:06.021Z"
   },
   {
    "duration": 0,
    "start_time": "2022-09-07T04:50:06.022Z"
   },
   {
    "duration": 0,
    "start_time": "2022-09-07T04:50:06.023Z"
   },
   {
    "duration": 0,
    "start_time": "2022-09-07T04:50:06.024Z"
   },
   {
    "duration": 0,
    "start_time": "2022-09-07T04:50:06.025Z"
   },
   {
    "duration": 0,
    "start_time": "2022-09-07T04:50:06.026Z"
   },
   {
    "duration": 0,
    "start_time": "2022-09-07T04:50:06.027Z"
   },
   {
    "duration": 0,
    "start_time": "2022-09-07T04:50:06.028Z"
   },
   {
    "duration": 0,
    "start_time": "2022-09-07T04:50:06.029Z"
   },
   {
    "duration": 0,
    "start_time": "2022-09-07T04:50:06.030Z"
   },
   {
    "duration": 0,
    "start_time": "2022-09-07T04:50:06.032Z"
   },
   {
    "duration": 0,
    "start_time": "2022-09-07T04:50:06.033Z"
   },
   {
    "duration": 0,
    "start_time": "2022-09-07T04:50:06.034Z"
   },
   {
    "duration": 0,
    "start_time": "2022-09-07T04:50:06.058Z"
   },
   {
    "duration": 0,
    "start_time": "2022-09-07T04:50:06.059Z"
   },
   {
    "duration": 0,
    "start_time": "2022-09-07T04:50:06.060Z"
   },
   {
    "duration": 0,
    "start_time": "2022-09-07T04:50:06.062Z"
   },
   {
    "duration": 0,
    "start_time": "2022-09-07T04:50:06.063Z"
   },
   {
    "duration": 0,
    "start_time": "2022-09-07T04:50:06.065Z"
   },
   {
    "duration": 0,
    "start_time": "2022-09-07T04:50:06.066Z"
   },
   {
    "duration": 0,
    "start_time": "2022-09-07T04:50:06.067Z"
   },
   {
    "duration": 0,
    "start_time": "2022-09-07T04:50:06.068Z"
   },
   {
    "duration": 0,
    "start_time": "2022-09-07T04:50:06.069Z"
   },
   {
    "duration": 0,
    "start_time": "2022-09-07T04:50:06.070Z"
   },
   {
    "duration": 0,
    "start_time": "2022-09-07T04:50:06.071Z"
   },
   {
    "duration": 0,
    "start_time": "2022-09-07T04:50:06.072Z"
   },
   {
    "duration": 0,
    "start_time": "2022-09-07T04:50:06.073Z"
   },
   {
    "duration": 0,
    "start_time": "2022-09-07T04:50:06.074Z"
   },
   {
    "duration": 0,
    "start_time": "2022-09-07T04:50:06.076Z"
   },
   {
    "duration": 0,
    "start_time": "2022-09-07T04:50:06.076Z"
   },
   {
    "duration": 0,
    "start_time": "2022-09-07T04:50:06.077Z"
   },
   {
    "duration": 0,
    "start_time": "2022-09-07T04:50:06.078Z"
   },
   {
    "duration": 0,
    "start_time": "2022-09-07T04:50:06.080Z"
   },
   {
    "duration": 0,
    "start_time": "2022-09-07T04:50:06.081Z"
   },
   {
    "duration": 0,
    "start_time": "2022-09-07T04:50:06.082Z"
   },
   {
    "duration": 2323,
    "start_time": "2022-09-07T04:50:52.133Z"
   },
   {
    "duration": 12,
    "start_time": "2022-09-07T04:50:54.459Z"
   },
   {
    "duration": 11,
    "start_time": "2022-09-07T04:50:54.476Z"
   },
   {
    "duration": 8,
    "start_time": "2022-09-07T04:50:54.489Z"
   },
   {
    "duration": 6,
    "start_time": "2022-09-07T04:50:54.499Z"
   },
   {
    "duration": 18,
    "start_time": "2022-09-07T04:50:54.506Z"
   },
   {
    "duration": 1044,
    "start_time": "2022-09-07T04:50:54.526Z"
   },
   {
    "duration": 10,
    "start_time": "2022-09-07T04:50:55.571Z"
   },
   {
    "duration": 34,
    "start_time": "2022-09-07T04:50:55.583Z"
   },
   {
    "duration": 17,
    "start_time": "2022-09-07T04:50:55.619Z"
   },
   {
    "duration": 1120,
    "start_time": "2022-09-07T04:50:55.638Z"
   },
   {
    "duration": 5,
    "start_time": "2022-09-07T04:50:56.759Z"
   },
   {
    "duration": 19,
    "start_time": "2022-09-07T04:50:56.767Z"
   },
   {
    "duration": 7,
    "start_time": "2022-09-07T04:50:56.787Z"
   },
   {
    "duration": 6,
    "start_time": "2022-09-07T04:50:56.795Z"
   },
   {
    "duration": 12,
    "start_time": "2022-09-07T04:50:56.802Z"
   },
   {
    "duration": 6,
    "start_time": "2022-09-07T04:50:56.816Z"
   },
   {
    "duration": 194,
    "start_time": "2022-09-07T04:50:56.823Z"
   },
   {
    "duration": 7,
    "start_time": "2022-09-07T04:50:57.018Z"
   },
   {
    "duration": 171,
    "start_time": "2022-09-07T04:50:57.027Z"
   },
   {
    "duration": 7,
    "start_time": "2022-09-07T04:50:57.200Z"
   },
   {
    "duration": 165,
    "start_time": "2022-09-07T04:50:57.209Z"
   },
   {
    "duration": 159,
    "start_time": "2022-09-07T04:50:57.376Z"
   },
   {
    "duration": 10,
    "start_time": "2022-09-07T04:50:57.536Z"
   },
   {
    "duration": 12,
    "start_time": "2022-09-07T04:50:57.548Z"
   },
   {
    "duration": 261,
    "start_time": "2022-09-07T04:50:57.562Z"
   },
   {
    "duration": 7,
    "start_time": "2022-09-07T04:50:57.825Z"
   },
   {
    "duration": 5,
    "start_time": "2022-09-07T04:50:57.833Z"
   },
   {
    "duration": 239,
    "start_time": "2022-09-07T04:50:57.839Z"
   },
   {
    "duration": 149,
    "start_time": "2022-09-07T04:50:58.079Z"
   },
   {
    "duration": 164,
    "start_time": "2022-09-07T04:50:58.230Z"
   },
   {
    "duration": 169,
    "start_time": "2022-09-07T04:50:58.395Z"
   },
   {
    "duration": 166,
    "start_time": "2022-09-07T04:50:58.565Z"
   },
   {
    "duration": 8,
    "start_time": "2022-09-07T04:50:58.733Z"
   },
   {
    "duration": 18,
    "start_time": "2022-09-07T04:50:58.742Z"
   },
   {
    "duration": 8,
    "start_time": "2022-09-07T04:50:58.761Z"
   },
   {
    "duration": 17,
    "start_time": "2022-09-07T05:51:53.436Z"
   },
   {
    "duration": 1428,
    "start_time": "2022-09-07T05:52:03.822Z"
   },
   {
    "duration": 11,
    "start_time": "2022-09-07T05:52:08.069Z"
   },
   {
    "duration": 8,
    "start_time": "2022-09-07T05:52:11.028Z"
   },
   {
    "duration": 16,
    "start_time": "2022-09-07T05:52:13.268Z"
   },
   {
    "duration": 13,
    "start_time": "2022-09-07T05:52:18.756Z"
   },
   {
    "duration": 12,
    "start_time": "2022-09-07T05:52:31.996Z"
   },
   {
    "duration": 15,
    "start_time": "2022-09-07T05:52:33.122Z"
   },
   {
    "duration": 1273,
    "start_time": "2022-09-07T05:52:44.671Z"
   },
   {
    "duration": 11,
    "start_time": "2022-09-07T05:52:48.563Z"
   },
   {
    "duration": 10,
    "start_time": "2022-09-07T05:52:52.395Z"
   },
   {
    "duration": 16,
    "start_time": "2022-09-07T05:52:54.930Z"
   },
   {
    "duration": 18,
    "start_time": "2022-09-07T05:52:55.771Z"
   },
   {
    "duration": 1066,
    "start_time": "2022-09-07T05:53:12.772Z"
   },
   {
    "duration": 12,
    "start_time": "2022-09-07T05:53:16.717Z"
   },
   {
    "duration": 9,
    "start_time": "2022-09-07T05:53:19.555Z"
   },
   {
    "duration": 17,
    "start_time": "2022-09-07T05:53:21.755Z"
   },
   {
    "duration": 15,
    "start_time": "2022-09-07T05:53:22.755Z"
   },
   {
    "duration": 500,
    "start_time": "2022-09-07T05:55:18.529Z"
   },
   {
    "duration": 21,
    "start_time": "2022-09-07T05:55:37.022Z"
   },
   {
    "duration": 1180,
    "start_time": "2022-09-07T05:55:43.152Z"
   },
   {
    "duration": 12,
    "start_time": "2022-09-07T05:55:47.592Z"
   },
   {
    "duration": 8,
    "start_time": "2022-09-07T05:55:49.880Z"
   },
   {
    "duration": 101,
    "start_time": "2022-09-07T05:55:52.544Z"
   },
   {
    "duration": 16,
    "start_time": "2022-09-07T05:55:53.552Z"
   },
   {
    "duration": 353,
    "start_time": "2022-09-07T05:56:10.351Z"
   },
   {
    "duration": 11,
    "start_time": "2022-09-07T06:48:38.444Z"
   },
   {
    "duration": 18,
    "start_time": "2022-09-07T06:59:15.042Z"
   },
   {
    "duration": 26,
    "start_time": "2022-09-07T09:57:37.148Z"
   },
   {
    "duration": 17,
    "start_time": "2022-09-07T09:57:45.899Z"
   },
   {
    "duration": 2757,
    "start_time": "2022-09-07T09:57:52.239Z"
   },
   {
    "duration": 16,
    "start_time": "2022-09-07T09:57:54.998Z"
   },
   {
    "duration": 11,
    "start_time": "2022-09-07T09:57:55.017Z"
   },
   {
    "duration": 45,
    "start_time": "2022-09-07T09:57:55.030Z"
   },
   {
    "duration": 26,
    "start_time": "2022-09-07T09:57:55.077Z"
   },
   {
    "duration": 697,
    "start_time": "2022-09-07T09:57:55.105Z"
   },
   {
    "duration": 7,
    "start_time": "2022-09-07T09:57:55.804Z"
   },
   {
    "duration": 42,
    "start_time": "2022-09-07T09:57:55.813Z"
   },
   {
    "duration": 975,
    "start_time": "2022-09-07T09:57:55.858Z"
   },
   {
    "duration": 9,
    "start_time": "2022-09-07T09:57:56.836Z"
   },
   {
    "duration": 773,
    "start_time": "2022-09-07T09:57:56.846Z"
   },
   {
    "duration": 0,
    "start_time": "2022-09-07T09:57:57.621Z"
   },
   {
    "duration": 0,
    "start_time": "2022-09-07T09:57:57.623Z"
   },
   {
    "duration": 0,
    "start_time": "2022-09-07T09:57:57.625Z"
   },
   {
    "duration": 0,
    "start_time": "2022-09-07T09:57:57.625Z"
   },
   {
    "duration": 0,
    "start_time": "2022-09-07T09:57:57.627Z"
   },
   {
    "duration": 0,
    "start_time": "2022-09-07T09:57:57.627Z"
   },
   {
    "duration": 0,
    "start_time": "2022-09-07T09:57:57.629Z"
   },
   {
    "duration": 0,
    "start_time": "2022-09-07T09:57:57.630Z"
   },
   {
    "duration": 0,
    "start_time": "2022-09-07T09:57:57.631Z"
   },
   {
    "duration": 0,
    "start_time": "2022-09-07T09:57:57.632Z"
   },
   {
    "duration": 0,
    "start_time": "2022-09-07T09:57:57.633Z"
   },
   {
    "duration": 0,
    "start_time": "2022-09-07T09:57:57.634Z"
   },
   {
    "duration": 0,
    "start_time": "2022-09-07T09:57:57.635Z"
   },
   {
    "duration": 0,
    "start_time": "2022-09-07T09:57:57.636Z"
   },
   {
    "duration": 0,
    "start_time": "2022-09-07T09:57:57.637Z"
   },
   {
    "duration": 0,
    "start_time": "2022-09-07T09:57:57.638Z"
   },
   {
    "duration": 0,
    "start_time": "2022-09-07T09:57:57.638Z"
   },
   {
    "duration": 0,
    "start_time": "2022-09-07T09:57:57.639Z"
   },
   {
    "duration": 0,
    "start_time": "2022-09-07T09:57:57.640Z"
   },
   {
    "duration": 0,
    "start_time": "2022-09-07T09:57:57.642Z"
   },
   {
    "duration": 0,
    "start_time": "2022-09-07T09:57:57.642Z"
   },
   {
    "duration": 0,
    "start_time": "2022-09-07T09:57:57.643Z"
   },
   {
    "duration": 0,
    "start_time": "2022-09-07T09:57:57.644Z"
   },
   {
    "duration": 0,
    "start_time": "2022-09-07T09:57:57.645Z"
   },
   {
    "duration": 0,
    "start_time": "2022-09-07T09:57:57.647Z"
   },
   {
    "duration": 1,
    "start_time": "2022-09-07T09:57:57.647Z"
   },
   {
    "duration": 0,
    "start_time": "2022-09-07T09:57:57.649Z"
   },
   {
    "duration": 595,
    "start_time": "2022-09-07T10:00:21.800Z"
   },
   {
    "duration": 2881,
    "start_time": "2022-09-08T06:45:52.523Z"
   },
   {
    "duration": 13,
    "start_time": "2022-09-08T06:45:55.407Z"
   },
   {
    "duration": 14,
    "start_time": "2022-09-08T06:45:55.422Z"
   },
   {
    "duration": 30,
    "start_time": "2022-09-08T06:45:55.437Z"
   },
   {
    "duration": 42,
    "start_time": "2022-09-08T06:45:55.469Z"
   },
   {
    "duration": 564,
    "start_time": "2022-09-08T06:45:55.513Z"
   },
   {
    "duration": 6,
    "start_time": "2022-09-08T06:45:56.079Z"
   },
   {
    "duration": 20,
    "start_time": "2022-09-08T06:45:56.086Z"
   },
   {
    "duration": 1157,
    "start_time": "2022-09-08T06:45:56.107Z"
   },
   {
    "duration": 12,
    "start_time": "2022-09-08T06:45:57.273Z"
   },
   {
    "duration": 712,
    "start_time": "2022-09-08T06:45:57.287Z"
   },
   {
    "duration": 0,
    "start_time": "2022-09-08T06:45:58.002Z"
   },
   {
    "duration": 0,
    "start_time": "2022-09-08T06:45:58.005Z"
   },
   {
    "duration": 0,
    "start_time": "2022-09-08T06:45:58.006Z"
   },
   {
    "duration": 0,
    "start_time": "2022-09-08T06:45:58.008Z"
   },
   {
    "duration": 0,
    "start_time": "2022-09-08T06:45:58.010Z"
   },
   {
    "duration": 0,
    "start_time": "2022-09-08T06:45:58.012Z"
   },
   {
    "duration": 0,
    "start_time": "2022-09-08T06:45:58.016Z"
   },
   {
    "duration": 0,
    "start_time": "2022-09-08T06:45:58.017Z"
   },
   {
    "duration": 0,
    "start_time": "2022-09-08T06:45:58.019Z"
   },
   {
    "duration": 0,
    "start_time": "2022-09-08T06:45:58.020Z"
   },
   {
    "duration": 0,
    "start_time": "2022-09-08T06:45:58.021Z"
   },
   {
    "duration": 0,
    "start_time": "2022-09-08T06:45:58.023Z"
   },
   {
    "duration": 0,
    "start_time": "2022-09-08T06:45:58.024Z"
   },
   {
    "duration": 0,
    "start_time": "2022-09-08T06:45:58.025Z"
   },
   {
    "duration": 0,
    "start_time": "2022-09-08T06:45:58.026Z"
   },
   {
    "duration": 0,
    "start_time": "2022-09-08T06:45:58.027Z"
   },
   {
    "duration": 0,
    "start_time": "2022-09-08T06:45:58.028Z"
   },
   {
    "duration": 0,
    "start_time": "2022-09-08T06:45:58.029Z"
   },
   {
    "duration": 0,
    "start_time": "2022-09-08T06:45:58.031Z"
   },
   {
    "duration": 0,
    "start_time": "2022-09-08T06:45:58.032Z"
   },
   {
    "duration": 0,
    "start_time": "2022-09-08T06:45:58.033Z"
   },
   {
    "duration": 0,
    "start_time": "2022-09-08T06:45:58.035Z"
   },
   {
    "duration": 0,
    "start_time": "2022-09-08T06:45:58.036Z"
   },
   {
    "duration": 0,
    "start_time": "2022-09-08T06:45:58.037Z"
   },
   {
    "duration": 0,
    "start_time": "2022-09-08T06:45:58.039Z"
   },
   {
    "duration": 1,
    "start_time": "2022-09-08T06:45:58.039Z"
   },
   {
    "duration": 0,
    "start_time": "2022-09-08T06:45:58.042Z"
   },
   {
    "duration": 1455,
    "start_time": "2022-09-08T11:57:37.779Z"
   },
   {
    "duration": 13,
    "start_time": "2022-09-08T11:57:44.646Z"
   },
   {
    "duration": 9,
    "start_time": "2022-09-08T11:57:50.439Z"
   },
   {
    "duration": 28,
    "start_time": "2022-09-08T11:57:55.272Z"
   },
   {
    "duration": 15,
    "start_time": "2022-09-08T11:58:19.185Z"
   },
   {
    "duration": 2440,
    "start_time": "2022-09-08T12:03:33.027Z"
   },
   {
    "duration": 11,
    "start_time": "2022-09-08T12:03:35.469Z"
   },
   {
    "duration": 12,
    "start_time": "2022-09-08T12:03:35.482Z"
   },
   {
    "duration": 19,
    "start_time": "2022-09-08T12:03:35.496Z"
   },
   {
    "duration": 19,
    "start_time": "2022-09-08T12:03:35.518Z"
   },
   {
    "duration": 132288,
    "start_time": "2022-09-08T12:07:22.964Z"
   },
   {
    "duration": 0,
    "start_time": "2022-09-08T12:09:35.255Z"
   },
   {
    "duration": 0,
    "start_time": "2022-09-08T12:09:35.257Z"
   },
   {
    "duration": 0,
    "start_time": "2022-09-08T12:09:35.258Z"
   },
   {
    "duration": 0,
    "start_time": "2022-09-08T12:09:35.259Z"
   },
   {
    "duration": 0,
    "start_time": "2022-09-08T12:09:35.260Z"
   },
   {
    "duration": 0,
    "start_time": "2022-09-08T12:09:35.261Z"
   },
   {
    "duration": 0,
    "start_time": "2022-09-08T12:09:35.276Z"
   },
   {
    "duration": 0,
    "start_time": "2022-09-08T12:09:35.277Z"
   },
   {
    "duration": 0,
    "start_time": "2022-09-08T12:09:35.279Z"
   },
   {
    "duration": 0,
    "start_time": "2022-09-08T12:09:35.279Z"
   },
   {
    "duration": 0,
    "start_time": "2022-09-08T12:09:35.280Z"
   },
   {
    "duration": 0,
    "start_time": "2022-09-08T12:09:35.281Z"
   },
   {
    "duration": 0,
    "start_time": "2022-09-08T12:09:35.282Z"
   },
   {
    "duration": 0,
    "start_time": "2022-09-08T12:09:35.283Z"
   },
   {
    "duration": 0,
    "start_time": "2022-09-08T12:09:35.284Z"
   },
   {
    "duration": 0,
    "start_time": "2022-09-08T12:09:35.285Z"
   },
   {
    "duration": 0,
    "start_time": "2022-09-08T12:09:35.286Z"
   },
   {
    "duration": 0,
    "start_time": "2022-09-08T12:09:35.287Z"
   },
   {
    "duration": 0,
    "start_time": "2022-09-08T12:09:35.287Z"
   },
   {
    "duration": 0,
    "start_time": "2022-09-08T12:09:35.288Z"
   },
   {
    "duration": 0,
    "start_time": "2022-09-08T12:09:35.289Z"
   },
   {
    "duration": 0,
    "start_time": "2022-09-08T12:09:35.290Z"
   },
   {
    "duration": 0,
    "start_time": "2022-09-08T12:09:35.291Z"
   },
   {
    "duration": 0,
    "start_time": "2022-09-08T12:09:35.292Z"
   },
   {
    "duration": 0,
    "start_time": "2022-09-08T12:09:35.293Z"
   },
   {
    "duration": 0,
    "start_time": "2022-09-08T12:09:35.294Z"
   },
   {
    "duration": 0,
    "start_time": "2022-09-08T12:09:35.294Z"
   },
   {
    "duration": 0,
    "start_time": "2022-09-08T12:09:35.295Z"
   },
   {
    "duration": 0,
    "start_time": "2022-09-08T12:09:35.297Z"
   },
   {
    "duration": 0,
    "start_time": "2022-09-08T12:09:35.297Z"
   },
   {
    "duration": 0,
    "start_time": "2022-09-08T12:09:35.298Z"
   },
   {
    "duration": 0,
    "start_time": "2022-09-08T12:09:35.299Z"
   },
   {
    "duration": 0,
    "start_time": "2022-09-08T12:09:35.300Z"
   },
   {
    "duration": 0,
    "start_time": "2022-09-08T12:09:35.301Z"
   },
   {
    "duration": 1187,
    "start_time": "2022-09-08T12:11:08.710Z"
   },
   {
    "duration": 2642,
    "start_time": "2022-09-08T13:43:22.024Z"
   },
   {
    "duration": 19,
    "start_time": "2022-09-08T13:43:24.668Z"
   },
   {
    "duration": 10,
    "start_time": "2022-09-08T13:43:24.694Z"
   },
   {
    "duration": 18,
    "start_time": "2022-09-08T13:43:24.706Z"
   },
   {
    "duration": 21,
    "start_time": "2022-09-08T13:43:24.725Z"
   },
   {
    "duration": 1068,
    "start_time": "2022-09-08T13:43:24.748Z"
   },
   {
    "duration": 10,
    "start_time": "2022-09-08T13:43:25.817Z"
   },
   {
    "duration": 880,
    "start_time": "2022-09-08T13:43:25.828Z"
   },
   {
    "duration": 0,
    "start_time": "2022-09-08T13:43:26.710Z"
   },
   {
    "duration": 0,
    "start_time": "2022-09-08T13:43:26.712Z"
   },
   {
    "duration": 0,
    "start_time": "2022-09-08T13:43:26.713Z"
   },
   {
    "duration": 0,
    "start_time": "2022-09-08T13:43:26.714Z"
   },
   {
    "duration": 0,
    "start_time": "2022-09-08T13:43:26.715Z"
   },
   {
    "duration": 0,
    "start_time": "2022-09-08T13:43:26.716Z"
   },
   {
    "duration": 0,
    "start_time": "2022-09-08T13:43:26.717Z"
   },
   {
    "duration": 0,
    "start_time": "2022-09-08T13:43:26.718Z"
   },
   {
    "duration": 0,
    "start_time": "2022-09-08T13:43:26.719Z"
   },
   {
    "duration": 0,
    "start_time": "2022-09-08T13:43:26.720Z"
   },
   {
    "duration": 0,
    "start_time": "2022-09-08T13:43:26.721Z"
   },
   {
    "duration": 0,
    "start_time": "2022-09-08T13:43:26.722Z"
   },
   {
    "duration": 0,
    "start_time": "2022-09-08T13:43:26.723Z"
   },
   {
    "duration": 0,
    "start_time": "2022-09-08T13:43:26.725Z"
   },
   {
    "duration": 0,
    "start_time": "2022-09-08T13:43:26.725Z"
   },
   {
    "duration": 0,
    "start_time": "2022-09-08T13:43:26.726Z"
   },
   {
    "duration": 0,
    "start_time": "2022-09-08T13:43:26.728Z"
   },
   {
    "duration": 0,
    "start_time": "2022-09-08T13:43:26.728Z"
   },
   {
    "duration": 0,
    "start_time": "2022-09-08T13:43:26.729Z"
   },
   {
    "duration": 0,
    "start_time": "2022-09-08T13:43:26.730Z"
   },
   {
    "duration": 0,
    "start_time": "2022-09-08T13:43:26.731Z"
   },
   {
    "duration": 0,
    "start_time": "2022-09-08T13:43:26.732Z"
   },
   {
    "duration": 0,
    "start_time": "2022-09-08T13:43:26.733Z"
   },
   {
    "duration": 0,
    "start_time": "2022-09-08T13:43:26.734Z"
   },
   {
    "duration": 0,
    "start_time": "2022-09-08T13:43:26.735Z"
   },
   {
    "duration": 0,
    "start_time": "2022-09-08T13:43:26.736Z"
   },
   {
    "duration": 0,
    "start_time": "2022-09-08T13:43:26.737Z"
   },
   {
    "duration": 2366,
    "start_time": "2022-09-08T13:44:28.506Z"
   },
   {
    "duration": 18,
    "start_time": "2022-09-08T13:44:30.875Z"
   },
   {
    "duration": 26,
    "start_time": "2022-09-08T13:44:30.895Z"
   },
   {
    "duration": 25,
    "start_time": "2022-09-08T13:44:30.923Z"
   },
   {
    "duration": 21,
    "start_time": "2022-09-08T13:44:30.950Z"
   },
   {
    "duration": 143,
    "start_time": "2022-09-08T13:44:30.973Z"
   },
   {
    "duration": 0,
    "start_time": "2022-09-08T13:44:31.121Z"
   },
   {
    "duration": 0,
    "start_time": "2022-09-08T13:44:31.122Z"
   },
   {
    "duration": 0,
    "start_time": "2022-09-08T13:44:31.124Z"
   },
   {
    "duration": 0,
    "start_time": "2022-09-08T13:44:31.125Z"
   },
   {
    "duration": 0,
    "start_time": "2022-09-08T13:44:31.127Z"
   },
   {
    "duration": 0,
    "start_time": "2022-09-08T13:44:31.128Z"
   },
   {
    "duration": 0,
    "start_time": "2022-09-08T13:44:31.129Z"
   },
   {
    "duration": 0,
    "start_time": "2022-09-08T13:44:31.130Z"
   },
   {
    "duration": 0,
    "start_time": "2022-09-08T13:44:31.131Z"
   },
   {
    "duration": 0,
    "start_time": "2022-09-08T13:44:31.133Z"
   },
   {
    "duration": 0,
    "start_time": "2022-09-08T13:44:31.134Z"
   },
   {
    "duration": 0,
    "start_time": "2022-09-08T13:44:31.135Z"
   },
   {
    "duration": 0,
    "start_time": "2022-09-08T13:44:31.136Z"
   },
   {
    "duration": 0,
    "start_time": "2022-09-08T13:44:31.138Z"
   },
   {
    "duration": 0,
    "start_time": "2022-09-08T13:44:31.140Z"
   },
   {
    "duration": 0,
    "start_time": "2022-09-08T13:44:31.142Z"
   },
   {
    "duration": 0,
    "start_time": "2022-09-08T13:44:31.143Z"
   },
   {
    "duration": 0,
    "start_time": "2022-09-08T13:44:31.184Z"
   },
   {
    "duration": 0,
    "start_time": "2022-09-08T13:44:31.188Z"
   },
   {
    "duration": 0,
    "start_time": "2022-09-08T13:44:31.189Z"
   },
   {
    "duration": 0,
    "start_time": "2022-09-08T13:44:31.194Z"
   },
   {
    "duration": 0,
    "start_time": "2022-09-08T13:44:31.196Z"
   },
   {
    "duration": 0,
    "start_time": "2022-09-08T13:44:31.197Z"
   },
   {
    "duration": 0,
    "start_time": "2022-09-08T13:44:31.199Z"
   },
   {
    "duration": 0,
    "start_time": "2022-09-08T13:44:31.200Z"
   },
   {
    "duration": 0,
    "start_time": "2022-09-08T13:44:31.202Z"
   },
   {
    "duration": 2352,
    "start_time": "2022-09-08T13:44:57.605Z"
   },
   {
    "duration": 16,
    "start_time": "2022-09-08T13:44:59.959Z"
   },
   {
    "duration": 34,
    "start_time": "2022-09-08T13:44:59.977Z"
   },
   {
    "duration": 35,
    "start_time": "2022-09-08T13:45:00.013Z"
   },
   {
    "duration": 25,
    "start_time": "2022-09-08T13:45:00.050Z"
   },
   {
    "duration": 1411,
    "start_time": "2022-09-08T13:45:00.076Z"
   },
   {
    "duration": 8,
    "start_time": "2022-09-08T13:45:01.492Z"
   },
   {
    "duration": 60,
    "start_time": "2022-09-08T13:45:01.502Z"
   },
   {
    "duration": 36,
    "start_time": "2022-09-08T13:45:01.564Z"
   },
   {
    "duration": 52,
    "start_time": "2022-09-08T13:45:01.604Z"
   },
   {
    "duration": 53,
    "start_time": "2022-09-08T13:45:01.658Z"
   },
   {
    "duration": 11,
    "start_time": "2022-09-08T13:45:01.713Z"
   },
   {
    "duration": 187,
    "start_time": "2022-09-08T13:45:01.725Z"
   },
   {
    "duration": 7,
    "start_time": "2022-09-08T13:45:01.914Z"
   },
   {
    "duration": 217,
    "start_time": "2022-09-08T13:45:01.922Z"
   },
   {
    "duration": 7,
    "start_time": "2022-09-08T13:45:02.141Z"
   },
   {
    "duration": 176,
    "start_time": "2022-09-08T13:45:02.150Z"
   },
   {
    "duration": 184,
    "start_time": "2022-09-08T13:45:02.327Z"
   },
   {
    "duration": 11,
    "start_time": "2022-09-08T13:45:02.512Z"
   },
   {
    "duration": 41,
    "start_time": "2022-09-08T13:45:02.525Z"
   },
   {
    "duration": 351,
    "start_time": "2022-09-08T13:45:02.568Z"
   },
   {
    "duration": 9,
    "start_time": "2022-09-08T13:45:02.921Z"
   },
   {
    "duration": 14,
    "start_time": "2022-09-08T13:45:02.932Z"
   },
   {
    "duration": 187,
    "start_time": "2022-09-08T13:45:02.948Z"
   },
   {
    "duration": 170,
    "start_time": "2022-09-08T13:45:03.137Z"
   },
   {
    "duration": 189,
    "start_time": "2022-09-08T13:45:03.309Z"
   },
   {
    "duration": 213,
    "start_time": "2022-09-08T13:45:03.500Z"
   },
   {
    "duration": 189,
    "start_time": "2022-09-08T13:45:03.716Z"
   },
   {
    "duration": 9,
    "start_time": "2022-09-08T13:45:03.907Z"
   },
   {
    "duration": 9,
    "start_time": "2022-09-08T13:45:03.917Z"
   },
   {
    "duration": 8,
    "start_time": "2022-09-08T13:45:03.928Z"
   },
   {
    "duration": 2723,
    "start_time": "2022-09-08T14:12:14.769Z"
   },
   {
    "duration": 14,
    "start_time": "2022-09-08T14:12:17.500Z"
   },
   {
    "duration": 35,
    "start_time": "2022-09-08T14:12:17.516Z"
   },
   {
    "duration": 17,
    "start_time": "2022-09-08T14:12:17.552Z"
   },
   {
    "duration": 38,
    "start_time": "2022-09-08T14:12:17.571Z"
   },
   {
    "duration": 987,
    "start_time": "2022-09-08T14:12:17.611Z"
   },
   {
    "duration": 6,
    "start_time": "2022-09-08T14:12:18.600Z"
   },
   {
    "duration": 43,
    "start_time": "2022-09-08T14:12:18.607Z"
   },
   {
    "duration": 17,
    "start_time": "2022-09-08T14:12:18.652Z"
   },
   {
    "duration": 41,
    "start_time": "2022-09-08T14:12:18.671Z"
   },
   {
    "duration": 38,
    "start_time": "2022-09-08T14:12:18.713Z"
   },
   {
    "duration": 15,
    "start_time": "2022-09-08T14:12:18.753Z"
   },
   {
    "duration": 191,
    "start_time": "2022-09-08T14:12:18.770Z"
   },
   {
    "duration": 17,
    "start_time": "2022-09-08T14:12:18.965Z"
   },
   {
    "duration": 214,
    "start_time": "2022-09-08T14:12:18.987Z"
   },
   {
    "duration": 7,
    "start_time": "2022-09-08T14:12:19.203Z"
   },
   {
    "duration": 186,
    "start_time": "2022-09-08T14:12:19.212Z"
   },
   {
    "duration": 171,
    "start_time": "2022-09-08T14:12:19.399Z"
   },
   {
    "duration": 20,
    "start_time": "2022-09-08T14:12:19.576Z"
   },
   {
    "duration": 7,
    "start_time": "2022-09-08T14:12:19.598Z"
   },
   {
    "duration": 485,
    "start_time": "2022-09-08T14:12:19.607Z"
   },
   {
    "duration": 11,
    "start_time": "2022-09-08T14:12:20.093Z"
   },
   {
    "duration": 34,
    "start_time": "2022-09-08T14:12:20.106Z"
   },
   {
    "duration": 198,
    "start_time": "2022-09-08T14:12:20.142Z"
   },
   {
    "duration": 180,
    "start_time": "2022-09-08T14:12:20.342Z"
   },
   {
    "duration": 200,
    "start_time": "2022-09-08T14:12:20.523Z"
   },
   {
    "duration": 184,
    "start_time": "2022-09-08T14:12:20.724Z"
   },
   {
    "duration": 185,
    "start_time": "2022-09-08T14:12:20.909Z"
   },
   {
    "duration": 8,
    "start_time": "2022-09-08T14:12:21.096Z"
   },
   {
    "duration": 17,
    "start_time": "2022-09-08T14:12:21.106Z"
   },
   {
    "duration": 18,
    "start_time": "2022-09-08T14:12:21.124Z"
   },
   {
    "duration": 751,
    "start_time": "2022-09-08T14:25:59.700Z"
   },
   {
    "duration": 9,
    "start_time": "2022-09-08T14:26:55.350Z"
   },
   {
    "duration": 7,
    "start_time": "2022-09-08T14:27:05.885Z"
   },
   {
    "duration": 7,
    "start_time": "2022-09-08T14:38:38.142Z"
   },
   {
    "duration": 9,
    "start_time": "2022-09-08T14:38:48.543Z"
   },
   {
    "duration": 7,
    "start_time": "2022-09-08T14:40:02.397Z"
   },
   {
    "duration": 8,
    "start_time": "2022-09-08T14:40:03.276Z"
   },
   {
    "duration": 10,
    "start_time": "2022-09-08T14:42:27.609Z"
   },
   {
    "duration": 8,
    "start_time": "2022-09-08T14:42:28.496Z"
   },
   {
    "duration": 10,
    "start_time": "2022-09-08T14:42:46.576Z"
   },
   {
    "duration": 9,
    "start_time": "2022-09-08T14:42:47.128Z"
   },
   {
    "duration": 11,
    "start_time": "2022-09-08T14:43:42.008Z"
   },
   {
    "duration": 8,
    "start_time": "2022-09-08T14:43:42.510Z"
   },
   {
    "duration": 2442,
    "start_time": "2022-09-08T14:44:11.973Z"
   },
   {
    "duration": 12,
    "start_time": "2022-09-08T14:44:14.417Z"
   },
   {
    "duration": 13,
    "start_time": "2022-09-08T14:44:14.431Z"
   },
   {
    "duration": 30,
    "start_time": "2022-09-08T14:44:14.447Z"
   },
   {
    "duration": 17,
    "start_time": "2022-09-08T14:44:14.478Z"
   },
   {
    "duration": 927,
    "start_time": "2022-09-08T14:44:14.496Z"
   },
   {
    "duration": 8,
    "start_time": "2022-09-08T14:44:15.425Z"
   },
   {
    "duration": 30,
    "start_time": "2022-09-08T14:44:15.434Z"
   },
   {
    "duration": 28,
    "start_time": "2022-09-08T14:44:15.467Z"
   },
   {
    "duration": 17,
    "start_time": "2022-09-08T14:44:15.499Z"
   },
   {
    "duration": 37,
    "start_time": "2022-09-08T14:44:15.518Z"
   },
   {
    "duration": 12,
    "start_time": "2022-09-08T14:44:15.557Z"
   },
   {
    "duration": 12,
    "start_time": "2022-09-08T14:44:15.571Z"
   },
   {
    "duration": 32,
    "start_time": "2022-09-08T14:44:15.585Z"
   },
   {
    "duration": 8,
    "start_time": "2022-09-08T14:44:15.618Z"
   },
   {
    "duration": 178,
    "start_time": "2022-09-08T14:44:15.628Z"
   },
   {
    "duration": 10,
    "start_time": "2022-09-08T14:44:15.807Z"
   },
   {
    "duration": 220,
    "start_time": "2022-09-08T14:44:15.819Z"
   },
   {
    "duration": 7,
    "start_time": "2022-09-08T14:44:16.041Z"
   },
   {
    "duration": 175,
    "start_time": "2022-09-08T14:44:16.049Z"
   },
   {
    "duration": 184,
    "start_time": "2022-09-08T14:44:16.226Z"
   },
   {
    "duration": 10,
    "start_time": "2022-09-08T14:44:16.412Z"
   },
   {
    "duration": 6,
    "start_time": "2022-09-08T14:44:16.424Z"
   },
   {
    "duration": 363,
    "start_time": "2022-09-08T14:44:16.431Z"
   },
   {
    "duration": 9,
    "start_time": "2022-09-08T14:44:16.796Z"
   },
   {
    "duration": 4,
    "start_time": "2022-09-08T14:44:16.806Z"
   },
   {
    "duration": 184,
    "start_time": "2022-09-08T14:44:16.812Z"
   },
   {
    "duration": 177,
    "start_time": "2022-09-08T14:44:17.000Z"
   },
   {
    "duration": 175,
    "start_time": "2022-09-08T14:44:17.179Z"
   },
   {
    "duration": 169,
    "start_time": "2022-09-08T14:44:17.356Z"
   },
   {
    "duration": 183,
    "start_time": "2022-09-08T14:44:17.527Z"
   },
   {
    "duration": 9,
    "start_time": "2022-09-08T14:44:17.712Z"
   },
   {
    "duration": 17,
    "start_time": "2022-09-08T14:44:17.723Z"
   },
   {
    "duration": 36,
    "start_time": "2022-09-08T14:44:17.742Z"
   },
   {
    "duration": 142,
    "start_time": "2022-09-08T15:00:44.753Z"
   },
   {
    "duration": 151,
    "start_time": "2022-09-08T15:02:38.269Z"
   },
   {
    "duration": 142,
    "start_time": "2022-09-08T15:06:34.147Z"
   },
   {
    "duration": 119,
    "start_time": "2022-09-08T15:10:51.461Z"
   },
   {
    "duration": 228,
    "start_time": "2022-09-08T15:11:16.954Z"
   },
   {
    "duration": 8829,
    "start_time": "2022-09-08T15:13:07.000Z"
   },
   {
    "duration": 108,
    "start_time": "2022-09-08T15:14:14.335Z"
   },
   {
    "duration": 5,
    "start_time": "2022-09-08T15:14:18.806Z"
   },
   {
    "duration": 7,
    "start_time": "2022-09-08T15:14:23.798Z"
   },
   {
    "duration": 139,
    "start_time": "2022-09-08T15:22:58.755Z"
   },
   {
    "duration": 123,
    "start_time": "2022-09-08T15:23:05.908Z"
   },
   {
    "duration": 133,
    "start_time": "2022-09-08T15:23:52.075Z"
   },
   {
    "duration": 6,
    "start_time": "2022-09-08T15:24:06.165Z"
   },
   {
    "duration": 8,
    "start_time": "2022-09-08T15:24:14.386Z"
   },
   {
    "duration": 573,
    "start_time": "2022-09-08T15:24:27.506Z"
   },
   {
    "duration": 137,
    "start_time": "2022-09-08T15:24:37.402Z"
   },
   {
    "duration": 145,
    "start_time": "2022-09-08T15:25:33.386Z"
   },
   {
    "duration": 165,
    "start_time": "2022-09-08T15:26:05.521Z"
   },
   {
    "duration": 7,
    "start_time": "2022-09-08T15:26:29.088Z"
   },
   {
    "duration": 147,
    "start_time": "2022-09-08T15:26:57.896Z"
   },
   {
    "duration": 9,
    "start_time": "2022-09-08T15:45:27.531Z"
   },
   {
    "duration": 15,
    "start_time": "2022-09-08T15:46:13.201Z"
   },
   {
    "duration": 15,
    "start_time": "2022-09-08T15:46:28.041Z"
   },
   {
    "duration": 7,
    "start_time": "2022-09-08T15:48:19.080Z"
   },
   {
    "duration": 9,
    "start_time": "2022-09-08T15:48:55.878Z"
   },
   {
    "duration": 15,
    "start_time": "2022-09-08T15:48:58.406Z"
   },
   {
    "duration": 8,
    "start_time": "2022-09-08T15:49:29.491Z"
   },
   {
    "duration": 3,
    "start_time": "2022-09-08T15:49:38.501Z"
   },
   {
    "duration": 9,
    "start_time": "2022-09-08T15:50:17.285Z"
   },
   {
    "duration": 1321,
    "start_time": "2022-09-08T15:50:35.045Z"
   },
   {
    "duration": 4,
    "start_time": "2022-09-08T15:50:44.892Z"
   },
   {
    "duration": 4,
    "start_time": "2022-09-08T15:50:59.581Z"
   },
   {
    "duration": 5,
    "start_time": "2022-09-08T15:52:17.074Z"
   },
   {
    "duration": 9,
    "start_time": "2022-09-08T16:03:39.767Z"
   },
   {
    "duration": 3,
    "start_time": "2022-09-08T16:03:41.429Z"
   },
   {
    "duration": 5,
    "start_time": "2022-09-08T16:03:49.685Z"
   },
   {
    "duration": 4,
    "start_time": "2022-09-08T16:03:50.725Z"
   },
   {
    "duration": 4,
    "start_time": "2022-09-08T16:03:55.974Z"
   },
   {
    "duration": 12,
    "start_time": "2022-09-08T16:06:41.179Z"
   },
   {
    "duration": 14,
    "start_time": "2022-09-08T16:07:05.194Z"
   },
   {
    "duration": 8,
    "start_time": "2022-09-08T16:07:09.435Z"
   },
   {
    "duration": 250,
    "start_time": "2022-09-08T16:08:01.305Z"
   },
   {
    "duration": 33,
    "start_time": "2022-09-08T16:08:48.840Z"
   },
   {
    "duration": 15,
    "start_time": "2022-09-08T16:11:21.211Z"
   },
   {
    "duration": 15,
    "start_time": "2022-09-08T16:11:37.861Z"
   },
   {
    "duration": 58,
    "start_time": "2022-09-08T16:12:34.827Z"
   },
   {
    "duration": 11,
    "start_time": "2022-09-08T16:16:18.135Z"
   },
   {
    "duration": 32,
    "start_time": "2022-09-08T16:16:23.247Z"
   },
   {
    "duration": 3,
    "start_time": "2022-09-08T16:19:08.653Z"
   },
   {
    "duration": 13,
    "start_time": "2022-09-08T16:19:22.972Z"
   },
   {
    "duration": 180,
    "start_time": "2022-09-08T16:20:33.931Z"
   },
   {
    "duration": 352,
    "start_time": "2022-09-08T16:21:06.770Z"
   },
   {
    "duration": 71,
    "start_time": "2022-09-08T16:21:45.474Z"
   },
   {
    "duration": 85,
    "start_time": "2022-09-08T16:21:54.320Z"
   },
   {
    "duration": 231,
    "start_time": "2022-09-08T16:21:57.658Z"
   },
   {
    "duration": 235,
    "start_time": "2022-09-08T16:22:05.801Z"
   },
   {
    "duration": 259,
    "start_time": "2022-09-08T16:22:19.824Z"
   },
   {
    "duration": 305,
    "start_time": "2022-09-08T16:25:42.796Z"
   },
   {
    "duration": 11,
    "start_time": "2022-09-08T16:26:23.468Z"
   },
   {
    "duration": 17,
    "start_time": "2022-09-08T16:26:36.788Z"
   },
   {
    "duration": 10,
    "start_time": "2022-09-08T16:26:52.075Z"
   },
   {
    "duration": 2,
    "start_time": "2022-09-08T16:27:16.411Z"
   },
   {
    "duration": 7,
    "start_time": "2022-09-08T16:27:21.994Z"
   },
   {
    "duration": 13,
    "start_time": "2022-09-08T16:27:32.587Z"
   },
   {
    "duration": 5,
    "start_time": "2022-09-08T16:27:45.986Z"
   },
   {
    "duration": 12,
    "start_time": "2022-09-08T16:27:49.778Z"
   },
   {
    "duration": 8,
    "start_time": "2022-09-08T16:27:58.511Z"
   },
   {
    "duration": 11,
    "start_time": "2022-09-08T16:28:11.633Z"
   },
   {
    "duration": 12,
    "start_time": "2022-09-08T16:28:21.481Z"
   },
   {
    "duration": 12,
    "start_time": "2022-09-08T16:28:29.897Z"
   },
   {
    "duration": 132,
    "start_time": "2022-09-08T16:28:41.136Z"
   },
   {
    "duration": 15,
    "start_time": "2022-09-08T16:29:07.096Z"
   },
   {
    "duration": 9,
    "start_time": "2022-09-08T16:30:00.688Z"
   },
   {
    "duration": 3,
    "start_time": "2022-09-08T16:30:07.848Z"
   },
   {
    "duration": 3,
    "start_time": "2022-09-08T16:30:10.031Z"
   },
   {
    "duration": 12,
    "start_time": "2022-09-08T16:30:15.199Z"
   },
   {
    "duration": 15,
    "start_time": "2022-09-08T16:30:22.215Z"
   },
   {
    "duration": 11,
    "start_time": "2022-09-08T16:30:37.559Z"
   },
   {
    "duration": 123,
    "start_time": "2022-09-08T16:30:43.855Z"
   },
   {
    "duration": 139,
    "start_time": "2022-09-08T16:31:28.190Z"
   },
   {
    "duration": 123,
    "start_time": "2022-09-08T16:31:38.157Z"
   },
   {
    "duration": 107,
    "start_time": "2022-09-08T16:31:49.398Z"
   },
   {
    "duration": 106,
    "start_time": "2022-09-08T16:32:30.725Z"
   },
   {
    "duration": 126,
    "start_time": "2022-09-08T16:33:50.172Z"
   },
   {
    "duration": 112,
    "start_time": "2022-09-08T16:33:58.889Z"
   },
   {
    "duration": 123,
    "start_time": "2022-09-08T16:34:06.138Z"
   },
   {
    "duration": 1197,
    "start_time": "2022-09-08T16:39:16.145Z"
   },
   {
    "duration": 5,
    "start_time": "2022-09-08T16:40:33.428Z"
   },
   {
    "duration": 23,
    "start_time": "2022-09-08T16:40:39.163Z"
   },
   {
    "duration": 33,
    "start_time": "2022-09-08T16:41:16.402Z"
   },
   {
    "duration": 9,
    "start_time": "2022-09-08T16:43:19.832Z"
   },
   {
    "duration": 8,
    "start_time": "2022-09-08T16:43:36.048Z"
   },
   {
    "duration": 3,
    "start_time": "2022-09-08T16:43:38.079Z"
   },
   {
    "duration": 5,
    "start_time": "2022-09-08T16:43:43.264Z"
   },
   {
    "duration": 4,
    "start_time": "2022-09-08T16:43:44.127Z"
   },
   {
    "duration": 5,
    "start_time": "2022-09-08T16:43:47.287Z"
   },
   {
    "duration": 2707,
    "start_time": "2022-09-08T16:50:00.496Z"
   },
   {
    "duration": 12,
    "start_time": "2022-09-08T16:50:03.206Z"
   },
   {
    "duration": 10,
    "start_time": "2022-09-08T16:50:03.220Z"
   },
   {
    "duration": 17,
    "start_time": "2022-09-08T16:50:03.232Z"
   },
   {
    "duration": 34,
    "start_time": "2022-09-08T16:50:03.251Z"
   },
   {
    "duration": 1939,
    "start_time": "2022-09-08T16:50:03.287Z"
   },
   {
    "duration": 10,
    "start_time": "2022-09-08T16:50:05.229Z"
   },
   {
    "duration": 20,
    "start_time": "2022-09-08T16:50:05.241Z"
   },
   {
    "duration": 17,
    "start_time": "2022-09-08T16:50:05.264Z"
   },
   {
    "duration": 36,
    "start_time": "2022-09-08T16:50:05.283Z"
   },
   {
    "duration": 30,
    "start_time": "2022-09-08T16:50:05.321Z"
   },
   {
    "duration": 9,
    "start_time": "2022-09-08T16:50:05.353Z"
   },
   {
    "duration": 18,
    "start_time": "2022-09-08T16:50:05.364Z"
   },
   {
    "duration": 28,
    "start_time": "2022-09-08T16:50:05.386Z"
   },
   {
    "duration": 18,
    "start_time": "2022-09-08T16:50:05.416Z"
   },
   {
    "duration": 208,
    "start_time": "2022-09-08T16:50:05.436Z"
   },
   {
    "duration": 7,
    "start_time": "2022-09-08T16:50:05.646Z"
   },
   {
    "duration": 199,
    "start_time": "2022-09-08T16:50:05.655Z"
   },
   {
    "duration": 21,
    "start_time": "2022-09-08T16:50:05.857Z"
   },
   {
    "duration": 177,
    "start_time": "2022-09-08T16:50:05.880Z"
   },
   {
    "duration": 191,
    "start_time": "2022-09-08T16:50:06.059Z"
   },
   {
    "duration": 237,
    "start_time": "2022-09-08T16:50:06.252Z"
   },
   {
    "duration": 13,
    "start_time": "2022-09-08T16:50:06.491Z"
   },
   {
    "duration": 8,
    "start_time": "2022-09-08T16:50:06.506Z"
   },
   {
    "duration": 328,
    "start_time": "2022-09-08T16:50:06.515Z"
   },
   {
    "duration": 9,
    "start_time": "2022-09-08T16:50:06.845Z"
   },
   {
    "duration": 21,
    "start_time": "2022-09-08T16:50:06.856Z"
   },
   {
    "duration": 205,
    "start_time": "2022-09-08T16:50:06.879Z"
   },
   {
    "duration": 177,
    "start_time": "2022-09-08T16:50:07.086Z"
   },
   {
    "duration": 179,
    "start_time": "2022-09-08T16:50:07.265Z"
   },
   {
    "duration": 182,
    "start_time": "2022-09-08T16:50:07.445Z"
   },
   {
    "duration": 195,
    "start_time": "2022-09-08T16:50:07.629Z"
   },
   {
    "duration": 179,
    "start_time": "2022-09-08T16:50:07.826Z"
   },
   {
    "duration": 176,
    "start_time": "2022-09-08T16:50:08.006Z"
   },
   {
    "duration": 10,
    "start_time": "2022-09-08T16:50:08.184Z"
   },
   {
    "duration": 27,
    "start_time": "2022-09-08T16:50:08.197Z"
   },
   {
    "duration": 24,
    "start_time": "2022-09-08T16:50:08.225Z"
   },
   {
    "duration": 51,
    "start_time": "2022-09-08T16:50:08.251Z"
   },
   {
    "duration": 124,
    "start_time": "2022-09-08T16:50:08.304Z"
   },
   {
    "duration": 22,
    "start_time": "2022-09-08T16:50:08.431Z"
   },
   {
    "duration": 50,
    "start_time": "2022-09-08T16:50:08.457Z"
   },
   {
    "duration": 8,
    "start_time": "2022-09-08T16:50:08.509Z"
   },
   {
    "duration": 18,
    "start_time": "2022-09-08T16:50:08.519Z"
   },
   {
    "duration": 32,
    "start_time": "2022-09-08T16:50:08.538Z"
   },
   {
    "duration": 20,
    "start_time": "2022-09-08T16:50:08.572Z"
   },
   {
    "duration": 22,
    "start_time": "2022-09-08T16:50:08.594Z"
   },
   {
    "duration": 26,
    "start_time": "2022-09-08T16:50:08.617Z"
   },
   {
    "duration": 3170,
    "start_time": "2022-09-10T08:34:26.031Z"
   },
   {
    "duration": 18,
    "start_time": "2022-09-10T08:34:32.131Z"
   },
   {
    "duration": 21,
    "start_time": "2022-09-10T08:34:34.455Z"
   },
   {
    "duration": 4,
    "start_time": "2022-09-10T08:34:36.990Z"
   },
   {
    "duration": 1586,
    "start_time": "2022-09-10T08:34:51.075Z"
   },
   {
    "duration": 1149,
    "start_time": "2022-09-10T08:35:26.654Z"
   },
   {
    "duration": 1115,
    "start_time": "2022-09-10T08:35:32.071Z"
   },
   {
    "duration": 17,
    "start_time": "2022-09-10T08:35:40.551Z"
   },
   {
    "duration": 11,
    "start_time": "2022-09-10T08:35:43.440Z"
   },
   {
    "duration": 4,
    "start_time": "2022-09-10T08:35:45.070Z"
   },
   {
    "duration": 7,
    "start_time": "2022-09-10T08:35:51.573Z"
   },
   {
    "duration": 11,
    "start_time": "2022-09-10T08:38:09.195Z"
   },
   {
    "duration": 1032,
    "start_time": "2022-09-10T08:38:13.795Z"
   },
   {
    "duration": 23,
    "start_time": "2022-09-10T08:38:17.536Z"
   },
   {
    "duration": 8,
    "start_time": "2022-09-10T08:38:19.898Z"
   },
   {
    "duration": 6,
    "start_time": "2022-09-10T08:38:21.032Z"
   },
   {
    "duration": 15,
    "start_time": "2022-09-10T08:38:22.959Z"
   },
   {
    "duration": 13,
    "start_time": "2022-09-10T08:39:02.090Z"
   },
   {
    "duration": 33,
    "start_time": "2022-09-10T08:39:16.706Z"
   },
   {
    "duration": 11,
    "start_time": "2022-09-10T08:39:46.461Z"
   },
   {
    "duration": 9,
    "start_time": "2022-09-10T08:46:09.491Z"
   },
   {
    "duration": 10,
    "start_time": "2022-09-10T08:46:24.163Z"
   },
   {
    "duration": 31,
    "start_time": "2022-09-10T08:47:13.333Z"
   },
   {
    "duration": 12,
    "start_time": "2022-09-10T08:56:02.273Z"
   },
   {
    "duration": 21,
    "start_time": "2022-09-10T08:59:10.180Z"
   },
   {
    "duration": 29,
    "start_time": "2022-09-10T09:00:20.397Z"
   },
   {
    "duration": 35,
    "start_time": "2022-09-10T09:01:05.804Z"
   },
   {
    "duration": 115,
    "start_time": "2022-09-10T09:01:33.274Z"
   },
   {
    "duration": 19,
    "start_time": "2022-09-10T09:02:41.067Z"
   },
   {
    "duration": 28,
    "start_time": "2022-09-10T09:02:51.268Z"
   },
   {
    "duration": 65,
    "start_time": "2022-09-10T09:03:12.298Z"
   },
   {
    "duration": 12,
    "start_time": "2022-09-10T09:04:01.955Z"
   },
   {
    "duration": 41,
    "start_time": "2022-09-10T09:04:17.441Z"
   },
   {
    "duration": 19,
    "start_time": "2022-09-10T09:05:50.853Z"
   },
   {
    "duration": 30,
    "start_time": "2022-09-10T09:05:58.538Z"
   },
   {
    "duration": 23,
    "start_time": "2022-09-10T09:06:20.974Z"
   },
   {
    "duration": 17,
    "start_time": "2022-09-10T09:06:33.260Z"
   },
   {
    "duration": 45,
    "start_time": "2022-09-10T09:06:46.241Z"
   },
   {
    "duration": 32,
    "start_time": "2022-09-10T09:07:10.536Z"
   },
   {
    "duration": 19,
    "start_time": "2022-09-10T09:07:30.869Z"
   },
   {
    "duration": 47,
    "start_time": "2022-09-10T09:08:57.288Z"
   },
   {
    "duration": 1703,
    "start_time": "2022-09-10T09:17:07.632Z"
   },
   {
    "duration": 10,
    "start_time": "2022-09-10T09:17:13.491Z"
   },
   {
    "duration": 23,
    "start_time": "2022-09-10T09:17:17.035Z"
   },
   {
    "duration": 28,
    "start_time": "2022-09-10T09:17:26.731Z"
   },
   {
    "duration": 19,
    "start_time": "2022-09-10T09:17:31.962Z"
   },
   {
    "duration": 13,
    "start_time": "2022-09-10T09:17:34.034Z"
   },
   {
    "duration": 13,
    "start_time": "2022-09-10T09:17:35.267Z"
   },
   {
    "duration": 29,
    "start_time": "2022-09-10T09:17:37.448Z"
   },
   {
    "duration": 27,
    "start_time": "2022-09-10T09:17:41.541Z"
   },
   {
    "duration": 1737,
    "start_time": "2022-09-10T09:18:44.352Z"
   },
   {
    "duration": 17,
    "start_time": "2022-09-10T09:21:39.261Z"
   },
   {
    "duration": 25,
    "start_time": "2022-09-10T09:22:05.086Z"
   },
   {
    "duration": 28,
    "start_time": "2022-09-10T09:22:13.937Z"
   },
   {
    "duration": 54,
    "start_time": "2022-09-10T09:22:19.494Z"
   },
   {
    "duration": 1245,
    "start_time": "2022-09-10T09:40:20.698Z"
   },
   {
    "duration": 1125,
    "start_time": "2022-09-10T09:43:49.131Z"
   },
   {
    "duration": 8,
    "start_time": "2022-09-10T09:43:57.148Z"
   },
   {
    "duration": 20,
    "start_time": "2022-09-10T09:44:14.244Z"
   },
   {
    "duration": 8,
    "start_time": "2022-09-10T09:44:15.085Z"
   },
   {
    "duration": 5,
    "start_time": "2022-09-10T09:45:11.736Z"
   },
   {
    "duration": 24,
    "start_time": "2022-09-10T09:45:13.259Z"
   },
   {
    "duration": 6,
    "start_time": "2022-09-10T09:45:17.378Z"
   },
   {
    "duration": 6,
    "start_time": "2022-09-10T09:45:21.579Z"
   },
   {
    "duration": 15,
    "start_time": "2022-09-10T09:45:23.946Z"
   },
   {
    "duration": 19,
    "start_time": "2022-09-10T09:47:26.073Z"
   },
   {
    "duration": 11,
    "start_time": "2022-09-10T09:47:26.568Z"
   },
   {
    "duration": 3,
    "start_time": "2022-09-10T09:47:31.480Z"
   },
   {
    "duration": 41,
    "start_time": "2022-09-10T09:47:32.194Z"
   },
   {
    "duration": 10,
    "start_time": "2022-09-10T09:47:34.688Z"
   },
   {
    "duration": 8,
    "start_time": "2022-09-10T09:47:35.064Z"
   },
   {
    "duration": 16,
    "start_time": "2022-09-10T09:47:37.048Z"
   },
   {
    "duration": 8,
    "start_time": "2022-09-10T09:50:44.888Z"
   },
   {
    "duration": 264,
    "start_time": "2022-09-10T09:50:48.286Z"
   },
   {
    "duration": 192,
    "start_time": "2022-09-10T09:52:18.986Z"
   },
   {
    "duration": 8,
    "start_time": "2022-09-10T09:52:26.194Z"
   },
   {
    "duration": 184,
    "start_time": "2022-09-10T09:52:28.651Z"
   },
   {
    "duration": 13,
    "start_time": "2022-09-10T09:52:40.828Z"
   },
   {
    "duration": 171,
    "start_time": "2022-09-10T09:52:44.830Z"
   },
   {
    "duration": 253,
    "start_time": "2022-09-10T09:52:48.769Z"
   },
   {
    "duration": 151,
    "start_time": "2022-09-10T09:56:05.744Z"
   },
   {
    "duration": 30,
    "start_time": "2022-09-10T09:56:26.832Z"
   },
   {
    "duration": 14,
    "start_time": "2022-09-10T09:56:34.034Z"
   },
   {
    "duration": 276,
    "start_time": "2022-09-10T09:56:37.476Z"
   },
   {
    "duration": 8,
    "start_time": "2022-09-10T09:56:58.981Z"
   },
   {
    "duration": 5,
    "start_time": "2022-09-10T09:57:00.780Z"
   },
   {
    "duration": 190,
    "start_time": "2022-09-10T10:01:38.772Z"
   },
   {
    "duration": 205,
    "start_time": "2022-09-10T10:01:47.260Z"
   },
   {
    "duration": 176,
    "start_time": "2022-09-10T10:02:35.763Z"
   },
   {
    "duration": 186,
    "start_time": "2022-09-10T10:02:42.266Z"
   },
   {
    "duration": 217,
    "start_time": "2022-09-10T10:05:14.636Z"
   },
   {
    "duration": 173,
    "start_time": "2022-09-10T10:05:18.633Z"
   },
   {
    "duration": 215,
    "start_time": "2022-09-10T10:05:22.233Z"
   },
   {
    "duration": 18,
    "start_time": "2022-09-10T10:07:07.032Z"
   },
   {
    "duration": 7,
    "start_time": "2022-09-10T10:07:07.779Z"
   },
   {
    "duration": 9,
    "start_time": "2022-09-10T10:07:31.636Z"
   },
   {
    "duration": 112,
    "start_time": "2022-09-10T10:08:05.602Z"
   },
   {
    "duration": 139,
    "start_time": "2022-09-10T10:08:20.066Z"
   },
   {
    "duration": 142,
    "start_time": "2022-09-10T10:08:28.385Z"
   },
   {
    "duration": 141,
    "start_time": "2022-09-10T10:08:37.012Z"
   },
   {
    "duration": 124,
    "start_time": "2022-09-10T10:08:47.450Z"
   },
   {
    "duration": 23,
    "start_time": "2022-09-10T10:09:27.985Z"
   },
   {
    "duration": 40,
    "start_time": "2022-09-10T10:09:48.844Z"
   },
   {
    "duration": 20,
    "start_time": "2022-09-10T10:09:58.607Z"
   },
   {
    "duration": 7,
    "start_time": "2022-09-10T10:10:01.552Z"
   },
   {
    "duration": 8,
    "start_time": "2022-09-10T10:10:02.735Z"
   },
   {
    "duration": 8,
    "start_time": "2022-09-10T10:10:03.607Z"
   },
   {
    "duration": 5,
    "start_time": "2022-09-10T10:10:04.537Z"
   },
   {
    "duration": 6,
    "start_time": "2022-09-10T10:10:08.640Z"
   },
   {
    "duration": 85,
    "start_time": "2022-09-10T10:15:56.862Z"
   },
   {
    "duration": 3149,
    "start_time": "2022-09-10T10:16:18.496Z"
   },
   {
    "duration": 18,
    "start_time": "2022-09-10T10:16:21.651Z"
   },
   {
    "duration": 30,
    "start_time": "2022-09-10T10:16:21.675Z"
   },
   {
    "duration": 78,
    "start_time": "2022-09-10T10:16:21.707Z"
   },
   {
    "duration": 32,
    "start_time": "2022-09-10T10:16:21.787Z"
   },
   {
    "duration": 33,
    "start_time": "2022-09-10T10:16:21.828Z"
   },
   {
    "duration": 24,
    "start_time": "2022-09-10T10:16:21.865Z"
   },
   {
    "duration": 44,
    "start_time": "2022-09-10T10:16:21.891Z"
   },
   {
    "duration": 39,
    "start_time": "2022-09-10T10:16:21.937Z"
   },
   {
    "duration": 20,
    "start_time": "2022-09-10T10:16:21.978Z"
   },
   {
    "duration": 65,
    "start_time": "2022-09-10T10:16:22.000Z"
   },
   {
    "duration": 1262,
    "start_time": "2022-09-10T10:16:22.067Z"
   },
   {
    "duration": 16,
    "start_time": "2022-09-10T10:16:23.335Z"
   },
   {
    "duration": 47,
    "start_time": "2022-09-10T10:16:23.358Z"
   },
   {
    "duration": 69,
    "start_time": "2022-09-10T10:16:23.407Z"
   },
   {
    "duration": 9,
    "start_time": "2022-09-10T10:16:23.478Z"
   },
   {
    "duration": 48,
    "start_time": "2022-09-10T10:16:23.489Z"
   },
   {
    "duration": 41,
    "start_time": "2022-09-10T10:16:23.539Z"
   },
   {
    "duration": 15,
    "start_time": "2022-09-10T10:16:23.582Z"
   },
   {
    "duration": 36,
    "start_time": "2022-09-10T10:16:23.601Z"
   },
   {
    "duration": 27,
    "start_time": "2022-09-10T10:16:23.646Z"
   },
   {
    "duration": 287,
    "start_time": "2022-09-10T10:16:23.675Z"
   },
   {
    "duration": 8,
    "start_time": "2022-09-10T10:16:23.964Z"
   },
   {
    "duration": 241,
    "start_time": "2022-09-10T10:16:23.974Z"
   },
   {
    "duration": 16,
    "start_time": "2022-09-10T10:16:24.221Z"
   },
   {
    "duration": 221,
    "start_time": "2022-09-10T10:16:24.238Z"
   },
   {
    "duration": 217,
    "start_time": "2022-09-10T10:16:24.461Z"
   },
   {
    "duration": 201,
    "start_time": "2022-09-10T10:16:24.680Z"
   },
   {
    "duration": 35,
    "start_time": "2022-09-10T10:16:24.884Z"
   },
   {
    "duration": 15,
    "start_time": "2022-09-10T10:16:24.935Z"
   },
   {
    "duration": 459,
    "start_time": "2022-09-10T10:16:24.952Z"
   },
   {
    "duration": 9,
    "start_time": "2022-09-10T10:16:25.414Z"
   },
   {
    "duration": 56,
    "start_time": "2022-09-10T10:16:25.425Z"
   },
   {
    "duration": 270,
    "start_time": "2022-09-10T10:16:25.486Z"
   },
   {
    "duration": 173,
    "start_time": "2022-09-10T10:16:25.758Z"
   },
   {
    "duration": 188,
    "start_time": "2022-09-10T10:16:25.932Z"
   },
   {
    "duration": 229,
    "start_time": "2022-09-10T10:16:26.122Z"
   },
   {
    "duration": 217,
    "start_time": "2022-09-10T10:16:26.352Z"
   },
   {
    "duration": 216,
    "start_time": "2022-09-10T10:16:26.573Z"
   },
   {
    "duration": 278,
    "start_time": "2022-09-10T10:16:26.791Z"
   },
   {
    "duration": 10,
    "start_time": "2022-09-10T10:16:27.075Z"
   },
   {
    "duration": 19,
    "start_time": "2022-09-10T10:16:27.086Z"
   },
   {
    "duration": 66,
    "start_time": "2022-09-10T10:16:27.107Z"
   },
   {
    "duration": 64,
    "start_time": "2022-09-10T10:16:27.175Z"
   },
   {
    "duration": 152,
    "start_time": "2022-09-10T10:16:27.241Z"
   },
   {
    "duration": 50,
    "start_time": "2022-09-10T10:16:27.394Z"
   },
   {
    "duration": 39,
    "start_time": "2022-09-10T10:16:27.452Z"
   },
   {
    "duration": 9,
    "start_time": "2022-09-10T10:16:27.493Z"
   },
   {
    "duration": 74,
    "start_time": "2022-09-10T10:16:27.503Z"
   },
   {
    "duration": 6,
    "start_time": "2022-09-10T10:16:27.578Z"
   },
   {
    "duration": 10,
    "start_time": "2022-09-10T10:16:27.585Z"
   },
   {
    "duration": 22,
    "start_time": "2022-09-10T10:16:27.597Z"
   },
   {
    "duration": 38,
    "start_time": "2022-09-10T10:16:27.627Z"
   },
   {
    "duration": 2814,
    "start_time": "2022-09-10T10:31:28.950Z"
   },
   {
    "duration": 13,
    "start_time": "2022-09-10T10:31:31.766Z"
   },
   {
    "duration": 9,
    "start_time": "2022-09-10T10:31:31.780Z"
   },
   {
    "duration": 60,
    "start_time": "2022-09-10T10:31:31.791Z"
   },
   {
    "duration": 9,
    "start_time": "2022-09-10T10:31:31.853Z"
   },
   {
    "duration": 12,
    "start_time": "2022-09-10T10:31:31.864Z"
   },
   {
    "duration": 19,
    "start_time": "2022-09-10T10:31:31.878Z"
   },
   {
    "duration": 26,
    "start_time": "2022-09-10T10:31:31.899Z"
   },
   {
    "duration": 46,
    "start_time": "2022-09-10T10:31:31.927Z"
   },
   {
    "duration": 20,
    "start_time": "2022-09-10T10:31:31.975Z"
   },
   {
    "duration": 43,
    "start_time": "2022-09-10T10:31:31.996Z"
   },
   {
    "duration": 1048,
    "start_time": "2022-09-10T10:31:32.040Z"
   },
   {
    "duration": 9,
    "start_time": "2022-09-10T10:31:33.090Z"
   },
   {
    "duration": 33,
    "start_time": "2022-09-10T10:31:33.102Z"
   },
   {
    "duration": 17,
    "start_time": "2022-09-10T10:31:33.141Z"
   },
   {
    "duration": 10,
    "start_time": "2022-09-10T10:31:33.160Z"
   },
   {
    "duration": 24,
    "start_time": "2022-09-10T10:31:33.172Z"
   },
   {
    "duration": 8,
    "start_time": "2022-09-10T10:31:33.197Z"
   },
   {
    "duration": 59,
    "start_time": "2022-09-10T10:31:33.207Z"
   },
   {
    "duration": 22,
    "start_time": "2022-09-10T10:31:33.268Z"
   },
   {
    "duration": 13,
    "start_time": "2022-09-10T10:31:33.292Z"
   },
   {
    "duration": 264,
    "start_time": "2022-09-10T10:31:33.307Z"
   },
   {
    "duration": 6,
    "start_time": "2022-09-10T10:31:33.572Z"
   },
   {
    "duration": 193,
    "start_time": "2022-09-10T10:31:33.580Z"
   },
   {
    "duration": 8,
    "start_time": "2022-09-10T10:31:33.774Z"
   },
   {
    "duration": 211,
    "start_time": "2022-09-10T10:31:33.784Z"
   },
   {
    "duration": 200,
    "start_time": "2022-09-10T10:31:33.997Z"
   },
   {
    "duration": 168,
    "start_time": "2022-09-10T10:31:34.199Z"
   },
   {
    "duration": 13,
    "start_time": "2022-09-10T10:31:34.369Z"
   },
   {
    "duration": 10,
    "start_time": "2022-09-10T10:31:34.384Z"
   },
   {
    "duration": 434,
    "start_time": "2022-09-10T10:31:34.397Z"
   },
   {
    "duration": 12,
    "start_time": "2022-09-10T10:31:34.844Z"
   },
   {
    "duration": 20,
    "start_time": "2022-09-10T10:31:34.858Z"
   },
   {
    "duration": 212,
    "start_time": "2022-09-10T10:31:34.882Z"
   },
   {
    "duration": 192,
    "start_time": "2022-09-10T10:31:35.096Z"
   },
   {
    "duration": 174,
    "start_time": "2022-09-10T10:31:35.290Z"
   },
   {
    "duration": 182,
    "start_time": "2022-09-10T10:31:35.466Z"
   },
   {
    "duration": 213,
    "start_time": "2022-09-10T10:31:35.652Z"
   },
   {
    "duration": 184,
    "start_time": "2022-09-10T10:31:35.866Z"
   },
   {
    "duration": 203,
    "start_time": "2022-09-10T10:31:36.052Z"
   },
   {
    "duration": 11,
    "start_time": "2022-09-10T10:31:36.262Z"
   },
   {
    "duration": 17,
    "start_time": "2022-09-10T10:31:36.275Z"
   },
   {
    "duration": 34,
    "start_time": "2022-09-10T10:31:36.293Z"
   },
   {
    "duration": 57,
    "start_time": "2022-09-10T10:31:36.328Z"
   },
   {
    "duration": 141,
    "start_time": "2022-09-10T10:31:36.386Z"
   },
   {
    "duration": 29,
    "start_time": "2022-09-10T10:31:36.528Z"
   },
   {
    "duration": 43,
    "start_time": "2022-09-10T10:31:36.559Z"
   },
   {
    "duration": 29,
    "start_time": "2022-09-10T10:31:36.604Z"
   },
   {
    "duration": 28,
    "start_time": "2022-09-10T10:31:36.635Z"
   },
   {
    "duration": 3,
    "start_time": "2022-09-10T10:31:36.665Z"
   },
   {
    "duration": 11,
    "start_time": "2022-09-10T10:31:36.669Z"
   },
   {
    "duration": 8,
    "start_time": "2022-09-10T10:31:36.681Z"
   },
   {
    "duration": 11,
    "start_time": "2022-09-10T10:31:36.691Z"
   }
  ],
  "kernelspec": {
   "display_name": "Python 3 (ipykernel)",
   "language": "python",
   "name": "python3"
  },
  "language_info": {
   "codemirror_mode": {
    "name": "ipython",
    "version": 3
   },
   "file_extension": ".py",
   "mimetype": "text/x-python",
   "name": "python",
   "nbconvert_exporter": "python",
   "pygments_lexer": "ipython3",
   "version": "3.9.5"
  },
  "toc": {
   "base_numbering": 1,
   "nav_menu": {},
   "number_sections": false,
   "sideBar": true,
   "skip_h1_title": true,
   "title_cell": "Содержание",
   "title_sidebar": "Содержание",
   "toc_cell": true,
   "toc_position": {
    "height": "calc(100% - 180px)",
    "left": "10px",
    "top": "150px",
    "width": "265.957px"
   },
   "toc_section_display": true,
   "toc_window_display": true
  }
 },
 "nbformat": 4,
 "nbformat_minor": 2
}
