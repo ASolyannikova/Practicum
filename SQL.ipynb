{
 "cells": [
  {
   "cell_type": "markdown",
   "id": "571cd317",
   "metadata": {},
   "source": [
    "<div class=\"alert alert-info\">\n",
    "Привет, Александра! Меня зовут Светлана Чих и я буду проверять твой проект. Моя основная цель — не указать на совершенные тобою ошибки, а поделиться своим опытом и помочь тебе.\n",
    "\n",
    "<div class=\"alert alert-success\">\n",
    "<b>👍 Успех:</b> Зелёным цветом отмечены удачные и элегантные решения, на которые можно опираться в будущих проектах.\n",
    "</div>\n",
    "<div class=\"alert alert-warning\">\n",
    "<b>🤔 Рекомендация:</b> Жёлтым цветом выделено то, что в следующий раз можно сделать по-другому. Ты можешь учесть эти комментарии при выполнении будущих заданий или доработать проект сейчас (однако это не обязательно).\n",
    "</div>\n",
    "<div class=\"alert alert-danger\">\n",
    "<b>😔 Необходимо исправить:</b> Красным цветом выделены комментарии, без исправления которых, я не смогу принять проект :(\n",
    "</div>\n",
    "<div class=\"alert alert-info\">\n",
    "<b>👂 Совет:</b> Какие-то дополнительные материалы\n",
    "</div>\n",
    "Давай работать над проектом в диалоге: если ты что-то меняешь в проекте по моим рекомендациям — пиши об этом.\n",
    "Мне будет легче отследить изменения, если ты выделишь свои комментарии:\n",
    "<div class=\"alert alert-info\"> <b>🎓 Комментарий студента:</b> Например, вот так.</div>\n",
    "Пожалуйста, не перемещай, не изменяй и не удаляй мои комментарии. Всё это поможет выполнить повторную проверку твоего проекта быстрее.\n",
    " </div>"
   ]
  },
  {
   "cell_type": "markdown",
   "id": "0f592c5f",
   "metadata": {
    "toc": true
   },
   "source": [
    "<h1>Содержание<span class=\"tocSkip\"></span></h1>\n",
    "<div class=\"toc\"><ul class=\"toc-item\"><li><span><a href=\"#Описание-задачи\" data-toc-modified-id=\"Описание-задачи-1\">Описание задачи</a></span></li><li><span><a href=\"#Описание-данных\" data-toc-modified-id=\"Описание-данных-2\">Описание данных</a></span></li><li><span><a href=\"#Иморт-библиотек-и-подключение-к-БД\" data-toc-modified-id=\"Иморт-библиотек-и-подключение-к-БД-3\">Иморт библиотек и подключение к БД</a></span></li><li><span><a href=\"#Вывод-таблиц\" data-toc-modified-id=\"Вывод-таблиц-4\">Вывод таблиц</a></span></li><li><span><a href=\"#Задание-1\" data-toc-modified-id=\"Задание-1-5\">Задание 1</a></span></li><li><span><a href=\"#Задание-2\" data-toc-modified-id=\"Задание-2-6\">Задание 2</a></span></li><li><span><a href=\"#Задание-3\" data-toc-modified-id=\"Задание-3-7\">Задание 3</a></span></li><li><span><a href=\"#Задание-4\" data-toc-modified-id=\"Задание-4-8\">Задание 4</a></span></li><li><span><a href=\"#Задание-5\" data-toc-modified-id=\"Задание-5-9\">Задание 5</a></span></li></ul></div>"
   ]
  },
  {
   "cell_type": "markdown",
   "id": "b08150bc",
   "metadata": {},
   "source": [
    "# SQL"
   ]
  },
  {
   "cell_type": "markdown",
   "id": "5fd2d7cb",
   "metadata": {},
   "source": [
    "## Описание задачи"
   ]
  },
  {
   "cell_type": "markdown",
   "id": "e06370c1",
   "metadata": {},
   "source": [
    "Коронавирус застал мир врасплох, изменив привычный порядок вещей. В свободное время жители городов больше не выходят на улицу, не посещают кафе и торговые центры. Зато стало больше времени для книг. Это заметили стартаперы — и бросились создавать приложения для тех, кто любит читать.\n",
    "\n",
    "Ваша компания решила быть на волне и купила крупный сервис для чтения книг по подписке. Ваша первая задача как аналитика — проанализировать базу данных.\n",
    "В ней — информация о книгах, издательствах, авторах, а также пользовательские обзоры книг. Эти данные помогут сформулировать ценностное предложение для нового продукта."
   ]
  },
  {
   "cell_type": "markdown",
   "id": "c798ab29",
   "metadata": {},
   "source": [
    "## Описание данных"
   ]
  },
  {
   "cell_type": "markdown",
   "id": "71c896dc",
   "metadata": {},
   "source": [
    "**Таблица `books`**\n",
    "\n",
    "Содержит данные о книгах:\n",
    "\n",
    "- `book_id` — идентификатор книги;\n",
    "- `author_id` — идентификатор автора;\n",
    "- `title` — название книги;\n",
    "- `num_pages` — количество страниц;\n",
    "- `publication_date` — дата публикации книги;\n",
    "- `publisher_id` — идентификатор издателя.\n",
    "\n",
    "**Таблица `authors`**\n",
    "\n",
    "Содержит данные об авторах:\n",
    "\n",
    "- `author_id` — идентификатор автора;\n",
    "- `author` — имя автора.\n",
    "\n",
    "**Таблица `publishers`**\n",
    "\n",
    "Содержит данные об издательствах:\n",
    "\n",
    "- `publisher_id` — идентификатор издательства;\n",
    "- `publisher` — название издательства;\n",
    "\n",
    "**Таблица `ratings`**\n",
    "\n",
    "Содержит данные о пользовательских оценках книг:\n",
    "\n",
    "- `rating_id` — идентификатор оценки;\n",
    "- `book_id` — идентификатор книги;\n",
    "- `username` — имя пользователя, оставившего оценку;\n",
    "- `rating` — оценка книги.\n",
    "\n",
    "**Таблица `reviews`**\n",
    "\n",
    "Содержит данные о пользовательских обзорах на книги:\n",
    "\n",
    "- `review_id` — идентификатор обзора;\n",
    "- `book_id` — идентификатор книги;\n",
    "- `username` — имя пользователя, написавшего обзор;\n",
    "- `text` — текст обзора."
   ]
  },
  {
   "cell_type": "markdown",
   "id": "8280103f",
   "metadata": {},
   "source": [
    "## Иморт библиотек и подключение к БД"
   ]
  },
  {
   "cell_type": "code",
   "execution_count": 1,
   "id": "3a185cf1",
   "metadata": {},
   "outputs": [],
   "source": [
    "# импортируем библиотеки\n",
    "import pandas as pd\n",
    "from sqlalchemy import create_engine\n",
    "# устанавливаем параметры\n",
    "db_config = {'user': 'praktikum_student', # имя пользователя\n",
    "'pwd': 'Sdf4$2;d-d30pp', # пароль\n",
    "'host': 'rc1b-wcoijxj3yxfsf3fs.mdb.yandexcloud.net',\n",
    "'port': 6432, # порт подключения\n",
    "'db': 'data-analyst-final-project-db'} # название базы данных\n",
    "connection_string = 'postgresql://{}:{}@{}:{}/{}'.format(db_config['user'],\n",
    " db_config['pwd'],\n",
    " db_config['host'],\n",
    " db_config['port'],\n",
    " db_config['db'])\n",
    "# сохраняем коннектор\n",
    "engine = create_engine(connection_string, connect_args={'sslmode':'require'}) "
   ]
  },
  {
   "cell_type": "markdown",
   "id": "b8a3e1c2",
   "metadata": {},
   "source": [
    "## Вывод таблиц"
   ]
  },
  {
   "cell_type": "code",
   "execution_count": 2,
   "id": "830e8d72",
   "metadata": {},
   "outputs": [
    {
     "data": {
      "text/html": [
       "<div>\n",
       "<style scoped>\n",
       "    .dataframe tbody tr th:only-of-type {\n",
       "        vertical-align: middle;\n",
       "    }\n",
       "\n",
       "    .dataframe tbody tr th {\n",
       "        vertical-align: top;\n",
       "    }\n",
       "\n",
       "    .dataframe thead th {\n",
       "        text-align: right;\n",
       "    }\n",
       "</style>\n",
       "<table border=\"1\" class=\"dataframe\">\n",
       "  <thead>\n",
       "    <tr style=\"text-align: right;\">\n",
       "      <th></th>\n",
       "      <th>book_id</th>\n",
       "      <th>author_id</th>\n",
       "      <th>title</th>\n",
       "      <th>num_pages</th>\n",
       "      <th>publication_date</th>\n",
       "      <th>publisher_id</th>\n",
       "    </tr>\n",
       "  </thead>\n",
       "  <tbody>\n",
       "    <tr>\n",
       "      <th>0</th>\n",
       "      <td>1</td>\n",
       "      <td>546</td>\n",
       "      <td>'Salem's Lot</td>\n",
       "      <td>594</td>\n",
       "      <td>2005-11-01</td>\n",
       "      <td>93</td>\n",
       "    </tr>\n",
       "    <tr>\n",
       "      <th>1</th>\n",
       "      <td>2</td>\n",
       "      <td>465</td>\n",
       "      <td>1 000 Places to See Before You Die</td>\n",
       "      <td>992</td>\n",
       "      <td>2003-05-22</td>\n",
       "      <td>336</td>\n",
       "    </tr>\n",
       "    <tr>\n",
       "      <th>2</th>\n",
       "      <td>3</td>\n",
       "      <td>407</td>\n",
       "      <td>13 Little Blue Envelopes (Little Blue Envelope...</td>\n",
       "      <td>322</td>\n",
       "      <td>2010-12-21</td>\n",
       "      <td>135</td>\n",
       "    </tr>\n",
       "    <tr>\n",
       "      <th>3</th>\n",
       "      <td>4</td>\n",
       "      <td>82</td>\n",
       "      <td>1491: New Revelations of the Americas Before C...</td>\n",
       "      <td>541</td>\n",
       "      <td>2006-10-10</td>\n",
       "      <td>309</td>\n",
       "    </tr>\n",
       "    <tr>\n",
       "      <th>4</th>\n",
       "      <td>5</td>\n",
       "      <td>125</td>\n",
       "      <td>1776</td>\n",
       "      <td>386</td>\n",
       "      <td>2006-07-04</td>\n",
       "      <td>268</td>\n",
       "    </tr>\n",
       "    <tr>\n",
       "      <th>5</th>\n",
       "      <td>6</td>\n",
       "      <td>257</td>\n",
       "      <td>1st to Die (Women's Murder Club  #1)</td>\n",
       "      <td>424</td>\n",
       "      <td>2005-05-20</td>\n",
       "      <td>116</td>\n",
       "    </tr>\n",
       "    <tr>\n",
       "      <th>6</th>\n",
       "      <td>7</td>\n",
       "      <td>258</td>\n",
       "      <td>2nd Chance (Women's Murder Club  #2)</td>\n",
       "      <td>400</td>\n",
       "      <td>2005-05-20</td>\n",
       "      <td>116</td>\n",
       "    </tr>\n",
       "    <tr>\n",
       "      <th>7</th>\n",
       "      <td>8</td>\n",
       "      <td>260</td>\n",
       "      <td>4th of July (Women's Murder Club  #4)</td>\n",
       "      <td>448</td>\n",
       "      <td>2006-06-01</td>\n",
       "      <td>318</td>\n",
       "    </tr>\n",
       "    <tr>\n",
       "      <th>8</th>\n",
       "      <td>9</td>\n",
       "      <td>563</td>\n",
       "      <td>A Beautiful Mind</td>\n",
       "      <td>461</td>\n",
       "      <td>2002-02-04</td>\n",
       "      <td>104</td>\n",
       "    </tr>\n",
       "    <tr>\n",
       "      <th>9</th>\n",
       "      <td>10</td>\n",
       "      <td>445</td>\n",
       "      <td>A Bend in the Road</td>\n",
       "      <td>341</td>\n",
       "      <td>2005-04-01</td>\n",
       "      <td>116</td>\n",
       "    </tr>\n",
       "  </tbody>\n",
       "</table>\n",
       "</div>"
      ],
      "text/plain": [
       "   book_id  author_id                                              title  \\\n",
       "0        1        546                                       'Salem's Lot   \n",
       "1        2        465                 1 000 Places to See Before You Die   \n",
       "2        3        407  13 Little Blue Envelopes (Little Blue Envelope...   \n",
       "3        4         82  1491: New Revelations of the Americas Before C...   \n",
       "4        5        125                                               1776   \n",
       "5        6        257               1st to Die (Women's Murder Club  #1)   \n",
       "6        7        258               2nd Chance (Women's Murder Club  #2)   \n",
       "7        8        260              4th of July (Women's Murder Club  #4)   \n",
       "8        9        563                                   A Beautiful Mind   \n",
       "9       10        445                                 A Bend in the Road   \n",
       "\n",
       "   num_pages publication_date  publisher_id  \n",
       "0        594       2005-11-01            93  \n",
       "1        992       2003-05-22           336  \n",
       "2        322       2010-12-21           135  \n",
       "3        541       2006-10-10           309  \n",
       "4        386       2006-07-04           268  \n",
       "5        424       2005-05-20           116  \n",
       "6        400       2005-05-20           116  \n",
       "7        448       2006-06-01           318  \n",
       "8        461       2002-02-04           104  \n",
       "9        341       2005-04-01           116  "
      ]
     },
     "execution_count": 2,
     "metadata": {},
     "output_type": "execute_result"
    }
   ],
   "source": [
    "#выведем первые 10 строк каждой таблицы\n",
    "#таблица books\n",
    "\n",
    "books = \"SELECT * FROM books LIMIT 10\"\n",
    "pd.io.sql.read_sql(books, con = engine)"
   ]
  },
  {
   "cell_type": "code",
   "execution_count": 3,
   "id": "ccc19955",
   "metadata": {},
   "outputs": [
    {
     "data": {
      "text/html": [
       "<div>\n",
       "<style scoped>\n",
       "    .dataframe tbody tr th:only-of-type {\n",
       "        vertical-align: middle;\n",
       "    }\n",
       "\n",
       "    .dataframe tbody tr th {\n",
       "        vertical-align: top;\n",
       "    }\n",
       "\n",
       "    .dataframe thead th {\n",
       "        text-align: right;\n",
       "    }\n",
       "</style>\n",
       "<table border=\"1\" class=\"dataframe\">\n",
       "  <thead>\n",
       "    <tr style=\"text-align: right;\">\n",
       "      <th></th>\n",
       "      <th>author_id</th>\n",
       "      <th>author</th>\n",
       "    </tr>\n",
       "  </thead>\n",
       "  <tbody>\n",
       "    <tr>\n",
       "      <th>0</th>\n",
       "      <td>1</td>\n",
       "      <td>A.S. Byatt</td>\n",
       "    </tr>\n",
       "    <tr>\n",
       "      <th>1</th>\n",
       "      <td>2</td>\n",
       "      <td>Aesop/Laura Harris/Laura Gibbs</td>\n",
       "    </tr>\n",
       "    <tr>\n",
       "      <th>2</th>\n",
       "      <td>3</td>\n",
       "      <td>Agatha Christie</td>\n",
       "    </tr>\n",
       "    <tr>\n",
       "      <th>3</th>\n",
       "      <td>4</td>\n",
       "      <td>Alan Brennert</td>\n",
       "    </tr>\n",
       "    <tr>\n",
       "      <th>4</th>\n",
       "      <td>5</td>\n",
       "      <td>Alan Moore/David   Lloyd</td>\n",
       "    </tr>\n",
       "    <tr>\n",
       "      <th>5</th>\n",
       "      <td>6</td>\n",
       "      <td>Alan Paton</td>\n",
       "    </tr>\n",
       "    <tr>\n",
       "      <th>6</th>\n",
       "      <td>7</td>\n",
       "      <td>Albert Camus/Justin O'Brien</td>\n",
       "    </tr>\n",
       "    <tr>\n",
       "      <th>7</th>\n",
       "      <td>8</td>\n",
       "      <td>Aldous Huxley</td>\n",
       "    </tr>\n",
       "    <tr>\n",
       "      <th>8</th>\n",
       "      <td>9</td>\n",
       "      <td>Aldous Huxley/Christopher Hitchens</td>\n",
       "    </tr>\n",
       "    <tr>\n",
       "      <th>9</th>\n",
       "      <td>10</td>\n",
       "      <td>Aleksandr Solzhenitsyn/H.T. Willetts</td>\n",
       "    </tr>\n",
       "  </tbody>\n",
       "</table>\n",
       "</div>"
      ],
      "text/plain": [
       "   author_id                                author\n",
       "0          1                            A.S. Byatt\n",
       "1          2        Aesop/Laura Harris/Laura Gibbs\n",
       "2          3                       Agatha Christie\n",
       "3          4                         Alan Brennert\n",
       "4          5              Alan Moore/David   Lloyd\n",
       "5          6                            Alan Paton\n",
       "6          7           Albert Camus/Justin O'Brien\n",
       "7          8                         Aldous Huxley\n",
       "8          9    Aldous Huxley/Christopher Hitchens\n",
       "9         10  Aleksandr Solzhenitsyn/H.T. Willetts"
      ]
     },
     "execution_count": 3,
     "metadata": {},
     "output_type": "execute_result"
    }
   ],
   "source": [
    "#таблица authors\n",
    "\n",
    "authors = \"SELECT * FROM authors LIMIT 10\"\n",
    "pd.io.sql.read_sql(authors, con = engine)"
   ]
  },
  {
   "cell_type": "code",
   "execution_count": 4,
   "id": "1f4f3240",
   "metadata": {},
   "outputs": [
    {
     "data": {
      "text/html": [
       "<div>\n",
       "<style scoped>\n",
       "    .dataframe tbody tr th:only-of-type {\n",
       "        vertical-align: middle;\n",
       "    }\n",
       "\n",
       "    .dataframe tbody tr th {\n",
       "        vertical-align: top;\n",
       "    }\n",
       "\n",
       "    .dataframe thead th {\n",
       "        text-align: right;\n",
       "    }\n",
       "</style>\n",
       "<table border=\"1\" class=\"dataframe\">\n",
       "  <thead>\n",
       "    <tr style=\"text-align: right;\">\n",
       "      <th></th>\n",
       "      <th>publisher_id</th>\n",
       "      <th>publisher</th>\n",
       "    </tr>\n",
       "  </thead>\n",
       "  <tbody>\n",
       "    <tr>\n",
       "      <th>0</th>\n",
       "      <td>1</td>\n",
       "      <td>Ace</td>\n",
       "    </tr>\n",
       "    <tr>\n",
       "      <th>1</th>\n",
       "      <td>2</td>\n",
       "      <td>Ace Book</td>\n",
       "    </tr>\n",
       "    <tr>\n",
       "      <th>2</th>\n",
       "      <td>3</td>\n",
       "      <td>Ace Books</td>\n",
       "    </tr>\n",
       "    <tr>\n",
       "      <th>3</th>\n",
       "      <td>4</td>\n",
       "      <td>Ace Hardcover</td>\n",
       "    </tr>\n",
       "    <tr>\n",
       "      <th>4</th>\n",
       "      <td>5</td>\n",
       "      <td>Addison Wesley Publishing Company</td>\n",
       "    </tr>\n",
       "    <tr>\n",
       "      <th>5</th>\n",
       "      <td>6</td>\n",
       "      <td>Aladdin</td>\n",
       "    </tr>\n",
       "    <tr>\n",
       "      <th>6</th>\n",
       "      <td>7</td>\n",
       "      <td>Aladdin Paperbacks</td>\n",
       "    </tr>\n",
       "    <tr>\n",
       "      <th>7</th>\n",
       "      <td>8</td>\n",
       "      <td>Albin Michel</td>\n",
       "    </tr>\n",
       "    <tr>\n",
       "      <th>8</th>\n",
       "      <td>9</td>\n",
       "      <td>Alfred A. Knopf</td>\n",
       "    </tr>\n",
       "    <tr>\n",
       "      <th>9</th>\n",
       "      <td>10</td>\n",
       "      <td>Alfred A. Knopf Books for Young Readers</td>\n",
       "    </tr>\n",
       "  </tbody>\n",
       "</table>\n",
       "</div>"
      ],
      "text/plain": [
       "   publisher_id                                publisher\n",
       "0             1                                      Ace\n",
       "1             2                                 Ace Book\n",
       "2             3                                Ace Books\n",
       "3             4                            Ace Hardcover\n",
       "4             5        Addison Wesley Publishing Company\n",
       "5             6                                  Aladdin\n",
       "6             7                       Aladdin Paperbacks\n",
       "7             8                             Albin Michel\n",
       "8             9                          Alfred A. Knopf\n",
       "9            10  Alfred A. Knopf Books for Young Readers"
      ]
     },
     "execution_count": 4,
     "metadata": {},
     "output_type": "execute_result"
    }
   ],
   "source": [
    "#таблица publishers\n",
    "\n",
    "publishers = \"SELECT * FROM publishers LIMIT 10\"\n",
    "pd.io.sql.read_sql(publishers, con = engine)"
   ]
  },
  {
   "cell_type": "code",
   "execution_count": 5,
   "id": "529e18b1",
   "metadata": {},
   "outputs": [
    {
     "data": {
      "text/html": [
       "<div>\n",
       "<style scoped>\n",
       "    .dataframe tbody tr th:only-of-type {\n",
       "        vertical-align: middle;\n",
       "    }\n",
       "\n",
       "    .dataframe tbody tr th {\n",
       "        vertical-align: top;\n",
       "    }\n",
       "\n",
       "    .dataframe thead th {\n",
       "        text-align: right;\n",
       "    }\n",
       "</style>\n",
       "<table border=\"1\" class=\"dataframe\">\n",
       "  <thead>\n",
       "    <tr style=\"text-align: right;\">\n",
       "      <th></th>\n",
       "      <th>rating_id</th>\n",
       "      <th>book_id</th>\n",
       "      <th>username</th>\n",
       "      <th>rating</th>\n",
       "    </tr>\n",
       "  </thead>\n",
       "  <tbody>\n",
       "    <tr>\n",
       "      <th>0</th>\n",
       "      <td>1</td>\n",
       "      <td>1</td>\n",
       "      <td>ryanfranco</td>\n",
       "      <td>4</td>\n",
       "    </tr>\n",
       "    <tr>\n",
       "      <th>1</th>\n",
       "      <td>2</td>\n",
       "      <td>1</td>\n",
       "      <td>grantpatricia</td>\n",
       "      <td>2</td>\n",
       "    </tr>\n",
       "    <tr>\n",
       "      <th>2</th>\n",
       "      <td>3</td>\n",
       "      <td>1</td>\n",
       "      <td>brandtandrea</td>\n",
       "      <td>5</td>\n",
       "    </tr>\n",
       "    <tr>\n",
       "      <th>3</th>\n",
       "      <td>4</td>\n",
       "      <td>2</td>\n",
       "      <td>lorichen</td>\n",
       "      <td>3</td>\n",
       "    </tr>\n",
       "    <tr>\n",
       "      <th>4</th>\n",
       "      <td>5</td>\n",
       "      <td>2</td>\n",
       "      <td>mariokeller</td>\n",
       "      <td>2</td>\n",
       "    </tr>\n",
       "    <tr>\n",
       "      <th>5</th>\n",
       "      <td>6</td>\n",
       "      <td>3</td>\n",
       "      <td>johnsonamanda</td>\n",
       "      <td>4</td>\n",
       "    </tr>\n",
       "    <tr>\n",
       "      <th>6</th>\n",
       "      <td>7</td>\n",
       "      <td>3</td>\n",
       "      <td>scotttamara</td>\n",
       "      <td>5</td>\n",
       "    </tr>\n",
       "    <tr>\n",
       "      <th>7</th>\n",
       "      <td>8</td>\n",
       "      <td>3</td>\n",
       "      <td>lesliegibbs</td>\n",
       "      <td>5</td>\n",
       "    </tr>\n",
       "    <tr>\n",
       "      <th>8</th>\n",
       "      <td>9</td>\n",
       "      <td>4</td>\n",
       "      <td>abbottjames</td>\n",
       "      <td>5</td>\n",
       "    </tr>\n",
       "    <tr>\n",
       "      <th>9</th>\n",
       "      <td>10</td>\n",
       "      <td>4</td>\n",
       "      <td>valenciaanne</td>\n",
       "      <td>4</td>\n",
       "    </tr>\n",
       "  </tbody>\n",
       "</table>\n",
       "</div>"
      ],
      "text/plain": [
       "   rating_id  book_id       username  rating\n",
       "0          1        1     ryanfranco       4\n",
       "1          2        1  grantpatricia       2\n",
       "2          3        1   brandtandrea       5\n",
       "3          4        2       lorichen       3\n",
       "4          5        2    mariokeller       2\n",
       "5          6        3  johnsonamanda       4\n",
       "6          7        3    scotttamara       5\n",
       "7          8        3    lesliegibbs       5\n",
       "8          9        4    abbottjames       5\n",
       "9         10        4   valenciaanne       4"
      ]
     },
     "execution_count": 5,
     "metadata": {},
     "output_type": "execute_result"
    }
   ],
   "source": [
    "#таблица ratings\n",
    "\n",
    "ratings = \"SELECT * FROM ratings LIMIT 10\"\n",
    "pd.io.sql.read_sql(ratings, con = engine)"
   ]
  },
  {
   "cell_type": "code",
   "execution_count": 6,
   "id": "147e13b2",
   "metadata": {},
   "outputs": [
    {
     "data": {
      "text/html": [
       "<div>\n",
       "<style scoped>\n",
       "    .dataframe tbody tr th:only-of-type {\n",
       "        vertical-align: middle;\n",
       "    }\n",
       "\n",
       "    .dataframe tbody tr th {\n",
       "        vertical-align: top;\n",
       "    }\n",
       "\n",
       "    .dataframe thead th {\n",
       "        text-align: right;\n",
       "    }\n",
       "</style>\n",
       "<table border=\"1\" class=\"dataframe\">\n",
       "  <thead>\n",
       "    <tr style=\"text-align: right;\">\n",
       "      <th></th>\n",
       "      <th>review_id</th>\n",
       "      <th>book_id</th>\n",
       "      <th>username</th>\n",
       "      <th>text</th>\n",
       "    </tr>\n",
       "  </thead>\n",
       "  <tbody>\n",
       "    <tr>\n",
       "      <th>0</th>\n",
       "      <td>1</td>\n",
       "      <td>1</td>\n",
       "      <td>brandtandrea</td>\n",
       "      <td>Mention society tell send professor analysis. ...</td>\n",
       "    </tr>\n",
       "    <tr>\n",
       "      <th>1</th>\n",
       "      <td>2</td>\n",
       "      <td>1</td>\n",
       "      <td>ryanfranco</td>\n",
       "      <td>Foot glass pretty audience hit themselves. Amo...</td>\n",
       "    </tr>\n",
       "    <tr>\n",
       "      <th>2</th>\n",
       "      <td>3</td>\n",
       "      <td>2</td>\n",
       "      <td>lorichen</td>\n",
       "      <td>Listen treat keep worry. Miss husband tax but ...</td>\n",
       "    </tr>\n",
       "    <tr>\n",
       "      <th>3</th>\n",
       "      <td>4</td>\n",
       "      <td>3</td>\n",
       "      <td>johnsonamanda</td>\n",
       "      <td>Finally month interesting blue could nature cu...</td>\n",
       "    </tr>\n",
       "    <tr>\n",
       "      <th>4</th>\n",
       "      <td>5</td>\n",
       "      <td>3</td>\n",
       "      <td>scotttamara</td>\n",
       "      <td>Nation purpose heavy give wait song will. List...</td>\n",
       "    </tr>\n",
       "    <tr>\n",
       "      <th>5</th>\n",
       "      <td>6</td>\n",
       "      <td>3</td>\n",
       "      <td>lesliegibbs</td>\n",
       "      <td>Analysis no several cause international.</td>\n",
       "    </tr>\n",
       "    <tr>\n",
       "      <th>6</th>\n",
       "      <td>7</td>\n",
       "      <td>4</td>\n",
       "      <td>valenciaanne</td>\n",
       "      <td>One there cost another. Say type save. With pe...</td>\n",
       "    </tr>\n",
       "    <tr>\n",
       "      <th>7</th>\n",
       "      <td>8</td>\n",
       "      <td>4</td>\n",
       "      <td>abbottjames</td>\n",
       "      <td>Within enough mother. There at system full rec...</td>\n",
       "    </tr>\n",
       "    <tr>\n",
       "      <th>8</th>\n",
       "      <td>9</td>\n",
       "      <td>5</td>\n",
       "      <td>npowers</td>\n",
       "      <td>Thank now focus realize economy focus fly. Ite...</td>\n",
       "    </tr>\n",
       "    <tr>\n",
       "      <th>9</th>\n",
       "      <td>10</td>\n",
       "      <td>5</td>\n",
       "      <td>staylor</td>\n",
       "      <td>Game push lot reduce where remember. Including...</td>\n",
       "    </tr>\n",
       "  </tbody>\n",
       "</table>\n",
       "</div>"
      ],
      "text/plain": [
       "   review_id  book_id       username  \\\n",
       "0          1        1   brandtandrea   \n",
       "1          2        1     ryanfranco   \n",
       "2          3        2       lorichen   \n",
       "3          4        3  johnsonamanda   \n",
       "4          5        3    scotttamara   \n",
       "5          6        3    lesliegibbs   \n",
       "6          7        4   valenciaanne   \n",
       "7          8        4    abbottjames   \n",
       "8          9        5        npowers   \n",
       "9         10        5        staylor   \n",
       "\n",
       "                                                text  \n",
       "0  Mention society tell send professor analysis. ...  \n",
       "1  Foot glass pretty audience hit themselves. Amo...  \n",
       "2  Listen treat keep worry. Miss husband tax but ...  \n",
       "3  Finally month interesting blue could nature cu...  \n",
       "4  Nation purpose heavy give wait song will. List...  \n",
       "5           Analysis no several cause international.  \n",
       "6  One there cost another. Say type save. With pe...  \n",
       "7  Within enough mother. There at system full rec...  \n",
       "8  Thank now focus realize economy focus fly. Ite...  \n",
       "9  Game push lot reduce where remember. Including...  "
      ]
     },
     "execution_count": 6,
     "metadata": {},
     "output_type": "execute_result"
    }
   ],
   "source": [
    "#таблица reviews\n",
    "\n",
    "reviews = \"SELECT * FROM reviews LIMIT 10\"\n",
    "pd.io.sql.read_sql(reviews, con = engine)"
   ]
  },
  {
   "cell_type": "markdown",
   "id": "e15d4c46",
   "metadata": {},
   "source": [
    "<div class=\"alert alert-success\">\n",
    "<b>👍 Успех:</b> Есть описание задачи, импортированы все нужные библиотеки, создано подключение к БД, просмотрены таблицы\n",
    "</div>"
   ]
  },
  {
   "cell_type": "markdown",
   "id": "40996311",
   "metadata": {},
   "source": [
    "## Задание 1"
   ]
  },
  {
   "cell_type": "markdown",
   "id": "61b32ea9",
   "metadata": {},
   "source": [
    "Посчитайте, сколько книг вышло после 1 января 2000 года"
   ]
  },
  {
   "cell_type": "code",
   "execution_count": 7,
   "id": "e479791a",
   "metadata": {},
   "outputs": [
    {
     "data": {
      "text/html": [
       "<div>\n",
       "<style scoped>\n",
       "    .dataframe tbody tr th:only-of-type {\n",
       "        vertical-align: middle;\n",
       "    }\n",
       "\n",
       "    .dataframe tbody tr th {\n",
       "        vertical-align: top;\n",
       "    }\n",
       "\n",
       "    .dataframe thead th {\n",
       "        text-align: right;\n",
       "    }\n",
       "</style>\n",
       "<table border=\"1\" class=\"dataframe\">\n",
       "  <thead>\n",
       "    <tr style=\"text-align: right;\">\n",
       "      <th></th>\n",
       "      <th>count</th>\n",
       "    </tr>\n",
       "  </thead>\n",
       "  <tbody>\n",
       "    <tr>\n",
       "      <th>0</th>\n",
       "      <td>819</td>\n",
       "    </tr>\n",
       "  </tbody>\n",
       "</table>\n",
       "</div>"
      ],
      "text/plain": [
       "   count\n",
       "0    819"
      ]
     },
     "execution_count": 7,
     "metadata": {},
     "output_type": "execute_result"
    }
   ],
   "source": [
    "query1 = \"SELECT COUNT(book_id) FROM books WHERE publication_date > '2000-01-01'\"\n",
    "\n",
    "pd.io.sql.read_sql(query1, con = engine)"
   ]
  },
  {
   "cell_type": "markdown",
   "id": "9fe564f9",
   "metadata": {},
   "source": [
    "После 1 января 2000 года вышло 819 книг"
   ]
  },
  {
   "cell_type": "markdown",
   "id": "2ee5763a",
   "metadata": {},
   "source": [
    "<div class=\"alert alert-success\">\n",
    "<b>👍 Успех:</b> Все верно!\n",
    "</div>"
   ]
  },
  {
   "cell_type": "markdown",
   "id": "ce77b16e",
   "metadata": {},
   "source": [
    "## Задание 2"
   ]
  },
  {
   "cell_type": "markdown",
   "id": "6c3811c4",
   "metadata": {},
   "source": [
    "Для каждой книги посчитайте количество обзоров и среднюю оценку;"
   ]
  },
  {
   "cell_type": "code",
   "execution_count": 8,
   "id": "4c3f8d86",
   "metadata": {},
   "outputs": [
    {
     "data": {
      "text/html": [
       "<div>\n",
       "<style scoped>\n",
       "    .dataframe tbody tr th:only-of-type {\n",
       "        vertical-align: middle;\n",
       "    }\n",
       "\n",
       "    .dataframe tbody tr th {\n",
       "        vertical-align: top;\n",
       "    }\n",
       "\n",
       "    .dataframe thead th {\n",
       "        text-align: right;\n",
       "    }\n",
       "</style>\n",
       "<table border=\"1\" class=\"dataframe\">\n",
       "  <thead>\n",
       "    <tr style=\"text-align: right;\">\n",
       "      <th></th>\n",
       "      <th>author</th>\n",
       "      <th>title</th>\n",
       "      <th>count</th>\n",
       "      <th>avg</th>\n",
       "    </tr>\n",
       "  </thead>\n",
       "  <tbody>\n",
       "    <tr>\n",
       "      <th>0</th>\n",
       "      <td>Stephenie Meyer</td>\n",
       "      <td>Twilight (Twilight  #1)</td>\n",
       "      <td>7</td>\n",
       "      <td>3.662500</td>\n",
       "    </tr>\n",
       "    <tr>\n",
       "      <th>1</th>\n",
       "      <td>J.R.R. Tolkien</td>\n",
       "      <td>The Hobbit  or There and Back Again</td>\n",
       "      <td>6</td>\n",
       "      <td>4.125000</td>\n",
       "    </tr>\n",
       "    <tr>\n",
       "      <th>2</th>\n",
       "      <td>J.D. Salinger</td>\n",
       "      <td>The Catcher in the Rye</td>\n",
       "      <td>6</td>\n",
       "      <td>3.825581</td>\n",
       "    </tr>\n",
       "    <tr>\n",
       "      <th>3</th>\n",
       "      <td>J.K. Rowling/Mary GrandPré</td>\n",
       "      <td>Harry Potter and the Prisoner of Azkaban (Harr...</td>\n",
       "      <td>6</td>\n",
       "      <td>4.414634</td>\n",
       "    </tr>\n",
       "    <tr>\n",
       "      <th>4</th>\n",
       "      <td>J.K. Rowling/Mary GrandPré</td>\n",
       "      <td>Harry Potter and the Chamber of Secrets (Harry...</td>\n",
       "      <td>6</td>\n",
       "      <td>4.287500</td>\n",
       "    </tr>\n",
       "    <tr>\n",
       "      <th>...</th>\n",
       "      <td>...</td>\n",
       "      <td>...</td>\n",
       "      <td>...</td>\n",
       "      <td>...</td>\n",
       "    </tr>\n",
       "    <tr>\n",
       "      <th>995</th>\n",
       "      <td>Edgar Allan Poe/Benjamin F. Fisher</td>\n",
       "      <td>Essential Tales and Poems</td>\n",
       "      <td>0</td>\n",
       "      <td>4.000000</td>\n",
       "    </tr>\n",
       "    <tr>\n",
       "      <th>996</th>\n",
       "      <td>Leonardo da Vinci/H. Anna Suh</td>\n",
       "      <td>Leonardo's Notebooks</td>\n",
       "      <td>0</td>\n",
       "      <td>4.000000</td>\n",
       "    </tr>\n",
       "    <tr>\n",
       "      <th>997</th>\n",
       "      <td>Dr. Seuss/Various</td>\n",
       "      <td>The Cat in the Hat and Other Dr. Seuss Favorites</td>\n",
       "      <td>0</td>\n",
       "      <td>5.000000</td>\n",
       "    </tr>\n",
       "    <tr>\n",
       "      <th>998</th>\n",
       "      <td>Faye Perozich/Anne Rice/John Bolton/Daerick Gröss</td>\n",
       "      <td>Anne Rice's The Vampire Lestat: A Graphic Novel</td>\n",
       "      <td>0</td>\n",
       "      <td>3.666667</td>\n",
       "    </tr>\n",
       "    <tr>\n",
       "      <th>999</th>\n",
       "      <td>Kimon Nicolaides/Mamie Harmon</td>\n",
       "      <td>The Natural Way to Draw</td>\n",
       "      <td>0</td>\n",
       "      <td>3.000000</td>\n",
       "    </tr>\n",
       "  </tbody>\n",
       "</table>\n",
       "<p>1000 rows × 4 columns</p>\n",
       "</div>"
      ],
      "text/plain": [
       "                                                author  \\\n",
       "0                                      Stephenie Meyer   \n",
       "1                                       J.R.R. Tolkien   \n",
       "2                                        J.D. Salinger   \n",
       "3                           J.K. Rowling/Mary GrandPré   \n",
       "4                           J.K. Rowling/Mary GrandPré   \n",
       "..                                                 ...   \n",
       "995                 Edgar Allan Poe/Benjamin F. Fisher   \n",
       "996                      Leonardo da Vinci/H. Anna Suh   \n",
       "997                                  Dr. Seuss/Various   \n",
       "998  Faye Perozich/Anne Rice/John Bolton/Daerick Gröss   \n",
       "999                      Kimon Nicolaides/Mamie Harmon   \n",
       "\n",
       "                                                 title  count       avg  \n",
       "0                              Twilight (Twilight  #1)      7  3.662500  \n",
       "1                  The Hobbit  or There and Back Again      6  4.125000  \n",
       "2                               The Catcher in the Rye      6  3.825581  \n",
       "3    Harry Potter and the Prisoner of Azkaban (Harr...      6  4.414634  \n",
       "4    Harry Potter and the Chamber of Secrets (Harry...      6  4.287500  \n",
       "..                                                 ...    ...       ...  \n",
       "995                          Essential Tales and Poems      0  4.000000  \n",
       "996                               Leonardo's Notebooks      0  4.000000  \n",
       "997   The Cat in the Hat and Other Dr. Seuss Favorites      0  5.000000  \n",
       "998    Anne Rice's The Vampire Lestat: A Graphic Novel      0  3.666667  \n",
       "999                            The Natural Way to Draw      0  3.000000  \n",
       "\n",
       "[1000 rows x 4 columns]"
      ]
     },
     "execution_count": 8,
     "metadata": {},
     "output_type": "execute_result"
    }
   ],
   "source": [
    "query2 =  \"SELECT a.author, b.title, COUNT(DISTINCT(rv.review_id)), AVG(rt.rating) FROM books b LEFT JOIN reviews rv ON b.book_id = rv.book_id LEFT JOIN ratings rt ON b.book_id = rt.book_id LEFT JOIN authors a ON b.author_id = a.author_id GROUP BY b.book_id, a.author, b.title ORDER BY COUNT(rv.review_id) DESC\"\n",
    "pd.io.sql.read_sql(query2, con = engine)"
   ]
  },
  {
   "cell_type": "markdown",
   "id": "2cc11235",
   "metadata": {},
   "source": [
    "Отсортировали таблицу по убыванию количества обзоров, чтобы понять, какие книги собрали больше всего мнений. \n",
    "\n",
    "Получили пятерку лидеров - самых популярных книг у читателей:\n",
    " 1) Сумерки 1 часть\n",
    " \n",
    " 2) Хоббит\n",
    " \n",
    " 3) Над пропастью во ржи\n",
    " \n",
    " 4) Гарри Поттер и узник Азкабана\n",
    " \n",
    " 5) Гарри Поттер и тайная комната\n",
    " \n",
    "Не сортировали по столбцу с рейтингом, т.к., на мой взгляд, кол-во отзывов лучше показывает отношение читателей к произведению."
   ]
  },
  {
   "cell_type": "markdown",
   "id": "2d94f15c",
   "metadata": {},
   "source": [
    "<div class=\"alert alert-success\">\n",
    "<b>👍 Успех:</b> Все верно!\n",
    "</div>"
   ]
  },
  {
   "cell_type": "markdown",
   "id": "1df4d72e",
   "metadata": {},
   "source": [
    "## Задание 3"
   ]
  },
  {
   "cell_type": "markdown",
   "id": "0ee51c04",
   "metadata": {},
   "source": [
    "Определите издательство, которое выпустило наибольшее число книг толще 50 страниц — так вы исключите из анализа брошюры;"
   ]
  },
  {
   "cell_type": "code",
   "execution_count": 9,
   "id": "0b9d6309",
   "metadata": {},
   "outputs": [
    {
     "data": {
      "text/html": [
       "<div>\n",
       "<style scoped>\n",
       "    .dataframe tbody tr th:only-of-type {\n",
       "        vertical-align: middle;\n",
       "    }\n",
       "\n",
       "    .dataframe tbody tr th {\n",
       "        vertical-align: top;\n",
       "    }\n",
       "\n",
       "    .dataframe thead th {\n",
       "        text-align: right;\n",
       "    }\n",
       "</style>\n",
       "<table border=\"1\" class=\"dataframe\">\n",
       "  <thead>\n",
       "    <tr style=\"text-align: right;\">\n",
       "      <th></th>\n",
       "      <th>publisher</th>\n",
       "      <th>count</th>\n",
       "    </tr>\n",
       "  </thead>\n",
       "  <tbody>\n",
       "    <tr>\n",
       "      <th>0</th>\n",
       "      <td>Penguin Books</td>\n",
       "      <td>42</td>\n",
       "    </tr>\n",
       "    <tr>\n",
       "      <th>1</th>\n",
       "      <td>Vintage</td>\n",
       "      <td>31</td>\n",
       "    </tr>\n",
       "    <tr>\n",
       "      <th>2</th>\n",
       "      <td>Grand Central Publishing</td>\n",
       "      <td>25</td>\n",
       "    </tr>\n",
       "    <tr>\n",
       "      <th>3</th>\n",
       "      <td>Penguin Classics</td>\n",
       "      <td>24</td>\n",
       "    </tr>\n",
       "    <tr>\n",
       "      <th>4</th>\n",
       "      <td>Ballantine Books</td>\n",
       "      <td>19</td>\n",
       "    </tr>\n",
       "    <tr>\n",
       "      <th>...</th>\n",
       "      <td>...</td>\n",
       "      <td>...</td>\n",
       "    </tr>\n",
       "    <tr>\n",
       "      <th>329</th>\n",
       "      <td>Turtleback</td>\n",
       "      <td>1</td>\n",
       "    </tr>\n",
       "    <tr>\n",
       "      <th>330</th>\n",
       "      <td>Atheneum Books for Young Readers: Richard Jack...</td>\n",
       "      <td>1</td>\n",
       "    </tr>\n",
       "    <tr>\n",
       "      <th>331</th>\n",
       "      <td>Penguin Signet</td>\n",
       "      <td>1</td>\n",
       "    </tr>\n",
       "    <tr>\n",
       "      <th>332</th>\n",
       "      <td>Victor Gollancz</td>\n",
       "      <td>1</td>\n",
       "    </tr>\n",
       "    <tr>\n",
       "      <th>333</th>\n",
       "      <td>Harvard Business Review Press</td>\n",
       "      <td>1</td>\n",
       "    </tr>\n",
       "  </tbody>\n",
       "</table>\n",
       "<p>334 rows × 2 columns</p>\n",
       "</div>"
      ],
      "text/plain": [
       "                                             publisher  count\n",
       "0                                        Penguin Books     42\n",
       "1                                              Vintage     31\n",
       "2                             Grand Central Publishing     25\n",
       "3                                     Penguin Classics     24\n",
       "4                                     Ballantine Books     19\n",
       "..                                                 ...    ...\n",
       "329                                         Turtleback      1\n",
       "330  Atheneum Books for Young Readers: Richard Jack...      1\n",
       "331                                     Penguin Signet      1\n",
       "332                                    Victor Gollancz      1\n",
       "333                      Harvard Business Review Press      1\n",
       "\n",
       "[334 rows x 2 columns]"
      ]
     },
     "execution_count": 9,
     "metadata": {},
     "output_type": "execute_result"
    }
   ],
   "source": [
    "query3 = \"SELECT p.publisher, COUNT(b.book_id) FROM publishers p LEFT JOIN books b ON p.publisher_id = b.publisher_id WHERE b.num_pages > 50 GROUP BY p.publisher ORDER BY COUNT(b.book_id) DESC\"\n",
    "pd.io.sql.read_sql(query3, con = engine)"
   ]
  },
  {
   "cell_type": "markdown",
   "id": "97e5dbc3",
   "metadata": {},
   "source": [
    "Издательство с наибольшим количеством книг, содержащих более 50 стр, - **Penguin Books**"
   ]
  },
  {
   "cell_type": "markdown",
   "id": "87fbe452",
   "metadata": {},
   "source": [
    "<div class=\"alert alert-success\">\n",
    "<b>👍 Успех:</b> Все верно!\n",
    "</div>"
   ]
  },
  {
   "cell_type": "markdown",
   "id": "3522aadf",
   "metadata": {},
   "source": [
    "## Задание 4"
   ]
  },
  {
   "cell_type": "markdown",
   "id": "3d78e9eb",
   "metadata": {},
   "source": [
    "Определите автора с самой высокой средней оценкой книг — учитывайте только книги с 50 и более оценками"
   ]
  },
  {
   "cell_type": "code",
   "execution_count": 10,
   "id": "247622c8",
   "metadata": {},
   "outputs": [
    {
     "data": {
      "text/html": [
       "<div>\n",
       "<style scoped>\n",
       "    .dataframe tbody tr th:only-of-type {\n",
       "        vertical-align: middle;\n",
       "    }\n",
       "\n",
       "    .dataframe tbody tr th {\n",
       "        vertical-align: top;\n",
       "    }\n",
       "\n",
       "    .dataframe thead th {\n",
       "        text-align: right;\n",
       "    }\n",
       "</style>\n",
       "<table border=\"1\" class=\"dataframe\">\n",
       "  <thead>\n",
       "    <tr style=\"text-align: right;\">\n",
       "      <th></th>\n",
       "      <th>author</th>\n",
       "      <th>avg</th>\n",
       "    </tr>\n",
       "  </thead>\n",
       "  <tbody>\n",
       "    <tr>\n",
       "      <th>0</th>\n",
       "      <td>J.K. Rowling/Mary GrandPré</td>\n",
       "      <td>4.287097</td>\n",
       "    </tr>\n",
       "    <tr>\n",
       "      <th>1</th>\n",
       "      <td>Markus Zusak/Cao Xuân Việt Khương</td>\n",
       "      <td>4.264151</td>\n",
       "    </tr>\n",
       "    <tr>\n",
       "      <th>2</th>\n",
       "      <td>J.R.R. Tolkien</td>\n",
       "      <td>4.246914</td>\n",
       "    </tr>\n",
       "    <tr>\n",
       "      <th>3</th>\n",
       "      <td>Louisa May Alcott</td>\n",
       "      <td>4.192308</td>\n",
       "    </tr>\n",
       "    <tr>\n",
       "      <th>4</th>\n",
       "      <td>Rick Riordan</td>\n",
       "      <td>4.080645</td>\n",
       "    </tr>\n",
       "    <tr>\n",
       "      <th>5</th>\n",
       "      <td>William Golding</td>\n",
       "      <td>3.901408</td>\n",
       "    </tr>\n",
       "    <tr>\n",
       "      <th>6</th>\n",
       "      <td>J.D. Salinger</td>\n",
       "      <td>3.825581</td>\n",
       "    </tr>\n",
       "    <tr>\n",
       "      <th>7</th>\n",
       "      <td>Paulo Coelho/Alan R. Clarke/Özdemir İnce</td>\n",
       "      <td>3.789474</td>\n",
       "    </tr>\n",
       "    <tr>\n",
       "      <th>8</th>\n",
       "      <td>William Shakespeare/Paul Werstine/Barbara A. M...</td>\n",
       "      <td>3.787879</td>\n",
       "    </tr>\n",
       "    <tr>\n",
       "      <th>9</th>\n",
       "      <td>Lois Lowry</td>\n",
       "      <td>3.750000</td>\n",
       "    </tr>\n",
       "    <tr>\n",
       "      <th>10</th>\n",
       "      <td>Dan Brown</td>\n",
       "      <td>3.741259</td>\n",
       "    </tr>\n",
       "    <tr>\n",
       "      <th>11</th>\n",
       "      <td>George Orwell/Boris Grabnar/Peter Škerl</td>\n",
       "      <td>3.729730</td>\n",
       "    </tr>\n",
       "    <tr>\n",
       "      <th>12</th>\n",
       "      <td>Stephenie Meyer</td>\n",
       "      <td>3.662500</td>\n",
       "    </tr>\n",
       "    <tr>\n",
       "      <th>13</th>\n",
       "      <td>John Steinbeck</td>\n",
       "      <td>3.622951</td>\n",
       "    </tr>\n",
       "  </tbody>\n",
       "</table>\n",
       "</div>"
      ],
      "text/plain": [
       "                                               author       avg\n",
       "0                          J.K. Rowling/Mary GrandPré  4.287097\n",
       "1                   Markus Zusak/Cao Xuân Việt Khương  4.264151\n",
       "2                                      J.R.R. Tolkien  4.246914\n",
       "3                                   Louisa May Alcott  4.192308\n",
       "4                                        Rick Riordan  4.080645\n",
       "5                                     William Golding  3.901408\n",
       "6                                       J.D. Salinger  3.825581\n",
       "7            Paulo Coelho/Alan R. Clarke/Özdemir İnce  3.789474\n",
       "8   William Shakespeare/Paul Werstine/Barbara A. M...  3.787879\n",
       "9                                          Lois Lowry  3.750000\n",
       "10                                          Dan Brown  3.741259\n",
       "11            George Orwell/Boris Grabnar/Peter Škerl  3.729730\n",
       "12                                    Stephenie Meyer  3.662500\n",
       "13                                     John Steinbeck  3.622951"
      ]
     },
     "execution_count": 10,
     "metadata": {},
     "output_type": "execute_result"
    }
   ],
   "source": [
    "query4 = \"SELECT a.author, AVG(rt.rating) FROM authors a LEFT JOIN books b ON a.author_id = b.author_id LEFT JOIN ratings rt ON b.book_id = rt.book_id WHERE b.book_id IN (SELECT b.book_id FROM books b LEFT JOIN ratings rt ON b.book_id = rt.book_id GROUP BY b.book_id HAVING COUNT(rt.rating) >= 50ORDER BY COUNT(rt.rating) DESC) GROUP BY a.author ORDER BY AVG(rt.rating) DESC\"\n",
    "\n",
    "pd.io.sql.read_sql(query4, con = engine)"
   ]
  },
  {
   "cell_type": "markdown",
   "id": "f8c36e2c",
   "metadata": {},
   "source": [
    "У Джоан Роулинг самая высокая средняя оценка книг (по книгам, имеющим 50 и более оценок)"
   ]
  },
  {
   "cell_type": "markdown",
   "id": "a14a9b6e",
   "metadata": {},
   "source": [
    "<div class=\"alert alert-success\">\n",
    "<b>👍 Успех:</b> Все верно!\n",
    "</div>"
   ]
  },
  {
   "cell_type": "markdown",
   "id": "0c11e74b",
   "metadata": {},
   "source": [
    "## Задание 5"
   ]
  },
  {
   "cell_type": "markdown",
   "id": "6330c476",
   "metadata": {},
   "source": [
    "Посчитайте среднее количество обзоров от пользователей, которые поставили больше 50 оценок."
   ]
  },
  {
   "cell_type": "code",
   "execution_count": 11,
   "id": "e81fca3d",
   "metadata": {},
   "outputs": [
    {
     "data": {
      "text/html": [
       "<div>\n",
       "<style scoped>\n",
       "    .dataframe tbody tr th:only-of-type {\n",
       "        vertical-align: middle;\n",
       "    }\n",
       "\n",
       "    .dataframe tbody tr th {\n",
       "        vertical-align: top;\n",
       "    }\n",
       "\n",
       "    .dataframe thead th {\n",
       "        text-align: right;\n",
       "    }\n",
       "</style>\n",
       "<table border=\"1\" class=\"dataframe\">\n",
       "  <thead>\n",
       "    <tr style=\"text-align: right;\">\n",
       "      <th></th>\n",
       "      <th>avg</th>\n",
       "    </tr>\n",
       "  </thead>\n",
       "  <tbody>\n",
       "    <tr>\n",
       "      <th>0</th>\n",
       "      <td>24.333333</td>\n",
       "    </tr>\n",
       "  </tbody>\n",
       "</table>\n",
       "</div>"
      ],
      "text/plain": [
       "         avg\n",
       "0  24.333333"
      ]
     },
     "execution_count": 11,
     "metadata": {},
     "output_type": "execute_result"
    }
   ],
   "source": [
    "query5 = \" WITH i AS (SELECT username, COUNT(review_id) FROM reviews WHERE username IN (SELECT rt.username FROM ratings rt GROUP BY rt.username HAVING COUNT(rt.rating) > 50) GROUP BY username) SELECT AVG(i.count) FROM i\"\n",
    "\n",
    "pd.io.sql.read_sql(query5, con = engine)"
   ]
  },
  {
   "cell_type": "markdown",
   "id": "3fb71d12",
   "metadata": {},
   "source": [
    "Пользователями, которые поставили больше 50 оценок, было написано в среднем 24 обзора"
   ]
  },
  {
   "cell_type": "markdown",
   "id": "c767292c",
   "metadata": {},
   "source": [
    "<div class=\"alert alert-success\">\n",
    "<b>👍 Успех:</b> Все верно!\n",
    "</div>"
   ]
  },
  {
   "cell_type": "markdown",
   "id": "400099b6",
   "metadata": {},
   "source": [
    "<div class=\"alert alert-success\">\n",
    "<b>👍 Успех:</b> Ты справилась с работой и со всем курсом, поздравляю!\n",
    "</div>"
   ]
  },
  {
   "cell_type": "code",
   "execution_count": null,
   "id": "98d733f1",
   "metadata": {},
   "outputs": [],
   "source": []
  }
 ],
 "metadata": {
  "ExecuteTimeLog": [
   {
    "duration": 5855,
    "start_time": "2022-09-11T21:04:53.493Z"
   },
   {
    "duration": 347,
    "start_time": "2022-09-11T21:04:59.350Z"
   },
   {
    "duration": 69,
    "start_time": "2022-09-11T21:04:59.699Z"
   },
   {
    "duration": 69,
    "start_time": "2022-09-11T21:04:59.770Z"
   },
   {
    "duration": 71,
    "start_time": "2022-09-11T21:04:59.841Z"
   },
   {
    "duration": 71,
    "start_time": "2022-09-11T21:04:59.913Z"
   },
   {
    "duration": 71,
    "start_time": "2022-09-11T21:04:59.985Z"
   },
   {
    "duration": 125,
    "start_time": "2022-09-11T21:05:00.057Z"
   },
   {
    "duration": 73,
    "start_time": "2022-09-11T21:05:00.184Z"
   },
   {
    "duration": 74,
    "start_time": "2022-09-11T21:05:00.259Z"
   },
   {
    "duration": 223,
    "start_time": "2022-09-11T21:05:00.334Z"
   },
   {
    "duration": 71,
    "start_time": "2022-09-11T21:05:38.067Z"
   },
   {
    "duration": 70,
    "start_time": "2022-09-11T21:05:58.221Z"
   },
   {
    "duration": 105,
    "start_time": "2022-09-11T21:07:58.860Z"
   },
   {
    "duration": 10722,
    "start_time": "2022-09-11T21:14:43.346Z"
   },
   {
    "duration": 71,
    "start_time": "2022-09-11T21:14:59.190Z"
   },
   {
    "duration": 13,
    "start_time": "2022-09-11T21:15:02.815Z"
   },
   {
    "duration": 13,
    "start_time": "2022-09-11T21:15:03.934Z"
   },
   {
    "duration": 13,
    "start_time": "2022-09-11T21:15:05.101Z"
   },
   {
    "duration": 13,
    "start_time": "2022-09-11T21:15:07.248Z"
   },
   {
    "duration": 12,
    "start_time": "2022-09-11T21:15:14.442Z"
   },
   {
    "duration": 44,
    "start_time": "2022-09-11T21:15:49.981Z"
   },
   {
    "duration": 161,
    "start_time": "2022-09-11T21:16:52.272Z"
   },
   {
    "duration": 43,
    "start_time": "2022-09-11T21:17:16.011Z"
   },
   {
    "duration": 36,
    "start_time": "2022-09-11T21:18:05.357Z"
   },
   {
    "duration": 32,
    "start_time": "2022-09-11T21:19:20.647Z"
   },
   {
    "duration": 122,
    "start_time": "2022-09-11T21:20:18.808Z"
   },
   {
    "duration": 23,
    "start_time": "2022-09-11T21:20:30.197Z"
   },
   {
    "duration": 35,
    "start_time": "2022-09-11T21:22:00.532Z"
   },
   {
    "duration": 33,
    "start_time": "2022-09-11T21:22:16.608Z"
   },
   {
    "duration": 37,
    "start_time": "2022-09-11T21:22:48.412Z"
   },
   {
    "duration": 16,
    "start_time": "2022-09-11T21:25:18.166Z"
   },
   {
    "duration": 15,
    "start_time": "2022-09-11T21:25:33.277Z"
   },
   {
    "duration": 94,
    "start_time": "2022-09-11T21:26:08.709Z"
   },
   {
    "duration": 14,
    "start_time": "2022-09-11T21:26:34.278Z"
   },
   {
    "duration": 9628,
    "start_time": "2022-09-11T21:28:03.464Z"
   },
   {
    "duration": 62,
    "start_time": "2022-09-11T21:28:13.094Z"
   },
   {
    "duration": 12,
    "start_time": "2022-09-11T21:28:13.157Z"
   },
   {
    "duration": 12,
    "start_time": "2022-09-11T21:28:13.172Z"
   },
   {
    "duration": 12,
    "start_time": "2022-09-11T21:28:13.185Z"
   },
   {
    "duration": 13,
    "start_time": "2022-09-11T21:28:13.199Z"
   },
   {
    "duration": 11,
    "start_time": "2022-09-11T21:28:13.214Z"
   },
   {
    "duration": 50,
    "start_time": "2022-09-11T21:28:13.226Z"
   },
   {
    "duration": 16,
    "start_time": "2022-09-11T21:28:13.277Z"
   },
   {
    "duration": 16,
    "start_time": "2022-09-11T21:28:13.296Z"
   },
   {
    "duration": 13,
    "start_time": "2022-09-11T21:28:13.314Z"
   }
  ],
  "kernelspec": {
   "display_name": "Python 3 (ipykernel)",
   "language": "python",
   "name": "python3"
  },
  "language_info": {
   "codemirror_mode": {
    "name": "ipython",
    "version": 3
   },
   "file_extension": ".py",
   "mimetype": "text/x-python",
   "name": "python",
   "nbconvert_exporter": "python",
   "pygments_lexer": "ipython3",
   "version": "3.9.5"
  },
  "toc": {
   "base_numbering": 1,
   "nav_menu": {},
   "number_sections": false,
   "sideBar": true,
   "skip_h1_title": true,
   "title_cell": "Содержание",
   "title_sidebar": "Содержание",
   "toc_cell": true,
   "toc_position": {
    "height": "calc(100% - 180px)",
    "left": "10px",
    "top": "150px",
    "width": "174.492px"
   },
   "toc_section_display": true,
   "toc_window_display": true
  }
 },
 "nbformat": 4,
 "nbformat_minor": 5
}
