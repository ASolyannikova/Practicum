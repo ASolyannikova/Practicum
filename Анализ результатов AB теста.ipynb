{
 "cells": [
  {
   "cell_type": "markdown",
   "id": "bbcddbc1",
   "metadata": {},
   "source": [
    "<div class=\"alert alert-info\">\n",
    "Привет, Александра! Меня зовут Светлана Чих и я буду проверять твой проект. Моя основная цель — не указать на совершенные тобою ошибки, а поделиться своим опытом и помочь тебе.\n",
    "\n",
    "<div class=\"alert alert-success\">\n",
    "<b>👍 Успех:</b> Зелёным цветом отмечены удачные и элегантные решения, на которые можно опираться в будущих проектах.\n",
    "</div>\n",
    "<div class=\"alert alert-warning\">\n",
    "<b>🤔 Рекомендация:</b> Жёлтым цветом выделено то, что в следующий раз можно сделать по-другому. Ты можешь учесть эти комментарии при выполнении будущих заданий или доработать проект сейчас (однако это не обязательно).\n",
    "</div>\n",
    "<div class=\"alert alert-danger\">\n",
    "<b>😔 Необходимо исправить:</b> Красным цветом выделены комментарии, без исправления которых, я не смогу принять проект :(\n",
    "</div>\n",
    "<div class=\"alert alert-info\">\n",
    "<b>👂 Совет:</b> Какие-то дополнительные материалы\n",
    "</div>\n",
    "Давай работать над проектом в диалоге: если ты что-то меняешь в проекте по моим рекомендациям — пиши об этом.\n",
    "Мне будет легче отследить изменения, если ты выделишь свои комментарии:\n",
    "<div class=\"alert alert-info\"> <b>🎓 Комментарий студента:</b> Например, вот так.</div>\n",
    "Пожалуйста, не перемещай, не изменяй и не удаляй мои комментарии. Всё это поможет выполнить повторную проверку твоего проекта быстрее.\n",
    " </div>"
   ]
  },
  {
   "cell_type": "markdown",
   "id": "602ccbd7",
   "metadata": {
    "toc": true
   },
   "source": [
    "<h1>Содержание<span class=\"tocSkip\"></span></h1>\n",
    "<div class=\"toc\"><ul class=\"toc-item\"><li><span><a href=\"#Описание-задачи\" data-toc-modified-id=\"Описание-задачи-1\">Описание задачи</a></span></li><li><span><a href=\"#Описание-данных\" data-toc-modified-id=\"Описание-данных-2\">Описание данных</a></span></li><li><span><a href=\"#Техническое-задание\" data-toc-modified-id=\"Техническое-задание-3\">Техническое задание</a></span></li><li><span><a href=\"#Загрузка-данных-и-подготовка-к-анализу\" data-toc-modified-id=\"Загрузка-данных-и-подготовка-к-анализу-4\">Загрузка данных и подготовка к анализу</a></span></li><li><span><a href=\"#Оценка-корректности-проведения-теста\" data-toc-modified-id=\"Оценка-корректности-проведения-теста-5\">Оценка корректности проведения теста</a></span><ul class=\"toc-item\"><li><span><a href=\"#Даты-начала-и-остановки-теста\" data-toc-modified-id=\"Даты-начала-и-остановки-теста-5.1\">Даты начала и остановки теста</a></span></li><li><span><a href=\"#Даты-регистрации\" data-toc-modified-id=\"Даты-регистрации-5.2\">Даты регистрации</a></span></li><li><span><a href=\"#Количество-и-пересечение-пользователей-по-тестам\" data-toc-modified-id=\"Количество-и-пересечение-пользователей-по-тестам-5.3\">Количество и пересечение пользователей по тестам</a></span></li><li><span><a href=\"#Количество-и-пересечение-пользователей-по-группам-теста-recommender_system_test\" data-toc-modified-id=\"Количество-и-пересечение-пользователей-по-группам-теста-recommender_system_test-5.4\">Количество и пересечение пользователей по группам теста recommender_system_test</a></span></li><li><span><a href=\"#Аудитория\" data-toc-modified-id=\"Аудитория-5.5\">Аудитория</a></span></li><li><span><a href=\"#Маркетинговые-активности\" data-toc-modified-id=\"Маркетинговые-активности-5.6\">Маркетинговые активности</a></span></li></ul></li><li><span><a href=\"#Исследовательский-анализ-данных\" data-toc-modified-id=\"Исследовательский-анализ-данных-6\">Исследовательский анализ данных</a></span><ul class=\"toc-item\"><li><span><a href=\"#Количество-событий-на-пользователя-одинаково-распределены-в-выборках?\" data-toc-modified-id=\"Количество-событий-на-пользователя-одинаково-распределены-в-выборках?-6.1\">Количество событий на пользователя одинаково распределены в выборках?</a></span></li><li><span><a href=\"#Как-число-событий-в-выборках-распределено-по-дням?\" data-toc-modified-id=\"Как-число-событий-в-выборках-распределено-по-дням?-6.2\">Как число событий в выборках распределено по дням?</a></span></li><li><span><a href=\"#Как-меняется-конверсия-в-воронке-в-выборках-на-разных-этапах?\" data-toc-modified-id=\"Как-меняется-конверсия-в-воронке-в-выборках-на-разных-этапах?-6.3\">Как меняется конверсия в воронке в выборках на разных этапах?</a></span><ul class=\"toc-item\"><li><span><a href=\"#Виды-событий,-их-частота-и-количество-пользователей-по-каждому\" data-toc-modified-id=\"Виды-событий,-их-частота-и-количество-пользователей-по-каждому-6.3.1\">Виды событий, их частота и количество пользователей по каждому</a></span></li><li><span><a href=\"#Конверсия-по-этапам-воронки\" data-toc-modified-id=\"Конверсия-по-этапам-воронки-6.3.2\">Конверсия по этапам воронки</a></span></li></ul></li></ul></li><li><span><a href=\"#Оценка-результатов-теста\" data-toc-modified-id=\"Оценка-результатов-теста-7\">Оценка результатов теста</a></span><ul class=\"toc-item\"><li><span><a href=\"#Находят-ли-статистические-критерии-разницу-между-выборками-A-и-B\" data-toc-modified-id=\"Находят-ли-статистические-критерии-разницу-между-выборками-A-и-B-7.1\">Находят ли статистические критерии разницу между выборками A и B</a></span></li></ul></li><li><span><a href=\"#Вывод\" data-toc-modified-id=\"Вывод-8\">Вывод</a></span></li></ul></div>"
   ]
  },
  {
   "cell_type": "markdown",
   "id": "3c7afc8e",
   "metadata": {},
   "source": [
    "# A/B-тестирование"
   ]
  },
  {
   "cell_type": "markdown",
   "id": "53df015e",
   "metadata": {},
   "source": [
    "## Описание задачи"
   ]
  },
  {
   "cell_type": "markdown",
   "id": "a718cd60",
   "metadata": {},
   "source": [
    "**Задача — провести оценку результатов A/B-теста.**\n",
    "\n",
    "Необходимо:\n",
    "- оценить корректность проведения теста\n",
    "- проанализировать результаты теста: был ли достигнут ожидаемый эффект из тестового задания\n",
    "\n",
    "Чтобы оценить корректность проведения теста, нужно проверить:\n",
    "- пересечение тестовой аудитории с конкурирующим тестом,\n",
    "- совпадение теста и маркетинговых событий, другие проблемы временных границ теста."
   ]
  },
  {
   "cell_type": "markdown",
   "id": "1418375d",
   "metadata": {},
   "source": [
    "## Описание данных"
   ]
  },
  {
   "cell_type": "markdown",
   "id": "94b7b736",
   "metadata": {},
   "source": [
    "`ab_project_marketing_events.csv` — календарь маркетинговых событий на 2020 год.\n",
    "\n",
    "Структура файла:\n",
    "\n",
    "- `name` — название маркетингового события;\n",
    "- `regions` — регионы, в которых будет проводиться рекламная кампания;\n",
    "- `start_dt` — дата начала кампании;\n",
    "- `finish_dt` — дата завершения кампании.\n",
    "\n",
    "`final_ab_new_users.csv` — пользователи, зарегистрировавшиеся с 7 по 21 декабря 2020 года.\n",
    "\n",
    "Структура файла:\n",
    "\n",
    "- `user_id` — идентификатор пользователя;\n",
    "- `first_date` — дата регистрации;\n",
    "- `region` — регион пользователя;\n",
    "- `device` — устройство, с которого происходила регистрация.\n",
    "\n",
    "`final_ab_events.csv` — действия новых пользователей в период с 7 декабря 2020 по 4 января 2021 года.\n",
    "\n",
    "Структура файла:\n",
    "\n",
    "- `user_id` — идентификатор пользователя;\n",
    "- `event_dt` — дата и время покупки;\n",
    "- `event_name` — тип события;\n",
    "- `details` — дополнительные данные о событии. Например, для покупок, `purchase,` в этом поле хранится стоимость покупки в долларах.\n",
    "\n",
    "`final_ab_participants.csv` — таблица участников тестов.\n",
    "\n",
    "Структура файла:\n",
    "\n",
    "- `user_id` — идентификатор пользователя;\n",
    "- `ab_test` — название теста;\n",
    "- `group` — группа пользователя."
   ]
  },
  {
   "cell_type": "markdown",
   "id": "4ae7404f",
   "metadata": {},
   "source": [
    "## Техническое задание"
   ]
  },
  {
   "cell_type": "markdown",
   "id": "e7f29df0",
   "metadata": {},
   "source": [
    "\n",
    "- Название теста: `recommender_system_test`;\n",
    "- группы: А — контрольная, B — новая платёжная воронка;\n",
    "- дата запуска: 2020-12-07;\n",
    "- дата остановки набора новых пользователей: 2020-12-21;\n",
    "- дата остановки: 2021-01-04;\n",
    "- аудитория: 15% новых пользователей из региона EU;\n",
    "- назначение теста: тестирование изменений, связанных с внедрением улучшенной рекомендательной системы;\n",
    "- ожидаемое количество участников теста: 6000.\n",
    "- ожидаемый эффект: за 14 дней с момента регистрации пользователи покажут улучшение каждой метрики не менее, чем на 10%:\n",
    "    - конверсии в просмотр карточек товаров — событие `product_page`,\n",
    "    - просмотры корзины — `product_cart`,\n",
    "    - покупки — `purchase`."
   ]
  },
  {
   "cell_type": "markdown",
   "id": "f15df5bf",
   "metadata": {},
   "source": [
    "## Загрузка данных и подготовка к анализу"
   ]
  },
  {
   "cell_type": "code",
   "execution_count": 1,
   "id": "d6c42a01",
   "metadata": {},
   "outputs": [
    {
     "data": {
      "text/html": [
       "<div>\n",
       "<style scoped>\n",
       "    .dataframe tbody tr th:only-of-type {\n",
       "        vertical-align: middle;\n",
       "    }\n",
       "\n",
       "    .dataframe tbody tr th {\n",
       "        vertical-align: top;\n",
       "    }\n",
       "\n",
       "    .dataframe thead th {\n",
       "        text-align: right;\n",
       "    }\n",
       "</style>\n",
       "<table border=\"1\" class=\"dataframe\">\n",
       "  <thead>\n",
       "    <tr style=\"text-align: right;\">\n",
       "      <th></th>\n",
       "      <th>user_id</th>\n",
       "      <th>event_dt</th>\n",
       "      <th>event_name</th>\n",
       "      <th>details</th>\n",
       "    </tr>\n",
       "  </thead>\n",
       "  <tbody>\n",
       "    <tr>\n",
       "      <th>0</th>\n",
       "      <td>E1BDDCE0DAFA2679</td>\n",
       "      <td>2020-12-07 20:22:03</td>\n",
       "      <td>purchase</td>\n",
       "      <td>99.99</td>\n",
       "    </tr>\n",
       "    <tr>\n",
       "      <th>1</th>\n",
       "      <td>7B6452F081F49504</td>\n",
       "      <td>2020-12-07 9:22:53</td>\n",
       "      <td>purchase</td>\n",
       "      <td>9.99</td>\n",
       "    </tr>\n",
       "    <tr>\n",
       "      <th>2</th>\n",
       "      <td>9CD9F34546DF254C</td>\n",
       "      <td>2020-12-07 12:59:29</td>\n",
       "      <td>purchase</td>\n",
       "      <td>4.99</td>\n",
       "    </tr>\n",
       "    <tr>\n",
       "      <th>3</th>\n",
       "      <td>96F27A054B191457</td>\n",
       "      <td>2020-12-07 4:02:40</td>\n",
       "      <td>purchase</td>\n",
       "      <td>4.99</td>\n",
       "    </tr>\n",
       "    <tr>\n",
       "      <th>4</th>\n",
       "      <td>1FD7660FDF94CA1F</td>\n",
       "      <td>2020-12-07 10:15:09</td>\n",
       "      <td>purchase</td>\n",
       "      <td>4.99</td>\n",
       "    </tr>\n",
       "    <tr>\n",
       "      <th>...</th>\n",
       "      <td>...</td>\n",
       "      <td>...</td>\n",
       "      <td>...</td>\n",
       "      <td>...</td>\n",
       "    </tr>\n",
       "    <tr>\n",
       "      <th>440312</th>\n",
       "      <td>245E85F65C358E08</td>\n",
       "      <td>2020-12-30 19:35:55</td>\n",
       "      <td>login</td>\n",
       "      <td>NaN</td>\n",
       "    </tr>\n",
       "    <tr>\n",
       "      <th>440313</th>\n",
       "      <td>9385A108F5A0A7A7</td>\n",
       "      <td>2020-12-30 10:54:15</td>\n",
       "      <td>login</td>\n",
       "      <td>NaN</td>\n",
       "    </tr>\n",
       "    <tr>\n",
       "      <th>440314</th>\n",
       "      <td>DB650B7559AC6EAC</td>\n",
       "      <td>2020-12-30 10:59:09</td>\n",
       "      <td>login</td>\n",
       "      <td>NaN</td>\n",
       "    </tr>\n",
       "    <tr>\n",
       "      <th>440315</th>\n",
       "      <td>F80C9BDDEA02E53C</td>\n",
       "      <td>2020-12-30 9:53:39</td>\n",
       "      <td>login</td>\n",
       "      <td>NaN</td>\n",
       "    </tr>\n",
       "    <tr>\n",
       "      <th>440316</th>\n",
       "      <td>7AEC61159B672CC5</td>\n",
       "      <td>2020-12-30 11:36:13</td>\n",
       "      <td>login</td>\n",
       "      <td>NaN</td>\n",
       "    </tr>\n",
       "  </tbody>\n",
       "</table>\n",
       "<p>440317 rows × 4 columns</p>\n",
       "</div>"
      ],
      "text/plain": [
       "                 user_id             event_dt event_name  details\n",
       "0       E1BDDCE0DAFA2679  2020-12-07 20:22:03   purchase    99.99\n",
       "1       7B6452F081F49504   2020-12-07 9:22:53   purchase     9.99\n",
       "2       9CD9F34546DF254C  2020-12-07 12:59:29   purchase     4.99\n",
       "3       96F27A054B191457   2020-12-07 4:02:40   purchase     4.99\n",
       "4       1FD7660FDF94CA1F  2020-12-07 10:15:09   purchase     4.99\n",
       "...                  ...                  ...        ...      ...\n",
       "440312  245E85F65C358E08  2020-12-30 19:35:55      login      NaN\n",
       "440313  9385A108F5A0A7A7  2020-12-30 10:54:15      login      NaN\n",
       "440314  DB650B7559AC6EAC  2020-12-30 10:59:09      login      NaN\n",
       "440315  F80C9BDDEA02E53C   2020-12-30 9:53:39      login      NaN\n",
       "440316  7AEC61159B672CC5  2020-12-30 11:36:13      login      NaN\n",
       "\n",
       "[440317 rows x 4 columns]"
      ]
     },
     "metadata": {},
     "output_type": "display_data"
    },
    {
     "data": {
      "text/html": [
       "<div>\n",
       "<style scoped>\n",
       "    .dataframe tbody tr th:only-of-type {\n",
       "        vertical-align: middle;\n",
       "    }\n",
       "\n",
       "    .dataframe tbody tr th {\n",
       "        vertical-align: top;\n",
       "    }\n",
       "\n",
       "    .dataframe thead th {\n",
       "        text-align: right;\n",
       "    }\n",
       "</style>\n",
       "<table border=\"1\" class=\"dataframe\">\n",
       "  <thead>\n",
       "    <tr style=\"text-align: right;\">\n",
       "      <th></th>\n",
       "      <th>name</th>\n",
       "      <th>regions</th>\n",
       "      <th>start_dt</th>\n",
       "      <th>finish_dt</th>\n",
       "    </tr>\n",
       "  </thead>\n",
       "  <tbody>\n",
       "    <tr>\n",
       "      <th>0</th>\n",
       "      <td>Christmas&amp;New Year Promo</td>\n",
       "      <td>EU, N.America</td>\n",
       "      <td>2020-12-25</td>\n",
       "      <td>2021-01-03</td>\n",
       "    </tr>\n",
       "    <tr>\n",
       "      <th>1</th>\n",
       "      <td>St. Valentine's Day Giveaway</td>\n",
       "      <td>EU, CIS, APAC, N.America</td>\n",
       "      <td>2020-02-14</td>\n",
       "      <td>2020-02-16</td>\n",
       "    </tr>\n",
       "    <tr>\n",
       "      <th>2</th>\n",
       "      <td>St. Patric's Day Promo</td>\n",
       "      <td>EU, N.America</td>\n",
       "      <td>2020-03-17</td>\n",
       "      <td>2020-03-19</td>\n",
       "    </tr>\n",
       "    <tr>\n",
       "      <th>3</th>\n",
       "      <td>Easter Promo</td>\n",
       "      <td>EU, CIS, APAC, N.America</td>\n",
       "      <td>2020-04-12</td>\n",
       "      <td>2020-04-19</td>\n",
       "    </tr>\n",
       "    <tr>\n",
       "      <th>4</th>\n",
       "      <td>4th of July Promo</td>\n",
       "      <td>N.America</td>\n",
       "      <td>2020-07-04</td>\n",
       "      <td>2020-07-11</td>\n",
       "    </tr>\n",
       "    <tr>\n",
       "      <th>5</th>\n",
       "      <td>Black Friday Ads Campaign</td>\n",
       "      <td>EU, CIS, APAC, N.America</td>\n",
       "      <td>2020-11-26</td>\n",
       "      <td>2020-12-01</td>\n",
       "    </tr>\n",
       "    <tr>\n",
       "      <th>6</th>\n",
       "      <td>Chinese New Year Promo</td>\n",
       "      <td>APAC</td>\n",
       "      <td>2020-01-25</td>\n",
       "      <td>2020-02-07</td>\n",
       "    </tr>\n",
       "    <tr>\n",
       "      <th>7</th>\n",
       "      <td>Labor day (May 1st) Ads Campaign</td>\n",
       "      <td>EU, CIS, APAC</td>\n",
       "      <td>2020-05-01</td>\n",
       "      <td>2020-05-03</td>\n",
       "    </tr>\n",
       "    <tr>\n",
       "      <th>8</th>\n",
       "      <td>International Women's Day Promo</td>\n",
       "      <td>EU, CIS, APAC</td>\n",
       "      <td>2020-03-08</td>\n",
       "      <td>2020-03-10</td>\n",
       "    </tr>\n",
       "    <tr>\n",
       "      <th>9</th>\n",
       "      <td>Victory Day CIS (May 9th) Event</td>\n",
       "      <td>CIS</td>\n",
       "      <td>2020-05-09</td>\n",
       "      <td>2020-05-11</td>\n",
       "    </tr>\n",
       "    <tr>\n",
       "      <th>10</th>\n",
       "      <td>CIS New Year Gift Lottery</td>\n",
       "      <td>CIS</td>\n",
       "      <td>2020-12-30</td>\n",
       "      <td>2021-01-07</td>\n",
       "    </tr>\n",
       "    <tr>\n",
       "      <th>11</th>\n",
       "      <td>Dragon Boat Festival Giveaway</td>\n",
       "      <td>APAC</td>\n",
       "      <td>2020-06-25</td>\n",
       "      <td>2020-07-01</td>\n",
       "    </tr>\n",
       "    <tr>\n",
       "      <th>12</th>\n",
       "      <td>Single's Day Gift Promo</td>\n",
       "      <td>APAC</td>\n",
       "      <td>2020-11-11</td>\n",
       "      <td>2020-11-12</td>\n",
       "    </tr>\n",
       "    <tr>\n",
       "      <th>13</th>\n",
       "      <td>Chinese Moon Festival</td>\n",
       "      <td>APAC</td>\n",
       "      <td>2020-10-01</td>\n",
       "      <td>2020-10-07</td>\n",
       "    </tr>\n",
       "  </tbody>\n",
       "</table>\n",
       "</div>"
      ],
      "text/plain": [
       "                                name                   regions    start_dt  \\\n",
       "0           Christmas&New Year Promo             EU, N.America  2020-12-25   \n",
       "1       St. Valentine's Day Giveaway  EU, CIS, APAC, N.America  2020-02-14   \n",
       "2             St. Patric's Day Promo             EU, N.America  2020-03-17   \n",
       "3                       Easter Promo  EU, CIS, APAC, N.America  2020-04-12   \n",
       "4                  4th of July Promo                 N.America  2020-07-04   \n",
       "5          Black Friday Ads Campaign  EU, CIS, APAC, N.America  2020-11-26   \n",
       "6             Chinese New Year Promo                      APAC  2020-01-25   \n",
       "7   Labor day (May 1st) Ads Campaign             EU, CIS, APAC  2020-05-01   \n",
       "8    International Women's Day Promo             EU, CIS, APAC  2020-03-08   \n",
       "9    Victory Day CIS (May 9th) Event                       CIS  2020-05-09   \n",
       "10         CIS New Year Gift Lottery                       CIS  2020-12-30   \n",
       "11     Dragon Boat Festival Giveaway                      APAC  2020-06-25   \n",
       "12           Single's Day Gift Promo                      APAC  2020-11-11   \n",
       "13             Chinese Moon Festival                      APAC  2020-10-01   \n",
       "\n",
       "     finish_dt  \n",
       "0   2021-01-03  \n",
       "1   2020-02-16  \n",
       "2   2020-03-19  \n",
       "3   2020-04-19  \n",
       "4   2020-07-11  \n",
       "5   2020-12-01  \n",
       "6   2020-02-07  \n",
       "7   2020-05-03  \n",
       "8   2020-03-10  \n",
       "9   2020-05-11  \n",
       "10  2021-01-07  \n",
       "11  2020-07-01  \n",
       "12  2020-11-12  \n",
       "13  2020-10-07  "
      ]
     },
     "metadata": {},
     "output_type": "display_data"
    },
    {
     "data": {
      "text/html": [
       "<div>\n",
       "<style scoped>\n",
       "    .dataframe tbody tr th:only-of-type {\n",
       "        vertical-align: middle;\n",
       "    }\n",
       "\n",
       "    .dataframe tbody tr th {\n",
       "        vertical-align: top;\n",
       "    }\n",
       "\n",
       "    .dataframe thead th {\n",
       "        text-align: right;\n",
       "    }\n",
       "</style>\n",
       "<table border=\"1\" class=\"dataframe\">\n",
       "  <thead>\n",
       "    <tr style=\"text-align: right;\">\n",
       "      <th></th>\n",
       "      <th>user_id</th>\n",
       "      <th>first_date</th>\n",
       "      <th>region</th>\n",
       "      <th>device</th>\n",
       "    </tr>\n",
       "  </thead>\n",
       "  <tbody>\n",
       "    <tr>\n",
       "      <th>0</th>\n",
       "      <td>D72A72121175D8BE</td>\n",
       "      <td>2020-12-07</td>\n",
       "      <td>EU</td>\n",
       "      <td>PC</td>\n",
       "    </tr>\n",
       "    <tr>\n",
       "      <th>1</th>\n",
       "      <td>F1C668619DFE6E65</td>\n",
       "      <td>2020-12-07</td>\n",
       "      <td>N.America</td>\n",
       "      <td>Android</td>\n",
       "    </tr>\n",
       "    <tr>\n",
       "      <th>2</th>\n",
       "      <td>2E1BF1D4C37EA01F</td>\n",
       "      <td>2020-12-07</td>\n",
       "      <td>EU</td>\n",
       "      <td>PC</td>\n",
       "    </tr>\n",
       "    <tr>\n",
       "      <th>3</th>\n",
       "      <td>50734A22C0C63768</td>\n",
       "      <td>2020-12-07</td>\n",
       "      <td>EU</td>\n",
       "      <td>iPhone</td>\n",
       "    </tr>\n",
       "    <tr>\n",
       "      <th>4</th>\n",
       "      <td>E1BDDCE0DAFA2679</td>\n",
       "      <td>2020-12-07</td>\n",
       "      <td>N.America</td>\n",
       "      <td>iPhone</td>\n",
       "    </tr>\n",
       "    <tr>\n",
       "      <th>...</th>\n",
       "      <td>...</td>\n",
       "      <td>...</td>\n",
       "      <td>...</td>\n",
       "      <td>...</td>\n",
       "    </tr>\n",
       "    <tr>\n",
       "      <th>61728</th>\n",
       "      <td>1DB53B933257165D</td>\n",
       "      <td>2020-12-20</td>\n",
       "      <td>EU</td>\n",
       "      <td>Android</td>\n",
       "    </tr>\n",
       "    <tr>\n",
       "      <th>61729</th>\n",
       "      <td>538643EB4527ED03</td>\n",
       "      <td>2020-12-20</td>\n",
       "      <td>EU</td>\n",
       "      <td>Mac</td>\n",
       "    </tr>\n",
       "    <tr>\n",
       "      <th>61730</th>\n",
       "      <td>7ADEE837D5D8CBBD</td>\n",
       "      <td>2020-12-20</td>\n",
       "      <td>EU</td>\n",
       "      <td>PC</td>\n",
       "    </tr>\n",
       "    <tr>\n",
       "      <th>61731</th>\n",
       "      <td>1C7D23927835213F</td>\n",
       "      <td>2020-12-20</td>\n",
       "      <td>EU</td>\n",
       "      <td>iPhone</td>\n",
       "    </tr>\n",
       "    <tr>\n",
       "      <th>61732</th>\n",
       "      <td>8F04273BB2860229</td>\n",
       "      <td>2020-12-20</td>\n",
       "      <td>EU</td>\n",
       "      <td>Android</td>\n",
       "    </tr>\n",
       "  </tbody>\n",
       "</table>\n",
       "<p>61733 rows × 4 columns</p>\n",
       "</div>"
      ],
      "text/plain": [
       "                user_id  first_date     region   device\n",
       "0      D72A72121175D8BE  2020-12-07         EU       PC\n",
       "1      F1C668619DFE6E65  2020-12-07  N.America  Android\n",
       "2      2E1BF1D4C37EA01F  2020-12-07         EU       PC\n",
       "3      50734A22C0C63768  2020-12-07         EU   iPhone\n",
       "4      E1BDDCE0DAFA2679  2020-12-07  N.America   iPhone\n",
       "...                 ...         ...        ...      ...\n",
       "61728  1DB53B933257165D  2020-12-20         EU  Android\n",
       "61729  538643EB4527ED03  2020-12-20         EU      Mac\n",
       "61730  7ADEE837D5D8CBBD  2020-12-20         EU       PC\n",
       "61731  1C7D23927835213F  2020-12-20         EU   iPhone\n",
       "61732  8F04273BB2860229  2020-12-20         EU  Android\n",
       "\n",
       "[61733 rows x 4 columns]"
      ]
     },
     "metadata": {},
     "output_type": "display_data"
    },
    {
     "data": {
      "text/html": [
       "<div>\n",
       "<style scoped>\n",
       "    .dataframe tbody tr th:only-of-type {\n",
       "        vertical-align: middle;\n",
       "    }\n",
       "\n",
       "    .dataframe tbody tr th {\n",
       "        vertical-align: top;\n",
       "    }\n",
       "\n",
       "    .dataframe thead th {\n",
       "        text-align: right;\n",
       "    }\n",
       "</style>\n",
       "<table border=\"1\" class=\"dataframe\">\n",
       "  <thead>\n",
       "    <tr style=\"text-align: right;\">\n",
       "      <th></th>\n",
       "      <th>user_id</th>\n",
       "      <th>group</th>\n",
       "      <th>ab_test</th>\n",
       "    </tr>\n",
       "  </thead>\n",
       "  <tbody>\n",
       "    <tr>\n",
       "      <th>0</th>\n",
       "      <td>D1ABA3E2887B6A73</td>\n",
       "      <td>A</td>\n",
       "      <td>recommender_system_test</td>\n",
       "    </tr>\n",
       "    <tr>\n",
       "      <th>1</th>\n",
       "      <td>A7A3664BD6242119</td>\n",
       "      <td>A</td>\n",
       "      <td>recommender_system_test</td>\n",
       "    </tr>\n",
       "    <tr>\n",
       "      <th>2</th>\n",
       "      <td>DABC14FDDFADD29E</td>\n",
       "      <td>A</td>\n",
       "      <td>recommender_system_test</td>\n",
       "    </tr>\n",
       "    <tr>\n",
       "      <th>3</th>\n",
       "      <td>04988C5DF189632E</td>\n",
       "      <td>A</td>\n",
       "      <td>recommender_system_test</td>\n",
       "    </tr>\n",
       "    <tr>\n",
       "      <th>4</th>\n",
       "      <td>482F14783456D21B</td>\n",
       "      <td>B</td>\n",
       "      <td>recommender_system_test</td>\n",
       "    </tr>\n",
       "    <tr>\n",
       "      <th>...</th>\n",
       "      <td>...</td>\n",
       "      <td>...</td>\n",
       "      <td>...</td>\n",
       "    </tr>\n",
       "    <tr>\n",
       "      <th>18263</th>\n",
       "      <td>1D302F8688B91781</td>\n",
       "      <td>B</td>\n",
       "      <td>interface_eu_test</td>\n",
       "    </tr>\n",
       "    <tr>\n",
       "      <th>18264</th>\n",
       "      <td>3DE51B726983B657</td>\n",
       "      <td>A</td>\n",
       "      <td>interface_eu_test</td>\n",
       "    </tr>\n",
       "    <tr>\n",
       "      <th>18265</th>\n",
       "      <td>F501F79D332BE86C</td>\n",
       "      <td>A</td>\n",
       "      <td>interface_eu_test</td>\n",
       "    </tr>\n",
       "    <tr>\n",
       "      <th>18266</th>\n",
       "      <td>63FBE257B05F2245</td>\n",
       "      <td>A</td>\n",
       "      <td>interface_eu_test</td>\n",
       "    </tr>\n",
       "    <tr>\n",
       "      <th>18267</th>\n",
       "      <td>79F9ABFB029CF724</td>\n",
       "      <td>B</td>\n",
       "      <td>interface_eu_test</td>\n",
       "    </tr>\n",
       "  </tbody>\n",
       "</table>\n",
       "<p>18268 rows × 3 columns</p>\n",
       "</div>"
      ],
      "text/plain": [
       "                user_id group                  ab_test\n",
       "0      D1ABA3E2887B6A73     A  recommender_system_test\n",
       "1      A7A3664BD6242119     A  recommender_system_test\n",
       "2      DABC14FDDFADD29E     A  recommender_system_test\n",
       "3      04988C5DF189632E     A  recommender_system_test\n",
       "4      482F14783456D21B     B  recommender_system_test\n",
       "...                 ...   ...                      ...\n",
       "18263  1D302F8688B91781     B        interface_eu_test\n",
       "18264  3DE51B726983B657     A        interface_eu_test\n",
       "18265  F501F79D332BE86C     A        interface_eu_test\n",
       "18266  63FBE257B05F2245     A        interface_eu_test\n",
       "18267  79F9ABFB029CF724     B        interface_eu_test\n",
       "\n",
       "[18268 rows x 3 columns]"
      ]
     },
     "metadata": {},
     "output_type": "display_data"
    }
   ],
   "source": [
    "import pandas as pd\n",
    "from scipy import stats as st\n",
    "import datetime as dt\n",
    "import numpy as np\n",
    "import matplotlib.pyplot as plt\n",
    "from pandas.plotting import register_matplotlib_converters\n",
    "import warnings\n",
    "import math\n",
    "from io import BytesIO\n",
    "import requests\n",
    "\n",
    "spreadsheet_id1 = '1mqlVAzH9sTXjISi9G2WyrsxbIqNXiN0Xym927gzMA98'\n",
    "file_name1 = 'https://docs.google.com/spreadsheets/d/{}/export?format=csv'.format(spreadsheet_id1)\n",
    "r1 = requests.get(file_name1)\n",
    "final_ab_events = pd.read_csv(BytesIO(r1.content))\n",
    "\n",
    "spreadsheet_id2 = '1bXUpRjN19W9tpV2P-G4yjTPfKLirLgYXCVcZfzxwYBo'\n",
    "file_name2 = 'https://docs.google.com/spreadsheets/d/{}/export?format=csv'.format(spreadsheet_id2)\n",
    "r2 = requests.get(file_name2)\n",
    "marketing = pd.read_csv(BytesIO(r2.content))\n",
    "\n",
    "spreadsheet_id3 = '18t96PqAfJC-3oq0C986Dl2HiohkbSY7Ze3XKYl9hH3k'\n",
    "file_name3 = 'https://docs.google.com/spreadsheets/d/{}/export?format=csv'.format(spreadsheet_id3)\n",
    "r3 = requests.get(file_name3)\n",
    "final_ab_users = pd.read_csv(BytesIO(r3.content))\n",
    "\n",
    "spreadsheet_id4 = '184lkSfC4JaTSxmh9xcHh_xQwqSSDV7HndJJrA6z5nfw'\n",
    "file_name4 = 'https://docs.google.com/spreadsheets/d/{}/export?format=csv'.format(spreadsheet_id4)\n",
    "r4 = requests.get(file_name4)\n",
    "participants = pd.read_csv(BytesIO(r4.content))\n",
    "\n",
    "\n",
    "display(final_ab_events, marketing, final_ab_users, participants)\n"
   ]
  },
  {
   "cell_type": "code",
   "execution_count": 2,
   "id": "6aae2ea0",
   "metadata": {},
   "outputs": [
    {
     "name": "stdout",
     "output_type": "stream",
     "text": [
      "<class 'pandas.core.frame.DataFrame'>\n",
      "RangeIndex: 440317 entries, 0 to 440316\n",
      "Data columns (total 4 columns):\n",
      " #   Column      Non-Null Count   Dtype  \n",
      "---  ------      --------------   -----  \n",
      " 0   user_id     440317 non-null  object \n",
      " 1   event_dt    440317 non-null  object \n",
      " 2   event_name  440317 non-null  object \n",
      " 3   details     62740 non-null   float64\n",
      "dtypes: float64(1), object(3)\n",
      "memory usage: 13.4+ MB\n",
      "\n",
      "<class 'pandas.core.frame.DataFrame'>\n",
      "RangeIndex: 14 entries, 0 to 13\n",
      "Data columns (total 4 columns):\n",
      " #   Column     Non-Null Count  Dtype \n",
      "---  ------     --------------  ----- \n",
      " 0   name       14 non-null     object\n",
      " 1   regions    14 non-null     object\n",
      " 2   start_dt   14 non-null     object\n",
      " 3   finish_dt  14 non-null     object\n",
      "dtypes: object(4)\n",
      "memory usage: 576.0+ bytes\n",
      "\n",
      "<class 'pandas.core.frame.DataFrame'>\n",
      "RangeIndex: 61733 entries, 0 to 61732\n",
      "Data columns (total 4 columns):\n",
      " #   Column      Non-Null Count  Dtype \n",
      "---  ------      --------------  ----- \n",
      " 0   user_id     61733 non-null  object\n",
      " 1   first_date  61733 non-null  object\n",
      " 2   region      61733 non-null  object\n",
      " 3   device      61733 non-null  object\n",
      "dtypes: object(4)\n",
      "memory usage: 1.9+ MB\n",
      "\n",
      "<class 'pandas.core.frame.DataFrame'>\n",
      "RangeIndex: 18268 entries, 0 to 18267\n",
      "Data columns (total 3 columns):\n",
      " #   Column   Non-Null Count  Dtype \n",
      "---  ------   --------------  ----- \n",
      " 0   user_id  18268 non-null  object\n",
      " 1   group    18268 non-null  object\n",
      " 2   ab_test  18268 non-null  object\n",
      "dtypes: object(3)\n",
      "memory usage: 428.3+ KB\n"
     ]
    }
   ],
   "source": [
    "final_ab_events.info()\n",
    "print()\n",
    "marketing.info()\n",
    "print()\n",
    "final_ab_users.info()\n",
    "print()\n",
    "participants.info()"
   ]
  },
  {
   "cell_type": "code",
   "execution_count": 3,
   "id": "2442e5f5",
   "metadata": {},
   "outputs": [
    {
     "data": {
      "text/plain": [
       "array(['recommender_system_test', 'interface_eu_test'], dtype=object)"
      ]
     },
     "execution_count": 3,
     "metadata": {},
     "output_type": "execute_result"
    }
   ],
   "source": [
    "participants['ab_test'].unique()"
   ]
  },
  {
   "cell_type": "markdown",
   "id": "cba5762e",
   "metadata": {},
   "source": [
    "1) Пропущенные значения есть только в таблице final_ab_events, в столбце details.\n",
    "Эти пропуски логичны, т.к. не по всем событиям есть доп данные.\n",
    "\n",
    "2) Судя по таблице participants в данных есть информация об еще одном ab тесте - \"interface_eu_test\". Нужно будет проверить пересечение пользователей между тестами и группами\n",
    "\n",
    "3) Типы данных корректны за исключением столбцов с датой."
   ]
  },
  {
   "cell_type": "code",
   "execution_count": 4,
   "id": "8eab5515",
   "metadata": {},
   "outputs": [
    {
     "name": "stdout",
     "output_type": "stream",
     "text": [
      "Количество дубликатов в таблице final_ab_events: 0\n",
      "\n",
      "Количество дубликатов в таблице marketing: 0\n",
      "\n",
      "Количество дубликатов в таблице final_ab_users: 0\n",
      "\n",
      "Количество дубликатов в таблице participants: 0\n",
      "\n"
     ]
    }
   ],
   "source": [
    "#проверяем наличие дубликатов\n",
    "print('Количество дубликатов в таблице final_ab_events:', final_ab_events.duplicated().sum())\n",
    "print()\n",
    "print('Количество дубликатов в таблице marketing:', marketing.duplicated().sum())\n",
    "print()\n",
    "print('Количество дубликатов в таблице final_ab_users:', final_ab_users.duplicated().sum())\n",
    "print()\n",
    "print('Количество дубликатов в таблице participants:', participants.duplicated().sum())\n",
    "print()"
   ]
  },
  {
   "cell_type": "markdown",
   "id": "48f73631",
   "metadata": {},
   "source": [
    "Явных дубликатов в таблицах нет"
   ]
  },
  {
   "cell_type": "markdown",
   "id": "0979bd75",
   "metadata": {},
   "source": [
    "<div class=\"alert alert-success\">\n",
    "<b>👍 Успех:</b> Есть описание проекта, ТЗ, импортированы все нужные библиотеки, так же есть описание шагов по проверке корректности теста. Такое введение позволит тебе в любой момент вернуться к проекту и показать его как часть портфолио\n",
    "</div>"
   ]
  },
  {
   "cell_type": "markdown",
   "id": "208afc36",
   "metadata": {},
   "source": [
    "## Оценка корректности проведения теста"
   ]
  },
  {
   "cell_type": "markdown",
   "id": "33c9a823",
   "metadata": {},
   "source": [
    "### Даты начала и остановки теста"
   ]
  },
  {
   "cell_type": "markdown",
   "id": "c90354d1",
   "metadata": {},
   "source": [
    "Посмотрим, совпадают ли даты начала и остановки теста"
   ]
  },
  {
   "cell_type": "code",
   "execution_count": 5,
   "id": "36dd8c57",
   "metadata": {},
   "outputs": [
    {
     "name": "stdout",
     "output_type": "stream",
     "text": [
      "Дата начала теста 2020-12-07 0:00:33\n",
      "Дата окончания теста 2020-12-30 9:53:40\n"
     ]
    }
   ],
   "source": [
    "print(\"Дата начала теста\", final_ab_events['event_dt'].min())\n",
    "print(\"Дата окончания теста\", final_ab_events['event_dt'].max())"
   ]
  },
  {
   "cell_type": "markdown",
   "id": "df330c0b",
   "metadata": {},
   "source": [
    "По тех заданию окончание теста должно было произойти 04.01.2021, но данные о действиях новых пользователей в таблице заканчиваются 30.12.2020.\n",
    "\n",
    "Получается, не по всем набранным за период с 7 по 21.12 пользователям есть данные, чтобы понять, произошло ли по ним увеличение каждой метрики не менее, чем на 10%, т.к. оценка должна была пройти после 14 дней с момента регистрации.\n",
    "\n",
    "Крайняя когорта пользователей, которую можно брать в анализ - это клиенты, зарегистрировавшиеся 16.12.2020. Их первые две недели \"жизни\" в приложении (?) как раз закончились 30.12.2020\n",
    "\n",
    "И еще не понятно до конца: по тем ли пользователям зафиксированы данные на 30 число, по нужному ли нам тесту."
   ]
  },
  {
   "cell_type": "markdown",
   "id": "5283783d",
   "metadata": {},
   "source": [
    "### Даты регистрации"
   ]
  },
  {
   "cell_type": "markdown",
   "id": "2a611598",
   "metadata": {},
   "source": [
    "Посмотрим, попадают ли даты регистарции в указанный в ТЗ период "
   ]
  },
  {
   "cell_type": "code",
   "execution_count": 6,
   "id": "42d31611",
   "metadata": {},
   "outputs": [
    {
     "name": "stdout",
     "output_type": "stream",
     "text": [
      "Минимальная дата регистрации в таблице 2020-12-07\n",
      "Максимальная дата регистрации в таблице 2020-12-23\n"
     ]
    }
   ],
   "source": [
    "print(\"Минимальная дата регистрации в таблице\", final_ab_users['first_date'].min())\n",
    "print(\"Максимальная дата регистрации в таблице\", final_ab_users['first_date'].max())\n"
   ]
  },
  {
   "cell_type": "markdown",
   "id": "8a64e179",
   "metadata": {},
   "source": [
    "В данных есть информация по пользователям, которые зарегистрировались после 21.12.2020"
   ]
  },
  {
   "cell_type": "markdown",
   "id": "6947daad",
   "metadata": {},
   "source": [
    "### Количество и пересечение пользователей по тестам"
   ]
  },
  {
   "cell_type": "markdown",
   "id": "d613f754",
   "metadata": {},
   "source": [
    "Посмотрим количество и пересечение пользователей по тестам"
   ]
  },
  {
   "cell_type": "code",
   "execution_count": 7,
   "id": "e50d37c9",
   "metadata": {},
   "outputs": [
    {
     "data": {
      "text/plain": [
       "ab_test\n",
       "interface_eu_test          11567\n",
       "recommender_system_test     6701\n",
       "Name: user_id, dtype: int64"
      ]
     },
     "execution_count": 7,
     "metadata": {},
     "output_type": "execute_result"
    }
   ],
   "source": [
    "#количество уникальных пользователей в обоих тестах\n",
    "participants.groupby('ab_test')['user_id'].nunique()"
   ]
  },
  {
   "cell_type": "markdown",
   "id": "b10186d0",
   "metadata": {},
   "source": [
    "По ТЗ ожидаемое кол-во участников теста должно быть 6 тыс. По данным таблицы их было 6701."
   ]
  },
  {
   "cell_type": "markdown",
   "id": "044359e1",
   "metadata": {},
   "source": [
    "Для удобства анализа объединим две таблицы: final_ab_users и final_ab_events\n",
    "Затем проверим пользователей на принадлежность к тестам."
   ]
  },
  {
   "cell_type": "code",
   "execution_count": 8,
   "id": "1e59748d",
   "metadata": {},
   "outputs": [
    {
     "data": {
      "text/html": [
       "<div>\n",
       "<style scoped>\n",
       "    .dataframe tbody tr th:only-of-type {\n",
       "        vertical-align: middle;\n",
       "    }\n",
       "\n",
       "    .dataframe tbody tr th {\n",
       "        vertical-align: top;\n",
       "    }\n",
       "\n",
       "    .dataframe thead th {\n",
       "        text-align: right;\n",
       "    }\n",
       "</style>\n",
       "<table border=\"1\" class=\"dataframe\">\n",
       "  <thead>\n",
       "    <tr style=\"text-align: right;\">\n",
       "      <th></th>\n",
       "      <th>user_id</th>\n",
       "      <th>event_dt</th>\n",
       "      <th>event_name</th>\n",
       "      <th>details</th>\n",
       "      <th>first_date</th>\n",
       "      <th>region</th>\n",
       "      <th>device</th>\n",
       "    </tr>\n",
       "  </thead>\n",
       "  <tbody>\n",
       "    <tr>\n",
       "      <th>0</th>\n",
       "      <td>E1BDDCE0DAFA2679</td>\n",
       "      <td>2020-12-07 20:22:03</td>\n",
       "      <td>purchase</td>\n",
       "      <td>99.99</td>\n",
       "      <td>2020-12-07</td>\n",
       "      <td>N.America</td>\n",
       "      <td>iPhone</td>\n",
       "    </tr>\n",
       "    <tr>\n",
       "      <th>1</th>\n",
       "      <td>7B6452F081F49504</td>\n",
       "      <td>2020-12-07 9:22:53</td>\n",
       "      <td>purchase</td>\n",
       "      <td>9.99</td>\n",
       "      <td>2020-12-07</td>\n",
       "      <td>EU</td>\n",
       "      <td>iPhone</td>\n",
       "    </tr>\n",
       "    <tr>\n",
       "      <th>2</th>\n",
       "      <td>9CD9F34546DF254C</td>\n",
       "      <td>2020-12-07 12:59:29</td>\n",
       "      <td>purchase</td>\n",
       "      <td>4.99</td>\n",
       "      <td>2020-12-07</td>\n",
       "      <td>N.America</td>\n",
       "      <td>iPhone</td>\n",
       "    </tr>\n",
       "    <tr>\n",
       "      <th>3</th>\n",
       "      <td>96F27A054B191457</td>\n",
       "      <td>2020-12-07 4:02:40</td>\n",
       "      <td>purchase</td>\n",
       "      <td>4.99</td>\n",
       "      <td>2020-12-07</td>\n",
       "      <td>EU</td>\n",
       "      <td>iPhone</td>\n",
       "    </tr>\n",
       "    <tr>\n",
       "      <th>4</th>\n",
       "      <td>1FD7660FDF94CA1F</td>\n",
       "      <td>2020-12-07 10:15:09</td>\n",
       "      <td>purchase</td>\n",
       "      <td>4.99</td>\n",
       "      <td>2020-12-07</td>\n",
       "      <td>EU</td>\n",
       "      <td>Android</td>\n",
       "    </tr>\n",
       "    <tr>\n",
       "      <th>...</th>\n",
       "      <td>...</td>\n",
       "      <td>...</td>\n",
       "      <td>...</td>\n",
       "      <td>...</td>\n",
       "      <td>...</td>\n",
       "      <td>...</td>\n",
       "      <td>...</td>\n",
       "    </tr>\n",
       "    <tr>\n",
       "      <th>440312</th>\n",
       "      <td>245E85F65C358E08</td>\n",
       "      <td>2020-12-30 19:35:55</td>\n",
       "      <td>login</td>\n",
       "      <td>NaN</td>\n",
       "      <td>2020-12-07</td>\n",
       "      <td>EU</td>\n",
       "      <td>Android</td>\n",
       "    </tr>\n",
       "    <tr>\n",
       "      <th>440313</th>\n",
       "      <td>9385A108F5A0A7A7</td>\n",
       "      <td>2020-12-30 10:54:15</td>\n",
       "      <td>login</td>\n",
       "      <td>NaN</td>\n",
       "      <td>2020-12-07</td>\n",
       "      <td>EU</td>\n",
       "      <td>PC</td>\n",
       "    </tr>\n",
       "    <tr>\n",
       "      <th>440314</th>\n",
       "      <td>DB650B7559AC6EAC</td>\n",
       "      <td>2020-12-30 10:59:09</td>\n",
       "      <td>login</td>\n",
       "      <td>NaN</td>\n",
       "      <td>2020-12-07</td>\n",
       "      <td>EU</td>\n",
       "      <td>Android</td>\n",
       "    </tr>\n",
       "    <tr>\n",
       "      <th>440315</th>\n",
       "      <td>F80C9BDDEA02E53C</td>\n",
       "      <td>2020-12-30 9:53:39</td>\n",
       "      <td>login</td>\n",
       "      <td>NaN</td>\n",
       "      <td>2020-12-07</td>\n",
       "      <td>EU</td>\n",
       "      <td>iPhone</td>\n",
       "    </tr>\n",
       "    <tr>\n",
       "      <th>440316</th>\n",
       "      <td>7AEC61159B672CC5</td>\n",
       "      <td>2020-12-30 11:36:13</td>\n",
       "      <td>login</td>\n",
       "      <td>NaN</td>\n",
       "      <td>2020-12-07</td>\n",
       "      <td>EU</td>\n",
       "      <td>iPhone</td>\n",
       "    </tr>\n",
       "  </tbody>\n",
       "</table>\n",
       "<p>440317 rows × 7 columns</p>\n",
       "</div>"
      ],
      "text/plain": [
       "                 user_id             event_dt event_name  details  first_date  \\\n",
       "0       E1BDDCE0DAFA2679  2020-12-07 20:22:03   purchase    99.99  2020-12-07   \n",
       "1       7B6452F081F49504   2020-12-07 9:22:53   purchase     9.99  2020-12-07   \n",
       "2       9CD9F34546DF254C  2020-12-07 12:59:29   purchase     4.99  2020-12-07   \n",
       "3       96F27A054B191457   2020-12-07 4:02:40   purchase     4.99  2020-12-07   \n",
       "4       1FD7660FDF94CA1F  2020-12-07 10:15:09   purchase     4.99  2020-12-07   \n",
       "...                  ...                  ...        ...      ...         ...   \n",
       "440312  245E85F65C358E08  2020-12-30 19:35:55      login      NaN  2020-12-07   \n",
       "440313  9385A108F5A0A7A7  2020-12-30 10:54:15      login      NaN  2020-12-07   \n",
       "440314  DB650B7559AC6EAC  2020-12-30 10:59:09      login      NaN  2020-12-07   \n",
       "440315  F80C9BDDEA02E53C   2020-12-30 9:53:39      login      NaN  2020-12-07   \n",
       "440316  7AEC61159B672CC5  2020-12-30 11:36:13      login      NaN  2020-12-07   \n",
       "\n",
       "           region   device  \n",
       "0       N.America   iPhone  \n",
       "1              EU   iPhone  \n",
       "2       N.America   iPhone  \n",
       "3              EU   iPhone  \n",
       "4              EU  Android  \n",
       "...           ...      ...  \n",
       "440312         EU  Android  \n",
       "440313         EU       PC  \n",
       "440314         EU  Android  \n",
       "440315         EU   iPhone  \n",
       "440316         EU   iPhone  \n",
       "\n",
       "[440317 rows x 7 columns]"
      ]
     },
     "execution_count": 8,
     "metadata": {},
     "output_type": "execute_result"
    }
   ],
   "source": [
    "df = final_ab_events.merge(final_ab_users, on='user_id', how = 'left')\n",
    "df"
   ]
  },
  {
   "cell_type": "code",
   "execution_count": 9,
   "id": "5a6168f2",
   "metadata": {},
   "outputs": [
    {
     "data": {
      "text/html": [
       "<div>\n",
       "<style scoped>\n",
       "    .dataframe tbody tr th:only-of-type {\n",
       "        vertical-align: middle;\n",
       "    }\n",
       "\n",
       "    .dataframe tbody tr th {\n",
       "        vertical-align: top;\n",
       "    }\n",
       "\n",
       "    .dataframe thead th {\n",
       "        text-align: right;\n",
       "    }\n",
       "</style>\n",
       "<table border=\"1\" class=\"dataframe\">\n",
       "  <thead>\n",
       "    <tr style=\"text-align: right;\">\n",
       "      <th></th>\n",
       "      <th>user_id</th>\n",
       "      <th>event_dt</th>\n",
       "      <th>event_name</th>\n",
       "      <th>details</th>\n",
       "      <th>first_date</th>\n",
       "      <th>region</th>\n",
       "      <th>device</th>\n",
       "      <th>group</th>\n",
       "      <th>ab_test</th>\n",
       "    </tr>\n",
       "  </thead>\n",
       "  <tbody>\n",
       "    <tr>\n",
       "      <th>0</th>\n",
       "      <td>E1BDDCE0DAFA2679</td>\n",
       "      <td>2020-12-07 20:22:03</td>\n",
       "      <td>purchase</td>\n",
       "      <td>99.99</td>\n",
       "      <td>2020-12-07</td>\n",
       "      <td>N.America</td>\n",
       "      <td>iPhone</td>\n",
       "      <td>NaN</td>\n",
       "      <td>NaN</td>\n",
       "    </tr>\n",
       "    <tr>\n",
       "      <th>1</th>\n",
       "      <td>7B6452F081F49504</td>\n",
       "      <td>2020-12-07 9:22:53</td>\n",
       "      <td>purchase</td>\n",
       "      <td>9.99</td>\n",
       "      <td>2020-12-07</td>\n",
       "      <td>EU</td>\n",
       "      <td>iPhone</td>\n",
       "      <td>NaN</td>\n",
       "      <td>NaN</td>\n",
       "    </tr>\n",
       "    <tr>\n",
       "      <th>2</th>\n",
       "      <td>9CD9F34546DF254C</td>\n",
       "      <td>2020-12-07 12:59:29</td>\n",
       "      <td>purchase</td>\n",
       "      <td>4.99</td>\n",
       "      <td>2020-12-07</td>\n",
       "      <td>N.America</td>\n",
       "      <td>iPhone</td>\n",
       "      <td>NaN</td>\n",
       "      <td>NaN</td>\n",
       "    </tr>\n",
       "    <tr>\n",
       "      <th>3</th>\n",
       "      <td>96F27A054B191457</td>\n",
       "      <td>2020-12-07 4:02:40</td>\n",
       "      <td>purchase</td>\n",
       "      <td>4.99</td>\n",
       "      <td>2020-12-07</td>\n",
       "      <td>EU</td>\n",
       "      <td>iPhone</td>\n",
       "      <td>B</td>\n",
       "      <td>interface_eu_test</td>\n",
       "    </tr>\n",
       "    <tr>\n",
       "      <th>4</th>\n",
       "      <td>1FD7660FDF94CA1F</td>\n",
       "      <td>2020-12-07 10:15:09</td>\n",
       "      <td>purchase</td>\n",
       "      <td>4.99</td>\n",
       "      <td>2020-12-07</td>\n",
       "      <td>EU</td>\n",
       "      <td>Android</td>\n",
       "      <td>NaN</td>\n",
       "      <td>NaN</td>\n",
       "    </tr>\n",
       "    <tr>\n",
       "      <th>...</th>\n",
       "      <td>...</td>\n",
       "      <td>...</td>\n",
       "      <td>...</td>\n",
       "      <td>...</td>\n",
       "      <td>...</td>\n",
       "      <td>...</td>\n",
       "      <td>...</td>\n",
       "      <td>...</td>\n",
       "      <td>...</td>\n",
       "    </tr>\n",
       "    <tr>\n",
       "      <th>446206</th>\n",
       "      <td>245E85F65C358E08</td>\n",
       "      <td>2020-12-30 19:35:55</td>\n",
       "      <td>login</td>\n",
       "      <td>NaN</td>\n",
       "      <td>2020-12-07</td>\n",
       "      <td>EU</td>\n",
       "      <td>Android</td>\n",
       "      <td>NaN</td>\n",
       "      <td>NaN</td>\n",
       "    </tr>\n",
       "    <tr>\n",
       "      <th>446207</th>\n",
       "      <td>9385A108F5A0A7A7</td>\n",
       "      <td>2020-12-30 10:54:15</td>\n",
       "      <td>login</td>\n",
       "      <td>NaN</td>\n",
       "      <td>2020-12-07</td>\n",
       "      <td>EU</td>\n",
       "      <td>PC</td>\n",
       "      <td>NaN</td>\n",
       "      <td>NaN</td>\n",
       "    </tr>\n",
       "    <tr>\n",
       "      <th>446208</th>\n",
       "      <td>DB650B7559AC6EAC</td>\n",
       "      <td>2020-12-30 10:59:09</td>\n",
       "      <td>login</td>\n",
       "      <td>NaN</td>\n",
       "      <td>2020-12-07</td>\n",
       "      <td>EU</td>\n",
       "      <td>Android</td>\n",
       "      <td>NaN</td>\n",
       "      <td>NaN</td>\n",
       "    </tr>\n",
       "    <tr>\n",
       "      <th>446209</th>\n",
       "      <td>F80C9BDDEA02E53C</td>\n",
       "      <td>2020-12-30 9:53:39</td>\n",
       "      <td>login</td>\n",
       "      <td>NaN</td>\n",
       "      <td>2020-12-07</td>\n",
       "      <td>EU</td>\n",
       "      <td>iPhone</td>\n",
       "      <td>A</td>\n",
       "      <td>interface_eu_test</td>\n",
       "    </tr>\n",
       "    <tr>\n",
       "      <th>446210</th>\n",
       "      <td>7AEC61159B672CC5</td>\n",
       "      <td>2020-12-30 11:36:13</td>\n",
       "      <td>login</td>\n",
       "      <td>NaN</td>\n",
       "      <td>2020-12-07</td>\n",
       "      <td>EU</td>\n",
       "      <td>iPhone</td>\n",
       "      <td>NaN</td>\n",
       "      <td>NaN</td>\n",
       "    </tr>\n",
       "  </tbody>\n",
       "</table>\n",
       "<p>446211 rows × 9 columns</p>\n",
       "</div>"
      ],
      "text/plain": [
       "                 user_id             event_dt event_name  details  first_date  \\\n",
       "0       E1BDDCE0DAFA2679  2020-12-07 20:22:03   purchase    99.99  2020-12-07   \n",
       "1       7B6452F081F49504   2020-12-07 9:22:53   purchase     9.99  2020-12-07   \n",
       "2       9CD9F34546DF254C  2020-12-07 12:59:29   purchase     4.99  2020-12-07   \n",
       "3       96F27A054B191457   2020-12-07 4:02:40   purchase     4.99  2020-12-07   \n",
       "4       1FD7660FDF94CA1F  2020-12-07 10:15:09   purchase     4.99  2020-12-07   \n",
       "...                  ...                  ...        ...      ...         ...   \n",
       "446206  245E85F65C358E08  2020-12-30 19:35:55      login      NaN  2020-12-07   \n",
       "446207  9385A108F5A0A7A7  2020-12-30 10:54:15      login      NaN  2020-12-07   \n",
       "446208  DB650B7559AC6EAC  2020-12-30 10:59:09      login      NaN  2020-12-07   \n",
       "446209  F80C9BDDEA02E53C   2020-12-30 9:53:39      login      NaN  2020-12-07   \n",
       "446210  7AEC61159B672CC5  2020-12-30 11:36:13      login      NaN  2020-12-07   \n",
       "\n",
       "           region   device group            ab_test  \n",
       "0       N.America   iPhone   NaN                NaN  \n",
       "1              EU   iPhone   NaN                NaN  \n",
       "2       N.America   iPhone   NaN                NaN  \n",
       "3              EU   iPhone     B  interface_eu_test  \n",
       "4              EU  Android   NaN                NaN  \n",
       "...           ...      ...   ...                ...  \n",
       "446206         EU  Android   NaN                NaN  \n",
       "446207         EU       PC   NaN                NaN  \n",
       "446208         EU  Android   NaN                NaN  \n",
       "446209         EU   iPhone     A  interface_eu_test  \n",
       "446210         EU   iPhone   NaN                NaN  \n",
       "\n",
       "[446211 rows x 9 columns]"
      ]
     },
     "execution_count": 9,
     "metadata": {},
     "output_type": "execute_result"
    }
   ],
   "source": [
    "data = df.merge(participants, on='user_id', how = 'left')\n",
    "data"
   ]
  },
  {
   "cell_type": "code",
   "execution_count": 10,
   "id": "bb541894",
   "metadata": {},
   "outputs": [
    {
     "name": "stdout",
     "output_type": "stream",
     "text": [
      "<class 'pandas.core.frame.DataFrame'>\n",
      "Int64Index: 446211 entries, 0 to 446210\n",
      "Data columns (total 9 columns):\n",
      " #   Column      Non-Null Count   Dtype  \n",
      "---  ------      --------------   -----  \n",
      " 0   user_id     446211 non-null  object \n",
      " 1   event_dt    446211 non-null  object \n",
      " 2   event_name  446211 non-null  object \n",
      " 3   details     63588 non-null   float64\n",
      " 4   first_date  446211 non-null  object \n",
      " 5   region      446211 non-null  object \n",
      " 6   device      446211 non-null  object \n",
      " 7   group       106625 non-null  object \n",
      " 8   ab_test     106625 non-null  object \n",
      "dtypes: float64(1), object(8)\n",
      "memory usage: 34.0+ MB\n"
     ]
    }
   ],
   "source": [
    "data.info()"
   ]
  },
  {
   "cell_type": "markdown",
   "id": "1eefb4e9",
   "metadata": {},
   "source": [
    "Не у всех пользователей подтянулась группа и название теста. Значит в таблицах также были данные по пользователям, которые не принимали участие в тестах. Уберем их."
   ]
  },
  {
   "cell_type": "code",
   "execution_count": 11,
   "id": "4897420e",
   "metadata": {},
   "outputs": [
    {
     "name": "stdout",
     "output_type": "stream",
     "text": [
      "<class 'pandas.core.frame.DataFrame'>\n",
      "Int64Index: 106625 entries, 3 to 446209\n",
      "Data columns (total 9 columns):\n",
      " #   Column      Non-Null Count   Dtype  \n",
      "---  ------      --------------   -----  \n",
      " 0   user_id     106625 non-null  object \n",
      " 1   event_dt    106625 non-null  object \n",
      " 2   event_name  106625 non-null  object \n",
      " 3   details     15416 non-null   float64\n",
      " 4   first_date  106625 non-null  object \n",
      " 5   region      106625 non-null  object \n",
      " 6   device      106625 non-null  object \n",
      " 7   group       106625 non-null  object \n",
      " 8   ab_test     106625 non-null  object \n",
      "dtypes: float64(1), object(8)\n",
      "memory usage: 8.1+ MB\n"
     ]
    }
   ],
   "source": [
    "data = data.dropna(subset=['group']) \n",
    "data.info()"
   ]
  },
  {
   "cell_type": "markdown",
   "id": "a29ebdaa",
   "metadata": {},
   "source": [
    "Теперь создадаим два среза: в один войдут участники теста recommender_system_test, в другой - interface_eu_test"
   ]
  },
  {
   "cell_type": "code",
   "execution_count": 12,
   "id": "a6525a66",
   "metadata": {},
   "outputs": [],
   "source": [
    "recommender_system = data[data['ab_test'] == \"recommender_system_test\"]\n",
    "interface_eu = data[data['ab_test'] == \"interface_eu_test\"]"
   ]
  },
  {
   "cell_type": "code",
   "execution_count": 13,
   "id": "9a1e9dc8",
   "metadata": {},
   "outputs": [
    {
     "data": {
      "text/plain": [
       "['213C96A57E70B18F',\n",
       " 'DD4731E5B4C9C4EB',\n",
       " 'EF6DBFA129654B41',\n",
       " 'FE2AF0E94DBD470E',\n",
       " 'CE48F47093B03425',\n",
       " 'D1DFCE26FF3C713F',\n",
       " '535DC74493925CF8',\n",
       " '71D1FF7218FB3F1E',\n",
       " 'A8C57C0D4118F4D7',\n",
       " 'C86F0150DA3B10F2',\n",
       " 'F38941283A36C34B',\n",
       " '59390C0379937AB0',\n",
       " '2A12B7DB3C6E84D6',\n",
       " '9C1EFF68BC2F16F3',\n",
       " 'C7750723906C925A',\n",
       " '8D406B3B500671BD',\n",
       " 'C2025648F77BD80B',\n",
       " '0F2729666CE8EF33',\n",
       " '1A4A33FE1C0FDD90',\n",
       " '604F9F5DB1EB8997',\n",
       " 'D2F6FB926A64D196',\n",
       " '5E9E80BADEA372AB',\n",
       " '0E6F91028486376D',\n",
       " '24FB1A84E1C30291',\n",
       " '4BDA6084191118DF',\n",
       " '65F225074FEC2C03',\n",
       " '4F37FAAD74FB679C',\n",
       " '7415696C510E38FB',\n",
       " 'AB88A0F609618A2A',\n",
       " 'C26D3BB63817A267',\n",
       " '0082295A41A867B5',\n",
       " 'DFE341550729F28E',\n",
       " '4A55475E078F40DC',\n",
       " '9E656B4D34C68949',\n",
       " '13AA9B89A2885F8E',\n",
       " '4B058B8F19045AC9',\n",
       " '48496344F079B793',\n",
       " '27802765D2458B2B',\n",
       " '02894A55BC14A70E',\n",
       " '04F2CF340B4F3822',\n",
       " 'E02247CEF572ACCA',\n",
       " '6B1D0D8C4F8FBBEC',\n",
       " 'E40FA02A8A53F693',\n",
       " 'E68B2613255FA585',\n",
       " 'ECC76B90EB71C492',\n",
       " '4D921165CD2825D1',\n",
       " '5424E9D321EC3567',\n",
       " '4566C623449592A7',\n",
       " '16F2DB656CC2F952',\n",
       " 'C176364EF5C025EA',\n",
       " '3341349F0FD06C14',\n",
       " '8FA915CDB5994BDC',\n",
       " 'F34D48681A35BD3B',\n",
       " '340D9C518D3CBB8D',\n",
       " 'E7CC63BF20618321',\n",
       " '2CDFC246EAEEAB13',\n",
       " '0A0141A363E2E051',\n",
       " 'DF9C2411ADA62C66',\n",
       " 'DA8DABF19A0203FD',\n",
       " 'E32D4C0315D6BFBE',\n",
       " '44EB15AD423DC31C',\n",
       " 'A8C1429C2249A1C3',\n",
       " '802AE3764E188FC6',\n",
       " '262C647D99621FF5',\n",
       " '557A3001E88A209B',\n",
       " 'A800CDEA85871EEF',\n",
       " '4CF756542084F860',\n",
       " '954C980B4A9559FF',\n",
       " 'F69BC50D9CC2A47B',\n",
       " '8285135A01FF5488',\n",
       " '04BE4EFE4C457312',\n",
       " '1D6A02B0987CD71A',\n",
       " 'E65F1C4C712CDC41',\n",
       " '329E3207708990E1',\n",
       " '8FFA1D6F89AAEA40',\n",
       " '90AC003E691D70D4',\n",
       " 'B854154628803E46',\n",
       " 'C8460FF8BEF553A4',\n",
       " '32E13C1C0F6AC96E',\n",
       " 'BEF16764A13AEC34',\n",
       " 'EEFDF8577ED817C0',\n",
       " '1AE6FF352875CA8C',\n",
       " '465CD5B78E1AA5B7',\n",
       " 'DABC08CC80316871',\n",
       " '5B04574502DEFDB3',\n",
       " 'D9F243D9F177689B',\n",
       " 'C1760622B65C9B84',\n",
       " '8611C1CA3986E553',\n",
       " '2FCC63EB9CB798BF',\n",
       " '65678C4C3E6AF563',\n",
       " '27736FDA67EF07CB',\n",
       " '6C2C087CEF08A20E',\n",
       " 'A48676A84719B3A7',\n",
       " '495E506B3D29645B',\n",
       " '2EC26EB640A1756D',\n",
       " '9F3480BE97175137',\n",
       " 'DC24142B23D9FEDD',\n",
       " 'A2DB18F90D9E3362',\n",
       " 'A71444B5BEB5CCC4',\n",
       " '187343735EC71686',\n",
       " '894A2506B3A50D03',\n",
       " '1FA7A8399291885E',\n",
       " '9D1710D562537AA8',\n",
       " 'D5DD44281759F7C8',\n",
       " '21E6AD81A122B126',\n",
       " '824E3C1D0F769FA3',\n",
       " 'C0924D3FF1BEAA05',\n",
       " 'D235BA1BB8DECBE9',\n",
       " 'AB94ADBD1345E896',\n",
       " '538F954F6B3AECE4',\n",
       " '11A1350D1F8AD059',\n",
       " '676A58D41A3E0A47',\n",
       " 'AE49EDDFB9DABE03',\n",
       " 'D9C92EC5F9478381',\n",
       " '934134714E66295F',\n",
       " '4A61A28F35795FD1',\n",
       " '8F5D7DE5A7B06249',\n",
       " '14D84579BCBAD800',\n",
       " '88EEB8C6C37A0521',\n",
       " '01B9975CAE144B78',\n",
       " '2CBFC548B33C0259',\n",
       " '1C5874DE0D952A0D',\n",
       " '22092C653019E91C',\n",
       " '7C91912332353320',\n",
       " 'FCF70F6E1871BD78',\n",
       " '220C8F0BE40515E5',\n",
       " '902F92052587344F',\n",
       " '1C7C7C34158EB086',\n",
       " '3A6D88AB973BD99D',\n",
       " '4664BF4717549775',\n",
       " '86B91078B1F0BA1A',\n",
       " '4409E20FCD07CD14',\n",
       " 'CA6F4DAED160E5B1',\n",
       " '4B34A5BD1D1AEF0D',\n",
       " 'B06B45B7C3E5E721',\n",
       " 'E18D25D68D9FCC60',\n",
       " '6E8A538DFED17F64',\n",
       " '13AE4DFAC67ACEB3',\n",
       " 'D82DD23742E57665',\n",
       " 'ED61DF6AA1B81F5B',\n",
       " '47ADBF580CF107E1',\n",
       " 'B42748BA986E4163',\n",
       " '5EC32E17A02C2131',\n",
       " 'C573C24EF423143C',\n",
       " '7DF21AEB1AA231F9',\n",
       " '5DECF6D0ECE58DF6',\n",
       " '9270DB42112E3B14',\n",
       " '17DD74F263374528',\n",
       " 'CF03E97B314C5632',\n",
       " '9657A8EEFB5E37E5',\n",
       " 'EABF946459C4DA3A',\n",
       " '54AAE35DB9DF5C19',\n",
       " 'D0562837FBB58AC5',\n",
       " 'F71DD44DAB783CEB',\n",
       " '507ADD5337970C14',\n",
       " 'D6924B9AB9903228',\n",
       " '85521867220EB1E7',\n",
       " 'A9E0A8057A5F07D1',\n",
       " 'A8294E42CCC07445',\n",
       " 'BF2613BE28381E56',\n",
       " 'B2BB6F16652B21BF',\n",
       " '61572514C5A56E3F',\n",
       " '0DD2E54D87CFD4A4',\n",
       " 'D7933558E33BF7D5',\n",
       " '4FE90CB247C78EC5',\n",
       " '6786C23A54D59DD4',\n",
       " '57E796E81DD60883',\n",
       " 'DD9FB2652AE4ACBA',\n",
       " '526BA4A669CC6CC2',\n",
       " 'D0ECAB9DA4FE2E00',\n",
       " '743EFA16F928E18B',\n",
       " '41FA2525E7869F35',\n",
       " 'EE25BC8FA059151D',\n",
       " 'BD5317D49443EA5E',\n",
       " '8C711C385D747C84',\n",
       " '60A6101325BBA47E',\n",
       " '8C5E672BF19D5DEE',\n",
       " '06C6018D3CB3E903',\n",
       " 'B150C94FFD64D8B0',\n",
       " '18E7E50874577C8B',\n",
       " '207E61D6D4F44D97',\n",
       " '34A2E022930DFCA3',\n",
       " 'AF987F436A7EBD21',\n",
       " '11C52432A6F7FA6B',\n",
       " '5813B74E3ED6094E',\n",
       " 'E7F87F9FBA3269B1',\n",
       " 'E0CCA0E17AD074DA',\n",
       " '6050D52AD58BC624',\n",
       " 'F424816C207F768D',\n",
       " '9C99E4676D6A8B44',\n",
       " '8BD80DB1522F7120',\n",
       " '46BDEF99D733A7B7',\n",
       " 'B582D211C1BE1FFD',\n",
       " 'C72752E18AD12854',\n",
       " '19AC976D25997BE9',\n",
       " 'DF40EF85F55A958D',\n",
       " '5D5E6EE92AF6E9E0',\n",
       " 'A412E4B7C71C0D94',\n",
       " '2F52D15FF20EE730',\n",
       " 'FE8F9858BBE502D9',\n",
       " '0DB417842D3B79A2',\n",
       " '94BE60EF959D177D',\n",
       " '5B57E88DFE82FAD6',\n",
       " '5A5D645876C5C692',\n",
       " '3C46C1264F52F92C',\n",
       " 'B043E52A918CDD6E',\n",
       " '11970FE3A608F9EF',\n",
       " '051D59BC38C3B3AA',\n",
       " 'BC4A722DBC9D0784',\n",
       " '84C13EFBE76DF52F',\n",
       " '823BE193CDC32ADF',\n",
       " 'EF058AAD0A56A298',\n",
       " 'A81BA2A7B5FD1862',\n",
       " '4B49F8A4F8D891BE',\n",
       " '8A2FACABB19EDC70',\n",
       " 'EF449601C94D2496',\n",
       " 'CBA33B9DE421A616',\n",
       " 'C5AD06762E628169',\n",
       " 'F507CB8030C885FB',\n",
       " 'F03F667009F16326',\n",
       " 'AEE24B6142A3C431',\n",
       " 'C74B6E95352ADE79',\n",
       " 'A791C2D62B213C96',\n",
       " 'A4312FFD172A4998',\n",
       " '66821339106C8891',\n",
       " '0BA00E790AA510C1',\n",
       " '4C3B9B6D59E98D59',\n",
       " '64CD9350DEEE01B6',\n",
       " 'E77F99BCF9D8AB96',\n",
       " 'F85FD73AAF991283',\n",
       " '729F6099B1B31935',\n",
       " '221AA0E38F37A7B7',\n",
       " '25826F4FE6832AF1',\n",
       " '5BDF2A772826F42C',\n",
       " 'F5BB0B36AA8DC1D4',\n",
       " '8C0361CB080810CA',\n",
       " 'C389958204955C98',\n",
       " '111E0B8A76E90532',\n",
       " '69B106F098CB640E',\n",
       " '68B3C70F0C0B4550',\n",
       " 'C670F0DE6C790F3C',\n",
       " '2F28A3B279E5494A',\n",
       " '96070D0B8FD4C5BF',\n",
       " '0FBF679EA1340786',\n",
       " 'D1BB2F57BCD02BAE',\n",
       " 'C8BDDF5639850737',\n",
       " '9E0A3633886C080E',\n",
       " '4949578BF1954CF5',\n",
       " '10863662C3B5AB49',\n",
       " 'C33D8C1C81C7AA23',\n",
       " '091AC977394578DA',\n",
       " '3BDE2B9FBC14F7A4',\n",
       " '994D853A1F8D1771',\n",
       " 'DF72BA6A526F714F',\n",
       " 'C4F3A9D7BB596E6E',\n",
       " 'D17646F57096613B',\n",
       " '2B8243043C2CD72F',\n",
       " '91E39AA34D6D1173',\n",
       " '803230F1D8216380',\n",
       " '468A90E95D36CADB',\n",
       " '6E3E5F88B6A3B401',\n",
       " '06D2B163CB560FAC',\n",
       " '037C3790C2C408BA',\n",
       " '573EF5CB449265BE',\n",
       " 'C41BBCA9DACE544D',\n",
       " '5A47441C0AC5FAEE',\n",
       " '82F72EC6CDC1BA8F',\n",
       " '9868DEF9E0B7E2C4',\n",
       " '001064FEAAB631A1',\n",
       " 'F07BB43BAEF2AB42',\n",
       " 'C3666DF0F2EE66A9',\n",
       " '886E52074D084B18',\n",
       " 'B60B4563ADC259E3',\n",
       " '8F1195B887A60121',\n",
       " 'DF0A6D48CBB3969F',\n",
       " '2B8FD20CA8A2A616',\n",
       " 'CBEFCA3BFDE4CC58',\n",
       " '1CC27A00D4907AAB',\n",
       " 'A980A65F42FB1BB4',\n",
       " 'EE9E527A761299B2',\n",
       " '73CE2DE1253D58B4',\n",
       " 'F6D9C08D0E97DE88',\n",
       " 'C79239C16E4E6694',\n",
       " '7060BB1CBE3BAACC',\n",
       " '33CEAE52626CA99E',\n",
       " 'D7A2C421522E93A4',\n",
       " 'CBDA858CF7EEE1E0',\n",
       " '53732758D90FB1E4',\n",
       " 'B7DBE079E5AB148E',\n",
       " 'DA2880E43566AF12',\n",
       " '6D3792154BB5A659',\n",
       " 'D3A4F3513CC0AA2F',\n",
       " 'A6E6ECF8E4924633',\n",
       " '0D6F5E157A56FB00',\n",
       " 'B997F98ED3AA6104',\n",
       " '4DBBBAA6705078D0',\n",
       " 'DBF9BDC859BC4459',\n",
       " '65A30CEC01FAB999',\n",
       " '983E7021DDC7E0FA',\n",
       " 'CE771EFC59ED44A5',\n",
       " 'FC37CBE8211E02A8',\n",
       " '3B6ABE8E7872977E',\n",
       " '79BED20696125731',\n",
       " 'FF2174A1AA0EAD20',\n",
       " 'DABC14FDDFADD29E',\n",
       " '86172D2A196D7D03',\n",
       " '565EF59DDD36B95B',\n",
       " '24BE89E87E2368BF',\n",
       " '7F2C298110AA73B4',\n",
       " 'FBF31896CD930197',\n",
       " 'C4D48357F1C18C76',\n",
       " '1AD9F88DA92AC4E5',\n",
       " 'B37F427F93BCA1E3',\n",
       " '9BD9E79856D54059',\n",
       " '49C45D71BDCE2F69',\n",
       " '2EC08F2084FF3438',\n",
       " '29DF5A79ECFED897',\n",
       " '1190EEE1FA160468',\n",
       " 'A3D5BA3E276CD84C',\n",
       " '958426148AFA05C5',\n",
       " '549A5092FD1BD5D9',\n",
       " '0CA93D3A4A1D8389',\n",
       " '6DFDC639B8B85EF7',\n",
       " '0980BF24051C806A',\n",
       " '6B0B075EA63618BE',\n",
       " 'F97D8746923ABA37',\n",
       " '5AD2A85FFA7D7EBE',\n",
       " 'D8DA1D568FCF46ED',\n",
       " '412F5C9F04EE8F69',\n",
       " '0B0D84A866817D84',\n",
       " '5650B53B91DC98BB',\n",
       " 'A352755099619F01',\n",
       " '0EF9EA17D205AB66',\n",
       " '3B4FF434FA8193B6',\n",
       " '732A1335A53C14D5',\n",
       " '5B1F39B5D751B669',\n",
       " 'C93F18A3865E93D6',\n",
       " 'E253DCB9EC1C014E',\n",
       " '72742C5F312A1FEC',\n",
       " 'ABB61823786179CC',\n",
       " 'F5B4B562971760C6',\n",
       " '8C69C35FB5E142F8',\n",
       " '2AE10F8C21B66E8E',\n",
       " '8A9B589AE60EA3C0',\n",
       " 'B242B046BC32ADDA',\n",
       " '41EDEEC440887B2C',\n",
       " '12A77BCF101643B5',\n",
       " '8CE0BDF8F59A752E',\n",
       " '00341D8401F0F665',\n",
       " 'A8C25A605F613665',\n",
       " '4F26C1C82B9EA0B5',\n",
       " '0EBE4BDE16D19DC0',\n",
       " '44F7F21118841F2D',\n",
       " 'ACDFC703CACAC820',\n",
       " '697F116B31D05FCF',\n",
       " 'AC7F4C4BDAD56C17',\n",
       " '8C66932374EF8009',\n",
       " '3B62EE83708770A5',\n",
       " 'E7F4B5EBC0495D72',\n",
       " 'A4D5B31067614B05',\n",
       " '64D18CAEAEE6150A',\n",
       " 'D45554BA350E10C4',\n",
       " '8A26EBC1BA92524B',\n",
       " 'D2D8E67B7D0DE2D2',\n",
       " 'FFF28D02B1EACBE1',\n",
       " 'CB0B5021B1BE7403',\n",
       " 'CFDED9167B27A57F',\n",
       " 'AA825CB62FB0EC0B',\n",
       " 'A8533224E9384B16',\n",
       " '783A96FF14C40478',\n",
       " '46999A8B46BC31A1',\n",
       " 'BD31CABB6D5C6561',\n",
       " 'AA5A1803D3FA76B4',\n",
       " '67AB39E76836E176',\n",
       " '74285DE881A72F4C',\n",
       " '0F1FF07B3788976D',\n",
       " '3F52D53AB33C9FD6',\n",
       " '64D39595B31D9ECE',\n",
       " '1B72B5CD89B93B68',\n",
       " '90192F1A66D5A0AE',\n",
       " 'CCE74CB0FBDD3533',\n",
       " '9F0571C70D4BD33B',\n",
       " 'BBFD227B06D480C6',\n",
       " 'FEA0C585A53E7027',\n",
       " '1381632DA8AD52C0',\n",
       " '947658F983871E74',\n",
       " '00EFA157F7B6E1C4',\n",
       " '3AE5E3EE2C8A8727',\n",
       " '275A5125510426EB',\n",
       " 'EA6EA431FF84563B',\n",
       " '5207E56E697027E9',\n",
       " '0D7E9E93CD497547',\n",
       " '3B3F68DC5779E517',\n",
       " '6EFF2BB96F97768F',\n",
       " 'D9BAC4C97F9C107F',\n",
       " 'A0028F574B5E5DC6',\n",
       " '04988C5DF189632E',\n",
       " 'CA6B3F85024FAF6B',\n",
       " 'F098EC2120B5150C',\n",
       " 'DECA5C05A77980A1',\n",
       " '40194A2E6C03B547',\n",
       " 'D857FFFE7A6AC9A4',\n",
       " 'A1EE4FBD37EA95B8',\n",
       " 'D40A89E14F1C10BD',\n",
       " 'E3780F6861A69868',\n",
       " '603C1A0FA47D1640',\n",
       " '7A4A6B4CC6FDB0FF',\n",
       " '21AEB217BA764EAB',\n",
       " '2A7E32FA8EF4DBA1',\n",
       " '067D05BD30F04F2E',\n",
       " '2DC0C9E9D89D2352',\n",
       " '36EDA624DB7B7F90',\n",
       " '5D0240D20EA50D8C',\n",
       " 'CF849D6380A28CA9',\n",
       " '2ED365A23D725DB0',\n",
       " '6D54D48C640D27D3',\n",
       " '055A4CD17A483B8E',\n",
       " '649CE5D5A38BFA8B',\n",
       " '02313B9E82255F47',\n",
       " '0C2E77C6A381704A',\n",
       " '41C7928F2ED27E66',\n",
       " '1D9020D7979F924A',\n",
       " '9CBD8387C8A1DDDF',\n",
       " 'CA9D3DEA00836355',\n",
       " 'DC16020AF1E1177B',\n",
       " '84AAB026310D49C4',\n",
       " 'A731AAAEA9F5C533',\n",
       " 'C226A7A3002ED8BE',\n",
       " '9BFFAFDAB999DF19',\n",
       " '54633A9BB233F1E6',\n",
       " 'A5B5775B0C7D0309',\n",
       " 'AEB9B39AE54D3598',\n",
       " '81AA83FBC31B6C0B',\n",
       " '3340B98CBEAEE766',\n",
       " 'B7229F43B32B5593',\n",
       " 'ED11170D5BB9D744',\n",
       " '1073D7DFF1BBE8BB',\n",
       " 'B27B9689064C54C4',\n",
       " 'D1D7C0CCE823D871',\n",
       " '133F64DC5E24F047',\n",
       " '3FC3BE7BAA35F33F',\n",
       " 'C21237DC47AE00C5',\n",
       " '8C0E932FB144D00F',\n",
       " '38189578561F38CB',\n",
       " 'FC3F3E4DA7C85F88',\n",
       " 'C765194AB5550498',\n",
       " 'DA4D24731C8CCEB8',\n",
       " 'FB158B12F907E8FB',\n",
       " '3E286601D309601C',\n",
       " '5ECF8AD51FC8062E',\n",
       " 'C9E32DE296F68008',\n",
       " 'ED7297A4D3BFA953',\n",
       " 'DD9DDDB53DA30E40',\n",
       " 'A7EE379599B38AE0',\n",
       " 'C04E36E535A6F740',\n",
       " '2787953F22AA5648',\n",
       " '08589AA89496453B',\n",
       " '20285349F62230E9',\n",
       " '739656E0D7B50B30',\n",
       " 'EAFB9027A27D510C',\n",
       " 'A533C3D1BEAC8798',\n",
       " 'DE20AA504779785D',\n",
       " '10C2A2FB00BD9AE2',\n",
       " 'C27F677720E68EA4',\n",
       " '0ADFFFE9C0D60092',\n",
       " 'BA98FD8F84C838C7',\n",
       " '8D46D7EB5112DC9D',\n",
       " 'D266B29CC73DD0F9',\n",
       " 'D737563A454A419E',\n",
       " '639050CCC2A6C4A1',\n",
       " '395461648C47B5E1',\n",
       " '6B72CFAE1935C789',\n",
       " '1E8855206E49EFF8',\n",
       " '3D89F6FEA1926F70',\n",
       " '307C06C0E6F09B93',\n",
       " 'E0EEE04D9FDB4931',\n",
       " '0FF10274AC68852A',\n",
       " '7E4B0D11D179F4EC',\n",
       " '14AEC962812EB706',\n",
       " 'A383BFC91C909D0E',\n",
       " 'EDDF1CA5A0EB8586',\n",
       " 'FE82D7FC50D4155B',\n",
       " 'D0CD9015FE1504CB',\n",
       " '3D1A366EDDC82832',\n",
       " '1382E5D05428EBCD',\n",
       " '2BEDCA2DF5D4679F',\n",
       " '6A2064F288EF094F',\n",
       " 'F0B92123E5142CBB',\n",
       " 'BF3665AB1DF86357',\n",
       " '701B5B6292603C20',\n",
       " '4408C615880185FB',\n",
       " '14E7C76B7AB8822A',\n",
       " 'CE27C7943C1BB6ED',\n",
       " '0BC7C730D40D19D3',\n",
       " '3FAA6AD64C3B47E8',\n",
       " '13FBEB715F4AAE10',\n",
       " '502902B3C32C72FF',\n",
       " '1,80E+18',\n",
       " '84F840D269A65875',\n",
       " '609EBA439CB96E0D',\n",
       " '0EA9AB1C2A159C77',\n",
       " '7CBA351852B6F25C',\n",
       " '04C4D0F1A70300A5',\n",
       " '18569C8DCB0771B6',\n",
       " 'AFF3D30CC385F0E9',\n",
       " 'CC9D23AA2AD67118',\n",
       " '71A21F6C17C665C6',\n",
       " 'C89E24F4C723CEF4',\n",
       " 'D9128C07E09FF452',\n",
       " '303063C7A89A39CA',\n",
       " 'D2A9C2B69B9F4574',\n",
       " '6655D192F953E7CE',\n",
       " '37E78FED858E7061',\n",
       " 'C615792E479BC0C8',\n",
       " '85D9DB7B0BC24D2A',\n",
       " '4B5225B3DCB853CE',\n",
       " '3D264F3D953DBA67',\n",
       " 'CDED0FACF20CA716',\n",
       " '21C2D41E1FDF1E70',\n",
       " 'AAE1914BDB419328',\n",
       " '9429C337BF221E89',\n",
       " '5A7165E3831CBE75',\n",
       " '3F6CAEC76651E5AC',\n",
       " '12AD54E437AB3BF5',\n",
       " '19302754B5457163',\n",
       " 'A09DFE27D4CFF8E8',\n",
       " '10779B9305942526',\n",
       " '9E68AB5C5C7FEFF4',\n",
       " 'FB6F6BC119E1DBD5',\n",
       " '03FBDF999D5B81B8',\n",
       " '68E1CED07444D6EC',\n",
       " '4CCFDC7BE9B6FE73',\n",
       " '9D06341739D723D5',\n",
       " '6610064A4B2303D1',\n",
       " '37F7B4F29C5F6396',\n",
       " 'CC705D51C74418AD',\n",
       " '124B6B7F19141CCC',\n",
       " '3D960D56A0E4E0C7',\n",
       " '630A7B72AE3824BF',\n",
       " '963B1853B52C27E5',\n",
       " '5AD6C5CA55F10640',\n",
       " '79DF9D6EDC7A58CE',\n",
       " 'B3A2485649E4A012',\n",
       " 'BBE0583F0240AABB',\n",
       " '020A95B66F363AFB',\n",
       " '0F13D8C2809AD613',\n",
       " 'F0A1C31A7211AC16',\n",
       " '60E68A4F33951169',\n",
       " '28F165B39D160BC5',\n",
       " '87A8BCBB07EBDACA',\n",
       " 'BE0FDC8CC0D5455D',\n",
       " '60D456E636F6C031',\n",
       " 'C45D1641140AB2BC',\n",
       " '7BC59B90C9447C42',\n",
       " '4803D52DB8782CC2',\n",
       " 'EB87A4B3C0008AFB',\n",
       " '6A698019769B0F16',\n",
       " 'F9FE888A3A2222E9',\n",
       " 'D5F578A546F3E804',\n",
       " 'DA7D4CF1CBBADE49',\n",
       " 'B9AF175E0AAECD8C',\n",
       " 'EEA592D3C6F5E5A4',\n",
       " '9918D1C354A1383A',\n",
       " '944C88D5DF108AED',\n",
       " '5438D422A6A53E0E',\n",
       " 'FA8706D1E274805E',\n",
       " '52667DF0F366C919',\n",
       " 'C1E43A9B1D675927',\n",
       " '7CEFBD3C6ABEF91A',\n",
       " '1D831F7D0F539AFA',\n",
       " '3A5B11DD76C2CA65',\n",
       " 'ABFF0B9BAD11BB5D',\n",
       " 'F9B39A46A299971D',\n",
       " '0DABE6F3956778ED',\n",
       " '1675B921AC721DBE',\n",
       " '48CFE37563932DC2',\n",
       " '8094961C0D414366',\n",
       " '25CE0629AC6B6971',\n",
       " 'F4C8BB8D1622FE87',\n",
       " '1353B1C2F6E6AA4E',\n",
       " '9A7D2A236FE09070',\n",
       " 'C2E79843ED511E13',\n",
       " '69E475C5708ABE56',\n",
       " '0D77D907C24CDAC1',\n",
       " 'B19324D874BEE1A5',\n",
       " 'D18A013DBEEB0951',\n",
       " '7D8970118A695D48',\n",
       " '10F028FB8193F8C1',\n",
       " 'B83CF8CFD3575F8B',\n",
       " 'A3BEB02A027BA3C4',\n",
       " '00E68F103C66C1F7',\n",
       " '79B52A43517478A4',\n",
       " '2139548144435929',\n",
       " 'E391353FC3A4056D',\n",
       " '64E7466FBB579E9E',\n",
       " '46A7B6A9C1C4E46B',\n",
       " '7963560AC5D4166E',\n",
       " 'F8564F547AFFC0B9',\n",
       " 'B3AEC82CC231D137',\n",
       " '83E9CFC64D61108E',\n",
       " '96BDD55846D1F7F6',\n",
       " '13B7E3DA955377BA',\n",
       " '542FE442CF2BDA4B',\n",
       " '3382B624CF985A13',\n",
       " 'E6FE73B8B903B31B',\n",
       " 'A8738C98EA4BB1A7',\n",
       " '9FC882129DBDE625',\n",
       " '5A26996E38367C70',\n",
       " '5D72D0AEF96C50FD',\n",
       " '9431D6C9475CFD3A',\n",
       " '8FC9D1BB3017BE66',\n",
       " 'F195464E8F2E0267',\n",
       " 'CA331DA5AECB1774',\n",
       " 'B6DBDDB2BD00352E',\n",
       " 'C286A270CFB9925D',\n",
       " '6DF6E1615D629BA8',\n",
       " '52828376E649CA27',\n",
       " '56F9D84470F97FF0',\n",
       " 'FC2DA0D7EF375B27',\n",
       " '975744C6B0C12D72',\n",
       " 'ADFE9F163DEA2EAE',\n",
       " 'B2716998187D5D74',\n",
       " 'ACDCFF5D6EEDBEAC',\n",
       " '5EF0009854428FB8',\n",
       " '1B52830A832D33F5',\n",
       " 'F4E16CAFB780CA34',\n",
       " 'C7D588F1ABF3A91B',\n",
       " 'FA86D8DFAD3ADADE',\n",
       " 'B05232A00CE7DA9B',\n",
       " '49D69A4901413D82',\n",
       " 'E0272BC86CC88DC7',\n",
       " 'E68002AA33773AD5',\n",
       " '24D3AAA91EFD597F',\n",
       " 'C474F67E2204321C',\n",
       " 'B2795EB0A968DFB5',\n",
       " '59D9BD2A3172D3F4',\n",
       " '0ACD764342811460',\n",
       " 'C422FD79606A0B4C',\n",
       " '8DE56E6BDA5F54AC',\n",
       " '08D42E112D1F4407',\n",
       " '7AFFAFC4121EB5B2',\n",
       " '8F72F2114F2D5184',\n",
       " '6445624A3AE163E6',\n",
       " '6CAA4AF4C12A22B9',\n",
       " '79913E8816E3DA5D',\n",
       " 'FB1F9619F8C3CC75',\n",
       " 'C7CE76E3DBDC7533',\n",
       " '3FD750E6566CE5E3',\n",
       " '2DF9E85A613E0DD0',\n",
       " '6B1DE4B46F1267CB',\n",
       " '1D0FCBD767EE0874',\n",
       " 'A2212CF79158D340',\n",
       " 'FEC0BCA6C323872F',\n",
       " 'B817F0C0928EDB27',\n",
       " '3AA908B2D4A96AC2',\n",
       " '123C3AC236BE84F0',\n",
       " '75013CAAF42E90A9',\n",
       " '2F46396B6766CFDB',\n",
       " '1E8329A6915FB27E',\n",
       " 'EA8341F38EFFE04C',\n",
       " '8F98834C531143DA',\n",
       " 'E1489CCA162BC2E6',\n",
       " 'B6E4E414699EFC1F',\n",
       " '8683850A677DCC7A',\n",
       " 'BE52857ABCAD4C9B',\n",
       " '2170CB76798D36EE',\n",
       " '61D3434CE0D95AB7',\n",
       " 'DAD6760631314417',\n",
       " '2C662D285ED4136C',\n",
       " '51DA2C882D0D7508',\n",
       " '2D6A6472D7F46812',\n",
       " 'A12886FD7DA592AF',\n",
       " '7C9CA3F88B8755F1',\n",
       " 'EE8401B631ED63CE',\n",
       " '8E2FDE8953DB6A48',\n",
       " '88FB1EDF3E249223',\n",
       " '6ED57949BDA6D94E',\n",
       " 'BD23AF6242CA944B',\n",
       " '198FEF39910DCF76',\n",
       " '5C7F53937B54D161',\n",
       " '624B51C834246D6E',\n",
       " '23F10CDFF7372B06',\n",
       " 'BA9906DF9975512E',\n",
       " 'E8BBE017F65D7CEA',\n",
       " 'DF7F485FA44A60AF',\n",
       " '0EE3092A08562765',\n",
       " '967680A9D7C9AFD1',\n",
       " '224F9E7FA339E6A9',\n",
       " 'F10551276E3FDD53',\n",
       " 'EFE533D29119526E',\n",
       " '30DEB75B33B92DC8',\n",
       " 'C1FFA9A2B049B203',\n",
       " '2B06EB547B7AAD08',\n",
       " '7FF05ACE1602142C',\n",
       " 'A944D2BCDFD50619',\n",
       " 'C5AE17CBD0B33628',\n",
       " '5392D9E8F58D9E5F',\n",
       " 'BE3C02D74A664180',\n",
       " '9F32866BD479E689',\n",
       " '505555B3CCA490C8',\n",
       " 'F7E2CAFE32DB0B14',\n",
       " '9F15AB8A7F968248',\n",
       " '788C61EDBDD38346',\n",
       " 'F13CC3EF6739F4C0',\n",
       " 'E3481D64A20DA394',\n",
       " '4CCE583A34A8362C',\n",
       " '127DA1103176E88E',\n",
       " 'AA364AF6A253170F',\n",
       " '83AB3C13B3972BAE',\n",
       " '5B4EFE916AD19741',\n",
       " '65A33D1E2F637CE6',\n",
       " '2D7AF97EEB0056A5',\n",
       " '8FF91E21E27A330D',\n",
       " '115ABCFDBDDB5950',\n",
       " 'FABB6D49B11E673F',\n",
       " '4122B8F30EB2271C',\n",
       " 'DC41AFF8213BE01A',\n",
       " '597F7FD5AA3524D3',\n",
       " '993BDE69A0DE0391',\n",
       " '6F70F06DD209676B',\n",
       " 'F7BAFF2E0A04F11B',\n",
       " 'A35BD08F60AC00B8',\n",
       " '09D429B94AE0DEC5',\n",
       " '97AD409895906A32',\n",
       " 'BCF4888C3F7DE189',\n",
       " 'EF2E4FAF26951358',\n",
       " '0363BAFB478AA9EF',\n",
       " 'E3048C1D75193226',\n",
       " 'C6C4C814B7B202E7',\n",
       " '3279592816F7F6D2',\n",
       " 'EAD7AC780F0CB611',\n",
       " 'E123EF1A9A7332A4',\n",
       " '341E8DBCD6C8B223',\n",
       " 'B8AC521CB28510E7',\n",
       " 'A76F046D8D47589E',\n",
       " 'C9E2691EAD9EF4BB',\n",
       " 'CD668979C54E22F7',\n",
       " '74C5CCDA7DF761EE',\n",
       " '2F6674627B916D5C',\n",
       " '3242BDDFA690A22B',\n",
       " 'CD77B10F620BEABA',\n",
       " '80055F949A01DDAD',\n",
       " '8D4D2425F80F6A74',\n",
       " '23E633E92EDCD195',\n",
       " 'CD650095FD201699',\n",
       " '16BE66466549CD42',\n",
       " '96749D41A2185B46',\n",
       " 'B06BF284879EED23',\n",
       " '78745E80BA159887',\n",
       " '8B83F28EB9DD639D',\n",
       " '75AC3DC6E14554D0',\n",
       " '48BEDF1889241425',\n",
       " 'D7A8DFC1A19E65B5',\n",
       " 'F33A89BD00CFDDF3',\n",
       " '0A5E3BE3C51CB47A',\n",
       " '669F197DC7EB4FD9',\n",
       " 'E1EA339E17C0D568',\n",
       " '7E26530508267F69',\n",
       " '7B5B4C6306A09430',\n",
       " '63F5FC15B31DB5A6',\n",
       " '8FF8F87305BB9A7D',\n",
       " '75654D851F8C8F59',\n",
       " 'C57E6C4AFF4FF31A',\n",
       " 'F19288FFDF6014FE',\n",
       " '147C62E5B82E2EA9',\n",
       " '52EC082510DA513B',\n",
       " '1C711C65356BCFBF',\n",
       " '9A5549A4A85FCF06',\n",
       " 'E3FE22D7C70B05E6',\n",
       " 'FAA7192A42F9F8DA',\n",
       " 'EEF5EFB2D5915CF1',\n",
       " '4DAD6F609E7D7328',\n",
       " '8EB3AE898305A358',\n",
       " '686549722B54A3E1',\n",
       " '95401934D6D6D4FC',\n",
       " '94464DF2E5398E26',\n",
       " '814DF3DA9DD71B8A',\n",
       " '06D9C758220CBB01',\n",
       " 'C77D7125A7F73F33',\n",
       " '98D45D3A9D7E3911',\n",
       " 'AFFC4117AC279D49',\n",
       " '9266418A9D2FA813',\n",
       " 'EC9E9E250559033B',\n",
       " 'BAAEE6D68FB90D22',\n",
       " '3981FFA649C17699',\n",
       " '68373F4331DDD2E6',\n",
       " 'BF6D4EF4B54B3E94',\n",
       " '50CF32FEE0C61DA9',\n",
       " '4764F95CF4989E46',\n",
       " 'F68F7886D0BCE784',\n",
       " '5EBCE7B573FA0578',\n",
       " 'EC998D82E096033B',\n",
       " 'B01CF7E5AC419DE0',\n",
       " '57442DD4178AFE27',\n",
       " '43525009898D1143',\n",
       " '0C2FF828F063B7AD',\n",
       " '4B45602B7DC37B62',\n",
       " '8B2134D31A514E4E',\n",
       " '0EA6AE1AB7BB8ACA',\n",
       " 'E14805CD622EA211',\n",
       " 'CCAF138D12385DF2',\n",
       " 'E17D1ABC377C38CA',\n",
       " '891458DEF142C0A3',\n",
       " '4D269D6E438C6D22',\n",
       " 'A7957CDA89BDE94F',\n",
       " 'EAF000D4CC7635B7',\n",
       " '635CA54AA6058DAE',\n",
       " 'B0244412983000C5',\n",
       " '770B5C9E0E546E44',\n",
       " '9A8CD4B32D7511F1',\n",
       " 'A1C3D3C6C3CADDC5',\n",
       " 'BE600B10445D29C4',\n",
       " 'A3EC85E750F2AFC6',\n",
       " '3BB8C637AE50D857',\n",
       " '748DD5E33B6F98C3',\n",
       " 'DF79393DADE71EF6',\n",
       " 'D649423E43336656',\n",
       " 'F1B93BAE75EE0FB2',\n",
       " 'CBDE46A45FD5E6A4',\n",
       " '24553DD3FF973EE4',\n",
       " '8E52B17EF9DCA68B',\n",
       " '3C37EE92E7960750',\n",
       " '107D9F8613EBF2AA',\n",
       " 'B01BF1A169A42CE7',\n",
       " '84DC74ED5E60BA6A',\n",
       " 'F8151E51EA08F337',\n",
       " 'FB9FFB4BA8695C78',\n",
       " '0CC466ED84E0756D',\n",
       " 'CE264232AC9049B8',\n",
       " 'E0DF3060D454B5AF',\n",
       " '70BF82527E6ED9C3',\n",
       " '544EE0E8D5E36FDA',\n",
       " '8FBAEB717ABA3930',\n",
       " 'A0BAE4190D41A285',\n",
       " 'E3BEB139D0839F91',\n",
       " 'E2E336528AB6202A',\n",
       " '74EEC94A70685C1E',\n",
       " 'D1FA009C9B514DD7',\n",
       " 'C26CED3FB9AFF742',\n",
       " '8FB9E95B030D25C5',\n",
       " 'C165E8C0C5DE19FF',\n",
       " '2CA426D092054330',\n",
       " 'A4F18DF9C484EDC0',\n",
       " '3DEA2F9B3EDA8B91',\n",
       " '29FB97985AB0E005',\n",
       " 'B931BC5D6FE1416C',\n",
       " 'DC4E5D8BD6ABF9BC',\n",
       " '2BDC4DBEBBA058B6',\n",
       " 'DE078758B0515023',\n",
       " '2828E6688DC580C4',\n",
       " 'A847CBD3730F6D41',\n",
       " '4E43940B0CF8D947',\n",
       " '37094134968B2013',\n",
       " '5F89649C6337CE7D',\n",
       " 'D0533ECF2A67B35C',\n",
       " 'C0DDE3AA2A89024F',\n",
       " 'DDCEDA0705FF68FB',\n",
       " 'DD4352CDCF8C3D57',\n",
       " 'AA0D36EF3DBFCC9F',\n",
       " 'FF44696E39039D29',\n",
       " '23F551153080EBAB',\n",
       " 'F4BEF7B9C8172E36',\n",
       " '9FB7D7666F50835C',\n",
       " 'AF72679D1CB8C3A5',\n",
       " '7875B71ED824F8F2',\n",
       " 'C7D1A5A6F6BAD476',\n",
       " '79656F14758D76BA',\n",
       " '6A581C74EF4D5F44',\n",
       " 'E85E1F634E368569',\n",
       " '5461DD0AF191F581',\n",
       " '430C998549E88DAE',\n",
       " 'E1259EA0AC254490',\n",
       " 'E594B711ADD81DD8',\n",
       " '98720595D29108E9',\n",
       " '2A2A3F0E002F81B5',\n",
       " '102613D89170C020',\n",
       " 'A2CBF9847DA60249',\n",
       " 'EB215155BA578253',\n",
       " 'BF1EB8E6FA3F19B8',\n",
       " '70CE04E185154AD7',\n",
       " 'A2614E5A9AC15FC8',\n",
       " '3656B8F3DEF02DA0',\n",
       " '3F775ABC71333988',\n",
       " 'B3059CB4FD2DE0FA',\n",
       " '928364C4C9F13FA8',\n",
       " '8B6B98D9A40E0A42',\n",
       " '1E7B931452B2F965']"
      ]
     },
     "execution_count": 13,
     "metadata": {},
     "output_type": "execute_result"
    }
   ],
   "source": [
    "#проверим пересечение по пользователям\n",
    "\n",
    "cross_test = list(set(recommender_system['user_id']) & set(interface_eu['user_id']))\n",
    "cross_test"
   ]
  },
  {
   "cell_type": "code",
   "execution_count": 14,
   "id": "77fff83a",
   "metadata": {},
   "outputs": [
    {
     "name": "stdout",
     "output_type": "stream",
     "text": [
      "Количество пользователей, участвовавших в обоих тестах: 887\n"
     ]
    }
   ],
   "source": [
    "print('Количество пользователей, участвовавших в обоих тестах:', len(cross_test))"
   ]
  },
  {
   "cell_type": "code",
   "execution_count": 15,
   "id": "5e30dabf",
   "metadata": {},
   "outputs": [
    {
     "name": "stdout",
     "output_type": "stream",
     "text": [
      "Количество пользователей теста recommender_system_test, которые совершили какие-то действия: 3675\n"
     ]
    }
   ],
   "source": [
    "print('Количество пользователей теста recommender_system_test, которые совершили какие-то действия:',recommender_system['user_id'].nunique())"
   ]
  },
  {
   "cell_type": "markdown",
   "id": "7158b01c",
   "metadata": {},
   "source": [
    "Из 6701 пользователя, записанного в тест recommender_system_test, только по 3675 есть зафиксированные события. При этом 887 из них - это пользователи, которые приняли участие в обоих тестах. Не будем убирать этих пользователей, чтобы не уменьшать кол-во пользователей, по которым будут формироваться выводы о результатах теста.\n",
    "\n"
   ]
  },
  {
   "cell_type": "markdown",
   "id": "2d9cf750",
   "metadata": {},
   "source": [
    "### Количество и пересечение пользователей по группам теста recommender_system_test"
   ]
  },
  {
   "cell_type": "code",
   "execution_count": 16,
   "id": "98749770",
   "metadata": {},
   "outputs": [
    {
     "data": {
      "text/plain": [
       "group\n",
       "A    2747\n",
       "B     928\n",
       "Name: user_id, dtype: int64"
      ]
     },
     "execution_count": 16,
     "metadata": {},
     "output_type": "execute_result"
    }
   ],
   "source": [
    "recommender_system.groupby('group')['user_id'].nunique()"
   ]
  },
  {
   "cell_type": "markdown",
   "id": "2a873515",
   "metadata": {},
   "source": [
    "В группе A уникальных пользователей больше почти в 3 раза (2,96)"
   ]
  },
  {
   "cell_type": "code",
   "execution_count": 17,
   "id": "28ca2e0f",
   "metadata": {},
   "outputs": [],
   "source": [
    "#делаем два среза по группам, чтобы оценить пересечение\n",
    "group_a = recommender_system[recommender_system['group'] == \"A\"]\n",
    "group_b = recommender_system[recommender_system['group'] == \"B\"]"
   ]
  },
  {
   "cell_type": "code",
   "execution_count": 18,
   "id": "fb26b37c",
   "metadata": {},
   "outputs": [
    {
     "data": {
      "text/plain": [
       "[]"
      ]
     },
     "execution_count": 18,
     "metadata": {},
     "output_type": "execute_result"
    }
   ],
   "source": [
    "cross_group = list(set(group_a['user_id']) & set(group_b['user_id']))\n",
    "cross_group"
   ]
  },
  {
   "cell_type": "markdown",
   "id": "150a669d",
   "metadata": {},
   "source": [
    "Пересечение пользователей между группами теста recommender_system_test нет."
   ]
  },
  {
   "cell_type": "markdown",
   "id": "b63aa16e",
   "metadata": {},
   "source": [
    "### Аудитория"
   ]
  },
  {
   "cell_type": "markdown",
   "id": "07e61080",
   "metadata": {},
   "source": [
    "Проверить, что 15% пользователей из региона EU попали в наш тест"
   ]
  },
  {
   "cell_type": "code",
   "execution_count": 19,
   "id": "31633e9a",
   "metadata": {},
   "outputs": [
    {
     "data": {
      "text/html": [
       "<div>\n",
       "<style scoped>\n",
       "    .dataframe tbody tr th:only-of-type {\n",
       "        vertical-align: middle;\n",
       "    }\n",
       "\n",
       "    .dataframe tbody tr th {\n",
       "        vertical-align: top;\n",
       "    }\n",
       "\n",
       "    .dataframe thead th {\n",
       "        text-align: right;\n",
       "    }\n",
       "</style>\n",
       "<table border=\"1\" class=\"dataframe\">\n",
       "  <thead>\n",
       "    <tr style=\"text-align: right;\">\n",
       "      <th></th>\n",
       "      <th>user_id</th>\n",
       "      <th>group</th>\n",
       "      <th>ab_test</th>\n",
       "      <th>first_date</th>\n",
       "      <th>region</th>\n",
       "      <th>device</th>\n",
       "    </tr>\n",
       "  </thead>\n",
       "  <tbody>\n",
       "    <tr>\n",
       "      <th>0</th>\n",
       "      <td>D1ABA3E2887B6A73</td>\n",
       "      <td>A</td>\n",
       "      <td>recommender_system_test</td>\n",
       "      <td>2020-12-07</td>\n",
       "      <td>EU</td>\n",
       "      <td>PC</td>\n",
       "    </tr>\n",
       "    <tr>\n",
       "      <th>1</th>\n",
       "      <td>A7A3664BD6242119</td>\n",
       "      <td>A</td>\n",
       "      <td>recommender_system_test</td>\n",
       "      <td>2020-12-20</td>\n",
       "      <td>EU</td>\n",
       "      <td>iPhone</td>\n",
       "    </tr>\n",
       "    <tr>\n",
       "      <th>2</th>\n",
       "      <td>DABC14FDDFADD29E</td>\n",
       "      <td>A</td>\n",
       "      <td>recommender_system_test</td>\n",
       "      <td>2020-12-08</td>\n",
       "      <td>EU</td>\n",
       "      <td>Mac</td>\n",
       "    </tr>\n",
       "    <tr>\n",
       "      <th>3</th>\n",
       "      <td>04988C5DF189632E</td>\n",
       "      <td>A</td>\n",
       "      <td>recommender_system_test</td>\n",
       "      <td>2020-12-14</td>\n",
       "      <td>EU</td>\n",
       "      <td>iPhone</td>\n",
       "    </tr>\n",
       "    <tr>\n",
       "      <th>4</th>\n",
       "      <td>482F14783456D21B</td>\n",
       "      <td>B</td>\n",
       "      <td>recommender_system_test</td>\n",
       "      <td>2020-12-14</td>\n",
       "      <td>EU</td>\n",
       "      <td>PC</td>\n",
       "    </tr>\n",
       "    <tr>\n",
       "      <th>...</th>\n",
       "      <td>...</td>\n",
       "      <td>...</td>\n",
       "      <td>...</td>\n",
       "      <td>...</td>\n",
       "      <td>...</td>\n",
       "      <td>...</td>\n",
       "    </tr>\n",
       "    <tr>\n",
       "      <th>18263</th>\n",
       "      <td>1D302F8688B91781</td>\n",
       "      <td>B</td>\n",
       "      <td>interface_eu_test</td>\n",
       "      <td>2020-12-15</td>\n",
       "      <td>EU</td>\n",
       "      <td>PC</td>\n",
       "    </tr>\n",
       "    <tr>\n",
       "      <th>18264</th>\n",
       "      <td>3DE51B726983B657</td>\n",
       "      <td>A</td>\n",
       "      <td>interface_eu_test</td>\n",
       "      <td>2020-12-07</td>\n",
       "      <td>EU</td>\n",
       "      <td>Android</td>\n",
       "    </tr>\n",
       "    <tr>\n",
       "      <th>18265</th>\n",
       "      <td>F501F79D332BE86C</td>\n",
       "      <td>A</td>\n",
       "      <td>interface_eu_test</td>\n",
       "      <td>2020-12-17</td>\n",
       "      <td>EU</td>\n",
       "      <td>Mac</td>\n",
       "    </tr>\n",
       "    <tr>\n",
       "      <th>18266</th>\n",
       "      <td>63FBE257B05F2245</td>\n",
       "      <td>A</td>\n",
       "      <td>interface_eu_test</td>\n",
       "      <td>2020-12-20</td>\n",
       "      <td>EU</td>\n",
       "      <td>Android</td>\n",
       "    </tr>\n",
       "    <tr>\n",
       "      <th>18267</th>\n",
       "      <td>79F9ABFB029CF724</td>\n",
       "      <td>B</td>\n",
       "      <td>interface_eu_test</td>\n",
       "      <td>2020-12-14</td>\n",
       "      <td>EU</td>\n",
       "      <td>PC</td>\n",
       "    </tr>\n",
       "  </tbody>\n",
       "</table>\n",
       "<p>18268 rows × 6 columns</p>\n",
       "</div>"
      ],
      "text/plain": [
       "                user_id group                  ab_test  first_date region  \\\n",
       "0      D1ABA3E2887B6A73     A  recommender_system_test  2020-12-07     EU   \n",
       "1      A7A3664BD6242119     A  recommender_system_test  2020-12-20     EU   \n",
       "2      DABC14FDDFADD29E     A  recommender_system_test  2020-12-08     EU   \n",
       "3      04988C5DF189632E     A  recommender_system_test  2020-12-14     EU   \n",
       "4      482F14783456D21B     B  recommender_system_test  2020-12-14     EU   \n",
       "...                 ...   ...                      ...         ...    ...   \n",
       "18263  1D302F8688B91781     B        interface_eu_test  2020-12-15     EU   \n",
       "18264  3DE51B726983B657     A        interface_eu_test  2020-12-07     EU   \n",
       "18265  F501F79D332BE86C     A        interface_eu_test  2020-12-17     EU   \n",
       "18266  63FBE257B05F2245     A        interface_eu_test  2020-12-20     EU   \n",
       "18267  79F9ABFB029CF724     B        interface_eu_test  2020-12-14     EU   \n",
       "\n",
       "        device  \n",
       "0           PC  \n",
       "1       iPhone  \n",
       "2          Mac  \n",
       "3       iPhone  \n",
       "4           PC  \n",
       "...        ...  \n",
       "18263       PC  \n",
       "18264  Android  \n",
       "18265      Mac  \n",
       "18266  Android  \n",
       "18267       PC  \n",
       "\n",
       "[18268 rows x 6 columns]"
      ]
     },
     "execution_count": 19,
     "metadata": {},
     "output_type": "execute_result"
    }
   ],
   "source": [
    "#объединим таблицу с участниками теста с таблицей новых пользователей, чтобы определить регион\n",
    "part_region = participants.merge(final_ab_users, on = 'user_id', how = 'left')\n",
    "part_region"
   ]
  },
  {
   "cell_type": "code",
   "execution_count": 20,
   "id": "c35b6ec4",
   "metadata": {},
   "outputs": [
    {
     "data": {
      "text/plain": [
       "ab_test                  region   \n",
       "interface_eu_test        EU           11567\n",
       "recommender_system_test  APAC            72\n",
       "                         CIS             55\n",
       "                         EU            6351\n",
       "                         N.America      223\n",
       "Name: user_id, dtype: int64"
      ]
     },
     "execution_count": 20,
     "metadata": {},
     "output_type": "execute_result"
    }
   ],
   "source": [
    "part_region.groupby(['ab_test', 'region'])['user_id'].nunique()"
   ]
  },
  {
   "cell_type": "markdown",
   "id": "b0cefe98",
   "metadata": {},
   "source": [
    "Получилось 6351 пользователь из нашего теста и из региона EU."
   ]
  },
  {
   "cell_type": "code",
   "execution_count": 21,
   "id": "a19d03d6",
   "metadata": {},
   "outputs": [
    {
     "data": {
      "text/plain": [
       "EU           46270\n",
       "N.America     9155\n",
       "CIS           3155\n",
       "APAC          3153\n",
       "Name: region, dtype: int64"
      ]
     },
     "execution_count": 21,
     "metadata": {},
     "output_type": "execute_result"
    }
   ],
   "source": [
    "#регионы всех новых пользователей, зарееганных с 7 по 21 декабря\n",
    "final_ab_users['region'].value_counts()"
   ]
  },
  {
   "cell_type": "code",
   "execution_count": 22,
   "id": "d58ba0f5",
   "metadata": {},
   "outputs": [
    {
     "name": "stdout",
     "output_type": "stream",
     "text": [
      "2020-12-07\n",
      "2020-12-23\n"
     ]
    }
   ],
   "source": [
    "#временной интервал регистрации всех новых пользователей\n",
    "print(final_ab_users['first_date'].min())\n",
    "print(final_ab_users['first_date'].max())"
   ]
  },
  {
   "cell_type": "code",
   "execution_count": 23,
   "id": "4983fa8f",
   "metadata": {},
   "outputs": [],
   "source": [
    "#уберем тех, кто зарегался после 21ого числа и посмотрим на данные еще раз\n",
    "\n",
    "final_ab_users_new = final_ab_users.query('first_date != (\"2020-12-22\", \"2020-12-23\")')"
   ]
  },
  {
   "cell_type": "code",
   "execution_count": 24,
   "id": "07fda66c",
   "metadata": {},
   "outputs": [
    {
     "name": "stdout",
     "output_type": "stream",
     "text": [
      "2020-12-07\n",
      "2020-12-21\n"
     ]
    }
   ],
   "source": [
    "#временной интервал регистрации всех новых пользователей\n",
    "print(final_ab_users_new['first_date'].min())\n",
    "print(final_ab_users_new['first_date'].max())"
   ]
  },
  {
   "cell_type": "code",
   "execution_count": 25,
   "id": "44482de6",
   "metadata": {},
   "outputs": [
    {
     "data": {
      "text/plain": [
       "EU           42340\n",
       "N.America     8347\n",
       "CIS           2900\n",
       "APAC          2883\n",
       "Name: region, dtype: int64"
      ]
     },
     "execution_count": 25,
     "metadata": {},
     "output_type": "execute_result"
    }
   ],
   "source": [
    "#регионы всех новых пользователей, зарееганных с 7 по 21 декабря\n",
    "final_ab_users_new['region'].value_counts()"
   ]
  },
  {
   "cell_type": "markdown",
   "id": "6cbbf1ea",
   "metadata": {},
   "source": [
    "Всего новых из EU, зарегистрированных в период с 7 по 21 декабря - 42 340 \n",
    "\n",
    "Новых из EU, зарегистрированных в период с 7 по 21 декабря и попавших в наш тест, - 6 351\n",
    "\n",
    "Это ровно 15% от общего кол-ва, что соответствует условию ТЗ \n",
    "\n"
   ]
  },
  {
   "cell_type": "markdown",
   "id": "ccadd3b3",
   "metadata": {},
   "source": [
    "### Маркетинговые активности"
   ]
  },
  {
   "cell_type": "markdown",
   "id": "8006da40",
   "metadata": {},
   "source": [
    "Проверим, не совпадает ли время проведения теста с маркетинговыми активностями"
   ]
  },
  {
   "cell_type": "code",
   "execution_count": 26,
   "id": "7bbfeac2",
   "metadata": {},
   "outputs": [
    {
     "data": {
      "text/html": [
       "<div>\n",
       "<style scoped>\n",
       "    .dataframe tbody tr th:only-of-type {\n",
       "        vertical-align: middle;\n",
       "    }\n",
       "\n",
       "    .dataframe tbody tr th {\n",
       "        vertical-align: top;\n",
       "    }\n",
       "\n",
       "    .dataframe thead th {\n",
       "        text-align: right;\n",
       "    }\n",
       "</style>\n",
       "<table border=\"1\" class=\"dataframe\">\n",
       "  <thead>\n",
       "    <tr style=\"text-align: right;\">\n",
       "      <th></th>\n",
       "      <th>name</th>\n",
       "      <th>regions</th>\n",
       "      <th>start_dt</th>\n",
       "      <th>finish_dt</th>\n",
       "    </tr>\n",
       "  </thead>\n",
       "  <tbody>\n",
       "    <tr>\n",
       "      <th>6</th>\n",
       "      <td>Chinese New Year Promo</td>\n",
       "      <td>APAC</td>\n",
       "      <td>2020-01-25</td>\n",
       "      <td>2020-02-07</td>\n",
       "    </tr>\n",
       "    <tr>\n",
       "      <th>1</th>\n",
       "      <td>St. Valentine's Day Giveaway</td>\n",
       "      <td>EU, CIS, APAC, N.America</td>\n",
       "      <td>2020-02-14</td>\n",
       "      <td>2020-02-16</td>\n",
       "    </tr>\n",
       "    <tr>\n",
       "      <th>8</th>\n",
       "      <td>International Women's Day Promo</td>\n",
       "      <td>EU, CIS, APAC</td>\n",
       "      <td>2020-03-08</td>\n",
       "      <td>2020-03-10</td>\n",
       "    </tr>\n",
       "    <tr>\n",
       "      <th>2</th>\n",
       "      <td>St. Patric's Day Promo</td>\n",
       "      <td>EU, N.America</td>\n",
       "      <td>2020-03-17</td>\n",
       "      <td>2020-03-19</td>\n",
       "    </tr>\n",
       "    <tr>\n",
       "      <th>3</th>\n",
       "      <td>Easter Promo</td>\n",
       "      <td>EU, CIS, APAC, N.America</td>\n",
       "      <td>2020-04-12</td>\n",
       "      <td>2020-04-19</td>\n",
       "    </tr>\n",
       "    <tr>\n",
       "      <th>7</th>\n",
       "      <td>Labor day (May 1st) Ads Campaign</td>\n",
       "      <td>EU, CIS, APAC</td>\n",
       "      <td>2020-05-01</td>\n",
       "      <td>2020-05-03</td>\n",
       "    </tr>\n",
       "    <tr>\n",
       "      <th>9</th>\n",
       "      <td>Victory Day CIS (May 9th) Event</td>\n",
       "      <td>CIS</td>\n",
       "      <td>2020-05-09</td>\n",
       "      <td>2020-05-11</td>\n",
       "    </tr>\n",
       "    <tr>\n",
       "      <th>11</th>\n",
       "      <td>Dragon Boat Festival Giveaway</td>\n",
       "      <td>APAC</td>\n",
       "      <td>2020-06-25</td>\n",
       "      <td>2020-07-01</td>\n",
       "    </tr>\n",
       "    <tr>\n",
       "      <th>4</th>\n",
       "      <td>4th of July Promo</td>\n",
       "      <td>N.America</td>\n",
       "      <td>2020-07-04</td>\n",
       "      <td>2020-07-11</td>\n",
       "    </tr>\n",
       "    <tr>\n",
       "      <th>13</th>\n",
       "      <td>Chinese Moon Festival</td>\n",
       "      <td>APAC</td>\n",
       "      <td>2020-10-01</td>\n",
       "      <td>2020-10-07</td>\n",
       "    </tr>\n",
       "    <tr>\n",
       "      <th>12</th>\n",
       "      <td>Single's Day Gift Promo</td>\n",
       "      <td>APAC</td>\n",
       "      <td>2020-11-11</td>\n",
       "      <td>2020-11-12</td>\n",
       "    </tr>\n",
       "    <tr>\n",
       "      <th>5</th>\n",
       "      <td>Black Friday Ads Campaign</td>\n",
       "      <td>EU, CIS, APAC, N.America</td>\n",
       "      <td>2020-11-26</td>\n",
       "      <td>2020-12-01</td>\n",
       "    </tr>\n",
       "    <tr>\n",
       "      <th>0</th>\n",
       "      <td>Christmas&amp;New Year Promo</td>\n",
       "      <td>EU, N.America</td>\n",
       "      <td>2020-12-25</td>\n",
       "      <td>2021-01-03</td>\n",
       "    </tr>\n",
       "    <tr>\n",
       "      <th>10</th>\n",
       "      <td>CIS New Year Gift Lottery</td>\n",
       "      <td>CIS</td>\n",
       "      <td>2020-12-30</td>\n",
       "      <td>2021-01-07</td>\n",
       "    </tr>\n",
       "  </tbody>\n",
       "</table>\n",
       "</div>"
      ],
      "text/plain": [
       "                                name                   regions    start_dt  \\\n",
       "6             Chinese New Year Promo                      APAC  2020-01-25   \n",
       "1       St. Valentine's Day Giveaway  EU, CIS, APAC, N.America  2020-02-14   \n",
       "8    International Women's Day Promo             EU, CIS, APAC  2020-03-08   \n",
       "2             St. Patric's Day Promo             EU, N.America  2020-03-17   \n",
       "3                       Easter Promo  EU, CIS, APAC, N.America  2020-04-12   \n",
       "7   Labor day (May 1st) Ads Campaign             EU, CIS, APAC  2020-05-01   \n",
       "9    Victory Day CIS (May 9th) Event                       CIS  2020-05-09   \n",
       "11     Dragon Boat Festival Giveaway                      APAC  2020-06-25   \n",
       "4                  4th of July Promo                 N.America  2020-07-04   \n",
       "13             Chinese Moon Festival                      APAC  2020-10-01   \n",
       "12           Single's Day Gift Promo                      APAC  2020-11-11   \n",
       "5          Black Friday Ads Campaign  EU, CIS, APAC, N.America  2020-11-26   \n",
       "0           Christmas&New Year Promo             EU, N.America  2020-12-25   \n",
       "10         CIS New Year Gift Lottery                       CIS  2020-12-30   \n",
       "\n",
       "     finish_dt  \n",
       "6   2020-02-07  \n",
       "1   2020-02-16  \n",
       "8   2020-03-10  \n",
       "2   2020-03-19  \n",
       "3   2020-04-19  \n",
       "7   2020-05-03  \n",
       "9   2020-05-11  \n",
       "11  2020-07-01  \n",
       "4   2020-07-11  \n",
       "13  2020-10-07  \n",
       "12  2020-11-12  \n",
       "5   2020-12-01  \n",
       "0   2021-01-03  \n",
       "10  2021-01-07  "
      ]
     },
     "execution_count": 26,
     "metadata": {},
     "output_type": "execute_result"
    }
   ],
   "source": [
    "marketing.sort_values(by = 'start_dt')"
   ]
  },
  {
   "cell_type": "markdown",
   "id": "342d78d1",
   "metadata": {},
   "source": [
    "Дата начала нашего теста: 07.12.2020\n",
    "\n",
    "Дата окончания нашего теста: 04.01.2021 (данные есть по 30.12.2020 включительно)\n",
    "\n",
    "Маркетинговые активности, которые пересеклись с тестом: \n",
    "  - Christmas&New Year Promo (с 25.12.2020 по 03.01.2021)\n",
    "  - CIS New Year Gift Lottery (с 30.12.2020 по 07.01.2021)\n",
    "  \n",
    "Результаты теста нужно будет интерпретировать с учетом этих данных"
   ]
  },
  {
   "cell_type": "markdown",
   "id": "a682eb22",
   "metadata": {},
   "source": [
    "<div class=\"alert alert-success\">\n",
    "<b>👍 Успех:</b> Все верно!\n",
    "</div>"
   ]
  },
  {
   "cell_type": "markdown",
   "id": "bfb1bdef",
   "metadata": {},
   "source": [
    "## Исследовательский анализ данных"
   ]
  },
  {
   "cell_type": "markdown",
   "id": "b7d6846a",
   "metadata": {},
   "source": [
    "### Количество событий на пользователя одинаково распределены в выборках?"
   ]
  },
  {
   "cell_type": "code",
   "execution_count": 27,
   "id": "4af6c5f9",
   "metadata": {},
   "outputs": [
    {
     "data": {
      "text/html": [
       "<div>\n",
       "<style scoped>\n",
       "    .dataframe tbody tr th:only-of-type {\n",
       "        vertical-align: middle;\n",
       "    }\n",
       "\n",
       "    .dataframe tbody tr th {\n",
       "        vertical-align: top;\n",
       "    }\n",
       "\n",
       "    .dataframe thead th {\n",
       "        text-align: right;\n",
       "    }\n",
       "</style>\n",
       "<table border=\"1\" class=\"dataframe\">\n",
       "  <thead>\n",
       "    <tr style=\"text-align: right;\">\n",
       "      <th></th>\n",
       "      <th>user_id</th>\n",
       "      <th>event_name</th>\n",
       "    </tr>\n",
       "  </thead>\n",
       "  <tbody>\n",
       "    <tr>\n",
       "      <th>2230</th>\n",
       "      <td>CED71698585A2E46</td>\n",
       "      <td>24</td>\n",
       "    </tr>\n",
       "    <tr>\n",
       "      <th>307</th>\n",
       "      <td>1BFEE479308EFF44</td>\n",
       "      <td>24</td>\n",
       "    </tr>\n",
       "    <tr>\n",
       "      <th>1175</th>\n",
       "      <td>6E3DF9C69A6B607E</td>\n",
       "      <td>21</td>\n",
       "    </tr>\n",
       "    <tr>\n",
       "      <th>1999</th>\n",
       "      <td>B8EF6F0325A9979F</td>\n",
       "      <td>21</td>\n",
       "    </tr>\n",
       "    <tr>\n",
       "      <th>617</th>\n",
       "      <td>3AF000EC534B1B09</td>\n",
       "      <td>20</td>\n",
       "    </tr>\n",
       "    <tr>\n",
       "      <th>...</th>\n",
       "      <td>...</td>\n",
       "      <td>...</td>\n",
       "    </tr>\n",
       "    <tr>\n",
       "      <th>2272</th>\n",
       "      <td>D2656A48DD3C4EEE</td>\n",
       "      <td>1</td>\n",
       "    </tr>\n",
       "    <tr>\n",
       "      <th>943</th>\n",
       "      <td>58D06B81851522E6</td>\n",
       "      <td>1</td>\n",
       "    </tr>\n",
       "    <tr>\n",
       "      <th>931</th>\n",
       "      <td>57150D3838DE301A</td>\n",
       "      <td>1</td>\n",
       "    </tr>\n",
       "    <tr>\n",
       "      <th>2703</th>\n",
       "      <td>FB9FFB4BA8695C78</td>\n",
       "      <td>1</td>\n",
       "    </tr>\n",
       "    <tr>\n",
       "      <th>776</th>\n",
       "      <td>49C52F2638D25D2F</td>\n",
       "      <td>1</td>\n",
       "    </tr>\n",
       "  </tbody>\n",
       "</table>\n",
       "<p>2747 rows × 2 columns</p>\n",
       "</div>"
      ],
      "text/plain": [
       "               user_id  event_name\n",
       "2230  CED71698585A2E46          24\n",
       "307   1BFEE479308EFF44          24\n",
       "1175  6E3DF9C69A6B607E          21\n",
       "1999  B8EF6F0325A9979F          21\n",
       "617   3AF000EC534B1B09          20\n",
       "...                ...         ...\n",
       "2272  D2656A48DD3C4EEE           1\n",
       "943   58D06B81851522E6           1\n",
       "931   57150D3838DE301A           1\n",
       "2703  FB9FFB4BA8695C78           1\n",
       "776   49C52F2638D25D2F           1\n",
       "\n",
       "[2747 rows x 2 columns]"
      ]
     },
     "execution_count": 27,
     "metadata": {},
     "output_type": "execute_result"
    }
   ],
   "source": [
    "count_event_a = group_a.groupby('user_id')['event_name'].count().reset_index().sort_values(by = 'event_name', ascending = False)\n",
    "count_event_a"
   ]
  },
  {
   "cell_type": "code",
   "execution_count": 28,
   "id": "f2cc8e49",
   "metadata": {},
   "outputs": [
    {
     "data": {
      "text/plain": [
       "count    2747.000000\n",
       "mean        7.027303\n",
       "std         3.868983\n",
       "min         1.000000\n",
       "25%         4.000000\n",
       "50%         6.000000\n",
       "75%         9.000000\n",
       "max        24.000000\n",
       "Name: event_name, dtype: float64"
      ]
     },
     "execution_count": 28,
     "metadata": {},
     "output_type": "execute_result"
    }
   ],
   "source": [
    "count_event_a['event_name'].describe()"
   ]
  },
  {
   "cell_type": "code",
   "execution_count": 29,
   "id": "6695fdf1",
   "metadata": {},
   "outputs": [
    {
     "data": {
      "image/png": "[encoded data removed]",
      "text/plain": [
       "<Figure size 432x288 with 1 Axes>"
      ]
     },
     "metadata": {
      "needs_background": "light"
     },
     "output_type": "display_data"
    }
   ],
   "source": [
    "\n",
    "count_event_a.hist(bins = 25)\n",
    "plt.title('Распределение количества событий по пользователям в группе А')\n",
    "plt.xlabel('Количество событий на 1 пользователя')\n",
    "plt.ylabel('Количество пользователей');"
   ]
  },
  {
   "cell_type": "markdown",
   "id": "0e2c1b9d",
   "metadata": {},
   "source": [
    "На 1 пользователя в группе А приходится в среднем 7 событий.\n",
    "\n",
    "Больше всего пользователей с количеством событий 6\n",
    "\n",
    "Минимум событий - 1\n",
    "\n",
    "Максимум - 24"
   ]
  },
  {
   "cell_type": "code",
   "execution_count": 30,
   "id": "076773e1",
   "metadata": {},
   "outputs": [
    {
     "data": {
      "text/html": [
       "<div>\n",
       "<style scoped>\n",
       "    .dataframe tbody tr th:only-of-type {\n",
       "        vertical-align: middle;\n",
       "    }\n",
       "\n",
       "    .dataframe tbody tr th {\n",
       "        vertical-align: top;\n",
       "    }\n",
       "\n",
       "    .dataframe thead th {\n",
       "        text-align: right;\n",
       "    }\n",
       "</style>\n",
       "<table border=\"1\" class=\"dataframe\">\n",
       "  <thead>\n",
       "    <tr style=\"text-align: right;\">\n",
       "      <th></th>\n",
       "      <th>user_id</th>\n",
       "      <th>event_name</th>\n",
       "    </tr>\n",
       "  </thead>\n",
       "  <tbody>\n",
       "    <tr>\n",
       "      <th>54</th>\n",
       "      <td>1198061F6AF34B7B</td>\n",
       "      <td>28</td>\n",
       "    </tr>\n",
       "    <tr>\n",
       "      <th>52</th>\n",
       "      <td>115EBC1CA027854A</td>\n",
       "      <td>27</td>\n",
       "    </tr>\n",
       "    <tr>\n",
       "      <th>487</th>\n",
       "      <td>89545C7F903DBA34</td>\n",
       "      <td>21</td>\n",
       "    </tr>\n",
       "    <tr>\n",
       "      <th>923</th>\n",
       "      <td>FE76759FE6BF8C68</td>\n",
       "      <td>20</td>\n",
       "    </tr>\n",
       "    <tr>\n",
       "      <th>448</th>\n",
       "      <td>7E8720DB6A21CF66</td>\n",
       "      <td>20</td>\n",
       "    </tr>\n",
       "    <tr>\n",
       "      <th>...</th>\n",
       "      <td>...</td>\n",
       "      <td>...</td>\n",
       "    </tr>\n",
       "    <tr>\n",
       "      <th>647</th>\n",
       "      <td>B4A4C1152C7A6CE9</td>\n",
       "      <td>1</td>\n",
       "    </tr>\n",
       "    <tr>\n",
       "      <th>644</th>\n",
       "      <td>B33A4558DF69E37A</td>\n",
       "      <td>1</td>\n",
       "    </tr>\n",
       "    <tr>\n",
       "      <th>879</th>\n",
       "      <td>F26444BA1B35C213</td>\n",
       "      <td>1</td>\n",
       "    </tr>\n",
       "    <tr>\n",
       "      <th>220</th>\n",
       "      <td>3ED90BE0DC2A3FD3</td>\n",
       "      <td>1</td>\n",
       "    </tr>\n",
       "    <tr>\n",
       "      <th>82</th>\n",
       "      <td>181181D6E7BA82B4</td>\n",
       "      <td>1</td>\n",
       "    </tr>\n",
       "  </tbody>\n",
       "</table>\n",
       "<p>928 rows × 2 columns</p>\n",
       "</div>"
      ],
      "text/plain": [
       "              user_id  event_name\n",
       "54   1198061F6AF34B7B          28\n",
       "52   115EBC1CA027854A          27\n",
       "487  89545C7F903DBA34          21\n",
       "923  FE76759FE6BF8C68          20\n",
       "448  7E8720DB6A21CF66          20\n",
       "..                ...         ...\n",
       "647  B4A4C1152C7A6CE9           1\n",
       "644  B33A4558DF69E37A           1\n",
       "879  F26444BA1B35C213           1\n",
       "220  3ED90BE0DC2A3FD3           1\n",
       "82   181181D6E7BA82B4           1\n",
       "\n",
       "[928 rows x 2 columns]"
      ]
     },
     "execution_count": 30,
     "metadata": {},
     "output_type": "execute_result"
    }
   ],
   "source": [
    "count_event_b = group_b.groupby('user_id')['event_name'].count().reset_index().sort_values(by = 'event_name', ascending = False)\n",
    "count_event_b"
   ]
  },
  {
   "cell_type": "code",
   "execution_count": 31,
   "id": "a91cedfe",
   "metadata": {},
   "outputs": [
    {
     "data": {
      "text/plain": [
       "count    928.000000\n",
       "mean       5.812500\n",
       "std        3.483878\n",
       "min        1.000000\n",
       "25%        3.000000\n",
       "50%        5.000000\n",
       "75%        8.000000\n",
       "max       28.000000\n",
       "Name: event_name, dtype: float64"
      ]
     },
     "execution_count": 31,
     "metadata": {},
     "output_type": "execute_result"
    }
   ],
   "source": [
    "count_event_b['event_name'].describe()"
   ]
  },
  {
   "cell_type": "code",
   "execution_count": 32,
   "id": "f24ce35a",
   "metadata": {},
   "outputs": [
    {
     "data": {
      "image/png": "[encoded data removed]",
      "text/plain": [
       "<Figure size 432x288 with 1 Axes>"
      ]
     },
     "metadata": {
      "needs_background": "light"
     },
     "output_type": "display_data"
    }
   ],
   "source": [
    "count_event_b.hist(bins = 25)\n",
    "plt.title('Распределение количества событий по пользователям в группе В')\n",
    "plt.xlabel('Количество событий на 1 пользователя')\n",
    "plt.ylabel('Количество пользователей');"
   ]
  },
  {
   "cell_type": "markdown",
   "id": "b30c326f",
   "metadata": {},
   "source": [
    "На 1 пользователя в группе В приходится в среднем 6 событий.\n",
    "\n",
    "Больше всего пользователей с количеством событий 6\n",
    "\n",
    "Минимум событий - 1\n",
    "\n",
    "Максимум - 28\n",
    "\n",
    "Можно говорить о том, что количество событий на пользователя в обеих группах распределено одинаково"
   ]
  },
  {
   "cell_type": "markdown",
   "id": "2ca91b5d",
   "metadata": {},
   "source": [
    "<div class=\"alert alert-success\">\n",
    "<b>👍 Успех:</b> Все верно!\n",
    "</div>"
   ]
  },
  {
   "cell_type": "markdown",
   "id": "d10daa3f",
   "metadata": {},
   "source": [
    "### Как число событий в выборках распределено по дням?"
   ]
  },
  {
   "cell_type": "code",
   "execution_count": 33,
   "id": "112c02ab",
   "metadata": {},
   "outputs": [
    {
     "name": "stderr",
     "output_type": "stream",
     "text": [
      "/tmp/ipykernel_64/2473366293.py:2: SettingWithCopyWarning: \n",
      "A value is trying to be set on a copy of a slice from a DataFrame.\n",
      "Try using .loc[row_indexer,col_indexer] = value instead\n",
      "\n",
      "See the caveats in the documentation: https://pandas.pydata.org/pandas-docs/stable/user_guide/indexing.html#returning-a-view-versus-a-copy\n",
      "  group_a['date'] =  pd.DatetimeIndex(group_a['event_dt']).day\n"
     ]
    }
   ],
   "source": [
    "#выделим из даты события день в отдельный столбец\n",
    "group_a['date'] =  pd.DatetimeIndex(group_a['event_dt']).day"
   ]
  },
  {
   "cell_type": "code",
   "execution_count": 34,
   "id": "8093574d",
   "metadata": {},
   "outputs": [
    {
     "data": {
      "text/html": [
       "<div>\n",
       "<style scoped>\n",
       "    .dataframe tbody tr th:only-of-type {\n",
       "        vertical-align: middle;\n",
       "    }\n",
       "\n",
       "    .dataframe tbody tr th {\n",
       "        vertical-align: top;\n",
       "    }\n",
       "\n",
       "    .dataframe thead th {\n",
       "        text-align: right;\n",
       "    }\n",
       "</style>\n",
       "<table border=\"1\" class=\"dataframe\">\n",
       "  <thead>\n",
       "    <tr style=\"text-align: right;\">\n",
       "      <th></th>\n",
       "      <th>date</th>\n",
       "      <th>event_name</th>\n",
       "    </tr>\n",
       "  </thead>\n",
       "  <tbody>\n",
       "    <tr>\n",
       "      <th>22</th>\n",
       "      <td>29</td>\n",
       "      <td>431</td>\n",
       "    </tr>\n",
       "    <tr>\n",
       "      <th>21</th>\n",
       "      <td>28</td>\n",
       "      <td>503</td>\n",
       "    </tr>\n",
       "    <tr>\n",
       "      <th>20</th>\n",
       "      <td>27</td>\n",
       "      <td>572</td>\n",
       "    </tr>\n",
       "    <tr>\n",
       "      <th>19</th>\n",
       "      <td>26</td>\n",
       "      <td>608</td>\n",
       "    </tr>\n",
       "    <tr>\n",
       "      <th>18</th>\n",
       "      <td>25</td>\n",
       "      <td>677</td>\n",
       "    </tr>\n",
       "    <tr>\n",
       "      <th>17</th>\n",
       "      <td>24</td>\n",
       "      <td>888</td>\n",
       "    </tr>\n",
       "    <tr>\n",
       "      <th>16</th>\n",
       "      <td>23</td>\n",
       "      <td>1005</td>\n",
       "    </tr>\n",
       "    <tr>\n",
       "      <th>15</th>\n",
       "      <td>22</td>\n",
       "      <td>1311</td>\n",
       "    </tr>\n",
       "    <tr>\n",
       "      <th>14</th>\n",
       "      <td>21</td>\n",
       "      <td>2011</td>\n",
       "    </tr>\n",
       "    <tr>\n",
       "      <th>13</th>\n",
       "      <td>20</td>\n",
       "      <td>1528</td>\n",
       "    </tr>\n",
       "    <tr>\n",
       "      <th>12</th>\n",
       "      <td>19</td>\n",
       "      <td>1506</td>\n",
       "    </tr>\n",
       "    <tr>\n",
       "      <th>11</th>\n",
       "      <td>18</td>\n",
       "      <td>1312</td>\n",
       "    </tr>\n",
       "    <tr>\n",
       "      <th>10</th>\n",
       "      <td>17</td>\n",
       "      <td>1252</td>\n",
       "    </tr>\n",
       "    <tr>\n",
       "      <th>9</th>\n",
       "      <td>16</td>\n",
       "      <td>1069</td>\n",
       "    </tr>\n",
       "    <tr>\n",
       "      <th>8</th>\n",
       "      <td>15</td>\n",
       "      <td>1084</td>\n",
       "    </tr>\n",
       "    <tr>\n",
       "      <th>7</th>\n",
       "      <td>14</td>\n",
       "      <td>1083</td>\n",
       "    </tr>\n",
       "    <tr>\n",
       "      <th>6</th>\n",
       "      <td>13</td>\n",
       "      <td>328</td>\n",
       "    </tr>\n",
       "    <tr>\n",
       "      <th>5</th>\n",
       "      <td>12</td>\n",
       "      <td>355</td>\n",
       "    </tr>\n",
       "    <tr>\n",
       "      <th>4</th>\n",
       "      <td>11</td>\n",
       "      <td>374</td>\n",
       "    </tr>\n",
       "    <tr>\n",
       "      <th>3</th>\n",
       "      <td>10</td>\n",
       "      <td>350</td>\n",
       "    </tr>\n",
       "    <tr>\n",
       "      <th>2</th>\n",
       "      <td>9</td>\n",
       "      <td>385</td>\n",
       "    </tr>\n",
       "    <tr>\n",
       "      <th>1</th>\n",
       "      <td>8</td>\n",
       "      <td>341</td>\n",
       "    </tr>\n",
       "    <tr>\n",
       "      <th>0</th>\n",
       "      <td>7</td>\n",
       "      <td>331</td>\n",
       "    </tr>\n",
       "  </tbody>\n",
       "</table>\n",
       "</div>"
      ],
      "text/plain": [
       "    date  event_name\n",
       "22    29         431\n",
       "21    28         503\n",
       "20    27         572\n",
       "19    26         608\n",
       "18    25         677\n",
       "17    24         888\n",
       "16    23        1005\n",
       "15    22        1311\n",
       "14    21        2011\n",
       "13    20        1528\n",
       "12    19        1506\n",
       "11    18        1312\n",
       "10    17        1252\n",
       "9     16        1069\n",
       "8     15        1084\n",
       "7     14        1083\n",
       "6     13         328\n",
       "5     12         355\n",
       "4     11         374\n",
       "3     10         350\n",
       "2      9         385\n",
       "1      8         341\n",
       "0      7         331"
      ]
     },
     "execution_count": 34,
     "metadata": {},
     "output_type": "execute_result"
    }
   ],
   "source": [
    "count_day_a = group_a.groupby('date')['event_name'].count().reset_index().sort_values(by = 'date', ascending = False)\n",
    "count_day_a"
   ]
  },
  {
   "cell_type": "code",
   "execution_count": 35,
   "id": "fa3e898b",
   "metadata": {},
   "outputs": [
    {
     "data": {
      "image/png": "[encoded data removed]",
      "text/plain": [
       "<Figure size 432x288 with 1 Axes>"
      ]
     },
     "metadata": {
      "needs_background": "light"
     },
     "output_type": "display_data"
    }
   ],
   "source": [
    "plt.bar(count_day_a['date'], count_day_a['event_name'])\n",
    "plt.title('Количество событий по дням в группе А')\n",
    "plt.xlabel('День месяца')\n",
    "plt.ylabel('Количество событий');"
   ]
  },
  {
   "cell_type": "markdown",
   "id": "5a82e1d6",
   "metadata": {},
   "source": [
    "То же самое проделаем для группы В"
   ]
  },
  {
   "cell_type": "code",
   "execution_count": 36,
   "id": "f3bf3a9e",
   "metadata": {},
   "outputs": [
    {
     "name": "stderr",
     "output_type": "stream",
     "text": [
      "/tmp/ipykernel_64/3041241699.py:2: SettingWithCopyWarning: \n",
      "A value is trying to be set on a copy of a slice from a DataFrame.\n",
      "Try using .loc[row_indexer,col_indexer] = value instead\n",
      "\n",
      "See the caveats in the documentation: https://pandas.pydata.org/pandas-docs/stable/user_guide/indexing.html#returning-a-view-versus-a-copy\n",
      "  group_b['date'] =  pd.DatetimeIndex(group_b['event_dt']).day\n"
     ]
    }
   ],
   "source": [
    "#выделим из даты события день в отдельный столбец\n",
    "group_b['date'] =  pd.DatetimeIndex(group_b['event_dt']).day"
   ]
  },
  {
   "cell_type": "code",
   "execution_count": 37,
   "id": "57331890",
   "metadata": {},
   "outputs": [
    {
     "data": {
      "text/html": [
       "<div>\n",
       "<style scoped>\n",
       "    .dataframe tbody tr th:only-of-type {\n",
       "        vertical-align: middle;\n",
       "    }\n",
       "\n",
       "    .dataframe tbody tr th {\n",
       "        vertical-align: top;\n",
       "    }\n",
       "\n",
       "    .dataframe thead th {\n",
       "        text-align: right;\n",
       "    }\n",
       "</style>\n",
       "<table border=\"1\" class=\"dataframe\">\n",
       "  <thead>\n",
       "    <tr style=\"text-align: right;\">\n",
       "      <th></th>\n",
       "      <th>date</th>\n",
       "      <th>event_name</th>\n",
       "    </tr>\n",
       "  </thead>\n",
       "  <tbody>\n",
       "    <tr>\n",
       "      <th>23</th>\n",
       "      <td>30</td>\n",
       "      <td>4</td>\n",
       "    </tr>\n",
       "    <tr>\n",
       "      <th>22</th>\n",
       "      <td>29</td>\n",
       "      <td>77</td>\n",
       "    </tr>\n",
       "    <tr>\n",
       "      <th>21</th>\n",
       "      <td>28</td>\n",
       "      <td>100</td>\n",
       "    </tr>\n",
       "    <tr>\n",
       "      <th>20</th>\n",
       "      <td>27</td>\n",
       "      <td>119</td>\n",
       "    </tr>\n",
       "    <tr>\n",
       "      <th>19</th>\n",
       "      <td>26</td>\n",
       "      <td>125</td>\n",
       "    </tr>\n",
       "    <tr>\n",
       "      <th>18</th>\n",
       "      <td>25</td>\n",
       "      <td>112</td>\n",
       "    </tr>\n",
       "    <tr>\n",
       "      <th>17</th>\n",
       "      <td>24</td>\n",
       "      <td>154</td>\n",
       "    </tr>\n",
       "    <tr>\n",
       "      <th>16</th>\n",
       "      <td>23</td>\n",
       "      <td>196</td>\n",
       "    </tr>\n",
       "    <tr>\n",
       "      <th>15</th>\n",
       "      <td>22</td>\n",
       "      <td>195</td>\n",
       "    </tr>\n",
       "    <tr>\n",
       "      <th>14</th>\n",
       "      <td>21</td>\n",
       "      <td>430</td>\n",
       "    </tr>\n",
       "    <tr>\n",
       "      <th>13</th>\n",
       "      <td>20</td>\n",
       "      <td>320</td>\n",
       "    </tr>\n",
       "    <tr>\n",
       "      <th>12</th>\n",
       "      <td>19</td>\n",
       "      <td>304</td>\n",
       "    </tr>\n",
       "    <tr>\n",
       "      <th>11</th>\n",
       "      <td>18</td>\n",
       "      <td>272</td>\n",
       "    </tr>\n",
       "    <tr>\n",
       "      <th>10</th>\n",
       "      <td>17</td>\n",
       "      <td>296</td>\n",
       "    </tr>\n",
       "    <tr>\n",
       "      <th>9</th>\n",
       "      <td>16</td>\n",
       "      <td>385</td>\n",
       "    </tr>\n",
       "    <tr>\n",
       "      <th>8</th>\n",
       "      <td>15</td>\n",
       "      <td>232</td>\n",
       "    </tr>\n",
       "    <tr>\n",
       "      <th>7</th>\n",
       "      <td>14</td>\n",
       "      <td>272</td>\n",
       "    </tr>\n",
       "    <tr>\n",
       "      <th>6</th>\n",
       "      <td>13</td>\n",
       "      <td>176</td>\n",
       "    </tr>\n",
       "    <tr>\n",
       "      <th>5</th>\n",
       "      <td>12</td>\n",
       "      <td>203</td>\n",
       "    </tr>\n",
       "    <tr>\n",
       "      <th>4</th>\n",
       "      <td>11</td>\n",
       "      <td>168</td>\n",
       "    </tr>\n",
       "    <tr>\n",
       "      <th>3</th>\n",
       "      <td>10</td>\n",
       "      <td>263</td>\n",
       "    </tr>\n",
       "    <tr>\n",
       "      <th>2</th>\n",
       "      <td>9</td>\n",
       "      <td>361</td>\n",
       "    </tr>\n",
       "    <tr>\n",
       "      <th>1</th>\n",
       "      <td>8</td>\n",
       "      <td>252</td>\n",
       "    </tr>\n",
       "    <tr>\n",
       "      <th>0</th>\n",
       "      <td>7</td>\n",
       "      <td>378</td>\n",
       "    </tr>\n",
       "  </tbody>\n",
       "</table>\n",
       "</div>"
      ],
      "text/plain": [
       "    date  event_name\n",
       "23    30           4\n",
       "22    29          77\n",
       "21    28         100\n",
       "20    27         119\n",
       "19    26         125\n",
       "18    25         112\n",
       "17    24         154\n",
       "16    23         196\n",
       "15    22         195\n",
       "14    21         430\n",
       "13    20         320\n",
       "12    19         304\n",
       "11    18         272\n",
       "10    17         296\n",
       "9     16         385\n",
       "8     15         232\n",
       "7     14         272\n",
       "6     13         176\n",
       "5     12         203\n",
       "4     11         168\n",
       "3     10         263\n",
       "2      9         361\n",
       "1      8         252\n",
       "0      7         378"
      ]
     },
     "execution_count": 37,
     "metadata": {},
     "output_type": "execute_result"
    }
   ],
   "source": [
    "count_day_b = group_b.groupby('date')['event_name'].count().reset_index().sort_values(by = 'date', ascending = False)\n",
    "count_day_b"
   ]
  },
  {
   "cell_type": "code",
   "execution_count": 38,
   "id": "894df453",
   "metadata": {},
   "outputs": [
    {
     "data": {
      "image/png": "[encoded data removed]",
      "text/plain": [
       "<Figure size 432x288 with 1 Axes>"
      ]
     },
     "metadata": {
      "needs_background": "light"
     },
     "output_type": "display_data"
    }
   ],
   "source": [
    "plt.bar(count_day_b['date'], count_day_b['event_name'])\n",
    "plt.title('Количество событий по дням в группе B')\n",
    "plt.xlabel('День месяца')\n",
    "plt.ylabel('Количество событий');"
   ]
  },
  {
   "cell_type": "markdown",
   "id": "826600fe",
   "metadata": {},
   "source": [
    "Количество событий в день в группе А до 14 числа не превышало 300 шт. \n",
    "\n",
    "Затем 14 числа резкий рост до >1000 событий в день. Пиковое значение (2000 событий) было достигнуто 21 декабря (день, когда перестали набирать новых пользователей). После - плавное снижение до 500 событий.\n",
    "\n",
    "\n",
    "По группе В: количество событий в день за весь отслеживаемый период было невысоким. Максимум - ~400 событий за день (тоже 21.12). \n",
    "\n",
    "\n",
    "Что-то повлияло на поведение пользователей в группе А (чего не было у группы В) и дало такое высокое кол-во событий"
   ]
  },
  {
   "cell_type": "markdown",
   "id": "49721b27",
   "metadata": {},
   "source": [
    "<div class=\"alert alert-success\">\n",
    "<b>👍 Успех:</b> Все верно!\n",
    "</div>"
   ]
  },
  {
   "cell_type": "markdown",
   "id": "59b38fa2",
   "metadata": {},
   "source": [
    "### Как меняется конверсия в воронке в выборках на разных этапах?"
   ]
  },
  {
   "cell_type": "markdown",
   "id": "bb415237",
   "metadata": {},
   "source": [
    "#### Виды событий, их частота и количество пользователей по каждому"
   ]
  },
  {
   "cell_type": "code",
   "execution_count": 39,
   "id": "eceea15e",
   "metadata": {},
   "outputs": [],
   "source": [
    "#предварительно уберем из обеих групп пользователей, которые не прожили 14 дней\n",
    "#т.к.нет данных после 30.12.2020, крайняя дата для анализа - 16.12.2020\n",
    "\n",
    "group_a_new = group_a.query('date != (17, 18, 19, 20, 21, 22, 23, 24, 25, 26, 27, 28, 29, 30)')\n",
    "group_b_new = group_b.query('date != (17, 18, 19, 20, 21, 22, 23, 24, 25, 26, 27, 28, 29, 30)')"
   ]
  },
  {
   "cell_type": "code",
   "execution_count": 40,
   "id": "4d582c2f",
   "metadata": {},
   "outputs": [
    {
     "data": {
      "text/html": [
       "<div>\n",
       "<style scoped>\n",
       "    .dataframe tbody tr th:only-of-type {\n",
       "        vertical-align: middle;\n",
       "    }\n",
       "\n",
       "    .dataframe tbody tr th {\n",
       "        vertical-align: top;\n",
       "    }\n",
       "\n",
       "    .dataframe thead th {\n",
       "        text-align: right;\n",
       "    }\n",
       "</style>\n",
       "<table border=\"1\" class=\"dataframe\">\n",
       "  <thead>\n",
       "    <tr style=\"text-align: right;\">\n",
       "      <th></th>\n",
       "      <th>user_id</th>\n",
       "    </tr>\n",
       "    <tr>\n",
       "      <th>event_name</th>\n",
       "      <th></th>\n",
       "    </tr>\n",
       "  </thead>\n",
       "  <tbody>\n",
       "    <tr>\n",
       "      <th>login</th>\n",
       "      <td>2611</td>\n",
       "    </tr>\n",
       "    <tr>\n",
       "      <th>product_page</th>\n",
       "      <td>1610</td>\n",
       "    </tr>\n",
       "    <tr>\n",
       "      <th>product_cart</th>\n",
       "      <td>743</td>\n",
       "    </tr>\n",
       "    <tr>\n",
       "      <th>purchase</th>\n",
       "      <td>736</td>\n",
       "    </tr>\n",
       "  </tbody>\n",
       "</table>\n",
       "</div>"
      ],
      "text/plain": [
       "              user_id\n",
       "event_name           \n",
       "login            2611\n",
       "product_page     1610\n",
       "product_cart      743\n",
       "purchase          736"
      ]
     },
     "execution_count": 40,
     "metadata": {},
     "output_type": "execute_result"
    }
   ],
   "source": [
    "#посмотрим, как часто встречаются события каждого типа в группе А\n",
    "group_a_new.groupby('event_name').agg({'user_id': 'count'}).sort_values(by = 'user_id', ascending = False)"
   ]
  },
  {
   "cell_type": "code",
   "execution_count": 41,
   "id": "c353fbb5",
   "metadata": {},
   "outputs": [
    {
     "data": {
      "text/html": [
       "<div>\n",
       "<style scoped>\n",
       "    .dataframe tbody tr th:only-of-type {\n",
       "        vertical-align: middle;\n",
       "    }\n",
       "\n",
       "    .dataframe tbody tr th {\n",
       "        vertical-align: top;\n",
       "    }\n",
       "\n",
       "    .dataframe thead th {\n",
       "        text-align: right;\n",
       "    }\n",
       "</style>\n",
       "<table border=\"1\" class=\"dataframe\">\n",
       "  <thead>\n",
       "    <tr style=\"text-align: right;\">\n",
       "      <th></th>\n",
       "      <th>user_id</th>\n",
       "    </tr>\n",
       "    <tr>\n",
       "      <th>event_name</th>\n",
       "      <th></th>\n",
       "    </tr>\n",
       "  </thead>\n",
       "  <tbody>\n",
       "    <tr>\n",
       "      <th>login</th>\n",
       "      <td>1288</td>\n",
       "    </tr>\n",
       "    <tr>\n",
       "      <th>product_page</th>\n",
       "      <td>713</td>\n",
       "    </tr>\n",
       "    <tr>\n",
       "      <th>purchase</th>\n",
       "      <td>347</td>\n",
       "    </tr>\n",
       "    <tr>\n",
       "      <th>product_cart</th>\n",
       "      <td>342</td>\n",
       "    </tr>\n",
       "  </tbody>\n",
       "</table>\n",
       "</div>"
      ],
      "text/plain": [
       "              user_id\n",
       "event_name           \n",
       "login            1288\n",
       "product_page      713\n",
       "purchase          347\n",
       "product_cart      342"
      ]
     },
     "execution_count": 41,
     "metadata": {},
     "output_type": "execute_result"
    }
   ],
   "source": [
    "#посмотрим, как часто встречаются события каждого типа в группе В\n",
    "group_b_new.groupby('event_name').agg({'user_id': 'count'}).sort_values(by = 'user_id', ascending = False)"
   ]
  },
  {
   "cell_type": "markdown",
   "id": "b8202d37",
   "metadata": {},
   "source": [
    "Всего существует 4 события, перечисление по порядку:\n",
    "  - login - авторизация\n",
    "  - product_page - страница продукта\n",
    "  - product_cart - корзина продуктов\n",
    "  - purchase - покупка\n",
    "  \n",
    "Логично, что по мере перехода с одного этапа на другой, количество пользователей уменьшается.\n",
    "\n",
    "Но в глаза сразу бросается нелогичная последовательность корзины и покупки в группе B: покупку совершили 347 раз, а наполнили корзину только 342. Получается, были покупки без оформления корзины, напрямую со страницы товара."
   ]
  },
  {
   "cell_type": "code",
   "execution_count": 42,
   "id": "5746e1fd",
   "metadata": {},
   "outputs": [
    {
     "data": {
      "text/html": [
       "<div>\n",
       "<style scoped>\n",
       "    .dataframe tbody tr th:only-of-type {\n",
       "        vertical-align: middle;\n",
       "    }\n",
       "\n",
       "    .dataframe tbody tr th {\n",
       "        vertical-align: top;\n",
       "    }\n",
       "\n",
       "    .dataframe thead th {\n",
       "        text-align: right;\n",
       "    }\n",
       "</style>\n",
       "<table border=\"1\" class=\"dataframe\">\n",
       "  <thead>\n",
       "    <tr style=\"text-align: right;\">\n",
       "      <th></th>\n",
       "      <th>Количество уникальных пользователей</th>\n",
       "    </tr>\n",
       "    <tr>\n",
       "      <th>event_name</th>\n",
       "      <th></th>\n",
       "    </tr>\n",
       "  </thead>\n",
       "  <tbody>\n",
       "    <tr>\n",
       "      <th>login</th>\n",
       "      <td>1385</td>\n",
       "    </tr>\n",
       "    <tr>\n",
       "      <th>product_page</th>\n",
       "      <td>875</td>\n",
       "    </tr>\n",
       "    <tr>\n",
       "      <th>purchase</th>\n",
       "      <td>413</td>\n",
       "    </tr>\n",
       "    <tr>\n",
       "      <th>product_cart</th>\n",
       "      <td>408</td>\n",
       "    </tr>\n",
       "  </tbody>\n",
       "</table>\n",
       "</div>"
      ],
      "text/plain": [
       "              Количество уникальных пользователей\n",
       "event_name                                       \n",
       "login                                        1385\n",
       "product_page                                  875\n",
       "purchase                                      413\n",
       "product_cart                                  408"
      ]
     },
     "execution_count": 42,
     "metadata": {},
     "output_type": "execute_result"
    }
   ],
   "source": [
    "#посчитаем, сколько пользователей совершали каждое из этих событий в группе А\n",
    "\n",
    "count_id_a = group_a_new.groupby('event_name').agg({'user_id': 'nunique'}).sort_values(by='user_id', ascending=False)\n",
    "count_id_a.rename(columns = {'user_id': 'Количество уникальных пользователей', 'event_name': 'Событие'}, inplace = True)\n",
    "count_id_a"
   ]
  },
  {
   "cell_type": "code",
   "execution_count": 43,
   "id": "dd39b2e8",
   "metadata": {},
   "outputs": [
    {
     "data": {
      "text/html": [
       "<div>\n",
       "<style scoped>\n",
       "    .dataframe tbody tr th:only-of-type {\n",
       "        vertical-align: middle;\n",
       "    }\n",
       "\n",
       "    .dataframe tbody tr th {\n",
       "        vertical-align: top;\n",
       "    }\n",
       "\n",
       "    .dataframe thead th {\n",
       "        text-align: right;\n",
       "    }\n",
       "</style>\n",
       "<table border=\"1\" class=\"dataframe\">\n",
       "  <thead>\n",
       "    <tr style=\"text-align: right;\">\n",
       "      <th></th>\n",
       "      <th>Количество уникальных пользователей</th>\n",
       "    </tr>\n",
       "    <tr>\n",
       "      <th>event_name</th>\n",
       "      <th></th>\n",
       "    </tr>\n",
       "  </thead>\n",
       "  <tbody>\n",
       "    <tr>\n",
       "      <th>login</th>\n",
       "      <td>635</td>\n",
       "    </tr>\n",
       "    <tr>\n",
       "      <th>product_page</th>\n",
       "      <td>364</td>\n",
       "    </tr>\n",
       "    <tr>\n",
       "      <th>purchase</th>\n",
       "      <td>178</td>\n",
       "    </tr>\n",
       "    <tr>\n",
       "      <th>product_cart</th>\n",
       "      <td>177</td>\n",
       "    </tr>\n",
       "  </tbody>\n",
       "</table>\n",
       "</div>"
      ],
      "text/plain": [
       "              Количество уникальных пользователей\n",
       "event_name                                       \n",
       "login                                         635\n",
       "product_page                                  364\n",
       "purchase                                      178\n",
       "product_cart                                  177"
      ]
     },
     "execution_count": 43,
     "metadata": {},
     "output_type": "execute_result"
    }
   ],
   "source": [
    "#посчитаем, сколько пользователей совершали каждое из этих событий в группе B\n",
    "\n",
    "count_id_b = group_b_new.groupby('event_name').agg({'user_id': 'nunique'}).sort_values(by='user_id', ascending=False)\n",
    "count_id_b.rename(columns = {'user_id': 'Количество уникальных пользователей', 'event_name': 'Событие'}, inplace = True)\n",
    "count_id_b"
   ]
  },
  {
   "cell_type": "code",
   "execution_count": 44,
   "id": "254d49e5",
   "metadata": {},
   "outputs": [
    {
     "name": "stdout",
     "output_type": "stream",
     "text": [
      "Количество пользователей в группе А: 1385\n",
      "Количество пользователей в группе B: 636\n"
     ]
    }
   ],
   "source": [
    "#посмотрим еще раз общее кол-во пользователей в обеих группах\n",
    "print('Количество пользователей в группе А:', group_a_new['user_id'].nunique())\n",
    "print('Количество пользователей в группе B:', group_b_new['user_id'].nunique())"
   ]
  },
  {
   "cell_type": "markdown",
   "id": "7b674e7d",
   "metadata": {},
   "source": [
    "Абсолютно все пользователи в обеих группах (кроме 1 в группе В) прошли этап аторизации.\n",
    "\n",
    "Этап с покупкой:\n",
    " - в группе А - 29,8%\n",
    " - в группе B - 28%"
   ]
  },
  {
   "cell_type": "code",
   "execution_count": 45,
   "id": "bee571d2",
   "metadata": {},
   "outputs": [],
   "source": [
    "#заново посчитаем кол-во событий на пользователя\n",
    "count_event_a_new = group_a_new.groupby('user_id')['event_name'].count().reset_index().sort_values(by = 'event_name', ascending = False)\n",
    "count_event_b_new = group_b_new.groupby('user_id')['event_name'].count().reset_index().sort_values(by = 'event_name', ascending = False)\n"
   ]
  },
  {
   "cell_type": "code",
   "execution_count": 46,
   "id": "c4282f37",
   "metadata": {},
   "outputs": [
    {
     "name": "stderr",
     "output_type": "stream",
     "text": [
      "/tmp/ipykernel_64/4290000891.py:3: UserWarning: Boolean Series key will be reindexed to match DataFrame index.\n",
      "  one_a = count_event_a_new[count_event_a['event_name'] ==1]\n",
      "/tmp/ipykernel_64/4290000891.py:4: UserWarning: Boolean Series key will be reindexed to match DataFrame index.\n",
      "  one_b = count_event_b_new[count_event_b['event_name'] ==1]\n"
     ]
    }
   ],
   "source": [
    "#посчитаем долю пользователей, которые совершили только одно событие\n",
    "#делаем срезs по тем, кто совершил одно событие\n",
    "one_a = count_event_a_new[count_event_a['event_name'] ==1]\n",
    "one_b = count_event_b_new[count_event_b['event_name'] ==1]"
   ]
  },
  {
   "cell_type": "code",
   "execution_count": 47,
   "id": "9ae45010",
   "metadata": {},
   "outputs": [
    {
     "name": "stdout",
     "output_type": "stream",
     "text": [
      "Количество уникальных пользователей, совершивших одно событие в группе А: 20\n",
      "Их доля от общего количества всех пользователей: 1.4%\n",
      "\n",
      "Количество уникальных пользователей, совершивших одно событие в группе В: 10\n",
      "Их доля от общего количества всех пользователей: 1.6%\n",
      "\n"
     ]
    }
   ],
   "source": [
    "#считаем кол-во тех, кто совершил одно событие и вычисляем их  долю \n",
    "\n",
    "print('Количество уникальных пользователей, совершивших одно событие в группе А:' ,one_a['user_id'].nunique())\n",
    "print('Их доля от общего количества всех пользователей:', \"{:.1%}\".format(20/1385))\n",
    "print()\n",
    "print('Количество уникальных пользователей, совершивших одно событие в группе В:' ,one_b['user_id'].nunique())\n",
    "print('Их доля от общего количества всех пользователей:', \"{:.1%}\".format(10/635))\n",
    "print()"
   ]
  },
  {
   "cell_type": "markdown",
   "id": "491b9bdf",
   "metadata": {},
   "source": [
    "#### Конверсия по этапам воронки"
   ]
  },
  {
   "cell_type": "code",
   "execution_count": 48,
   "id": "ea57663a",
   "metadata": {},
   "outputs": [
    {
     "data": {
      "text/html": [
       "<div>\n",
       "<style scoped>\n",
       "    .dataframe tbody tr th:only-of-type {\n",
       "        vertical-align: middle;\n",
       "    }\n",
       "\n",
       "    .dataframe tbody tr th {\n",
       "        vertical-align: top;\n",
       "    }\n",
       "\n",
       "    .dataframe thead th {\n",
       "        text-align: right;\n",
       "    }\n",
       "</style>\n",
       "<table border=\"1\" class=\"dataframe\">\n",
       "  <thead>\n",
       "    <tr style=\"text-align: right;\">\n",
       "      <th></th>\n",
       "      <th>event_name</th>\n",
       "      <th>Количество уникальных пользователей</th>\n",
       "    </tr>\n",
       "  </thead>\n",
       "  <tbody>\n",
       "    <tr>\n",
       "      <th>0</th>\n",
       "      <td>login</td>\n",
       "      <td>1385</td>\n",
       "    </tr>\n",
       "    <tr>\n",
       "      <th>1</th>\n",
       "      <td>product_page</td>\n",
       "      <td>875</td>\n",
       "    </tr>\n",
       "    <tr>\n",
       "      <th>3</th>\n",
       "      <td>product_cart</td>\n",
       "      <td>408</td>\n",
       "    </tr>\n",
       "    <tr>\n",
       "      <th>2</th>\n",
       "      <td>purchase</td>\n",
       "      <td>413</td>\n",
       "    </tr>\n",
       "  </tbody>\n",
       "</table>\n",
       "</div>"
      ],
      "text/plain": [
       "     event_name  Количество уникальных пользователей\n",
       "0         login                                 1385\n",
       "1  product_page                                  875\n",
       "3  product_cart                                  408\n",
       "2      purchase                                  413"
      ]
     },
     "execution_count": 48,
     "metadata": {},
     "output_type": "execute_result"
    }
   ],
   "source": [
    "#заново посчитаем, сколько пользователей совершали каждое из этих событий в группе А\n",
    "\n",
    "count_id_a_new = group_a_new.groupby('event_name').agg({'user_id': 'nunique'}).sort_values(by='user_id', ascending=False)\n",
    "count_id_a_new.rename(columns = {'user_id': 'Количество уникальных пользователей', 'event_name': 'Событие'}, inplace = True)\n",
    "count_id_a_new = count_id_a_new.reset_index()\n",
    "count_id_a_new = count_id_a_new.reindex([0,1,3,2])\n",
    "count_id_a_new"
   ]
  },
  {
   "cell_type": "code",
   "execution_count": 49,
   "id": "a60a05a4",
   "metadata": {},
   "outputs": [
    {
     "data": {
      "text/html": [
       "<div>\n",
       "<style scoped>\n",
       "    .dataframe tbody tr th:only-of-type {\n",
       "        vertical-align: middle;\n",
       "    }\n",
       "\n",
       "    .dataframe tbody tr th {\n",
       "        vertical-align: top;\n",
       "    }\n",
       "\n",
       "    .dataframe thead th {\n",
       "        text-align: right;\n",
       "    }\n",
       "</style>\n",
       "<table border=\"1\" class=\"dataframe\">\n",
       "  <thead>\n",
       "    <tr style=\"text-align: right;\">\n",
       "      <th></th>\n",
       "      <th>event_name</th>\n",
       "      <th>Количество уникальных пользователей</th>\n",
       "    </tr>\n",
       "  </thead>\n",
       "  <tbody>\n",
       "    <tr>\n",
       "      <th>0</th>\n",
       "      <td>login</td>\n",
       "      <td>635</td>\n",
       "    </tr>\n",
       "    <tr>\n",
       "      <th>1</th>\n",
       "      <td>product_page</td>\n",
       "      <td>364</td>\n",
       "    </tr>\n",
       "    <tr>\n",
       "      <th>3</th>\n",
       "      <td>product_cart</td>\n",
       "      <td>177</td>\n",
       "    </tr>\n",
       "    <tr>\n",
       "      <th>2</th>\n",
       "      <td>purchase</td>\n",
       "      <td>178</td>\n",
       "    </tr>\n",
       "  </tbody>\n",
       "</table>\n",
       "</div>"
      ],
      "text/plain": [
       "     event_name  Количество уникальных пользователей\n",
       "0         login                                  635\n",
       "1  product_page                                  364\n",
       "3  product_cart                                  177\n",
       "2      purchase                                  178"
      ]
     },
     "execution_count": 49,
     "metadata": {},
     "output_type": "execute_result"
    }
   ],
   "source": [
    "#заново посчитаем, сколько пользователей совершали каждое из этих событий в группе B\n",
    "\n",
    "count_id_b_new = group_b_new.groupby('event_name').agg({'user_id': 'nunique'}).sort_values(by='user_id', ascending=False)\n",
    "count_id_b_new.rename(columns = {'user_id': 'Количество уникальных пользователей', 'event_name': 'Событие'}, inplace = True)\n",
    "count_id_b_new = count_id_b_new.reset_index()\n",
    "count_id_b_new = count_id_b_new.reindex([0,1,3,2])\n",
    "count_id_b_new"
   ]
  },
  {
   "cell_type": "code",
   "execution_count": 50,
   "id": "a810da33",
   "metadata": {},
   "outputs": [
    {
     "data": {
      "text/html": [
       "<div>\n",
       "<style scoped>\n",
       "    .dataframe tbody tr th:only-of-type {\n",
       "        vertical-align: middle;\n",
       "    }\n",
       "\n",
       "    .dataframe tbody tr th {\n",
       "        vertical-align: top;\n",
       "    }\n",
       "\n",
       "    .dataframe thead th {\n",
       "        text-align: right;\n",
       "    }\n",
       "</style>\n",
       "<table border=\"1\" class=\"dataframe\">\n",
       "  <thead>\n",
       "    <tr style=\"text-align: right;\">\n",
       "      <th></th>\n",
       "      <th>event_name</th>\n",
       "      <th>Количество уникальных пользователей</th>\n",
       "      <th>Количество</th>\n",
       "    </tr>\n",
       "  </thead>\n",
       "  <tbody>\n",
       "    <tr>\n",
       "      <th>0</th>\n",
       "      <td>login</td>\n",
       "      <td>1385</td>\n",
       "      <td>0</td>\n",
       "    </tr>\n",
       "    <tr>\n",
       "      <th>1</th>\n",
       "      <td>product_page</td>\n",
       "      <td>875</td>\n",
       "      <td>1385</td>\n",
       "    </tr>\n",
       "    <tr>\n",
       "      <th>3</th>\n",
       "      <td>product_cart</td>\n",
       "      <td>408</td>\n",
       "      <td>875</td>\n",
       "    </tr>\n",
       "    <tr>\n",
       "      <th>2</th>\n",
       "      <td>purchase</td>\n",
       "      <td>413</td>\n",
       "      <td>408</td>\n",
       "    </tr>\n",
       "  </tbody>\n",
       "</table>\n",
       "</div>"
      ],
      "text/plain": [
       "     event_name  Количество уникальных пользователей  Количество\n",
       "0         login                                 1385           0\n",
       "1  product_page                                  875        1385\n",
       "3  product_cart                                  408         875\n",
       "2      purchase                                  413         408"
      ]
     },
     "execution_count": 50,
     "metadata": {},
     "output_type": "execute_result"
    }
   ],
   "source": [
    "#методом shift() сдвигаем кол-во пользователей и сохраняем в новом столбце\n",
    "\n",
    "count_id_a_new['Количество'] = count_id_a_new['Количество уникальных пользователей'].shift(1,fill_value=0)\n",
    "count_id_a_new"
   ]
  },
  {
   "cell_type": "code",
   "execution_count": 51,
   "id": "f9a23996",
   "metadata": {},
   "outputs": [
    {
     "data": {
      "text/html": [
       "<div>\n",
       "<style scoped>\n",
       "    .dataframe tbody tr th:only-of-type {\n",
       "        vertical-align: middle;\n",
       "    }\n",
       "\n",
       "    .dataframe tbody tr th {\n",
       "        vertical-align: top;\n",
       "    }\n",
       "\n",
       "    .dataframe thead th {\n",
       "        text-align: right;\n",
       "    }\n",
       "</style>\n",
       "<table border=\"1\" class=\"dataframe\">\n",
       "  <thead>\n",
       "    <tr style=\"text-align: right;\">\n",
       "      <th></th>\n",
       "      <th>event_name</th>\n",
       "      <th>Количество уникальных пользователей</th>\n",
       "      <th>Количество</th>\n",
       "    </tr>\n",
       "  </thead>\n",
       "  <tbody>\n",
       "    <tr>\n",
       "      <th>0</th>\n",
       "      <td>login</td>\n",
       "      <td>635</td>\n",
       "      <td>0</td>\n",
       "    </tr>\n",
       "    <tr>\n",
       "      <th>1</th>\n",
       "      <td>product_page</td>\n",
       "      <td>364</td>\n",
       "      <td>635</td>\n",
       "    </tr>\n",
       "    <tr>\n",
       "      <th>3</th>\n",
       "      <td>product_cart</td>\n",
       "      <td>177</td>\n",
       "      <td>364</td>\n",
       "    </tr>\n",
       "    <tr>\n",
       "      <th>2</th>\n",
       "      <td>purchase</td>\n",
       "      <td>178</td>\n",
       "      <td>177</td>\n",
       "    </tr>\n",
       "  </tbody>\n",
       "</table>\n",
       "</div>"
      ],
      "text/plain": [
       "     event_name  Количество уникальных пользователей  Количество\n",
       "0         login                                  635           0\n",
       "1  product_page                                  364         635\n",
       "3  product_cart                                  177         364\n",
       "2      purchase                                  178         177"
      ]
     },
     "execution_count": 51,
     "metadata": {},
     "output_type": "execute_result"
    }
   ],
   "source": [
    "count_id_b_new['Количество'] = count_id_b_new['Количество уникальных пользователей'].shift(1,fill_value=0)\n",
    "count_id_b_new"
   ]
  },
  {
   "cell_type": "code",
   "execution_count": 52,
   "id": "d175dfe6",
   "metadata": {},
   "outputs": [],
   "source": [
    "#добавляем столбец с конверсией\n",
    "count_id_a_new['Конверсия'] = count_id_a_new['Количество уникальных пользователей'] / count_id_a_new['Количество']\n",
    "count_id_a_new['Конверсия'] = count_id_a_new['Конверсия'].apply(lambda x: format(x, '.2%'))\n",
    "\n",
    "count_id_b_new['Конверсия'] = count_id_b_new['Количество уникальных пользователей'] / count_id_b_new['Количество']\n",
    "count_id_b_new['Конверсия'] = count_id_b_new['Конверсия'].apply(lambda x: format(x, '.2%'))"
   ]
  },
  {
   "cell_type": "code",
   "execution_count": 53,
   "id": "dfe174d6",
   "metadata": {},
   "outputs": [
    {
     "data": {
      "text/html": [
       "<div>\n",
       "<style scoped>\n",
       "    .dataframe tbody tr th:only-of-type {\n",
       "        vertical-align: middle;\n",
       "    }\n",
       "\n",
       "    .dataframe tbody tr th {\n",
       "        vertical-align: top;\n",
       "    }\n",
       "\n",
       "    .dataframe thead th {\n",
       "        text-align: right;\n",
       "    }\n",
       "</style>\n",
       "<table border=\"1\" class=\"dataframe\">\n",
       "  <thead>\n",
       "    <tr style=\"text-align: right;\">\n",
       "      <th></th>\n",
       "      <th>event_name</th>\n",
       "      <th>Количество уникальных пользователей</th>\n",
       "      <th>Количество</th>\n",
       "      <th>Конверсия</th>\n",
       "    </tr>\n",
       "  </thead>\n",
       "  <tbody>\n",
       "    <tr>\n",
       "      <th>0</th>\n",
       "      <td>login</td>\n",
       "      <td>1385</td>\n",
       "      <td>0</td>\n",
       "      <td>inf%</td>\n",
       "    </tr>\n",
       "    <tr>\n",
       "      <th>1</th>\n",
       "      <td>product_page</td>\n",
       "      <td>875</td>\n",
       "      <td>1385</td>\n",
       "      <td>63.18%</td>\n",
       "    </tr>\n",
       "    <tr>\n",
       "      <th>3</th>\n",
       "      <td>product_cart</td>\n",
       "      <td>408</td>\n",
       "      <td>875</td>\n",
       "      <td>46.63%</td>\n",
       "    </tr>\n",
       "    <tr>\n",
       "      <th>2</th>\n",
       "      <td>purchase</td>\n",
       "      <td>413</td>\n",
       "      <td>408</td>\n",
       "      <td>101.23%</td>\n",
       "    </tr>\n",
       "  </tbody>\n",
       "</table>\n",
       "</div>"
      ],
      "text/plain": [
       "     event_name  Количество уникальных пользователей  Количество Конверсия\n",
       "0         login                                 1385           0      inf%\n",
       "1  product_page                                  875        1385    63.18%\n",
       "3  product_cart                                  408         875    46.63%\n",
       "2      purchase                                  413         408   101.23%"
      ]
     },
     "execution_count": 53,
     "metadata": {},
     "output_type": "execute_result"
    }
   ],
   "source": [
    "count_id_a_new"
   ]
  },
  {
   "cell_type": "code",
   "execution_count": 54,
   "id": "82beadc7",
   "metadata": {},
   "outputs": [
    {
     "data": {
      "text/html": [
       "<div>\n",
       "<style scoped>\n",
       "    .dataframe tbody tr th:only-of-type {\n",
       "        vertical-align: middle;\n",
       "    }\n",
       "\n",
       "    .dataframe tbody tr th {\n",
       "        vertical-align: top;\n",
       "    }\n",
       "\n",
       "    .dataframe thead th {\n",
       "        text-align: right;\n",
       "    }\n",
       "</style>\n",
       "<table border=\"1\" class=\"dataframe\">\n",
       "  <thead>\n",
       "    <tr style=\"text-align: right;\">\n",
       "      <th></th>\n",
       "      <th>event_name</th>\n",
       "      <th>Количество уникальных пользователей</th>\n",
       "      <th>Количество</th>\n",
       "      <th>Конверсия</th>\n",
       "    </tr>\n",
       "  </thead>\n",
       "  <tbody>\n",
       "    <tr>\n",
       "      <th>0</th>\n",
       "      <td>login</td>\n",
       "      <td>635</td>\n",
       "      <td>0</td>\n",
       "      <td>inf%</td>\n",
       "    </tr>\n",
       "    <tr>\n",
       "      <th>1</th>\n",
       "      <td>product_page</td>\n",
       "      <td>364</td>\n",
       "      <td>635</td>\n",
       "      <td>57.32%</td>\n",
       "    </tr>\n",
       "    <tr>\n",
       "      <th>3</th>\n",
       "      <td>product_cart</td>\n",
       "      <td>177</td>\n",
       "      <td>364</td>\n",
       "      <td>48.63%</td>\n",
       "    </tr>\n",
       "    <tr>\n",
       "      <th>2</th>\n",
       "      <td>purchase</td>\n",
       "      <td>178</td>\n",
       "      <td>177</td>\n",
       "      <td>100.56%</td>\n",
       "    </tr>\n",
       "  </tbody>\n",
       "</table>\n",
       "</div>"
      ],
      "text/plain": [
       "     event_name  Количество уникальных пользователей  Количество Конверсия\n",
       "0         login                                  635           0      inf%\n",
       "1  product_page                                  364         635    57.32%\n",
       "3  product_cart                                  177         364    48.63%\n",
       "2      purchase                                  178         177   100.56%"
      ]
     },
     "execution_count": 54,
     "metadata": {},
     "output_type": "execute_result"
    }
   ],
   "source": [
    "count_id_b_new"
   ]
  },
  {
   "cell_type": "code",
   "execution_count": 55,
   "id": "9ee6f4e1",
   "metadata": {},
   "outputs": [
    {
     "data": {
      "image/png": "[encoded data removed]",
      "text/plain": [
       "<Figure size 432x288 with 1 Axes>"
      ]
     },
     "metadata": {
      "needs_background": "light"
     },
     "output_type": "display_data"
    }
   ],
   "source": [
    "#визуализируем воронки\n",
    "plt.barh(count_id_a_new['event_name'], count_id_a_new['Количество уникальных пользователей'].sort_values())\n",
    "plt.title('Количество уникальных пользователей на каждом этапе воронки в группе А')\n",
    "plt.xlabel('Количество уникальных пользователей')\n",
    "plt.ylabel('Событие');\n"
   ]
  },
  {
   "cell_type": "code",
   "execution_count": 56,
   "id": "b5bb33d2",
   "metadata": {},
   "outputs": [
    {
     "data": {
      "image/png": "[encoded data removed]",
      "text/plain": [
       "<Figure size 432x288 with 1 Axes>"
      ]
     },
     "metadata": {
      "needs_background": "light"
     },
     "output_type": "display_data"
    }
   ],
   "source": [
    "plt.barh(count_id_b_new['event_name'], count_id_b_new['Количество уникальных пользователей'].sort_values())\n",
    "plt.title('Количество уникальных пользователей на каждом этапе воронки в группе B')\n",
    "plt.xlabel('Количество уникальных пользователей')\n",
    "plt.ylabel('Событие');"
   ]
  },
  {
   "cell_type": "markdown",
   "id": "608d6f30",
   "metadata": {},
   "source": [
    "В обеих группах больше всего пользователей теряется при переходе с этапа авторизации на этап со страницей продукта.\n",
    "В группе А только 63% из тех кто зашел в приложение перешел к просмотру товаров. Было потеряно 510 уникальных пользователей.\n",
    "\n",
    "В группе В переход на второй этап воронки совершили только 57%.\n",
    "Потеряно - 271 уник\n",
    "\n",
    "Доля пользователей, которая доходит от первого события до оплаты:\n",
    " - в группе А - 29,8%\n",
    " - в группе В - 28%\n",
    " \n",
    "Ожидалось, что конверсия с каждого этапа должна улучшиться на 10 п.п.\n",
    "Однако улучшения как такового не было: с этапа авторизации в группе B перешло меньше, чем в группе А (в долях). Переход на следующий этап (в покупку) улучшился на 1,9 п.п."
   ]
  },
  {
   "cell_type": "markdown",
   "id": "ec4334df",
   "metadata": {},
   "source": [
    "<div class=\"alert alert-danger\">\n",
    "<s><b>😔 Необходимо исправить:</b> расположи события в таблицах в правильной последовательности и визуализируй воронку</s>\n",
    "</div>"
   ]
  },
  {
   "cell_type": "markdown",
   "id": "bd6aa7b6",
   "metadata": {},
   "source": [
    "<div class=\"alert alert-info\"> <b>🎓 Комментарий студента:</b>  Поправила</div>\n"
   ]
  },
  {
   "cell_type": "markdown",
   "id": "bd7a86aa",
   "metadata": {},
   "source": [
    "## Оценка результатов теста"
   ]
  },
  {
   "cell_type": "code",
   "execution_count": 57,
   "id": "61b6870e",
   "metadata": {},
   "outputs": [
    {
     "data": {
      "text/html": [
       "<div>\n",
       "<style scoped>\n",
       "    .dataframe tbody tr th:only-of-type {\n",
       "        vertical-align: middle;\n",
       "    }\n",
       "\n",
       "    .dataframe tbody tr th {\n",
       "        vertical-align: top;\n",
       "    }\n",
       "\n",
       "    .dataframe thead th {\n",
       "        text-align: right;\n",
       "    }\n",
       "</style>\n",
       "<table border=\"1\" class=\"dataframe\">\n",
       "  <thead>\n",
       "    <tr style=\"text-align: right;\">\n",
       "      <th></th>\n",
       "      <th>Количество пользователей</th>\n",
       "    </tr>\n",
       "    <tr>\n",
       "      <th>group</th>\n",
       "      <th></th>\n",
       "    </tr>\n",
       "  </thead>\n",
       "  <tbody>\n",
       "    <tr>\n",
       "      <th>A</th>\n",
       "      <td>2747</td>\n",
       "    </tr>\n",
       "    <tr>\n",
       "      <th>B</th>\n",
       "      <td>928</td>\n",
       "    </tr>\n",
       "  </tbody>\n",
       "</table>\n",
       "</div>"
      ],
      "text/plain": [
       "       Количество пользователей\n",
       "group                          \n",
       "A                          2747\n",
       "B                           928"
      ]
     },
     "execution_count": 57,
     "metadata": {},
     "output_type": "execute_result"
    }
   ],
   "source": [
    "#смотрим, сколько уникальных пользователей в каждой экспериментальной группе\n",
    "\n",
    "users = recommender_system.groupby('group').agg({'user_id': 'nunique'}).sort_values(by='user_id', ascending=False).rename(columns={'user_id': 'Количество пользователей'})\n",
    "users"
   ]
  },
  {
   "cell_type": "markdown",
   "id": "6dba7e81",
   "metadata": {},
   "source": [
    "### Находят ли статистические критерии разницу между выборками A и B"
   ]
  },
  {
   "cell_type": "code",
   "execution_count": 58,
   "id": "2e1e4c37",
   "metadata": {},
   "outputs": [
    {
     "data": {
      "text/html": [
       "<div>\n",
       "<style scoped>\n",
       "    .dataframe tbody tr th:only-of-type {\n",
       "        vertical-align: middle;\n",
       "    }\n",
       "\n",
       "    .dataframe tbody tr th {\n",
       "        vertical-align: top;\n",
       "    }\n",
       "\n",
       "    .dataframe thead th {\n",
       "        text-align: right;\n",
       "    }\n",
       "</style>\n",
       "<table border=\"1\" class=\"dataframe\">\n",
       "  <thead>\n",
       "    <tr style=\"text-align: right;\">\n",
       "      <th>group</th>\n",
       "      <th>A</th>\n",
       "      <th>B</th>\n",
       "    </tr>\n",
       "    <tr>\n",
       "      <th>event_name</th>\n",
       "      <th></th>\n",
       "      <th></th>\n",
       "    </tr>\n",
       "  </thead>\n",
       "  <tbody>\n",
       "    <tr>\n",
       "      <th>login</th>\n",
       "      <td>2747</td>\n",
       "      <td>928</td>\n",
       "    </tr>\n",
       "    <tr>\n",
       "      <th>product_cart</th>\n",
       "      <td>824</td>\n",
       "      <td>255</td>\n",
       "    </tr>\n",
       "    <tr>\n",
       "      <th>product_page</th>\n",
       "      <td>1780</td>\n",
       "      <td>523</td>\n",
       "    </tr>\n",
       "    <tr>\n",
       "      <th>purchase</th>\n",
       "      <td>872</td>\n",
       "      <td>256</td>\n",
       "    </tr>\n",
       "  </tbody>\n",
       "</table>\n",
       "</div>"
      ],
      "text/plain": [
       "group            A    B\n",
       "event_name             \n",
       "login         2747  928\n",
       "product_cart   824  255\n",
       "product_page  1780  523\n",
       "purchase       872  256"
      ]
     },
     "execution_count": 58,
     "metadata": {},
     "output_type": "execute_result"
    }
   ],
   "source": [
    "#число пользователей для каждого события по группам эксперимента за перид с 7 по 30\n",
    "users_event_group = recommender_system.pivot_table(index=['event_name'], columns='group', values='user_id', aggfunc='nunique')\n",
    "users_event_group"
   ]
  },
  {
   "cell_type": "code",
   "execution_count": 59,
   "id": "681aebab",
   "metadata": {},
   "outputs": [
    {
     "data": {
      "text/html": [
       "<div>\n",
       "<style scoped>\n",
       "    .dataframe tbody tr th:only-of-type {\n",
       "        vertical-align: middle;\n",
       "    }\n",
       "\n",
       "    .dataframe tbody tr th {\n",
       "        vertical-align: top;\n",
       "    }\n",
       "\n",
       "    .dataframe thead th {\n",
       "        text-align: right;\n",
       "    }\n",
       "</style>\n",
       "<table border=\"1\" class=\"dataframe\">\n",
       "  <thead>\n",
       "    <tr style=\"text-align: right;\">\n",
       "      <th>group</th>\n",
       "      <th>A</th>\n",
       "      <th>B</th>\n",
       "    </tr>\n",
       "    <tr>\n",
       "      <th>event_name</th>\n",
       "      <th></th>\n",
       "      <th></th>\n",
       "    </tr>\n",
       "  </thead>\n",
       "  <tbody>\n",
       "    <tr>\n",
       "      <th>login</th>\n",
       "      <td>2747</td>\n",
       "      <td>928</td>\n",
       "    </tr>\n",
       "    <tr>\n",
       "      <th>product_page</th>\n",
       "      <td>1780</td>\n",
       "      <td>523</td>\n",
       "    </tr>\n",
       "    <tr>\n",
       "      <th>purchase</th>\n",
       "      <td>872</td>\n",
       "      <td>256</td>\n",
       "    </tr>\n",
       "    <tr>\n",
       "      <th>product_cart</th>\n",
       "      <td>824</td>\n",
       "      <td>255</td>\n",
       "    </tr>\n",
       "  </tbody>\n",
       "</table>\n",
       "</div>"
      ],
      "text/plain": [
       "group            A    B\n",
       "event_name             \n",
       "login         2747  928\n",
       "product_page  1780  523\n",
       "purchase       872  256\n",
       "product_cart   824  255"
      ]
     },
     "execution_count": 59,
     "metadata": {},
     "output_type": "execute_result"
    }
   ],
   "source": [
    "#сортируем данные \n",
    "users_event_group = users_event_group.sort_values(by=\"A\",ascending=False)\n",
    "users_event_group"
   ]
  },
  {
   "cell_type": "markdown",
   "id": "fd93f3a8",
   "metadata": {},
   "source": [
    "Сформулируем гипотезы для проверки выборок:\n",
    "\n",
    "H0: значимой разницы между выборками нет\n",
    "\n",
    "H1: выборки различаются"
   ]
  },
  {
   "cell_type": "code",
   "execution_count": 60,
   "id": "4a247645",
   "metadata": {},
   "outputs": [],
   "source": [
    "#критический уровень статистической значимости\n",
    "alpha = .05 \n",
    "\n",
    "#список событий\n",
    "event1 = ['login', 'product_page', 'purchase', 'product_cart'] #список событий\n",
    "\n",
    "#функция для z теста\n",
    "def z_test(exp1, exp2, event, alpha): \n",
    "    p1_ev = users_event_group.loc[event, exp1]\n",
    "    p2_ev = users_event_group.loc[event, exp2] \n",
    "    p1_us = users.loc[exp1, 'Количество пользователей'] \n",
    "    p2_us = users.loc[exp2, 'Количество пользователей'] \n",
    "    p1 = p1_ev / p1_us \n",
    "    p2 = p2_ev / p2_us \n",
    "    difference = p1 - p2\n",
    "    p_combined = (p1_ev + p2_ev) / (p1_us + p2_us) \n",
    "    z_value = difference / math.sqrt(p_combined * (1 - p_combined) * (1 / p1_us + 1 / p2_us))\n",
    "    distr = st.norm(0, 1)\n",
    "    p_value = (1 - distr.cdf(abs(z_value))) * 2\n",
    "    print('Проверка для  {} и {}, событие: {}, p-значение: {p_value:.2f}'.format(exp1, exp2, event, p_value=p_value))\n",
    "    if (p_value < alpha):\n",
    "        print(\"Отвергаем нулевую гипотезу\")\n",
    "    else:\n",
    "        print(\"Не получилось отвергнуть нулевую гипотезу\")\n",
    " \n"
   ]
  },
  {
   "cell_type": "code",
   "execution_count": 61,
   "id": "c309cb2f",
   "metadata": {},
   "outputs": [
    {
     "name": "stdout",
     "output_type": "stream",
     "text": [
      "Проверка для  A и B, событие: login, p-значение: nan\n",
      "Не получилось отвергнуть нулевую гипотезу\n",
      "\n",
      "Проверка для  A и B, событие: product_page, p-значение: 0.00\n",
      "Отвергаем нулевую гипотезу\n",
      "\n",
      "Проверка для  A и B, событие: purchase, p-значение: 0.02\n",
      "Отвергаем нулевую гипотезу\n",
      "\n",
      "Проверка для  A и B, событие: product_cart, p-значение: 0.15\n",
      "Не получилось отвергнуть нулевую гипотезу\n",
      "\n"
     ]
    },
    {
     "name": "stderr",
     "output_type": "stream",
     "text": [
      "/tmp/ipykernel_64/4163566859.py:17: RuntimeWarning: invalid value encountered in double_scalars\n",
      "  z_value = difference / math.sqrt(p_combined * (1 - p_combined) * (1 / p1_us + 1 / p2_us))\n"
     ]
    }
   ],
   "source": [
    "#вызов функции z-теста для всех событий\n",
    "\n",
    "for event in users_event_group.index:\n",
    "    z_test(\"A\", \"B\", event, alpha)\n",
    "    print()"
   ]
  },
  {
   "cell_type": "markdown",
   "id": "369bf408",
   "metadata": {},
   "source": [
    "По двум из четырех событий была отвергнута гипотеза об отсутствии значимой разницы.\n",
    "\n",
    "Можно сделать вывод, что разбиение на группы работает некорректно.\n",
    "\n",
    "Это логично: в группе В пользователей меньше почти в 3 раза"
   ]
  },
  {
   "cell_type": "markdown",
   "id": "7c3ae3eb",
   "metadata": {},
   "source": [
    "<div class=\"alert alert-success\">\n",
    "<b>👍 Успех:</b> Все верно!\n",
    "</div>"
   ]
  },
  {
   "cell_type": "markdown",
   "id": "890cd0a6",
   "metadata": {},
   "source": [
    "## Вывод"
   ]
  },
  {
   "cell_type": "markdown",
   "id": "7b9167e5",
   "metadata": {},
   "source": [
    "1) Проведенный A/B тест далеко не по всем параметрам соответствовал заявленному ТЗ:\n",
    " - дата запуска совпала\n",
    " - дата остановки набора новых пользователей - нет (пришлось удалит ьданные по двум лишним дням)\n",
    " - дата остановки планировалась 04.01.2020, однако последние события были зафиксированы 30.12.2020\n",
    " - аудитория из EU составила более 15%  - 55%\n",
    " - количество участников теста по факту вместо 6 тыс оказалось меньше: из 6701 пользователя, записанного в тест recommender_system_test, только по 3675 есть зафиксированные события. При этом 887 из них - это пользователи, которые приняли участие в обоих тестах.\n",
    "\n",
    "2) Ожидаемый эффект достигнут не был: доля пользователей, которая доходит от первого события до оплаты:\n",
    "   - в группе А - 29,8%\n",
    "   - в группе В - 28%\n",
    "   \n",
    "3) Разбиение на группы в тесте было некорректным (по итогам z_test)"
   ]
  },
  {
   "cell_type": "markdown",
   "id": "b6df1e49",
   "metadata": {},
   "source": [
    "<div class=\"alert alert-success\">\n",
    "<b>👍 Успех:</b> Тест проведен, его нельзя назвать корректным, но мы его все же проанализировали. Попробуй подробней разобраться с построением воронки\n",
    "</div>"
   ]
  },
  {
   "cell_type": "code",
   "execution_count": null,
   "id": "3a4e2135",
   "metadata": {},
   "outputs": [],
   "source": []
  }
 ],
 "metadata": {
  "ExecuteTimeLog": [
   {
    "duration": 19381,
    "start_time": "2022-09-11T18:43:19.623Z"
   },
   {
    "duration": 83,
    "start_time": "2022-09-11T18:43:55.510Z"
   },
   {
    "duration": 6,
    "start_time": "2022-09-11T18:43:58.062Z"
   },
   {
    "duration": 401,
    "start_time": "2022-09-11T18:44:01.410Z"
   },
   {
    "duration": 53,
    "start_time": "2022-09-11T18:44:07.231Z"
   },
   {
    "duration": 11,
    "start_time": "2022-09-11T18:44:12.204Z"
   },
   {
    "duration": 10,
    "start_time": "2022-09-11T18:44:17.613Z"
   },
   {
    "duration": 200,
    "start_time": "2022-09-11T18:44:26.750Z"
   },
   {
    "duration": 173,
    "start_time": "2022-09-11T18:44:33.377Z"
   },
   {
    "duration": 128,
    "start_time": "2022-09-11T18:44:37.216Z"
   },
   {
    "duration": 219,
    "start_time": "2022-09-11T18:44:45.351Z"
   },
   {
    "duration": 25,
    "start_time": "2022-09-11T18:44:54.864Z"
   },
   {
    "duration": 26,
    "start_time": "2022-09-11T18:44:57.030Z"
   },
   {
    "duration": 4,
    "start_time": "2022-09-11T18:45:01.331Z"
   },
   {
    "duration": 9,
    "start_time": "2022-09-11T18:45:02.758Z"
   },
   {
    "duration": 14,
    "start_time": "2022-09-11T18:45:08.118Z"
   },
   {
    "duration": 14,
    "start_time": "2022-09-11T18:45:13.162Z"
   },
   {
    "duration": 9,
    "start_time": "2022-09-11T18:45:15.003Z"
   },
   {
    "duration": 29,
    "start_time": "2022-09-11T18:49:06.442Z"
   },
   {
    "duration": 18,
    "start_time": "2022-09-11T18:50:06.536Z"
   },
   {
    "duration": 137,
    "start_time": "2022-09-11T18:53:28.714Z"
   },
   {
    "duration": 37,
    "start_time": "2022-09-11T18:55:03.300Z"
   },
   {
    "duration": 41,
    "start_time": "2022-09-11T18:55:28.692Z"
   },
   {
    "duration": 9,
    "start_time": "2022-09-11T18:57:24.053Z"
   },
   {
    "duration": 48,
    "start_time": "2022-09-11T18:57:39.063Z"
   },
   {
    "duration": 10,
    "start_time": "2022-09-11T18:57:42.035Z"
   },
   {
    "duration": 46,
    "start_time": "2022-09-11T18:57:57.116Z"
   },
   {
    "duration": 19,
    "start_time": "2022-09-11T18:58:30.496Z"
   },
   {
    "duration": 23,
    "start_time": "2022-09-11T19:34:42.789Z"
   },
   {
    "duration": 10,
    "start_time": "2022-09-11T19:40:09.862Z"
   },
   {
    "duration": 29,
    "start_time": "2022-09-11T19:40:17.137Z"
   },
   {
    "duration": 11,
    "start_time": "2022-09-11T19:40:19.468Z"
   },
   {
    "duration": 191,
    "start_time": "2022-09-11T19:40:21.640Z"
   },
   {
    "duration": 12,
    "start_time": "2022-09-11T19:40:24.737Z"
   },
   {
    "duration": 7,
    "start_time": "2022-09-11T19:40:27.160Z"
   },
   {
    "duration": 179,
    "start_time": "2022-09-11T19:40:28.916Z"
   },
   {
    "duration": 12,
    "start_time": "2022-09-11T19:40:48.300Z"
   },
   {
    "duration": 12,
    "start_time": "2022-09-11T19:40:49.687Z"
   },
   {
    "duration": 159,
    "start_time": "2022-09-11T19:40:51.701Z"
   },
   {
    "duration": 7,
    "start_time": "2022-09-11T19:40:55.144Z"
   },
   {
    "duration": 11,
    "start_time": "2022-09-11T19:40:56.394Z"
   },
   {
    "duration": 137,
    "start_time": "2022-09-11T19:40:58.418Z"
   },
   {
    "duration": 12,
    "start_time": "2022-09-11T19:41:19.271Z"
   },
   {
    "duration": 10,
    "start_time": "2022-09-11T19:41:21.314Z"
   },
   {
    "duration": 9,
    "start_time": "2022-09-11T19:41:24.162Z"
   },
   {
    "duration": 18,
    "start_time": "2022-09-11T19:42:52.144Z"
   },
   {
    "duration": 11,
    "start_time": "2022-09-11T19:42:53.469Z"
   },
   {
    "duration": 7,
    "start_time": "2022-09-11T19:43:01.179Z"
   },
   {
    "duration": 11,
    "start_time": "2022-09-11T19:43:04.791Z"
   },
   {
    "duration": 7,
    "start_time": "2022-09-11T19:43:05.864Z"
   },
   {
    "duration": 7,
    "start_time": "2022-09-11T19:43:08.311Z"
   },
   {
    "duration": 13,
    "start_time": "2022-09-11T19:43:12.756Z"
   },
   {
    "duration": 12,
    "start_time": "2022-09-11T19:43:16.535Z"
   },
   {
    "duration": 9,
    "start_time": "2022-09-11T19:43:19.239Z"
   },
   {
    "duration": 9,
    "start_time": "2022-09-11T19:43:20.113Z"
   },
   {
    "duration": 11,
    "start_time": "2022-09-11T19:43:22.660Z"
   },
   {
    "duration": 4,
    "start_time": "2022-09-11T19:43:23.420Z"
   },
   {
    "duration": 7,
    "start_time": "2022-09-11T19:43:25.327Z"
   },
   {
    "duration": 7,
    "start_time": "2022-09-11T19:43:26.083Z"
   },
   {
    "duration": 11,
    "start_time": "2022-09-11T19:46:36.693Z"
   },
   {
    "duration": 12,
    "start_time": "2022-09-11T19:46:49.309Z"
   },
   {
    "duration": 14,
    "start_time": "2022-09-11T19:47:44.806Z"
   },
   {
    "duration": 15,
    "start_time": "2022-09-11T19:48:25.214Z"
   },
   {
    "duration": 11,
    "start_time": "2022-09-11T19:48:35.519Z"
   },
   {
    "duration": 9,
    "start_time": "2022-09-11T19:48:42.816Z"
   },
   {
    "duration": 10,
    "start_time": "2022-09-11T19:48:49.169Z"
   },
   {
    "duration": 6,
    "start_time": "2022-09-11T19:48:51.249Z"
   },
   {
    "duration": 12,
    "start_time": "2022-09-11T19:48:53.800Z"
   },
   {
    "duration": 9,
    "start_time": "2022-09-11T19:49:06.325Z"
   },
   {
    "duration": 13,
    "start_time": "2022-09-11T19:49:07.746Z"
   },
   {
    "duration": 16,
    "start_time": "2022-09-11T19:49:28.103Z"
   },
   {
    "duration": 19,
    "start_time": "2022-09-11T19:49:34.082Z"
   },
   {
    "duration": 17,
    "start_time": "2022-09-11T19:49:35.514Z"
   },
   {
    "duration": 11,
    "start_time": "2022-09-11T19:49:36.915Z"
   },
   {
    "duration": 9,
    "start_time": "2022-09-11T19:49:39.237Z"
   },
   {
    "duration": 7,
    "start_time": "2022-09-11T19:49:41.226Z"
   },
   {
    "duration": 8,
    "start_time": "2022-09-11T19:49:42.042Z"
   },
   {
    "duration": 9,
    "start_time": "2022-09-11T19:49:50.654Z"
   },
   {
    "duration": 13,
    "start_time": "2022-09-11T19:51:41.810Z"
   },
   {
    "duration": 11,
    "start_time": "2022-09-11T19:51:55.740Z"
   },
   {
    "duration": 9,
    "start_time": "2022-09-11T19:52:12.237Z"
   },
   {
    "duration": 1160,
    "start_time": "2022-09-11T19:53:50.199Z"
   },
   {
    "duration": 130,
    "start_time": "2022-09-11T19:54:01.604Z"
   },
   {
    "duration": 133,
    "start_time": "2022-09-11T19:56:18.095Z"
   },
   {
    "duration": 127,
    "start_time": "2022-09-11T19:57:12.143Z"
   },
   {
    "duration": 142,
    "start_time": "2022-09-11T19:57:39.103Z"
   },
   {
    "duration": 135,
    "start_time": "2022-09-11T19:58:41.055Z"
   },
   {
    "duration": 228,
    "start_time": "2022-09-11T19:58:51.432Z"
   },
   {
    "duration": 104,
    "start_time": "2022-09-11T19:59:15.285Z"
   },
   {
    "duration": 147,
    "start_time": "2022-09-11T19:59:22.717Z"
   },
   {
    "duration": 125,
    "start_time": "2022-09-11T19:59:30.039Z"
   },
   {
    "duration": 129,
    "start_time": "2022-09-11T19:59:36.282Z"
   },
   {
    "duration": 133,
    "start_time": "2022-09-11T20:00:14.932Z"
   },
   {
    "duration": 126,
    "start_time": "2022-09-11T20:00:32.469Z"
   },
   {
    "duration": 16,
    "start_time": "2022-09-11T20:01:39.772Z"
   },
   {
    "duration": 31,
    "start_time": "2022-09-11T20:01:43.697Z"
   },
   {
    "duration": 7,
    "start_time": "2022-09-11T20:01:46.025Z"
   },
   {
    "duration": 6,
    "start_time": "2022-09-11T20:01:48.351Z"
   },
   {
    "duration": 10,
    "start_time": "2022-09-11T20:01:50.480Z"
   },
   {
    "duration": 17244,
    "start_time": "2022-09-11T20:02:17.227Z"
   },
   {
    "duration": 82,
    "start_time": "2022-09-11T20:02:34.474Z"
   },
   {
    "duration": 14,
    "start_time": "2022-09-11T20:02:34.567Z"
   },
   {
    "duration": 322,
    "start_time": "2022-09-11T20:02:34.584Z"
   },
   {
    "duration": 61,
    "start_time": "2022-09-11T20:02:34.907Z"
   },
   {
    "duration": 11,
    "start_time": "2022-09-11T20:02:34.970Z"
   },
   {
    "duration": 12,
    "start_time": "2022-09-11T20:02:34.983Z"
   },
   {
    "duration": 223,
    "start_time": "2022-09-11T20:02:34.996Z"
   },
   {
    "duration": 182,
    "start_time": "2022-09-11T20:02:35.221Z"
   },
   {
    "duration": 135,
    "start_time": "2022-09-11T20:02:35.407Z"
   },
   {
    "duration": 211,
    "start_time": "2022-09-11T20:02:35.544Z"
   },
   {
    "duration": 29,
    "start_time": "2022-09-11T20:02:35.756Z"
   },
   {
    "duration": 27,
    "start_time": "2022-09-11T20:02:35.787Z"
   },
   {
    "duration": 5,
    "start_time": "2022-09-11T20:02:35.816Z"
   },
   {
    "duration": 14,
    "start_time": "2022-09-11T20:02:35.822Z"
   },
   {
    "duration": 39,
    "start_time": "2022-09-11T20:02:35.837Z"
   },
   {
    "duration": 10,
    "start_time": "2022-09-11T20:02:35.877Z"
   },
   {
    "duration": 10,
    "start_time": "2022-09-11T20:02:35.888Z"
   },
   {
    "duration": 43,
    "start_time": "2022-09-11T20:02:35.900Z"
   },
   {
    "duration": 34,
    "start_time": "2022-09-11T20:02:35.944Z"
   },
   {
    "duration": 18,
    "start_time": "2022-09-11T20:02:35.980Z"
   },
   {
    "duration": 12,
    "start_time": "2022-09-11T20:02:36.000Z"
   },
   {
    "duration": 11,
    "start_time": "2022-09-11T20:02:36.014Z"
   },
   {
    "duration": 9,
    "start_time": "2022-09-11T20:02:36.027Z"
   },
   {
    "duration": 34,
    "start_time": "2022-09-11T20:02:36.037Z"
   },
   {
    "duration": 20,
    "start_time": "2022-09-11T20:02:36.072Z"
   },
   {
    "duration": 20,
    "start_time": "2022-09-11T20:02:36.094Z"
   },
   {
    "duration": 10,
    "start_time": "2022-09-11T20:02:36.118Z"
   },
   {
    "duration": 189,
    "start_time": "2022-09-11T20:02:36.130Z"
   },
   {
    "duration": 12,
    "start_time": "2022-09-11T20:02:36.320Z"
   },
   {
    "duration": 7,
    "start_time": "2022-09-11T20:02:36.334Z"
   },
   {
    "duration": 215,
    "start_time": "2022-09-11T20:02:36.342Z"
   },
   {
    "duration": 19,
    "start_time": "2022-09-11T20:02:36.559Z"
   },
   {
    "duration": 21,
    "start_time": "2022-09-11T20:02:36.580Z"
   },
   {
    "duration": 242,
    "start_time": "2022-09-11T20:02:36.602Z"
   },
   {
    "duration": 8,
    "start_time": "2022-09-11T20:02:36.845Z"
   },
   {
    "duration": 21,
    "start_time": "2022-09-11T20:02:36.855Z"
   },
   {
    "duration": 151,
    "start_time": "2022-09-11T20:02:36.878Z"
   },
   {
    "duration": 11,
    "start_time": "2022-09-11T20:02:37.031Z"
   },
   {
    "duration": 28,
    "start_time": "2022-09-11T20:02:37.043Z"
   },
   {
    "duration": 10,
    "start_time": "2022-09-11T20:02:37.073Z"
   },
   {
    "duration": 11,
    "start_time": "2022-09-11T20:02:37.084Z"
   },
   {
    "duration": 9,
    "start_time": "2022-09-11T20:02:37.097Z"
   },
   {
    "duration": 6,
    "start_time": "2022-09-11T20:02:37.107Z"
   },
   {
    "duration": 10,
    "start_time": "2022-09-11T20:02:37.115Z"
   },
   {
    "duration": 45,
    "start_time": "2022-09-11T20:02:37.126Z"
   },
   {
    "duration": 8,
    "start_time": "2022-09-11T20:02:37.173Z"
   },
   {
    "duration": 48,
    "start_time": "2022-09-11T20:02:37.182Z"
   },
   {
    "duration": 13,
    "start_time": "2022-09-11T20:02:37.232Z"
   },
   {
    "duration": 7,
    "start_time": "2022-09-11T20:02:37.246Z"
   },
   {
    "duration": 11,
    "start_time": "2022-09-11T20:02:37.255Z"
   },
   {
    "duration": 16,
    "start_time": "2022-09-11T20:02:37.268Z"
   },
   {
    "duration": 9,
    "start_time": "2022-09-11T20:02:37.285Z"
   },
   {
    "duration": 8,
    "start_time": "2022-09-11T20:02:37.296Z"
   },
   {
    "duration": 133,
    "start_time": "2022-09-11T20:02:37.305Z"
   },
   {
    "duration": 147,
    "start_time": "2022-09-11T20:02:37.440Z"
   },
   {
    "duration": 19,
    "start_time": "2022-09-11T20:02:37.589Z"
   },
   {
    "duration": 24,
    "start_time": "2022-09-11T20:02:37.610Z"
   },
   {
    "duration": 7,
    "start_time": "2022-09-11T20:02:37.635Z"
   },
   {
    "duration": 5,
    "start_time": "2022-09-11T20:02:37.667Z"
   },
   {
    "duration": 15,
    "start_time": "2022-09-11T20:02:37.674Z"
   }
  ],
  "kernelspec": {
   "display_name": "Python 3 (ipykernel)",
   "language": "python",
   "name": "python3"
  },
  "language_info": {
   "codemirror_mode": {
    "name": "ipython",
    "version": 3
   },
   "file_extension": ".py",
   "mimetype": "text/x-python",
   "name": "python",
   "nbconvert_exporter": "python",
   "pygments_lexer": "ipython3",
   "version": "3.9.5"
  },
  "toc": {
   "base_numbering": 1,
   "nav_menu": {},
   "number_sections": false,
   "sideBar": true,
   "skip_h1_title": true,
   "title_cell": "Содержание",
   "title_sidebar": "Содержание",
   "toc_cell": true,
   "toc_position": {
    "height": "calc(100% - 180px)",
    "left": "10px",
    "top": "150px",
    "width": "263.299px"
   },
   "toc_section_display": true,
   "toc_window_display": true
  }
 },
 "nbformat": 4,
 "nbformat_minor": 5
}
